{
 "cells": [
  {
   "cell_type": "code",
   "execution_count": 2,
   "metadata": {},
   "outputs": [],
   "source": [
    "import networkx as nx"
   ]
  },
  {
   "cell_type": "markdown",
   "metadata": {},
   "source": [
    "Define as currently and check working"
   ]
  },
  {
   "cell_type": "code",
   "execution_count": 3,
   "metadata": {},
   "outputs": [],
   "source": [
    "def test__rows_to_columns(test_func):\n",
    "    G = nx.Graph()\n",
    "    G.add_nodes_from([(0, {\"attr_1\": \"a\", \"attr_2\": 10}),\n",
    "                      (1, {\"attr_1\": \"b\"}),\n",
    "                      (2, {\"attr_1\": \"c\", \"attr_2\": 30})])\n",
    "    G.add_edges_from([(0, 1, {\"attr_1\": \"A\"}),\n",
    "                      (0, 2, {\"attr_1\": \"B\", \"attr_2\": 10})])\n",
    "    node_attr_keys = [\"attr_1\", \"attr_2\"]\n",
    "    node_dict = test_func(G.nodes(data=True), node_attr_keys)\n",
    "    assert node_dict[\"attr_1\"] == [attr['attr_1'] for _, attr in G.nodes(data=True)], \"returned: %s\" % node_dict['attr_1']\n",
    "    assert node_dict[\"attr_2\"] == [attr['attr_2'] if key != 1 else None for key, attr in G.nodes(data=True)]\n",
    "    edge_attr_keys = [\"attr_1\", \"attr_2\"]\n",
    "    edge_dict = test_func(G.edges(data=True), edge_attr_keys)\n",
    "    assert edge_dict[\"attr_1\"] == [\"A\", \"B\"]\n",
    "    assert edge_dict[\"attr_2\"] == [None, 10]"
   ]
  },
  {
   "cell_type": "code",
   "execution_count": 4,
   "metadata": {},
   "outputs": [
    {
     "ename": "SyntaxError",
     "evalue": "invalid syntax (<ipython-input-4-548cf34272e6>, line 4)",
     "output_type": "error",
     "traceback": [
      "\u001b[0;36m  File \u001b[0;32m\"<ipython-input-4-548cf34272e6>\"\u001b[0;36m, line \u001b[0;32m4\u001b[0m\n\u001b[0;31m    attr_dict[attr_key] = [attr[attr_key] if attr_key in attr.keys() else None for *_, attr in source]\u001b[0m\n\u001b[0m                                                                                   ^\u001b[0m\n\u001b[0;31mSyntaxError\u001b[0m\u001b[0;31m:\u001b[0m invalid syntax\n"
     ]
    }
   ],
   "source": [
    "def _rows_to_columns_orig(source, attr_keys):\n",
    "    attr_dict = {}\n",
    "    for attr_key in attr_keys:\n",
    "        attr_dict[attr_key] = [attr[attr_key] if attr_key in attr.keys() else None for *_, attr in source]\n",
    "    return attr_dict"
   ]
  },
  {
   "cell_type": "code",
   "execution_count": null,
   "metadata": {},
   "outputs": [],
   "source": [
    "test__rows_to_columns(_rows_to_columns_orig)"
   ]
  },
  {
   "cell_type": "markdown",
   "metadata": {},
   "source": [
    "Redefine in py2/3 syntax"
   ]
  },
  {
   "cell_type": "code",
   "execution_count": 6,
   "metadata": {},
   "outputs": [],
   "source": [
    "def _rows_to_columns_23(nx_data, attr_keys):\n",
    "    # nx_data may be coming from edges or nodes\n",
    "    # So extract the data depending on the type\n",
    "    if isinstance(nx_data, nx.classes.reportviews.EdgeDataView):\n",
    "        source = [i[2] for i in nx_data]\n",
    "    elif isinstance(nx_data, nx.classes.reportviews.NodeDataView):\n",
    "        source = [data for node, data in nx_data]\n",
    "        \n",
    "    attr_dict = {}\n",
    "    for attr_key in attr_keys:\n",
    "        compiled_data = []\n",
    "        for data in source:\n",
    "            compiled_data.append(data.get(attr_key))\n",
    "        attr_dict[attr_key] = compiled_data\n",
    "    return attr_dict"
   ]
  },
  {
   "cell_type": "code",
   "execution_count": 7,
   "metadata": {},
   "outputs": [],
   "source": [
    "test__rows_to_columns(_rows_to_columns_23)"
   ]
  },
  {
   "cell_type": "markdown",
   "metadata": {},
   "source": [
    "A quick look at the inputs to understand what's happening here"
   ]
  },
  {
   "cell_type": "code",
   "execution_count": 8,
   "metadata": {},
   "outputs": [],
   "source": [
    "G = nx.Graph()\n",
    "G.add_nodes_from([(0, {\"attr_1\": \"a\", \"attr_2\": 10}),\n",
    "                  (1, {\"attr_1\": \"b\"}),\n",
    "                  (2, {\"attr_1\": \"c\", \"attr_2\": 30})])\n",
    "G.add_edges_from([(0, 1, {\"attr_1\": \"A\"}),\n",
    "                  (0, 2, {\"attr_1\": \"B\", \"attr_2\": 10})])"
   ]
  },
  {
   "cell_type": "code",
   "execution_count": 9,
   "metadata": {},
   "outputs": [
    {
     "data": {
      "text/plain": [
       "EdgeDataView([(0, 1, {'attr_1': 'A'}), (0, 2, {'attr_2': 10, 'attr_1': 'B'})])"
      ]
     },
     "execution_count": 9,
     "metadata": {},
     "output_type": "execute_result"
    }
   ],
   "source": [
    "G.edges(data=True)"
   ]
  },
  {
   "cell_type": "code",
   "execution_count": 10,
   "metadata": {},
   "outputs": [
    {
     "data": {
      "text/plain": [
       "NodeDataView({0: {'attr_2': 10, 'attr_1': 'a'}, 1: {'attr_1': 'b'}, 2: {'attr_2': 30, 'attr_1': 'c'}})"
      ]
     },
     "execution_count": 10,
     "metadata": {},
     "output_type": "execute_result"
    }
   ],
   "source": [
    "G.nodes(data=True)"
   ]
  },
  {
   "cell_type": "code",
   "execution_count": null,
   "metadata": {},
   "outputs": [],
   "source": []
  }
 ],
 "metadata": {
  "kernelspec": {
   "display_name": "Python 2",
   "language": "python",
   "name": "python2"
  },
  "language_info": {
   "codemirror_mode": {
    "name": "ipython",
    "version": 2
   },
   "file_extension": ".py",
   "mimetype": "text/x-python",
   "name": "python",
   "nbconvert_exporter": "python",
   "pygments_lexer": "ipython2",
   "version": "2.7.15"
  }
 },
 "nbformat": 4,
 "nbformat_minor": 2
}

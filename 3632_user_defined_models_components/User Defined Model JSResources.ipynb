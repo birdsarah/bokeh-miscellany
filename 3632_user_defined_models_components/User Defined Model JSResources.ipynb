{
 "cells": [
  {
   "cell_type": "code",
   "execution_count": 1,
   "metadata": {
    "collapsed": true
   },
   "outputs": [],
   "source": [
    "from bokeh.resources import JSResources"
   ]
  },
  {
   "cell_type": "code",
   "execution_count": 2,
   "metadata": {
    "collapsed": true
   },
   "outputs": [],
   "source": [
    "js_resources_before = JSResources()\n",
    "js_resources_before._render_custom_models_static()"
   ]
  },
  {
   "cell_type": "code",
   "execution_count": 3,
   "metadata": {
    "collapsed": false
   },
   "outputs": [
    {
     "data": {
      "text/plain": [
       "<bokeh.models.renderers.TileRenderer at 0x1082819e8>"
      ]
     },
     "execution_count": 3,
     "metadata": {},
     "output_type": "execute_result"
    }
   ],
   "source": [
    "from bokeh.plotting import figure\n",
    "from bokeh.models import Range1d, TMSTileSource\n",
    "from bokeh.models import WheelZoomTool, PanTool\n",
    "class CustomTileSource(TMSTileSource):\n",
    "    __implementation__ = \"\"\"\n",
    "    _ = require \"underscore\"\n",
    "    Util = require \"util/util\"\n",
    "    TMSTileSource = require \"renderer/tile/tms_tile_source\"\n",
    "    class CustomTileSource extends TMSTileSource.Model\n",
    "      type: \"CustomTileSource\"\n",
    "      initialize: () ->\n",
    "        @set('x_origin_offset', 0)\n",
    "        @set('y_origin_offset', 0)\n",
    "        @set('initial_resolution', 134217.728)\n",
    "        super\n",
    "    module.exports =\n",
    "      Model: CustomTileSource\n",
    "    \"\"\"\n",
    "\n",
    "x_range = Range1d(start=0, end=1200)\n",
    "y_range = Range1d(start=0, end=800)\n",
    "\n",
    "custom_service = 'http://localhost:8081/tiles/{filter_size}/{band}/{Z}/{X}/{Y}.png?clim=0.0,70.0'\n",
    "extra_url_vars = {}\n",
    "extra_url_vars['filter_size'] = '1.024'\n",
    "extra_url_vars['band'] = '0'\n",
    "\n",
    "tile_source = CustomTileSource()\n",
    "tile_source.url = custom_service\n",
    "tile_source.extra_url_vars = extra_url_vars\n",
    "\n",
    "p = figure(x_range=x_range, y_range=y_range, plot_height=800, plot_width=800)\n",
    "p.add_tools(WheelZoomTool(), PanTool())\n",
    "p.add_tile(tile_source)"
   ]
  },
  {
   "cell_type": "code",
   "execution_count": 4,
   "metadata": {
    "collapsed": false
   },
   "outputs": [
    {
     "data": {
      "text/plain": [
       "'\\n(function outer(modules, cache, entry) {\\n  if (typeof Bokeh !== \"undefined\") {\\n    for (var name in modules) {\\n      var module = modules[name];\\n\\n      if (typeof(module) === \"string\") {\\n        try {\\n          coffee = Bokeh.require(\"coffee-script\")\\n        } catch (e) {\\n          throw new Error(\"Compiler requested but failed to import. Make sure bokeh-compiler(-min).js was included.\")\\n        }\\n\\n        function compile(code) {\\n          var body = coffee.compile(code, {bare: true, shiftLine: true});\\n          return new Function(\"require\", \"module\", \"exports\", body);\\n        }\\n\\n        modules[name] = [compile(module), {}];\\n      }\\n    }\\n\\n    for (var name in modules) {\\n      Bokeh.require.modules[name] = modules[name];\\n    }\\n\\n    for (var i = 0; i < entry.length; i++) {\\n      Bokeh.Collections.register_locations(Bokeh.require(entry[i]));\\n    }\\n  } else {\\n    throw new Error(\"Cannot find Bokeh. You have to load it prior to loading plugins.\");\\n  }\\n})({\\n \"custom/main\":[function(require,module,exports){\\n   module.exports = { CustomTileSource: require(\"custom/custom_tile_source\") };\\n }, {}],\\n \"custom/custom_tile_source\": \"\\\\n    _ = require \\\\\"underscore\\\\\"\\\\n    Util = require \\\\\"util/util\\\\\"\\\\n    TMSTileSource = require \\\\\"renderer/tile/tms_tile_source\\\\\"\\\\n    class CustomTileSource extends TMSTileSource.Model\\\\n      type: \\\\\"CustomTileSource\\\\\"\\\\n      initialize: () ->\\\\n        @set(\\\\\\'x_origin_offset\\\\\\', 0)\\\\n        @set(\\\\\\'y_origin_offset\\\\\\', 0)\\\\n        @set(\\\\\\'initial_resolution\\\\\\', 134217.728)\\\\n        super\\\\n    module.exports =\\\\n      Model: CustomTileSource\\\\n    \"\\n}, {}, [\"custom/main\"]);\\n'"
      ]
     },
     "execution_count": 4,
     "metadata": {},
     "output_type": "execute_result"
    }
   ],
   "source": [
    "js_resources_after = JSResources()\n",
    "js_resources_after._render_custom_models_static()"
   ]
  },
  {
   "cell_type": "code",
   "execution_count": null,
   "metadata": {
    "collapsed": true
   },
   "outputs": [],
   "source": []
  }
 ],
 "metadata": {
  "kernelspec": {
   "display_name": "Python 3",
   "language": "python",
   "name": "python3"
  },
  "language_info": {
   "codemirror_mode": {
    "name": "ipython",
    "version": 3
   },
   "file_extension": ".py",
   "mimetype": "text/x-python",
   "name": "python",
   "nbconvert_exporter": "python",
   "pygments_lexer": "ipython3",
   "version": "3.4.4"
  }
 },
 "nbformat": 4,
 "nbformat_minor": 0
}

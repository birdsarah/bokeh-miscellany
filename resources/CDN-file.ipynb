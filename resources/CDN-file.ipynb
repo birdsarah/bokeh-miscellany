{
 "cells": [
  {
   "cell_type": "code",
   "execution_count": 1,
   "metadata": {
    "collapsed": false
   },
   "outputs": [],
   "source": [
    "from bokeh.io import output_file, show\n",
    "output_file('CDN-file.html', mode='cdn')"
   ]
  },
  {
   "cell_type": "code",
   "execution_count": 2,
   "metadata": {
    "collapsed": false
   },
   "outputs": [
    {
     "name": "stderr",
     "output_type": "stream",
     "text": [
      "ERROR:/opt/miniconda/envs/ipython_bokeh_34/lib/python3.4/site-packages/bokeh/validation/check.py:E-1001 (BAD_COLUMN_NAME): Glyph refers to nonexistent column name: LemonChiffon [renderer: GlyphRenderer, ViewModel:GlyphRenderer, ref _id: b2e21ccf-d214-4122-a5fb-b32c530e5129]\n"
     ]
    }
   ],
   "source": [
    "from bokeh.plotting import figure\n",
    "from bokeh.properties import value\n",
    "\n",
    "f = figure(x_range=(0,3), y_range=(0,4))\n",
    "f.circle([1], [1], radius=0.2, fill_color=[\"LemonChiffon\"])  # Works\n",
    "f.circle([2], [1], radius=0.2, fill_color=[\"lemonchiffon\"])  # Works\n",
    "\n",
    "f.circle([1], [2], radius=0.2, fill_color=\"LemonChiffon\")  # Does not work\n",
    "f.circle([2], [2], radius=0.2, fill_color=\"lemonchiffon\")  # Works\n",
    "\n",
    "f.circle([1], [3], radius=0.2, fill_color=value(\"LemonChiffon\"))  # Does not work\n",
    "f.circle([2], [3], radius=0.2, fill_color=value(\"lemonchiffon\"))  # Does not work\n",
    "\n",
    "show(f)"
   ]
  },
  {
   "cell_type": "code",
   "execution_count": null,
   "metadata": {
    "collapsed": true
   },
   "outputs": [],
   "source": []
  }
 ],
 "metadata": {
  "kernelspec": {
   "display_name": "Python 3",
   "language": "python",
   "name": "python3"
  },
  "language_info": {
   "codemirror_mode": {
    "name": "ipython",
    "version": 3
   },
   "file_extension": ".py",
   "mimetype": "text/x-python",
   "name": "python",
   "nbconvert_exporter": "python",
   "pygments_lexer": "ipython3",
   "version": "3.4.3"
  }
 },
 "nbformat": 4,
 "nbformat_minor": 0
}

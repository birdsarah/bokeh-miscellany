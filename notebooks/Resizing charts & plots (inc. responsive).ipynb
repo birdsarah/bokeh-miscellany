{
 "cells": [
  {
   "cell_type": "code",
   "execution_count": 1,
   "metadata": {
    "collapsed": false
   },
   "outputs": [
    {
     "data": {
      "text/html": [
       "    \n",
       "        <link rel=\"stylesheet\" href=\"http://cdn.pydata.org/bokeh/dev/bokeh-0.9.1dev.65161924.min.css\" type=\"text/css\" />\n",
       "        <script type=\"text/javascript\" src=\"http://cdn.pydata.org/bokeh/dev/bokeh-0.9.1dev.65161924.min.js\"></script>\n",
       "        <script type=\"text/javascript\">\n",
       "            Bokeh.set_log_level(\"info\");\n",
       "        </script>\n",
       "    <div>\n",
       "        <a href=\"http://bokeh.pydata.org\" target=\"_blank\" class=\"bk-logo bk-logo-small bk-logo-notebook\"></a>\n",
       "        <span>BokehJS successfully loaded.</span>\n",
       "    </div>"
      ]
     },
     "metadata": {},
     "output_type": "display_data"
    }
   ],
   "source": [
    "from IPython.display import HTML\n",
    "from bokeh.charts import Line\n",
    "from bokeh.plotting import output_notebook, show, figure\n",
    "from bokeh.resources import CDN\n",
    "\n",
    "output_notebook(resources=CDN)"
   ]
  },
  {
   "cell_type": "markdown",
   "metadata": {},
   "source": [
    "# Demo of resizing\n",
    "\n",
    "Run the cells one at a time. Initially you'll see a squashed up chart. The next cell will let you programatically set it's height.\n",
    "\n",
    "NOTE: This does not work on vplot, hplot, or grid plot. Currently you can only resize individual plots."
   ]
  },
  {
   "cell_type": "markdown",
   "metadata": {},
   "source": [
    "## Set height of 'chart'"
   ]
  },
  {
   "cell_type": "code",
   "execution_count": 2,
   "metadata": {
    "collapsed": false
   },
   "outputs": [
    {
     "data": {
      "text/html": [
       "<script type=\"text/javascript\">\n",
       "        Bokeh.$(function() {\n",
       "            var modelid = \"ea654166-0b0c-4134-bc9b-eca710c5dee6\";\n",
       "            var modeltype = \"Plot\";\n",
       "            var elementid = \"f1ce34d1-ff50-4643-a2a1-5ba760a2ce59\";\n",
       "            Bokeh.logger.info(\"Realizing plot:\")\n",
       "            Bokeh.logger.info(\" - modeltype: Plot\");\n",
       "            Bokeh.logger.info(\" - modelid: ea654166-0b0c-4134-bc9b-eca710c5dee6\");\n",
       "            Bokeh.logger.info(\" - elementid: f1ce34d1-ff50-4643-a2a1-5ba760a2ce59\");\n",
       "            var all_models = [{\"id\": \"cb93df1c-39e0-450f-acda-b03e2c20f26e\", \"attributes\": {\"tags\": [], \"id\": \"cb93df1c-39e0-450f-acda-b03e2c20f26e\", \"glyph\": {\"id\": \"e61d6b8f-91ad-49e7-9939-4a9a804d21ba\", \"type\": \"Line\"}, \"nonselection_glyph\": null, \"selection_glyph\": null, \"data_source\": {\"id\": \"e8d985ee-4ee2-4f59-bfae-94fb7b20c721\", \"type\": \"ColumnDataSource\"}, \"doc\": null}, \"type\": \"GlyphRenderer\"}, {\"id\": \"e92940da-eaef-46ac-a8f7-432bc45f5b85\", \"attributes\": {\"ticker\": {\"id\": \"2f965677-18e8-433d-8f0a-5ed54d44c2e6\", \"type\": \"BasicTicker\"}, \"dimension\": 1, \"doc\": null, \"tags\": [], \"id\": \"e92940da-eaef-46ac-a8f7-432bc45f5b85\", \"plot\": {\"id\": \"ea654166-0b0c-4134-bc9b-eca710c5dee6\", \"subtype\": \"Chart\", \"type\": \"Plot\"}}, \"type\": \"Grid\"}, {\"id\": \"9725f273-6ec8-4723-9282-9ca778669b52\", \"attributes\": {\"tags\": [], \"id\": \"9725f273-6ec8-4723-9282-9ca778669b52\", \"doc\": null, \"dimensions\": [\"width\", \"height\"], \"plot\": {\"id\": \"ea654166-0b0c-4134-bc9b-eca710c5dee6\", \"subtype\": \"Chart\", \"type\": \"Plot\"}}, \"type\": \"PanTool\"}, {\"id\": \"10b81dfe-6fd5-410d-9872-537f63c7e293\", \"attributes\": {\"tags\": [], \"id\": \"10b81dfe-6fd5-410d-9872-537f63c7e293\", \"doc\": null}, \"type\": \"BasicTickFormatter\"}, {\"id\": \"21811a47-0938-4cef-a23d-73fdb4aa6bc9\", \"attributes\": {\"tags\": [], \"id\": \"21811a47-0938-4cef-a23d-73fdb4aa6bc9\", \"doc\": null, \"plot\": {\"id\": \"ea654166-0b0c-4134-bc9b-eca710c5dee6\", \"subtype\": \"Chart\", \"type\": \"Plot\"}}, \"type\": \"ResetTool\"}, {\"id\": \"e8d985ee-4ee2-4f59-bfae-94fb7b20c721\", \"attributes\": {\"tags\": [], \"column_names\": [\"y_0\", \"x\"], \"doc\": null, \"id\": \"e8d985ee-4ee2-4f59-bfae-94fb7b20c721\", \"data\": {\"y_0\": [1, 2, 3, 4], \"x\": [1990, 1991, 1993, 1994]}, \"selected\": {\"1d\": {\"indices\": []}, \"2d\": {\"indices\": []}, \"0d\": {\"flag\": false, \"indices\": []}}, \"callback\": null}, \"type\": \"ColumnDataSource\"}, {\"id\": \"d6cc3ac6-a433-4094-828c-ede94ae68465\", \"attributes\": {\"ticker\": {\"id\": \"2f965677-18e8-433d-8f0a-5ed54d44c2e6\", \"type\": \"BasicTicker\"}, \"tags\": [], \"doc\": null, \"axis_label\": null, \"id\": \"d6cc3ac6-a433-4094-828c-ede94ae68465\", \"formatter\": {\"id\": \"df2c25f9-7f53-4cf6-9bdd-11f2151c54f9\", \"type\": \"BasicTickFormatter\"}, \"plot\": {\"id\": \"ea654166-0b0c-4134-bc9b-eca710c5dee6\", \"subtype\": \"Chart\", \"type\": \"Plot\"}}, \"type\": \"LinearAxis\"}, {\"id\": \"ea654166-0b0c-4134-bc9b-eca710c5dee6\", \"attributes\": {\"tags\": [], \"renderers\": [{\"id\": \"47c761b0-ad64-47aa-b454-2bdaf392f590\", \"type\": \"LinearAxis\"}, {\"id\": \"d6cc3ac6-a433-4094-828c-ede94ae68465\", \"type\": \"LinearAxis\"}, {\"id\": \"f3877fae-5d4b-48d9-b8c2-adf509d10950\", \"type\": \"Grid\"}, {\"id\": \"e92940da-eaef-46ac-a8f7-432bc45f5b85\", \"type\": \"Grid\"}, {\"id\": \"cb93df1c-39e0-450f-acda-b03e2c20f26e\", \"type\": \"GlyphRenderer\"}], \"title\": null, \"plot_height\": 100, \"below\": [{\"id\": \"47c761b0-ad64-47aa-b454-2bdaf392f590\", \"type\": \"LinearAxis\"}], \"y_range\": {\"id\": \"09323b6b-8ea0-40d6-a883-927e6f39dba7\", \"type\": \"Range1d\"}, \"doc\": null, \"extra_x_ranges\": {}, \"right\": [], \"above\": [], \"tool_events\": {\"id\": \"fff7969b-3fe0-4252-9d63-2c096e6d91f6\", \"type\": \"ToolEvents\"}, \"plot_width\": 600, \"tools\": [{\"id\": \"9725f273-6ec8-4723-9282-9ca778669b52\", \"type\": \"PanTool\"}, {\"id\": \"df0b4e7b-94f5-4393-93af-e1417728b1ed\", \"type\": \"WheelZoomTool\"}, {\"id\": \"a162b3dc-3614-480b-990e-992af7abc01e\", \"type\": \"BoxZoomTool\"}, {\"id\": \"b815b4e3-50dd-4cec-a6c6-1ca4b0f64c9c\", \"type\": \"PreviewSaveTool\"}, {\"id\": \"c24cc20b-cfcc-41e6-a7fc-76ce9632d39b\", \"type\": \"ResizeTool\"}, {\"id\": \"21811a47-0938-4cef-a23d-73fdb4aa6bc9\", \"type\": \"ResetTool\"}, {\"id\": \"ca3f3796-8fd6-476a-b1d5-06f98660d5b2\", \"type\": \"HelpTool\"}], \"id\": \"ea654166-0b0c-4134-bc9b-eca710c5dee6\", \"left\": [{\"id\": \"d6cc3ac6-a433-4094-828c-ede94ae68465\", \"type\": \"LinearAxis\"}], \"extra_y_ranges\": {}, \"x_range\": {\"id\": \"de40bdad-995b-4941-afef-2de59ff19dc8\", \"type\": \"DataRange1d\"}}, \"subtype\": \"Chart\", \"type\": \"Plot\"}, {\"id\": \"2f965677-18e8-433d-8f0a-5ed54d44c2e6\", \"attributes\": {\"tags\": [], \"id\": \"2f965677-18e8-433d-8f0a-5ed54d44c2e6\", \"doc\": null, \"mantissas\": [2, 5, 10]}, \"type\": \"BasicTicker\"}, {\"id\": \"de40bdad-995b-4941-afef-2de59ff19dc8\", \"attributes\": {\"tags\": [], \"renderers\": [], \"doc\": null, \"id\": \"de40bdad-995b-4941-afef-2de59ff19dc8\", \"names\": []}, \"type\": \"DataRange1d\"}, {\"id\": \"f3877fae-5d4b-48d9-b8c2-adf509d10950\", \"attributes\": {\"ticker\": {\"id\": \"819f8fdf-f721-4165-badc-93d0d2946b07\", \"type\": \"BasicTicker\"}, \"dimension\": 0, \"doc\": null, \"tags\": [], \"id\": \"f3877fae-5d4b-48d9-b8c2-adf509d10950\", \"plot\": {\"id\": \"ea654166-0b0c-4134-bc9b-eca710c5dee6\", \"subtype\": \"Chart\", \"type\": \"Plot\"}}, \"type\": \"Grid\"}, {\"id\": \"ca3f3796-8fd6-476a-b1d5-06f98660d5b2\", \"attributes\": {\"tags\": [], \"id\": \"ca3f3796-8fd6-476a-b1d5-06f98660d5b2\", \"doc\": null, \"plot\": {\"id\": \"ea654166-0b0c-4134-bc9b-eca710c5dee6\", \"subtype\": \"Chart\", \"type\": \"Plot\"}}, \"type\": \"HelpTool\"}, {\"id\": \"df2c25f9-7f53-4cf6-9bdd-11f2151c54f9\", \"attributes\": {\"tags\": [], \"id\": \"df2c25f9-7f53-4cf6-9bdd-11f2151c54f9\", \"doc\": null}, \"type\": \"BasicTickFormatter\"}, {\"id\": \"b815b4e3-50dd-4cec-a6c6-1ca4b0f64c9c\", \"attributes\": {\"tags\": [], \"id\": \"b815b4e3-50dd-4cec-a6c6-1ca4b0f64c9c\", \"doc\": null, \"plot\": {\"id\": \"ea654166-0b0c-4134-bc9b-eca710c5dee6\", \"subtype\": \"Chart\", \"type\": \"Plot\"}}, \"type\": \"PreviewSaveTool\"}, {\"id\": \"09323b6b-8ea0-40d6-a883-927e6f39dba7\", \"attributes\": {\"tags\": [], \"id\": \"09323b6b-8ea0-40d6-a883-927e6f39dba7\", \"doc\": null, \"start\": 0.7, \"end\": 4.3}, \"type\": \"Range1d\"}, {\"id\": \"df0b4e7b-94f5-4393-93af-e1417728b1ed\", \"attributes\": {\"tags\": [], \"id\": \"df0b4e7b-94f5-4393-93af-e1417728b1ed\", \"doc\": null, \"dimensions\": [\"width\", \"height\"], \"plot\": {\"id\": \"ea654166-0b0c-4134-bc9b-eca710c5dee6\", \"subtype\": \"Chart\", \"type\": \"Plot\"}}, \"type\": \"WheelZoomTool\"}, {\"id\": \"fff7969b-3fe0-4252-9d63-2c096e6d91f6\", \"attributes\": {\"tags\": [], \"id\": \"fff7969b-3fe0-4252-9d63-2c096e6d91f6\", \"doc\": null, \"geometries\": []}, \"type\": \"ToolEvents\"}, {\"id\": \"a162b3dc-3614-480b-990e-992af7abc01e\", \"attributes\": {\"tags\": [], \"id\": \"a162b3dc-3614-480b-990e-992af7abc01e\", \"doc\": null, \"dimensions\": [\"width\", \"height\"], \"plot\": {\"id\": \"ea654166-0b0c-4134-bc9b-eca710c5dee6\", \"subtype\": \"Chart\", \"type\": \"Plot\"}}, \"type\": \"BoxZoomTool\"}, {\"id\": \"47c761b0-ad64-47aa-b454-2bdaf392f590\", \"attributes\": {\"ticker\": {\"id\": \"819f8fdf-f721-4165-badc-93d0d2946b07\", \"type\": \"BasicTicker\"}, \"tags\": [], \"doc\": null, \"axis_label\": null, \"id\": \"47c761b0-ad64-47aa-b454-2bdaf392f590\", \"formatter\": {\"id\": \"10b81dfe-6fd5-410d-9872-537f63c7e293\", \"type\": \"BasicTickFormatter\"}, \"plot\": {\"id\": \"ea654166-0b0c-4134-bc9b-eca710c5dee6\", \"subtype\": \"Chart\", \"type\": \"Plot\"}}, \"type\": \"LinearAxis\"}, {\"id\": \"e61d6b8f-91ad-49e7-9939-4a9a804d21ba\", \"attributes\": {\"tags\": [], \"id\": \"e61d6b8f-91ad-49e7-9939-4a9a804d21ba\", \"doc\": null, \"x\": {\"field\": \"x\"}, \"line_color\": {\"value\": \"#f22c40\"}, \"y\": {\"field\": \"y_0\"}}, \"type\": \"Line\"}, {\"id\": \"819f8fdf-f721-4165-badc-93d0d2946b07\", \"attributes\": {\"tags\": [], \"id\": \"819f8fdf-f721-4165-badc-93d0d2946b07\", \"doc\": null, \"mantissas\": [2, 5, 10]}, \"type\": \"BasicTicker\"}, {\"id\": \"c24cc20b-cfcc-41e6-a7fc-76ce9632d39b\", \"attributes\": {\"tags\": [], \"id\": \"c24cc20b-cfcc-41e6-a7fc-76ce9632d39b\", \"doc\": null, \"plot\": {\"id\": \"ea654166-0b0c-4134-bc9b-eca710c5dee6\", \"subtype\": \"Chart\", \"type\": \"Plot\"}}, \"type\": \"ResizeTool\"}];\n",
       "            Bokeh.load_models(all_models);\n",
       "            var model = Bokeh.Collections(modeltype).get(modelid);\n",
       "            var view = new model.default_view({model: model, el: '#f1ce34d1-ff50-4643-a2a1-5ba760a2ce59'});\n",
       "            Bokeh.index[modelid] = view\n",
       "        });\n",
       "    </script>\n",
       "<div class=\"plotdiv\" id=\"f1ce34d1-ff50-4643-a2a1-5ba760a2ce59\"></div>\n",
       "\n"
      ]
     },
     "metadata": {},
     "output_type": "display_data"
    },
    {
     "name": "stdout",
     "output_type": "stream",
     "text": [
      "ea654166-0b0c-4134-bc9b-eca710c5dee6\n"
     ]
    }
   ],
   "source": [
    "line = Line(index=[1990, 1991, 1993, 1994], values=[1, 2, 3, 4], height=100)\n",
    "show(line)\n",
    "print(line.ref['id'])"
   ]
  },
  {
   "cell_type": "code",
   "execution_count": 3,
   "metadata": {
    "collapsed": false
   },
   "outputs": [
    {
     "data": {
      "text/html": [
       "<script>Bokeh.index['ea654166-0b0c-4134-bc9b-eca710c5dee6'].model.set('plot_height', 300);</script>"
      ],
      "text/plain": [
       "<IPython.core.display.HTML object>"
      ]
     },
     "execution_count": 3,
     "metadata": {},
     "output_type": "execute_result"
    }
   ],
   "source": [
    "plot_height = 300\n",
    "HTML(\"<script>Bokeh.index['%s'].model.set('plot_height', %d);</script>\" % (line.ref['id'], plot_height))"
   ]
  },
  {
   "cell_type": "markdown",
   "metadata": {},
   "source": [
    "## Set height of 'figure'"
   ]
  },
  {
   "cell_type": "code",
   "execution_count": 4,
   "metadata": {
    "collapsed": false
   },
   "outputs": [
    {
     "data": {
      "text/html": [
       "<script type=\"text/javascript\">\n",
       "        Bokeh.$(function() {\n",
       "            var modelid = \"78ebb831-786c-4947-9c0a-81dea3bced50\";\n",
       "            var modeltype = \"Plot\";\n",
       "            var elementid = \"c8c2135a-2b3c-4716-ab31-7a706c3626af\";\n",
       "            Bokeh.logger.info(\"Realizing plot:\")\n",
       "            Bokeh.logger.info(\" - modeltype: Plot\");\n",
       "            Bokeh.logger.info(\" - modelid: 78ebb831-786c-4947-9c0a-81dea3bced50\");\n",
       "            Bokeh.logger.info(\" - elementid: c8c2135a-2b3c-4716-ab31-7a706c3626af\");\n",
       "            var all_models = [{\"id\": \"78ebb831-786c-4947-9c0a-81dea3bced50\", \"attributes\": {\"tags\": [], \"renderers\": [{\"id\": \"13fdb63e-2c75-4cc9-9086-5ac1d2018f72\", \"type\": \"LinearAxis\"}, {\"id\": \"75ca6b19-783d-41bb-b547-1be5cd0b1fce\", \"type\": \"Grid\"}, {\"id\": \"cad0ed0e-4422-4ab5-aab7-81c7eb02e814\", \"type\": \"LinearAxis\"}, {\"id\": \"c89a22df-e905-43ac-bafb-60ef83661983\", \"type\": \"Grid\"}, {\"id\": \"01809385-5ab8-4f50-8857-f7ea9cd98179\", \"type\": \"GlyphRenderer\"}], \"plot_height\": 100, \"below\": [{\"id\": \"13fdb63e-2c75-4cc9-9086-5ac1d2018f72\", \"type\": \"LinearAxis\"}], \"y_range\": {\"id\": \"cfa3cc25-b564-4af7-9b2e-e17198b8d56a\", \"type\": \"DataRange1d\"}, \"doc\": null, \"extra_x_ranges\": {}, \"right\": [], \"above\": [], \"tool_events\": {\"id\": \"6a210802-2abe-43b3-bc5c-5abafcb4c26e\", \"type\": \"ToolEvents\"}, \"x_range\": {\"id\": \"d0ea7fe6-6f91-425f-b65e-d92f0fc5e327\", \"type\": \"DataRange1d\"}, \"tools\": [{\"id\": \"18ebad3a-2961-42fa-b994-1a12ba9e39ee\", \"type\": \"PanTool\"}, {\"id\": \"966488d7-c233-4062-a0f3-e4c5c1ddafef\", \"type\": \"WheelZoomTool\"}, {\"id\": \"7fe4dbbb-d2f8-4548-a5dd-975c7204da5a\", \"type\": \"BoxZoomTool\"}, {\"id\": \"923f4b4f-ab3b-4061-b4cf-e5de0c5c8a3e\", \"type\": \"PreviewSaveTool\"}, {\"id\": \"a767ddd6-6d27-483c-8ae6-bca9be9d0420\", \"type\": \"ResizeTool\"}, {\"id\": \"88535ec1-440c-4936-bdbc-43d1f7590bf1\", \"type\": \"ResetTool\"}, {\"id\": \"f3792a71-aa66-4a8a-989a-4b6196cc46c7\", \"type\": \"HelpTool\"}], \"id\": \"78ebb831-786c-4947-9c0a-81dea3bced50\", \"extra_y_ranges\": {}, \"left\": [{\"id\": \"cad0ed0e-4422-4ab5-aab7-81c7eb02e814\", \"type\": \"LinearAxis\"}]}, \"subtype\": \"Figure\", \"type\": \"Plot\"}, {\"id\": \"18ebad3a-2961-42fa-b994-1a12ba9e39ee\", \"attributes\": {\"tags\": [], \"id\": \"18ebad3a-2961-42fa-b994-1a12ba9e39ee\", \"doc\": null, \"dimensions\": [\"width\", \"height\"], \"plot\": {\"id\": \"78ebb831-786c-4947-9c0a-81dea3bced50\", \"subtype\": \"Figure\", \"type\": \"Plot\"}}, \"type\": \"PanTool\"}, {\"id\": \"cfa3cc25-b564-4af7-9b2e-e17198b8d56a\", \"attributes\": {\"tags\": [], \"renderers\": [], \"doc\": null, \"id\": \"cfa3cc25-b564-4af7-9b2e-e17198b8d56a\", \"names\": []}, \"type\": \"DataRange1d\"}, {\"id\": \"966488d7-c233-4062-a0f3-e4c5c1ddafef\", \"attributes\": {\"tags\": [], \"id\": \"966488d7-c233-4062-a0f3-e4c5c1ddafef\", \"doc\": null, \"dimensions\": [\"width\", \"height\"], \"plot\": {\"id\": \"78ebb831-786c-4947-9c0a-81dea3bced50\", \"subtype\": \"Figure\", \"type\": \"Plot\"}}, \"type\": \"WheelZoomTool\"}, {\"id\": \"abe070ba-73d3-44f3-9377-7eda8d6f48b8\", \"attributes\": {\"line_alpha\": {\"value\": 1.0}, \"tags\": [], \"doc\": null, \"x\": {\"field\": \"x\"}, \"id\": \"abe070ba-73d3-44f3-9377-7eda8d6f48b8\", \"line_color\": {\"value\": \"#1f77b4\"}, \"y\": {\"field\": \"y\"}}, \"type\": \"Line\"}, {\"id\": \"7fe4dbbb-d2f8-4548-a5dd-975c7204da5a\", \"attributes\": {\"tags\": [], \"id\": \"7fe4dbbb-d2f8-4548-a5dd-975c7204da5a\", \"doc\": null, \"dimensions\": [\"width\", \"height\"], \"plot\": {\"id\": \"78ebb831-786c-4947-9c0a-81dea3bced50\", \"subtype\": \"Figure\", \"type\": \"Plot\"}}, \"type\": \"BoxZoomTool\"}, {\"id\": \"0e2a0963-0cd0-4f8f-8625-47b65cc1d123\", \"attributes\": {\"tags\": [], \"column_names\": [\"x\", \"y\"], \"doc\": null, \"id\": \"0e2a0963-0cd0-4f8f-8625-47b65cc1d123\", \"data\": {\"y\": [1, 2, 3, 4], \"x\": [1990, 1991, 1993, 1994]}, \"selected\": {\"1d\": {\"indices\": []}, \"2d\": {\"indices\": []}, \"0d\": {\"flag\": false, \"indices\": []}}, \"callback\": null}, \"type\": \"ColumnDataSource\"}, {\"id\": \"01809385-5ab8-4f50-8857-f7ea9cd98179\", \"attributes\": {\"name\": null, \"tags\": [], \"glyph\": {\"id\": \"abe070ba-73d3-44f3-9377-7eda8d6f48b8\", \"type\": \"Line\"}, \"nonselection_glyph\": {\"id\": \"a40bb030-9196-43a8-80ac-e7412d507449\", \"type\": \"Line\"}, \"selection_glyph\": null, \"data_source\": {\"id\": \"0e2a0963-0cd0-4f8f-8625-47b65cc1d123\", \"type\": \"ColumnDataSource\"}, \"doc\": null, \"id\": \"01809385-5ab8-4f50-8857-f7ea9cd98179\"}, \"type\": \"GlyphRenderer\"}, {\"id\": \"3f2cbed4-39fc-4262-94bf-eca0ac798fb5\", \"attributes\": {\"tags\": [], \"id\": \"3f2cbed4-39fc-4262-94bf-eca0ac798fb5\", \"doc\": null}, \"type\": \"BasicTickFormatter\"}, {\"id\": \"88535ec1-440c-4936-bdbc-43d1f7590bf1\", \"attributes\": {\"tags\": [], \"id\": \"88535ec1-440c-4936-bdbc-43d1f7590bf1\", \"doc\": null, \"plot\": {\"id\": \"78ebb831-786c-4947-9c0a-81dea3bced50\", \"subtype\": \"Figure\", \"type\": \"Plot\"}}, \"type\": \"ResetTool\"}, {\"id\": \"6a210802-2abe-43b3-bc5c-5abafcb4c26e\", \"attributes\": {\"tags\": [], \"id\": \"6a210802-2abe-43b3-bc5c-5abafcb4c26e\", \"doc\": null, \"geometries\": []}, \"type\": \"ToolEvents\"}, {\"id\": \"dc504fca-d287-4fe3-bd7a-e6ed1479aaf2\", \"attributes\": {\"tags\": [], \"id\": \"dc504fca-d287-4fe3-bd7a-e6ed1479aaf2\", \"num_minor_ticks\": 5, \"doc\": null, \"mantissas\": [2, 5, 10]}, \"type\": \"BasicTicker\"}, {\"id\": \"13fdb63e-2c75-4cc9-9086-5ac1d2018f72\", \"attributes\": {\"ticker\": {\"id\": \"dc504fca-d287-4fe3-bd7a-e6ed1479aaf2\", \"type\": \"BasicTicker\"}, \"tags\": [], \"doc\": null, \"id\": \"13fdb63e-2c75-4cc9-9086-5ac1d2018f72\", \"formatter\": {\"id\": \"3f2cbed4-39fc-4262-94bf-eca0ac798fb5\", \"type\": \"BasicTickFormatter\"}, \"plot\": {\"id\": \"78ebb831-786c-4947-9c0a-81dea3bced50\", \"subtype\": \"Figure\", \"type\": \"Plot\"}}, \"type\": \"LinearAxis\"}, {\"id\": \"c89a22df-e905-43ac-bafb-60ef83661983\", \"attributes\": {\"ticker\": {\"id\": \"3bb9ad4a-1660-4d2e-8804-878f2ef217d6\", \"type\": \"BasicTicker\"}, \"dimension\": 1, \"doc\": null, \"tags\": [], \"id\": \"c89a22df-e905-43ac-bafb-60ef83661983\", \"plot\": {\"id\": \"78ebb831-786c-4947-9c0a-81dea3bced50\", \"subtype\": \"Figure\", \"type\": \"Plot\"}}, \"type\": \"Grid\"}, {\"id\": \"f3792a71-aa66-4a8a-989a-4b6196cc46c7\", \"attributes\": {\"tags\": [], \"id\": \"f3792a71-aa66-4a8a-989a-4b6196cc46c7\", \"doc\": null, \"plot\": {\"id\": \"78ebb831-786c-4947-9c0a-81dea3bced50\", \"subtype\": \"Figure\", \"type\": \"Plot\"}}, \"type\": \"HelpTool\"}, {\"id\": \"75ca6b19-783d-41bb-b547-1be5cd0b1fce\", \"attributes\": {\"ticker\": {\"id\": \"dc504fca-d287-4fe3-bd7a-e6ed1479aaf2\", \"type\": \"BasicTicker\"}, \"dimension\": 0, \"doc\": null, \"tags\": [], \"id\": \"75ca6b19-783d-41bb-b547-1be5cd0b1fce\", \"plot\": {\"id\": \"78ebb831-786c-4947-9c0a-81dea3bced50\", \"subtype\": \"Figure\", \"type\": \"Plot\"}}, \"type\": \"Grid\"}, {\"id\": \"3bb9ad4a-1660-4d2e-8804-878f2ef217d6\", \"attributes\": {\"tags\": [], \"id\": \"3bb9ad4a-1660-4d2e-8804-878f2ef217d6\", \"num_minor_ticks\": 5, \"doc\": null, \"mantissas\": [2, 5, 10]}, \"type\": \"BasicTicker\"}, {\"id\": \"8bf8c5ae-2d54-4141-b49e-8827de732150\", \"attributes\": {\"tags\": [], \"id\": \"8bf8c5ae-2d54-4141-b49e-8827de732150\", \"doc\": null}, \"type\": \"BasicTickFormatter\"}, {\"id\": \"a40bb030-9196-43a8-80ac-e7412d507449\", \"attributes\": {\"line_alpha\": {\"value\": 0.1}, \"tags\": [], \"doc\": null, \"x\": {\"field\": \"x\"}, \"id\": \"a40bb030-9196-43a8-80ac-e7412d507449\", \"line_color\": {\"value\": \"#1f77b4\"}, \"y\": {\"field\": \"y\"}}, \"type\": \"Line\"}, {\"id\": \"923f4b4f-ab3b-4061-b4cf-e5de0c5c8a3e\", \"attributes\": {\"tags\": [], \"id\": \"923f4b4f-ab3b-4061-b4cf-e5de0c5c8a3e\", \"doc\": null, \"plot\": {\"id\": \"78ebb831-786c-4947-9c0a-81dea3bced50\", \"subtype\": \"Figure\", \"type\": \"Plot\"}}, \"type\": \"PreviewSaveTool\"}, {\"id\": \"a767ddd6-6d27-483c-8ae6-bca9be9d0420\", \"attributes\": {\"tags\": [], \"id\": \"a767ddd6-6d27-483c-8ae6-bca9be9d0420\", \"doc\": null, \"plot\": {\"id\": \"78ebb831-786c-4947-9c0a-81dea3bced50\", \"subtype\": \"Figure\", \"type\": \"Plot\"}}, \"type\": \"ResizeTool\"}, {\"id\": \"d0ea7fe6-6f91-425f-b65e-d92f0fc5e327\", \"attributes\": {\"tags\": [], \"renderers\": [], \"doc\": null, \"id\": \"d0ea7fe6-6f91-425f-b65e-d92f0fc5e327\", \"names\": []}, \"type\": \"DataRange1d\"}, {\"id\": \"cad0ed0e-4422-4ab5-aab7-81c7eb02e814\", \"attributes\": {\"ticker\": {\"id\": \"3bb9ad4a-1660-4d2e-8804-878f2ef217d6\", \"type\": \"BasicTicker\"}, \"tags\": [], \"doc\": null, \"id\": \"cad0ed0e-4422-4ab5-aab7-81c7eb02e814\", \"formatter\": {\"id\": \"8bf8c5ae-2d54-4141-b49e-8827de732150\", \"type\": \"BasicTickFormatter\"}, \"plot\": {\"id\": \"78ebb831-786c-4947-9c0a-81dea3bced50\", \"subtype\": \"Figure\", \"type\": \"Plot\"}}, \"type\": \"LinearAxis\"}];\n",
       "            Bokeh.load_models(all_models);\n",
       "            var model = Bokeh.Collections(modeltype).get(modelid);\n",
       "            var view = new model.default_view({model: model, el: '#c8c2135a-2b3c-4716-ab31-7a706c3626af'});\n",
       "            Bokeh.index[modelid] = view\n",
       "        });\n",
       "    </script>\n",
       "<div class=\"plotdiv\" id=\"c8c2135a-2b3c-4716-ab31-7a706c3626af\"></div>\n",
       "\n"
      ]
     },
     "metadata": {},
     "output_type": "display_data"
    },
    {
     "name": "stdout",
     "output_type": "stream",
     "text": [
      "78ebb831-786c-4947-9c0a-81dea3bced50\n"
     ]
    }
   ],
   "source": [
    "p = figure(height=100)\n",
    "p.line(x=[1990, 1991, 1993, 1994], y=[1, 2, 3, 4])\n",
    "show(p)\n",
    "print(p.ref['id'])"
   ]
  },
  {
   "cell_type": "code",
   "execution_count": 5,
   "metadata": {
    "collapsed": false
   },
   "outputs": [
    {
     "data": {
      "text/html": [
       "<script>Bokeh.index['78ebb831-786c-4947-9c0a-81dea3bced50'].model.set('plot_height', 200);</script>"
      ],
      "text/plain": [
       "<IPython.core.display.HTML object>"
      ]
     },
     "execution_count": 5,
     "metadata": {},
     "output_type": "execute_result"
    }
   ],
   "source": [
    "plot_height = 200\n",
    "HTML(\"<script>Bokeh.index['%s'].model.set('plot_height', %d);</script>\" % (p.ref['id'], plot_height))"
   ]
  },
  {
   "cell_type": "markdown",
   "metadata": {},
   "source": [
    "## Set height on window resize"
   ]
  },
  {
   "cell_type": "code",
   "execution_count": 6,
   "metadata": {
    "collapsed": false
   },
   "outputs": [
    {
     "data": {
      "text/html": [
       "<script type=\"text/javascript\">\n",
       "        Bokeh.$(function() {\n",
       "            var modelid = \"4c237334-1a5f-4717-bd0c-8d4ff96d9617\";\n",
       "            var modeltype = \"Plot\";\n",
       "            var elementid = \"6eec8fd5-9e0b-4b69-9ce3-62f6d8701217\";\n",
       "            Bokeh.logger.info(\"Realizing plot:\")\n",
       "            Bokeh.logger.info(\" - modeltype: Plot\");\n",
       "            Bokeh.logger.info(\" - modelid: 4c237334-1a5f-4717-bd0c-8d4ff96d9617\");\n",
       "            Bokeh.logger.info(\" - elementid: 6eec8fd5-9e0b-4b69-9ce3-62f6d8701217\");\n",
       "            var all_models = [{\"id\": \"29a58f7d-8cfd-480f-88e6-e9fc514ba4a0\", \"attributes\": {\"tags\": [], \"id\": \"29a58f7d-8cfd-480f-88e6-e9fc514ba4a0\", \"doc\": null, \"start\": 0.7, \"end\": 4.3}, \"type\": \"Range1d\"}, {\"id\": \"b199bf6f-8164-4c58-9342-151e9b0d61c1\", \"attributes\": {\"tags\": [], \"id\": \"b199bf6f-8164-4c58-9342-151e9b0d61c1\", \"doc\": null, \"plot\": {\"id\": \"4c237334-1a5f-4717-bd0c-8d4ff96d9617\", \"subtype\": \"Chart\", \"type\": \"Plot\"}}, \"type\": \"ResetTool\"}, {\"id\": \"0984cf1f-a537-49c0-94df-24c456f9d6c5\", \"attributes\": {\"tags\": [], \"id\": \"0984cf1f-a537-49c0-94df-24c456f9d6c5\", \"doc\": null}, \"type\": \"BasicTickFormatter\"}, {\"id\": \"57f49a04-b7d6-4743-b3c6-d4be0b03558b\", \"attributes\": {\"tags\": [], \"id\": \"57f49a04-b7d6-4743-b3c6-d4be0b03558b\", \"doc\": null, \"mantissas\": [2, 5, 10]}, \"type\": \"BasicTicker\"}, {\"id\": \"006d03ea-4235-459c-bc2d-e6a202517a41\", \"attributes\": {\"tags\": [], \"id\": \"006d03ea-4235-459c-bc2d-e6a202517a41\", \"doc\": null, \"dimensions\": [\"width\", \"height\"], \"plot\": {\"id\": \"4c237334-1a5f-4717-bd0c-8d4ff96d9617\", \"subtype\": \"Chart\", \"type\": \"Plot\"}}, \"type\": \"BoxZoomTool\"}, {\"id\": \"4c237334-1a5f-4717-bd0c-8d4ff96d9617\", \"attributes\": {\"tags\": [], \"renderers\": [{\"id\": \"e398aa55-e1c9-4cb4-904b-2af6c2cc77b5\", \"type\": \"LinearAxis\"}, {\"id\": \"d98de4a9-25cf-446e-9886-fbc2af713a35\", \"type\": \"LinearAxis\"}, {\"id\": \"ca1a8836-a5c8-4550-b1e5-fbf2d1fe351f\", \"type\": \"Grid\"}, {\"id\": \"c673edd1-0a05-4e6f-a40e-3546381c78f8\", \"type\": \"Grid\"}, {\"id\": \"cc4c7b30-c4e4-4b5e-a7c5-d1f2b2b1695b\", \"type\": \"GlyphRenderer\"}], \"title\": null, \"plot_height\": 100, \"below\": [{\"id\": \"e398aa55-e1c9-4cb4-904b-2af6c2cc77b5\", \"type\": \"LinearAxis\"}], \"y_range\": {\"id\": \"29a58f7d-8cfd-480f-88e6-e9fc514ba4a0\", \"type\": \"Range1d\"}, \"doc\": null, \"extra_x_ranges\": {}, \"right\": [], \"above\": [], \"tool_events\": {\"id\": \"136ad6c2-a610-4d65-983b-0748dd876a3b\", \"type\": \"ToolEvents\"}, \"plot_width\": 600, \"tools\": [{\"id\": \"6202a80d-1f3c-48bc-98a3-37de0831c202\", \"type\": \"PanTool\"}, {\"id\": \"d6c27f0f-1dbc-4779-9d81-c73100f993d5\", \"type\": \"WheelZoomTool\"}, {\"id\": \"006d03ea-4235-459c-bc2d-e6a202517a41\", \"type\": \"BoxZoomTool\"}, {\"id\": \"b452df0a-1e71-4bae-aee4-08c4d4b14f6d\", \"type\": \"PreviewSaveTool\"}, {\"id\": \"ea2e08f8-9261-4512-a862-6811dd96508f\", \"type\": \"ResizeTool\"}, {\"id\": \"b199bf6f-8164-4c58-9342-151e9b0d61c1\", \"type\": \"ResetTool\"}, {\"id\": \"358fff72-6b43-4c0d-9928-26e3b3090535\", \"type\": \"HelpTool\"}], \"id\": \"4c237334-1a5f-4717-bd0c-8d4ff96d9617\", \"left\": [{\"id\": \"d98de4a9-25cf-446e-9886-fbc2af713a35\", \"type\": \"LinearAxis\"}], \"extra_y_ranges\": {}, \"x_range\": {\"id\": \"9d4c36e5-93cb-4998-9ace-ff322d7f206b\", \"type\": \"DataRange1d\"}}, \"subtype\": \"Chart\", \"type\": \"Plot\"}, {\"id\": \"70ba717e-aa48-4b67-9db9-1e745804a32c\", \"attributes\": {\"tags\": [], \"id\": \"70ba717e-aa48-4b67-9db9-1e745804a32c\", \"doc\": null}, \"type\": \"BasicTickFormatter\"}, {\"id\": \"d98de4a9-25cf-446e-9886-fbc2af713a35\", \"attributes\": {\"ticker\": {\"id\": \"86f526a2-98ba-4c13-91cc-e123ac9d2350\", \"type\": \"BasicTicker\"}, \"tags\": [], \"doc\": null, \"axis_label\": null, \"id\": \"d98de4a9-25cf-446e-9886-fbc2af713a35\", \"formatter\": {\"id\": \"70ba717e-aa48-4b67-9db9-1e745804a32c\", \"type\": \"BasicTickFormatter\"}, \"plot\": {\"id\": \"4c237334-1a5f-4717-bd0c-8d4ff96d9617\", \"subtype\": \"Chart\", \"type\": \"Plot\"}}, \"type\": \"LinearAxis\"}, {\"id\": \"ca1a8836-a5c8-4550-b1e5-fbf2d1fe351f\", \"attributes\": {\"ticker\": {\"id\": \"57f49a04-b7d6-4743-b3c6-d4be0b03558b\", \"type\": \"BasicTicker\"}, \"dimension\": 0, \"doc\": null, \"tags\": [], \"id\": \"ca1a8836-a5c8-4550-b1e5-fbf2d1fe351f\", \"plot\": {\"id\": \"4c237334-1a5f-4717-bd0c-8d4ff96d9617\", \"subtype\": \"Chart\", \"type\": \"Plot\"}}, \"type\": \"Grid\"}, {\"id\": \"408c4551-9a0c-4760-b02f-deba2695a4d3\", \"attributes\": {\"tags\": [], \"id\": \"408c4551-9a0c-4760-b02f-deba2695a4d3\", \"doc\": null, \"x\": {\"field\": \"x\"}, \"line_color\": {\"value\": \"#f22c40\"}, \"y\": {\"field\": \"y_0\"}}, \"type\": \"Line\"}, {\"id\": \"cc4c7b30-c4e4-4b5e-a7c5-d1f2b2b1695b\", \"attributes\": {\"tags\": [], \"id\": \"cc4c7b30-c4e4-4b5e-a7c5-d1f2b2b1695b\", \"glyph\": {\"id\": \"408c4551-9a0c-4760-b02f-deba2695a4d3\", \"type\": \"Line\"}, \"nonselection_glyph\": null, \"selection_glyph\": null, \"data_source\": {\"id\": \"4efe73fb-3ea9-4415-85cd-f34aa348ac40\", \"type\": \"ColumnDataSource\"}, \"doc\": null}, \"type\": \"GlyphRenderer\"}, {\"id\": \"6202a80d-1f3c-48bc-98a3-37de0831c202\", \"attributes\": {\"tags\": [], \"id\": \"6202a80d-1f3c-48bc-98a3-37de0831c202\", \"doc\": null, \"dimensions\": [\"width\", \"height\"], \"plot\": {\"id\": \"4c237334-1a5f-4717-bd0c-8d4ff96d9617\", \"subtype\": \"Chart\", \"type\": \"Plot\"}}, \"type\": \"PanTool\"}, {\"id\": \"d6c27f0f-1dbc-4779-9d81-c73100f993d5\", \"attributes\": {\"tags\": [], \"id\": \"d6c27f0f-1dbc-4779-9d81-c73100f993d5\", \"doc\": null, \"dimensions\": [\"width\", \"height\"], \"plot\": {\"id\": \"4c237334-1a5f-4717-bd0c-8d4ff96d9617\", \"subtype\": \"Chart\", \"type\": \"Plot\"}}, \"type\": \"WheelZoomTool\"}, {\"id\": \"e398aa55-e1c9-4cb4-904b-2af6c2cc77b5\", \"attributes\": {\"ticker\": {\"id\": \"57f49a04-b7d6-4743-b3c6-d4be0b03558b\", \"type\": \"BasicTicker\"}, \"tags\": [], \"doc\": null, \"axis_label\": null, \"id\": \"e398aa55-e1c9-4cb4-904b-2af6c2cc77b5\", \"formatter\": {\"id\": \"0984cf1f-a537-49c0-94df-24c456f9d6c5\", \"type\": \"BasicTickFormatter\"}, \"plot\": {\"id\": \"4c237334-1a5f-4717-bd0c-8d4ff96d9617\", \"subtype\": \"Chart\", \"type\": \"Plot\"}}, \"type\": \"LinearAxis\"}, {\"id\": \"86f526a2-98ba-4c13-91cc-e123ac9d2350\", \"attributes\": {\"tags\": [], \"id\": \"86f526a2-98ba-4c13-91cc-e123ac9d2350\", \"doc\": null, \"mantissas\": [2, 5, 10]}, \"type\": \"BasicTicker\"}, {\"id\": \"ea2e08f8-9261-4512-a862-6811dd96508f\", \"attributes\": {\"tags\": [], \"id\": \"ea2e08f8-9261-4512-a862-6811dd96508f\", \"doc\": null, \"plot\": {\"id\": \"4c237334-1a5f-4717-bd0c-8d4ff96d9617\", \"subtype\": \"Chart\", \"type\": \"Plot\"}}, \"type\": \"ResizeTool\"}, {\"id\": \"c673edd1-0a05-4e6f-a40e-3546381c78f8\", \"attributes\": {\"ticker\": {\"id\": \"86f526a2-98ba-4c13-91cc-e123ac9d2350\", \"type\": \"BasicTicker\"}, \"dimension\": 1, \"doc\": null, \"tags\": [], \"id\": \"c673edd1-0a05-4e6f-a40e-3546381c78f8\", \"plot\": {\"id\": \"4c237334-1a5f-4717-bd0c-8d4ff96d9617\", \"subtype\": \"Chart\", \"type\": \"Plot\"}}, \"type\": \"Grid\"}, {\"id\": \"b452df0a-1e71-4bae-aee4-08c4d4b14f6d\", \"attributes\": {\"tags\": [], \"id\": \"b452df0a-1e71-4bae-aee4-08c4d4b14f6d\", \"doc\": null, \"plot\": {\"id\": \"4c237334-1a5f-4717-bd0c-8d4ff96d9617\", \"subtype\": \"Chart\", \"type\": \"Plot\"}}, \"type\": \"PreviewSaveTool\"}, {\"id\": \"136ad6c2-a610-4d65-983b-0748dd876a3b\", \"attributes\": {\"tags\": [], \"id\": \"136ad6c2-a610-4d65-983b-0748dd876a3b\", \"doc\": null, \"geometries\": []}, \"type\": \"ToolEvents\"}, {\"id\": \"358fff72-6b43-4c0d-9928-26e3b3090535\", \"attributes\": {\"tags\": [], \"id\": \"358fff72-6b43-4c0d-9928-26e3b3090535\", \"doc\": null, \"plot\": {\"id\": \"4c237334-1a5f-4717-bd0c-8d4ff96d9617\", \"subtype\": \"Chart\", \"type\": \"Plot\"}}, \"type\": \"HelpTool\"}, {\"id\": \"4efe73fb-3ea9-4415-85cd-f34aa348ac40\", \"attributes\": {\"tags\": [], \"column_names\": [\"y_0\", \"x\"], \"doc\": null, \"id\": \"4efe73fb-3ea9-4415-85cd-f34aa348ac40\", \"data\": {\"y_0\": [1, 2, 3, 4], \"x\": [1990, 1991, 1993, 1994]}, \"selected\": {\"1d\": {\"indices\": []}, \"2d\": {\"indices\": []}, \"0d\": {\"flag\": false, \"indices\": []}}, \"callback\": null}, \"type\": \"ColumnDataSource\"}, {\"id\": \"9d4c36e5-93cb-4998-9ace-ff322d7f206b\", \"attributes\": {\"tags\": [], \"renderers\": [], \"doc\": null, \"id\": \"9d4c36e5-93cb-4998-9ace-ff322d7f206b\", \"names\": []}, \"type\": \"DataRange1d\"}];\n",
       "            Bokeh.load_models(all_models);\n",
       "            var model = Bokeh.Collections(modeltype).get(modelid);\n",
       "            var view = new model.default_view({model: model, el: '#6eec8fd5-9e0b-4b69-9ce3-62f6d8701217'});\n",
       "            Bokeh.index[modelid] = view\n",
       "        });\n",
       "    </script>\n",
       "<div class=\"plotdiv\" id=\"6eec8fd5-9e0b-4b69-9ce3-62f6d8701217\"></div>\n",
       "\n"
      ]
     },
     "metadata": {},
     "output_type": "display_data"
    },
    {
     "name": "stdout",
     "output_type": "stream",
     "text": [
      "4c237334-1a5f-4717-bd0c-8d4ff96d9617\n"
     ]
    }
   ],
   "source": [
    "line2 = Line(index=[1990, 1991, 1993, 1994], values=[1, 2, 3, 4], height=100)\n",
    "show(line2)\n",
    "print(line2.ref['id'])"
   ]
  },
  {
   "cell_type": "markdown",
   "metadata": {},
   "source": [
    "After running the following cell, the chart will not instantly change it's height. But if you change the size of your browser window, the chart will resize to a plot height of 400."
   ]
  },
  {
   "cell_type": "code",
   "execution_count": 7,
   "metadata": {
    "collapsed": false
   },
   "outputs": [
    {
     "data": {
      "text/html": [
       "\n",
       "<script>\n",
       "    Bokeh.$(window).resize(\n",
       "        function(){\n",
       "            Bokeh.index[\"4c237334-1a5f-4717-bd0c-8d4ff96d9617\"].model.set('plot_height', 400);\n",
       "        }\n",
       "    );\n",
       "</script>\n"
      ],
      "text/plain": [
       "<IPython.core.display.HTML object>"
      ]
     },
     "execution_count": 7,
     "metadata": {},
     "output_type": "execute_result"
    }
   ],
   "source": [
    "HTML(\"\"\"\n",
    "<script>\n",
    "    Bokeh.$(window).resize(\n",
    "        function(){\n",
    "            Bokeh.index[\"%s\"].model.set('plot_height', 400);\n",
    "        }\n",
    "    );\n",
    "</script>\n",
    "\"\"\" % (line2.ref['id']))"
   ]
  },
  {
   "cell_type": "markdown",
   "metadata": {
    "collapsed": true
   },
   "source": [
    "## Responsive plots"
   ]
  },
  {
   "cell_type": "code",
   "execution_count": 8,
   "metadata": {
    "collapsed": false
   },
   "outputs": [
    {
     "data": {
      "text/html": [
       "<script type=\"text/javascript\">\n",
       "        Bokeh.$(function() {\n",
       "            var modelid = \"8ef91903-73dc-481b-90fa-60e6d7d7c09d\";\n",
       "            var modeltype = \"Plot\";\n",
       "            var elementid = \"9798ec7f-16fe-470a-a23d-9bb0863ec9ab\";\n",
       "            Bokeh.logger.info(\"Realizing plot:\")\n",
       "            Bokeh.logger.info(\" - modeltype: Plot\");\n",
       "            Bokeh.logger.info(\" - modelid: 8ef91903-73dc-481b-90fa-60e6d7d7c09d\");\n",
       "            Bokeh.logger.info(\" - elementid: 9798ec7f-16fe-470a-a23d-9bb0863ec9ab\");\n",
       "            var all_models = [{\"id\": \"867fc1f6-3e91-442f-ae7d-c8d12a5a5e0d\", \"attributes\": {\"ticker\": {\"id\": \"a223c3e8-797e-40c5-9f60-760d512dbc93\", \"type\": \"BasicTicker\"}, \"tags\": [], \"doc\": null, \"axis_label\": null, \"id\": \"867fc1f6-3e91-442f-ae7d-c8d12a5a5e0d\", \"formatter\": {\"id\": \"e08cfab8-584e-446b-bd26-dda9eb087799\", \"type\": \"BasicTickFormatter\"}, \"plot\": {\"id\": \"8ef91903-73dc-481b-90fa-60e6d7d7c09d\", \"subtype\": \"Chart\", \"type\": \"Plot\"}}, \"type\": \"LinearAxis\"}, {\"id\": \"43399125-dd9b-41fd-b9c2-8b86dc5377aa\", \"attributes\": {\"tags\": [], \"id\": \"43399125-dd9b-41fd-b9c2-8b86dc5377aa\", \"doc\": null, \"dimensions\": [\"width\", \"height\"], \"plot\": {\"id\": \"8ef91903-73dc-481b-90fa-60e6d7d7c09d\", \"subtype\": \"Chart\", \"type\": \"Plot\"}}, \"type\": \"BoxZoomTool\"}, {\"id\": \"20519392-e0e8-448c-b282-6e948ebd7585\", \"attributes\": {\"ticker\": {\"id\": \"73a3eddf-e997-46f6-a76c-0eaf05db064a\", \"type\": \"BasicTicker\"}, \"dimension\": 1, \"doc\": null, \"tags\": [], \"id\": \"20519392-e0e8-448c-b282-6e948ebd7585\", \"plot\": {\"id\": \"8ef91903-73dc-481b-90fa-60e6d7d7c09d\", \"subtype\": \"Chart\", \"type\": \"Plot\"}}, \"type\": \"Grid\"}, {\"id\": \"9156b02e-0dd9-485e-b8b6-1926940f1ff6\", \"attributes\": {\"tags\": [], \"id\": \"9156b02e-0dd9-485e-b8b6-1926940f1ff6\", \"doc\": null, \"x\": {\"field\": \"x\"}, \"line_color\": {\"value\": \"#f22c40\"}, \"y\": {\"field\": \"y_0\"}}, \"type\": \"Line\"}, {\"id\": \"2979c163-9928-4fd0-acd6-d69a406d2b88\", \"attributes\": {\"tags\": [], \"id\": \"2979c163-9928-4fd0-acd6-d69a406d2b88\", \"doc\": null, \"dimensions\": [\"width\", \"height\"], \"plot\": {\"id\": \"8ef91903-73dc-481b-90fa-60e6d7d7c09d\", \"subtype\": \"Chart\", \"type\": \"Plot\"}}, \"type\": \"WheelZoomTool\"}, {\"id\": \"a94a425f-16dd-4ac3-a7b0-07aba0b9f087\", \"attributes\": {\"tags\": [], \"id\": \"a94a425f-16dd-4ac3-a7b0-07aba0b9f087\", \"doc\": null, \"dimensions\": [\"width\", \"height\"], \"plot\": {\"id\": \"8ef91903-73dc-481b-90fa-60e6d7d7c09d\", \"subtype\": \"Chart\", \"type\": \"Plot\"}}, \"type\": \"PanTool\"}, {\"id\": \"9d0979b9-0c35-4426-9569-850f674284f5\", \"attributes\": {\"ticker\": {\"id\": \"a223c3e8-797e-40c5-9f60-760d512dbc93\", \"type\": \"BasicTicker\"}, \"dimension\": 0, \"doc\": null, \"tags\": [], \"id\": \"9d0979b9-0c35-4426-9569-850f674284f5\", \"plot\": {\"id\": \"8ef91903-73dc-481b-90fa-60e6d7d7c09d\", \"subtype\": \"Chart\", \"type\": \"Plot\"}}, \"type\": \"Grid\"}, {\"id\": \"bb53e674-d8a7-411a-91d8-674add2b2872\", \"attributes\": {\"tags\": [], \"id\": \"bb53e674-d8a7-411a-91d8-674add2b2872\", \"doc\": null, \"plot\": {\"id\": \"8ef91903-73dc-481b-90fa-60e6d7d7c09d\", \"subtype\": \"Chart\", \"type\": \"Plot\"}}, \"type\": \"ResetTool\"}, {\"id\": \"c13458d9-9637-4267-a14b-3f54f63a0819\", \"attributes\": {\"tags\": [], \"id\": \"c13458d9-9637-4267-a14b-3f54f63a0819\", \"doc\": null}, \"type\": \"BasicTickFormatter\"}, {\"id\": \"e08cfab8-584e-446b-bd26-dda9eb087799\", \"attributes\": {\"tags\": [], \"id\": \"e08cfab8-584e-446b-bd26-dda9eb087799\", \"doc\": null}, \"type\": \"BasicTickFormatter\"}, {\"id\": \"293ea926-ca14-45ee-b4d4-43148e381656\", \"attributes\": {\"tags\": [], \"id\": \"293ea926-ca14-45ee-b4d4-43148e381656\", \"doc\": null, \"start\": 0.7, \"end\": 4.3}, \"type\": \"Range1d\"}, {\"id\": \"73a3eddf-e997-46f6-a76c-0eaf05db064a\", \"attributes\": {\"tags\": [], \"id\": \"73a3eddf-e997-46f6-a76c-0eaf05db064a\", \"doc\": null, \"mantissas\": [2, 5, 10]}, \"type\": \"BasicTicker\"}, {\"id\": \"8ef91903-73dc-481b-90fa-60e6d7d7c09d\", \"attributes\": {\"tags\": [], \"renderers\": [{\"id\": \"867fc1f6-3e91-442f-ae7d-c8d12a5a5e0d\", \"type\": \"LinearAxis\"}, {\"id\": \"e3ea85ac-3a4c-47db-b460-0f61f5e44ea9\", \"type\": \"LinearAxis\"}, {\"id\": \"9d0979b9-0c35-4426-9569-850f674284f5\", \"type\": \"Grid\"}, {\"id\": \"20519392-e0e8-448c-b282-6e948ebd7585\", \"type\": \"Grid\"}, {\"id\": \"b60ff5a0-4e34-458b-bf90-902d89fb67f9\", \"type\": \"GlyphRenderer\"}], \"title\": null, \"plot_height\": 100, \"below\": [{\"id\": \"867fc1f6-3e91-442f-ae7d-c8d12a5a5e0d\", \"type\": \"LinearAxis\"}], \"y_range\": {\"id\": \"293ea926-ca14-45ee-b4d4-43148e381656\", \"type\": \"Range1d\"}, \"doc\": null, \"extra_x_ranges\": {}, \"right\": [], \"above\": [], \"tool_events\": {\"id\": \"5bcc2772-1e9a-4bfa-ad22-20dee35865ff\", \"type\": \"ToolEvents\"}, \"plot_width\": 200, \"tools\": [{\"id\": \"a94a425f-16dd-4ac3-a7b0-07aba0b9f087\", \"type\": \"PanTool\"}, {\"id\": \"2979c163-9928-4fd0-acd6-d69a406d2b88\", \"type\": \"WheelZoomTool\"}, {\"id\": \"43399125-dd9b-41fd-b9c2-8b86dc5377aa\", \"type\": \"BoxZoomTool\"}, {\"id\": \"8384a0f8-4ea8-4948-89bf-a463af1e8ce3\", \"type\": \"PreviewSaveTool\"}, {\"id\": \"c0fb91eb-fa6e-4f79-8527-4be2dd838ee0\", \"type\": \"ResizeTool\"}, {\"id\": \"bb53e674-d8a7-411a-91d8-674add2b2872\", \"type\": \"ResetTool\"}, {\"id\": \"31abe294-8c4a-4fa6-8f7a-4e6702beab8b\", \"type\": \"HelpTool\"}], \"id\": \"8ef91903-73dc-481b-90fa-60e6d7d7c09d\", \"left\": [{\"id\": \"e3ea85ac-3a4c-47db-b460-0f61f5e44ea9\", \"type\": \"LinearAxis\"}], \"extra_y_ranges\": {}, \"x_range\": {\"id\": \"a3f13fcf-0598-482f-9186-afffc919d4aa\", \"type\": \"DataRange1d\"}}, \"subtype\": \"Chart\", \"type\": \"Plot\"}, {\"id\": \"a223c3e8-797e-40c5-9f60-760d512dbc93\", \"attributes\": {\"tags\": [], \"id\": \"a223c3e8-797e-40c5-9f60-760d512dbc93\", \"doc\": null, \"mantissas\": [2, 5, 10]}, \"type\": \"BasicTicker\"}, {\"id\": \"31abe294-8c4a-4fa6-8f7a-4e6702beab8b\", \"attributes\": {\"tags\": [], \"id\": \"31abe294-8c4a-4fa6-8f7a-4e6702beab8b\", \"doc\": null, \"plot\": {\"id\": \"8ef91903-73dc-481b-90fa-60e6d7d7c09d\", \"subtype\": \"Chart\", \"type\": \"Plot\"}}, \"type\": \"HelpTool\"}, {\"id\": \"a3f13fcf-0598-482f-9186-afffc919d4aa\", \"attributes\": {\"tags\": [], \"renderers\": [], \"doc\": null, \"id\": \"a3f13fcf-0598-482f-9186-afffc919d4aa\", \"names\": []}, \"type\": \"DataRange1d\"}, {\"id\": \"c0fb91eb-fa6e-4f79-8527-4be2dd838ee0\", \"attributes\": {\"tags\": [], \"id\": \"c0fb91eb-fa6e-4f79-8527-4be2dd838ee0\", \"doc\": null, \"plot\": {\"id\": \"8ef91903-73dc-481b-90fa-60e6d7d7c09d\", \"subtype\": \"Chart\", \"type\": \"Plot\"}}, \"type\": \"ResizeTool\"}, {\"id\": \"e3ea85ac-3a4c-47db-b460-0f61f5e44ea9\", \"attributes\": {\"ticker\": {\"id\": \"73a3eddf-e997-46f6-a76c-0eaf05db064a\", \"type\": \"BasicTicker\"}, \"tags\": [], \"doc\": null, \"axis_label\": null, \"id\": \"e3ea85ac-3a4c-47db-b460-0f61f5e44ea9\", \"formatter\": {\"id\": \"c13458d9-9637-4267-a14b-3f54f63a0819\", \"type\": \"BasicTickFormatter\"}, \"plot\": {\"id\": \"8ef91903-73dc-481b-90fa-60e6d7d7c09d\", \"subtype\": \"Chart\", \"type\": \"Plot\"}}, \"type\": \"LinearAxis\"}, {\"id\": \"b60ff5a0-4e34-458b-bf90-902d89fb67f9\", \"attributes\": {\"tags\": [], \"id\": \"b60ff5a0-4e34-458b-bf90-902d89fb67f9\", \"glyph\": {\"id\": \"9156b02e-0dd9-485e-b8b6-1926940f1ff6\", \"type\": \"Line\"}, \"nonselection_glyph\": null, \"selection_glyph\": null, \"data_source\": {\"id\": \"5fd4ec7e-6a5a-4f9e-bb52-4acf0c62b1b0\", \"type\": \"ColumnDataSource\"}, \"doc\": null}, \"type\": \"GlyphRenderer\"}, {\"id\": \"5bcc2772-1e9a-4bfa-ad22-20dee35865ff\", \"attributes\": {\"tags\": [], \"id\": \"5bcc2772-1e9a-4bfa-ad22-20dee35865ff\", \"doc\": null, \"geometries\": []}, \"type\": \"ToolEvents\"}, {\"id\": \"8384a0f8-4ea8-4948-89bf-a463af1e8ce3\", \"attributes\": {\"tags\": [], \"id\": \"8384a0f8-4ea8-4948-89bf-a463af1e8ce3\", \"doc\": null, \"plot\": {\"id\": \"8ef91903-73dc-481b-90fa-60e6d7d7c09d\", \"subtype\": \"Chart\", \"type\": \"Plot\"}}, \"type\": \"PreviewSaveTool\"}, {\"id\": \"5fd4ec7e-6a5a-4f9e-bb52-4acf0c62b1b0\", \"attributes\": {\"tags\": [], \"column_names\": [\"y_0\", \"x\"], \"doc\": null, \"id\": \"5fd4ec7e-6a5a-4f9e-bb52-4acf0c62b1b0\", \"data\": {\"y_0\": [1, 2, 3, 4], \"x\": [1990, 1991, 1993, 1994]}, \"selected\": {\"1d\": {\"indices\": []}, \"2d\": {\"indices\": []}, \"0d\": {\"flag\": false, \"indices\": []}}, \"callback\": null}, \"type\": \"ColumnDataSource\"}];\n",
       "            Bokeh.load_models(all_models);\n",
       "            var model = Bokeh.Collections(modeltype).get(modelid);\n",
       "            var view = new model.default_view({model: model, el: '#9798ec7f-16fe-470a-a23d-9bb0863ec9ab'});\n",
       "            Bokeh.index[modelid] = view\n",
       "        });\n",
       "    </script>\n",
       "<div class=\"plotdiv\" id=\"9798ec7f-16fe-470a-a23d-9bb0863ec9ab\"></div>\n",
       "\n"
      ]
     },
     "metadata": {},
     "output_type": "display_data"
    },
    {
     "name": "stdout",
     "output_type": "stream",
     "text": [
      "8ef91903-73dc-481b-90fa-60e6d7d7c09d\n"
     ]
    }
   ],
   "source": [
    "responsive = Line(index=[1990, 1991, 1993, 1994], values=[1, 2, 3, 4], height=100, width=200)\n",
    "show(responsive)\n",
    "print(responsive.ref['id'])"
   ]
  },
  {
   "cell_type": "markdown",
   "metadata": {},
   "source": [
    "After running the cell below, you will be able to resize the browser window and see the plot scale to fit it."
   ]
  },
  {
   "cell_type": "code",
   "execution_count": 9,
   "metadata": {
    "collapsed": false
   },
   "outputs": [
    {
     "data": {
      "text/html": [
       "\n",
       "<script> \n",
       "    function resize_plot() {\n",
       "        var containingDivWidth = Bokeh.$('.output_subarea').last().width(),\n",
       "            plot = Bokeh.index[\"8ef91903-73dc-481b-90fa-60e6d7d7c09d\"].model,\n",
       "            curWidth = plot.get('plot_width'),\n",
       "            curHeight = plot.get('plot_height');\n",
       "        aspectRatio = curWidth / curHeight;\n",
       "        plotWidth = Math.max(containingDivWidth, 300); // This prevents the chart from getting too small.\n",
       "        plotHeight = parseInt(plotWidth / aspectRatio);\n",
       "        plot.set('plot_width', plotWidth);\n",
       "        plot.set('plot_height', plotHeight);\n",
       "    }\n",
       "    Bokeh.$(window).resize(resize_plot);\n",
       "    //resize_plot();\n",
       "</script>\n"
      ],
      "text/plain": [
       "<IPython.core.display.HTML object>"
      ]
     },
     "execution_count": 9,
     "metadata": {},
     "output_type": "execute_result"
    }
   ],
   "source": [
    "HTML(\"\"\"\n",
    "<script> \n",
    "    function resize_plot() {\n",
    "        var containingDivWidth = Bokeh.$('.output_subarea').last().width(),\n",
    "            plot = Bokeh.index[\"%s\"].model,\n",
    "            curWidth = plot.get('plot_width'),\n",
    "            curHeight = plot.get('plot_height');\n",
    "        aspectRatio = curWidth / curHeight;\n",
    "        plotWidth = Math.max(containingDivWidth, 300); // This prevents the chart from getting too small.\n",
    "        plotHeight = parseInt(plotWidth / aspectRatio);\n",
    "        plot.set('plot_width', plotWidth);\n",
    "        plot.set('plot_height', plotHeight);\n",
    "    }\n",
    "    Bokeh.$(window).resize(resize_plot);\n",
    "    resize_plot();\n",
    "</script>\n",
    "\"\"\" % (responsive.ref['id']))"
   ]
  },
  {
   "cell_type": "markdown",
   "metadata": {
    "collapsed": true
   },
   "source": [
    "Note, in your useage, you will probably have a different way of getting the \"containingDivWidth.\" You just need a way to get the width of the div that the plot is living in. In an ipython notebook, it always lives in an output_subarea, so we can just use that."
   ]
  },
  {
   "cell_type": "code",
   "execution_count": 10,
   "metadata": {
    "collapsed": false
   },
   "outputs": [
    {
     "data": {
      "text/html": [
       "<script>Bokeh.$(window).ready(resize_plot);</script>"
      ],
      "text/plain": [
       "<IPython.core.display.HTML object>"
      ]
     },
     "execution_count": 10,
     "metadata": {},
     "output_type": "execute_result"
    }
   ],
   "source": [
    "# A little kicker to get nbviewer to run resize_plot \n",
    "HTML(\"<script>Bokeh.$(window).ready(resize_plot);</script>\")"
   ]
  }
 ],
 "metadata": {
  "kernelspec": {
   "display_name": "Python 3",
   "language": "python",
   "name": "python3"
  },
  "language_info": {
   "codemirror_mode": {
    "name": "ipython",
    "version": 3
   },
   "file_extension": ".py",
   "mimetype": "text/x-python",
   "name": "python",
   "nbconvert_exporter": "python",
   "pygments_lexer": "ipython3",
   "version": "3.4.3"
  }
 },
 "nbformat": 4,
 "nbformat_minor": 0
}

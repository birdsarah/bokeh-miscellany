{
 "cells": [
  {
   "cell_type": "code",
   "execution_count": 1,
   "metadata": {
    "collapsed": false
   },
   "outputs": [],
   "source": [
    "from IPython.display import HTML\n",
    "from bokeh.charts import Line\n",
    "from bokeh.plotting import output_notebook, show, figure\n",
    "from bokeh.resources import CDN"
   ]
  },
  {
   "cell_type": "code",
   "execution_count": 2,
   "metadata": {
    "collapsed": false
   },
   "outputs": [
    {
     "data": {
      "text/html": [
       "    \n",
       "        <link rel=\"stylesheet\" href=\"http://cdn.pydata.org/bokeh/dev/bokeh-0.9.1dev.65161924.min.css\" type=\"text/css\" />\n",
       "        <script type=\"text/javascript\" src=\"http://cdn.pydata.org/bokeh/dev/bokeh-0.9.1dev.65161924.min.js\"></script>\n",
       "        <script type=\"text/javascript\">\n",
       "            Bokeh.set_log_level(\"info\");\n",
       "        </script>\n",
       "    <div>\n",
       "        <a href=\"http://bokeh.pydata.org\" target=\"_blank\" class=\"bk-logo bk-logo-small bk-logo-notebook\"></a>\n",
       "        <span>BokehJS successfully loaded.</span>\n",
       "    </div>"
      ]
     },
     "metadata": {},
     "output_type": "display_data"
    }
   ],
   "source": [
    "output_notebook(resources=CDN)"
   ]
  },
  {
   "cell_type": "markdown",
   "metadata": {},
   "source": [
    "# Demo of resizing\n",
    "\n",
    "Run the cells one at a time. Initially you'll see a squashed up chart. The next cell will let you programatically set it's height.\n",
    "\n",
    "NOTE: This does not work on vplot, hplot, or grid plot. Currently you can only resize individual plots."
   ]
  },
  {
   "cell_type": "markdown",
   "metadata": {},
   "source": [
    "## Set height of 'chart'"
   ]
  },
  {
   "cell_type": "code",
   "execution_count": 3,
   "metadata": {
    "collapsed": false
   },
   "outputs": [
    {
     "data": {
      "text/html": [
       "<script type=\"text/javascript\">\n",
       "        Bokeh.$(function() {\n",
       "            var modelid = \"dc8f88bb-9ef7-4ca8-bb9a-9e5788b9a62c\";\n",
       "            var modeltype = \"Plot\";\n",
       "            var elementid = \"8c19d334-7736-402e-b5c4-1a82da16b601\";\n",
       "            Bokeh.logger.info(\"Realizing plot:\")\n",
       "            Bokeh.logger.info(\" - modeltype: Plot\");\n",
       "            Bokeh.logger.info(\" - modelid: dc8f88bb-9ef7-4ca8-bb9a-9e5788b9a62c\");\n",
       "            Bokeh.logger.info(\" - elementid: 8c19d334-7736-402e-b5c4-1a82da16b601\");\n",
       "            var all_models = [{\"id\": \"48d8243e-91eb-4a69-a818-a3f9853761c6\", \"attributes\": {\"column_names\": [\"x\", \"y_0\"], \"data\": {\"x\": [1990, 1991, 1993, 1994], \"y_0\": [1, 2, 3, 4]}, \"selected\": {\"0d\": {\"flag\": false, \"indices\": []}, \"1d\": {\"indices\": []}, \"2d\": {\"indices\": []}}, \"id\": \"48d8243e-91eb-4a69-a818-a3f9853761c6\", \"tags\": [], \"callback\": null, \"doc\": null}, \"type\": \"ColumnDataSource\"}, {\"id\": \"92b59785-1693-4704-817c-6ef1f7b73832\", \"attributes\": {\"axis_label\": null, \"doc\": null, \"formatter\": {\"id\": \"cae6290a-9fb8-4985-a0ca-955dcc61697f\", \"type\": \"BasicTickFormatter\"}, \"ticker\": {\"id\": \"62de0079-de55-40cd-b5d5-afb39df1f2d4\", \"type\": \"BasicTicker\"}, \"plot\": {\"id\": \"dc8f88bb-9ef7-4ca8-bb9a-9e5788b9a62c\", \"type\": \"Plot\", \"subtype\": \"Chart\"}, \"id\": \"92b59785-1693-4704-817c-6ef1f7b73832\", \"tags\": []}, \"type\": \"LinearAxis\"}, {\"id\": \"62de0079-de55-40cd-b5d5-afb39df1f2d4\", \"attributes\": {\"mantissas\": [2, 5, 10], \"id\": \"62de0079-de55-40cd-b5d5-afb39df1f2d4\", \"tags\": [], \"doc\": null}, \"type\": \"BasicTicker\"}, {\"id\": \"dc8f88bb-9ef7-4ca8-bb9a-9e5788b9a62c\", \"attributes\": {\"doc\": null, \"tool_events\": {\"id\": \"f865d3a4-ad36-4eff-bd54-3c3bdd2dc64c\", \"type\": \"ToolEvents\"}, \"right\": [], \"y_range\": {\"id\": \"ea53dcd1-8939-4a02-b41f-225d0dfa6094\", \"type\": \"Range1d\"}, \"plot_height\": 100, \"below\": [{\"id\": \"a1c58108-7e82-4b14-aa46-71c115b01f98\", \"type\": \"LinearAxis\"}], \"left\": [{\"id\": \"92b59785-1693-4704-817c-6ef1f7b73832\", \"type\": \"LinearAxis\"}], \"extra_x_ranges\": {}, \"plot_width\": 600, \"x_range\": {\"id\": \"96034046-5985-49a4-afc5-68c12f51984b\", \"type\": \"DataRange1d\"}, \"title\": null, \"renderers\": [{\"id\": \"a1c58108-7e82-4b14-aa46-71c115b01f98\", \"type\": \"LinearAxis\"}, {\"id\": \"92b59785-1693-4704-817c-6ef1f7b73832\", \"type\": \"LinearAxis\"}, {\"id\": \"4ae0cb33-09b0-40cd-bcbe-6b4e79551ea1\", \"type\": \"Grid\"}, {\"id\": \"2319ae03-ffeb-4bc2-be95-f466b4813a7a\", \"type\": \"Grid\"}, {\"id\": \"084849ff-251b-40ee-8a22-f1e52de2c536\", \"type\": \"GlyphRenderer\"}], \"above\": [], \"id\": \"dc8f88bb-9ef7-4ca8-bb9a-9e5788b9a62c\", \"tools\": [{\"id\": \"7b1bd28e-6c1f-475a-845a-5aa8d7db4a7a\", \"type\": \"PanTool\"}, {\"id\": \"22626d61-54fb-42c1-8166-f774ccd65814\", \"type\": \"WheelZoomTool\"}, {\"id\": \"4b086501-65e6-4b0f-b690-cdeaaeda3f86\", \"type\": \"BoxZoomTool\"}, {\"id\": \"17e89dc4-35cf-42f9-93b0-0cf209b9b509\", \"type\": \"PreviewSaveTool\"}, {\"id\": \"b2767eef-b09c-4766-a7f7-cc139f01c26d\", \"type\": \"ResizeTool\"}, {\"id\": \"f0c0a3e3-45e3-48c9-ac20-c02b55e7fba4\", \"type\": \"ResetTool\"}, {\"id\": \"b77f2c0d-3fd0-4e9d-a386-b7a6ba46312f\", \"type\": \"HelpTool\"}], \"tags\": [], \"extra_y_ranges\": {}}, \"type\": \"Plot\", \"subtype\": \"Chart\"}, {\"id\": \"ea53dcd1-8939-4a02-b41f-225d0dfa6094\", \"attributes\": {\"start\": 0.7, \"doc\": null, \"end\": 4.3, \"tags\": [], \"id\": \"ea53dcd1-8939-4a02-b41f-225d0dfa6094\"}, \"type\": \"Range1d\"}, {\"id\": \"b2767eef-b09c-4766-a7f7-cc139f01c26d\", \"attributes\": {\"doc\": null, \"id\": \"b2767eef-b09c-4766-a7f7-cc139f01c26d\", \"plot\": {\"id\": \"dc8f88bb-9ef7-4ca8-bb9a-9e5788b9a62c\", \"type\": \"Plot\", \"subtype\": \"Chart\"}, \"tags\": []}, \"type\": \"ResizeTool\"}, {\"id\": \"4ae0cb33-09b0-40cd-bcbe-6b4e79551ea1\", \"attributes\": {\"doc\": null, \"id\": \"4ae0cb33-09b0-40cd-bcbe-6b4e79551ea1\", \"ticker\": {\"id\": \"d6750c53-c0e4-4d7b-a85d-9f9f125abbd4\", \"type\": \"BasicTicker\"}, \"plot\": {\"id\": \"dc8f88bb-9ef7-4ca8-bb9a-9e5788b9a62c\", \"type\": \"Plot\", \"subtype\": \"Chart\"}, \"tags\": [], \"dimension\": 0}, \"type\": \"Grid\"}, {\"id\": \"17e89dc4-35cf-42f9-93b0-0cf209b9b509\", \"attributes\": {\"doc\": null, \"id\": \"17e89dc4-35cf-42f9-93b0-0cf209b9b509\", \"plot\": {\"id\": \"dc8f88bb-9ef7-4ca8-bb9a-9e5788b9a62c\", \"type\": \"Plot\", \"subtype\": \"Chart\"}, \"tags\": []}, \"type\": \"PreviewSaveTool\"}, {\"id\": \"22626d61-54fb-42c1-8166-f774ccd65814\", \"attributes\": {\"doc\": null, \"dimensions\": [\"width\", \"height\"], \"id\": \"22626d61-54fb-42c1-8166-f774ccd65814\", \"plot\": {\"id\": \"dc8f88bb-9ef7-4ca8-bb9a-9e5788b9a62c\", \"type\": \"Plot\", \"subtype\": \"Chart\"}, \"tags\": []}, \"type\": \"WheelZoomTool\"}, {\"id\": \"084849ff-251b-40ee-8a22-f1e52de2c536\", \"attributes\": {\"id\": \"084849ff-251b-40ee-8a22-f1e52de2c536\", \"doc\": null, \"selection_glyph\": null, \"glyph\": {\"id\": \"47020f06-9f73-4402-8f74-2e67f66f6fb4\", \"type\": \"Line\"}, \"tags\": [], \"data_source\": {\"id\": \"48d8243e-91eb-4a69-a818-a3f9853761c6\", \"type\": \"ColumnDataSource\"}, \"nonselection_glyph\": null}, \"type\": \"GlyphRenderer\"}, {\"id\": \"101c8715-147e-49d6-9776-fbba1d029b81\", \"attributes\": {\"id\": \"101c8715-147e-49d6-9776-fbba1d029b81\", \"tags\": [], \"doc\": null}, \"type\": \"BasicTickFormatter\"}, {\"id\": \"f865d3a4-ad36-4eff-bd54-3c3bdd2dc64c\", \"attributes\": {\"doc\": null, \"id\": \"f865d3a4-ad36-4eff-bd54-3c3bdd2dc64c\", \"tags\": [], \"geometries\": []}, \"type\": \"ToolEvents\"}, {\"id\": \"4b086501-65e6-4b0f-b690-cdeaaeda3f86\", \"attributes\": {\"doc\": null, \"dimensions\": [\"width\", \"height\"], \"id\": \"4b086501-65e6-4b0f-b690-cdeaaeda3f86\", \"plot\": {\"id\": \"dc8f88bb-9ef7-4ca8-bb9a-9e5788b9a62c\", \"type\": \"Plot\", \"subtype\": \"Chart\"}, \"tags\": []}, \"type\": \"BoxZoomTool\"}, {\"id\": \"7b1bd28e-6c1f-475a-845a-5aa8d7db4a7a\", \"attributes\": {\"doc\": null, \"dimensions\": [\"width\", \"height\"], \"id\": \"7b1bd28e-6c1f-475a-845a-5aa8d7db4a7a\", \"plot\": {\"id\": \"dc8f88bb-9ef7-4ca8-bb9a-9e5788b9a62c\", \"type\": \"Plot\", \"subtype\": \"Chart\"}, \"tags\": []}, \"type\": \"PanTool\"}, {\"id\": \"b77f2c0d-3fd0-4e9d-a386-b7a6ba46312f\", \"attributes\": {\"doc\": null, \"id\": \"b77f2c0d-3fd0-4e9d-a386-b7a6ba46312f\", \"plot\": {\"id\": \"dc8f88bb-9ef7-4ca8-bb9a-9e5788b9a62c\", \"type\": \"Plot\", \"subtype\": \"Chart\"}, \"tags\": []}, \"type\": \"HelpTool\"}, {\"id\": \"f0c0a3e3-45e3-48c9-ac20-c02b55e7fba4\", \"attributes\": {\"doc\": null, \"id\": \"f0c0a3e3-45e3-48c9-ac20-c02b55e7fba4\", \"plot\": {\"id\": \"dc8f88bb-9ef7-4ca8-bb9a-9e5788b9a62c\", \"type\": \"Plot\", \"subtype\": \"Chart\"}, \"tags\": []}, \"type\": \"ResetTool\"}, {\"id\": \"2319ae03-ffeb-4bc2-be95-f466b4813a7a\", \"attributes\": {\"doc\": null, \"id\": \"2319ae03-ffeb-4bc2-be95-f466b4813a7a\", \"ticker\": {\"id\": \"62de0079-de55-40cd-b5d5-afb39df1f2d4\", \"type\": \"BasicTicker\"}, \"plot\": {\"id\": \"dc8f88bb-9ef7-4ca8-bb9a-9e5788b9a62c\", \"type\": \"Plot\", \"subtype\": \"Chart\"}, \"tags\": [], \"dimension\": 1}, \"type\": \"Grid\"}, {\"id\": \"a1c58108-7e82-4b14-aa46-71c115b01f98\", \"attributes\": {\"axis_label\": null, \"doc\": null, \"formatter\": {\"id\": \"101c8715-147e-49d6-9776-fbba1d029b81\", \"type\": \"BasicTickFormatter\"}, \"ticker\": {\"id\": \"d6750c53-c0e4-4d7b-a85d-9f9f125abbd4\", \"type\": \"BasicTicker\"}, \"plot\": {\"id\": \"dc8f88bb-9ef7-4ca8-bb9a-9e5788b9a62c\", \"type\": \"Plot\", \"subtype\": \"Chart\"}, \"id\": \"a1c58108-7e82-4b14-aa46-71c115b01f98\", \"tags\": []}, \"type\": \"LinearAxis\"}, {\"id\": \"47020f06-9f73-4402-8f74-2e67f66f6fb4\", \"attributes\": {\"x\": {\"field\": \"x\"}, \"doc\": null, \"id\": \"47020f06-9f73-4402-8f74-2e67f66f6fb4\", \"tags\": [], \"y\": {\"field\": \"y_0\"}, \"line_color\": {\"value\": \"#f22c40\"}}, \"type\": \"Line\"}, {\"id\": \"d6750c53-c0e4-4d7b-a85d-9f9f125abbd4\", \"attributes\": {\"mantissas\": [2, 5, 10], \"id\": \"d6750c53-c0e4-4d7b-a85d-9f9f125abbd4\", \"tags\": [], \"doc\": null}, \"type\": \"BasicTicker\"}, {\"id\": \"96034046-5985-49a4-afc5-68c12f51984b\", \"attributes\": {\"id\": \"96034046-5985-49a4-afc5-68c12f51984b\", \"doc\": null, \"renderers\": [], \"names\": [], \"tags\": []}, \"type\": \"DataRange1d\"}, {\"id\": \"cae6290a-9fb8-4985-a0ca-955dcc61697f\", \"attributes\": {\"id\": \"cae6290a-9fb8-4985-a0ca-955dcc61697f\", \"tags\": [], \"doc\": null}, \"type\": \"BasicTickFormatter\"}];\n",
       "            Bokeh.load_models(all_models);\n",
       "            var model = Bokeh.Collections(modeltype).get(modelid);\n",
       "            var view = new model.default_view({model: model, el: '#8c19d334-7736-402e-b5c4-1a82da16b601'});\n",
       "            Bokeh.index[modelid] = view\n",
       "        });\n",
       "    </script>\n",
       "<div class=\"plotdiv\" id=\"8c19d334-7736-402e-b5c4-1a82da16b601\"></div>\n",
       "\n"
      ]
     },
     "metadata": {},
     "output_type": "display_data"
    },
    {
     "name": "stdout",
     "output_type": "stream",
     "text": [
      "dc8f88bb-9ef7-4ca8-bb9a-9e5788b9a62c\n"
     ]
    }
   ],
   "source": [
    "line = Line(index=[1990, 1991, 1993, 1994], values=[1, 2, 3, 4], height=100)\n",
    "show(line)\n",
    "print(line.ref['id'])"
   ]
  },
  {
   "cell_type": "code",
   "execution_count": 4,
   "metadata": {
    "collapsed": false
   },
   "outputs": [
    {
     "data": {
      "text/html": [
       "<script>Bokeh.index['dc8f88bb-9ef7-4ca8-bb9a-9e5788b9a62c'].model.set('plot_height', 300);</script>"
      ],
      "text/plain": [
       "<IPython.core.display.HTML object>"
      ]
     },
     "execution_count": 4,
     "metadata": {},
     "output_type": "execute_result"
    }
   ],
   "source": [
    "plot_height = 300\n",
    "HTML(\"<script>Bokeh.index['%s'].model.set('plot_height', %d);</script>\" % (line.ref['id'], plot_height))"
   ]
  },
  {
   "cell_type": "markdown",
   "metadata": {},
   "source": [
    "## Set height of 'figure'"
   ]
  },
  {
   "cell_type": "code",
   "execution_count": 5,
   "metadata": {
    "collapsed": false
   },
   "outputs": [
    {
     "data": {
      "text/html": [
       "<script type=\"text/javascript\">\n",
       "        Bokeh.$(function() {\n",
       "            var modelid = \"eeb197e0-3b77-48d6-aac2-410e35a5785f\";\n",
       "            var modeltype = \"Plot\";\n",
       "            var elementid = \"664fe576-62d1-4fc5-8f0c-83ce0f44f05f\";\n",
       "            Bokeh.logger.info(\"Realizing plot:\")\n",
       "            Bokeh.logger.info(\" - modeltype: Plot\");\n",
       "            Bokeh.logger.info(\" - modelid: eeb197e0-3b77-48d6-aac2-410e35a5785f\");\n",
       "            Bokeh.logger.info(\" - elementid: 664fe576-62d1-4fc5-8f0c-83ce0f44f05f\");\n",
       "            var all_models = [{\"id\": \"b1151810-3259-4dc8-adb8-8466d600d8df\", \"attributes\": {\"doc\": null, \"dimensions\": [\"width\", \"height\"], \"id\": \"b1151810-3259-4dc8-adb8-8466d600d8df\", \"plot\": {\"id\": \"eeb197e0-3b77-48d6-aac2-410e35a5785f\", \"type\": \"Plot\", \"subtype\": \"Figure\"}, \"tags\": []}, \"type\": \"PanTool\"}, {\"id\": \"ea38b1f9-5019-468b-ab1f-9a8e610f379f\", \"attributes\": {\"doc\": null, \"id\": \"ea38b1f9-5019-468b-ab1f-9a8e610f379f\", \"plot\": {\"id\": \"eeb197e0-3b77-48d6-aac2-410e35a5785f\", \"type\": \"Plot\", \"subtype\": \"Figure\"}, \"tags\": []}, \"type\": \"HelpTool\"}, {\"id\": \"f3114ec9-c6d6-4624-a735-4debfe4b8e40\", \"attributes\": {\"name\": null, \"doc\": null, \"selection_glyph\": null, \"glyph\": {\"id\": \"6595d510-1eac-40cb-b103-a849f29a546d\", \"type\": \"Line\"}, \"tags\": [], \"id\": \"f3114ec9-c6d6-4624-a735-4debfe4b8e40\", \"data_source\": {\"id\": \"a0c52283-6877-4a0f-a646-51dc491b4921\", \"type\": \"ColumnDataSource\"}, \"nonselection_glyph\": {\"id\": \"150d4357-edc9-484b-845a-213bd8ce8a44\", \"type\": \"Line\"}}, \"type\": \"GlyphRenderer\"}, {\"id\": \"1dfabefb-a357-4c4d-af89-0722b1d8be56\", \"attributes\": {\"doc\": null, \"id\": \"1dfabefb-a357-4c4d-af89-0722b1d8be56\", \"plot\": {\"id\": \"eeb197e0-3b77-48d6-aac2-410e35a5785f\", \"type\": \"Plot\", \"subtype\": \"Figure\"}, \"tags\": []}, \"type\": \"ResetTool\"}, {\"id\": \"88899b7a-6ccb-4030-aa84-0f52d7bb45dd\", \"attributes\": {\"id\": \"88899b7a-6ccb-4030-aa84-0f52d7bb45dd\", \"doc\": null, \"renderers\": [], \"names\": [], \"tags\": []}, \"type\": \"DataRange1d\"}, {\"id\": \"eeb197e0-3b77-48d6-aac2-410e35a5785f\", \"attributes\": {\"doc\": null, \"tool_events\": {\"id\": \"97c53974-5db3-4d32-8ba3-44cc8b7f6df6\", \"type\": \"ToolEvents\"}, \"extra_y_ranges\": {}, \"y_range\": {\"id\": \"64ca1046-6b15-444b-b4a1-410208b7e00c\", \"type\": \"DataRange1d\"}, \"plot_height\": 100, \"below\": [{\"id\": \"8db1fb47-07b7-4619-9b04-ca5ec44af96a\", \"type\": \"LinearAxis\"}], \"tags\": [], \"extra_x_ranges\": {}, \"x_range\": {\"id\": \"88899b7a-6ccb-4030-aa84-0f52d7bb45dd\", \"type\": \"DataRange1d\"}, \"renderers\": [{\"id\": \"8db1fb47-07b7-4619-9b04-ca5ec44af96a\", \"type\": \"LinearAxis\"}, {\"id\": \"30359f87-1936-4b85-be6c-392a362c8358\", \"type\": \"Grid\"}, {\"id\": \"ff0ca423-374f-41db-8266-37615b31d165\", \"type\": \"LinearAxis\"}, {\"id\": \"5e8c51c7-aa5a-4a37-ae5c-0d8ac39c2856\", \"type\": \"Grid\"}, {\"id\": \"f3114ec9-c6d6-4624-a735-4debfe4b8e40\", \"type\": \"GlyphRenderer\"}], \"above\": [], \"id\": \"eeb197e0-3b77-48d6-aac2-410e35a5785f\", \"tools\": [{\"id\": \"b1151810-3259-4dc8-adb8-8466d600d8df\", \"type\": \"PanTool\"}, {\"id\": \"c1169b9f-b90f-46a5-9b87-d9ee49f4c3af\", \"type\": \"WheelZoomTool\"}, {\"id\": \"769c5aed-bde7-4785-a64b-459eac973a3e\", \"type\": \"BoxZoomTool\"}, {\"id\": \"3103b240-431f-4948-b855-11bc533bbe45\", \"type\": \"PreviewSaveTool\"}, {\"id\": \"859b7d93-84dd-4e71-a991-ec5f6f837e41\", \"type\": \"ResizeTool\"}, {\"id\": \"1dfabefb-a357-4c4d-af89-0722b1d8be56\", \"type\": \"ResetTool\"}, {\"id\": \"ea38b1f9-5019-468b-ab1f-9a8e610f379f\", \"type\": \"HelpTool\"}], \"left\": [{\"id\": \"ff0ca423-374f-41db-8266-37615b31d165\", \"type\": \"LinearAxis\"}], \"right\": []}, \"type\": \"Plot\", \"subtype\": \"Figure\"}, {\"id\": \"97c53974-5db3-4d32-8ba3-44cc8b7f6df6\", \"attributes\": {\"doc\": null, \"id\": \"97c53974-5db3-4d32-8ba3-44cc8b7f6df6\", \"tags\": [], \"geometries\": []}, \"type\": \"ToolEvents\"}, {\"id\": \"e0e9b8ea-b7cb-465c-83bf-6a9489b70fba\", \"attributes\": {\"mantissas\": [2, 5, 10], \"id\": \"e0e9b8ea-b7cb-465c-83bf-6a9489b70fba\", \"num_minor_ticks\": 5, \"tags\": [], \"doc\": null}, \"type\": \"BasicTicker\"}, {\"id\": \"64ca1046-6b15-444b-b4a1-410208b7e00c\", \"attributes\": {\"id\": \"64ca1046-6b15-444b-b4a1-410208b7e00c\", \"doc\": null, \"renderers\": [], \"names\": [], \"tags\": []}, \"type\": \"DataRange1d\"}, {\"id\": \"8db1fb47-07b7-4619-9b04-ca5ec44af96a\", \"attributes\": {\"id\": \"8db1fb47-07b7-4619-9b04-ca5ec44af96a\", \"doc\": null, \"formatter\": {\"id\": \"0399f37b-0c4a-4b6f-a2ff-a853fb5009c0\", \"type\": \"BasicTickFormatter\"}, \"ticker\": {\"id\": \"e0e9b8ea-b7cb-465c-83bf-6a9489b70fba\", \"type\": \"BasicTicker\"}, \"plot\": {\"id\": \"eeb197e0-3b77-48d6-aac2-410e35a5785f\", \"type\": \"Plot\", \"subtype\": \"Figure\"}, \"tags\": []}, \"type\": \"LinearAxis\"}, {\"id\": \"30359f87-1936-4b85-be6c-392a362c8358\", \"attributes\": {\"doc\": null, \"id\": \"30359f87-1936-4b85-be6c-392a362c8358\", \"ticker\": {\"id\": \"e0e9b8ea-b7cb-465c-83bf-6a9489b70fba\", \"type\": \"BasicTicker\"}, \"plot\": {\"id\": \"eeb197e0-3b77-48d6-aac2-410e35a5785f\", \"type\": \"Plot\", \"subtype\": \"Figure\"}, \"tags\": [], \"dimension\": 0}, \"type\": \"Grid\"}, {\"id\": \"0399f37b-0c4a-4b6f-a2ff-a853fb5009c0\", \"attributes\": {\"id\": \"0399f37b-0c4a-4b6f-a2ff-a853fb5009c0\", \"tags\": [], \"doc\": null}, \"type\": \"BasicTickFormatter\"}, {\"id\": \"5e8c51c7-aa5a-4a37-ae5c-0d8ac39c2856\", \"attributes\": {\"doc\": null, \"id\": \"5e8c51c7-aa5a-4a37-ae5c-0d8ac39c2856\", \"ticker\": {\"id\": \"06afe98a-c03e-4771-b21a-809ff6f9a12d\", \"type\": \"BasicTicker\"}, \"plot\": {\"id\": \"eeb197e0-3b77-48d6-aac2-410e35a5785f\", \"type\": \"Plot\", \"subtype\": \"Figure\"}, \"tags\": [], \"dimension\": 1}, \"type\": \"Grid\"}, {\"id\": \"150d4357-edc9-484b-845a-213bd8ce8a44\", \"attributes\": {\"x\": {\"field\": \"x\"}, \"doc\": null, \"id\": \"150d4357-edc9-484b-845a-213bd8ce8a44\", \"tags\": [], \"line_color\": {\"value\": \"#1f77b4\"}, \"y\": {\"field\": \"y\"}, \"line_alpha\": {\"value\": 0.1}}, \"type\": \"Line\"}, {\"id\": \"3103b240-431f-4948-b855-11bc533bbe45\", \"attributes\": {\"doc\": null, \"id\": \"3103b240-431f-4948-b855-11bc533bbe45\", \"plot\": {\"id\": \"eeb197e0-3b77-48d6-aac2-410e35a5785f\", \"type\": \"Plot\", \"subtype\": \"Figure\"}, \"tags\": []}, \"type\": \"PreviewSaveTool\"}, {\"id\": \"c1169b9f-b90f-46a5-9b87-d9ee49f4c3af\", \"attributes\": {\"doc\": null, \"dimensions\": [\"width\", \"height\"], \"id\": \"c1169b9f-b90f-46a5-9b87-d9ee49f4c3af\", \"plot\": {\"id\": \"eeb197e0-3b77-48d6-aac2-410e35a5785f\", \"type\": \"Plot\", \"subtype\": \"Figure\"}, \"tags\": []}, \"type\": \"WheelZoomTool\"}, {\"id\": \"ff0ca423-374f-41db-8266-37615b31d165\", \"attributes\": {\"id\": \"ff0ca423-374f-41db-8266-37615b31d165\", \"doc\": null, \"formatter\": {\"id\": \"938a5680-4036-4e6e-9999-8ae20cf16810\", \"type\": \"BasicTickFormatter\"}, \"ticker\": {\"id\": \"06afe98a-c03e-4771-b21a-809ff6f9a12d\", \"type\": \"BasicTicker\"}, \"plot\": {\"id\": \"eeb197e0-3b77-48d6-aac2-410e35a5785f\", \"type\": \"Plot\", \"subtype\": \"Figure\"}, \"tags\": []}, \"type\": \"LinearAxis\"}, {\"id\": \"769c5aed-bde7-4785-a64b-459eac973a3e\", \"attributes\": {\"doc\": null, \"dimensions\": [\"width\", \"height\"], \"id\": \"769c5aed-bde7-4785-a64b-459eac973a3e\", \"plot\": {\"id\": \"eeb197e0-3b77-48d6-aac2-410e35a5785f\", \"type\": \"Plot\", \"subtype\": \"Figure\"}, \"tags\": []}, \"type\": \"BoxZoomTool\"}, {\"id\": \"06afe98a-c03e-4771-b21a-809ff6f9a12d\", \"attributes\": {\"mantissas\": [2, 5, 10], \"id\": \"06afe98a-c03e-4771-b21a-809ff6f9a12d\", \"num_minor_ticks\": 5, \"tags\": [], \"doc\": null}, \"type\": \"BasicTicker\"}, {\"id\": \"6595d510-1eac-40cb-b103-a849f29a546d\", \"attributes\": {\"x\": {\"field\": \"x\"}, \"doc\": null, \"id\": \"6595d510-1eac-40cb-b103-a849f29a546d\", \"tags\": [], \"line_color\": {\"value\": \"#1f77b4\"}, \"line_alpha\": {\"value\": 1.0}, \"y\": {\"field\": \"y\"}}, \"type\": \"Line\"}, {\"id\": \"938a5680-4036-4e6e-9999-8ae20cf16810\", \"attributes\": {\"id\": \"938a5680-4036-4e6e-9999-8ae20cf16810\", \"tags\": [], \"doc\": null}, \"type\": \"BasicTickFormatter\"}, {\"id\": \"a0c52283-6877-4a0f-a646-51dc491b4921\", \"attributes\": {\"column_names\": [\"x\", \"y\"], \"data\": {\"x\": [1990, 1991, 1993, 1994], \"y\": [1, 2, 3, 4]}, \"selected\": {\"0d\": {\"flag\": false, \"indices\": []}, \"1d\": {\"indices\": []}, \"2d\": {\"indices\": []}}, \"id\": \"a0c52283-6877-4a0f-a646-51dc491b4921\", \"tags\": [], \"callback\": null, \"doc\": null}, \"type\": \"ColumnDataSource\"}, {\"id\": \"859b7d93-84dd-4e71-a991-ec5f6f837e41\", \"attributes\": {\"doc\": null, \"id\": \"859b7d93-84dd-4e71-a991-ec5f6f837e41\", \"plot\": {\"id\": \"eeb197e0-3b77-48d6-aac2-410e35a5785f\", \"type\": \"Plot\", \"subtype\": \"Figure\"}, \"tags\": []}, \"type\": \"ResizeTool\"}];\n",
       "            Bokeh.load_models(all_models);\n",
       "            var model = Bokeh.Collections(modeltype).get(modelid);\n",
       "            var view = new model.default_view({model: model, el: '#664fe576-62d1-4fc5-8f0c-83ce0f44f05f'});\n",
       "            Bokeh.index[modelid] = view\n",
       "        });\n",
       "    </script>\n",
       "<div class=\"plotdiv\" id=\"664fe576-62d1-4fc5-8f0c-83ce0f44f05f\"></div>\n",
       "\n"
      ]
     },
     "metadata": {},
     "output_type": "display_data"
    },
    {
     "name": "stdout",
     "output_type": "stream",
     "text": [
      "eeb197e0-3b77-48d6-aac2-410e35a5785f\n"
     ]
    }
   ],
   "source": [
    "p = figure(height=100)\n",
    "p.line(x=[1990, 1991, 1993, 1994], y=[1, 2, 3, 4])\n",
    "show(p)\n",
    "print(p.ref['id'])"
   ]
  },
  {
   "cell_type": "code",
   "execution_count": 6,
   "metadata": {
    "collapsed": false
   },
   "outputs": [
    {
     "data": {
      "text/html": [
       "<script>Bokeh.index['eeb197e0-3b77-48d6-aac2-410e35a5785f'].model.set('plot_height', 200);</script>"
      ],
      "text/plain": [
       "<IPython.core.display.HTML object>"
      ]
     },
     "execution_count": 6,
     "metadata": {},
     "output_type": "execute_result"
    }
   ],
   "source": [
    "plot_height = 200\n",
    "HTML(\"<script>Bokeh.index['%s'].model.set('plot_height', %d);</script>\" % (p.ref['id'], plot_height))"
   ]
  },
  {
   "cell_type": "markdown",
   "metadata": {},
   "source": [
    "## Set height on window resize"
   ]
  },
  {
   "cell_type": "code",
   "execution_count": 7,
   "metadata": {
    "collapsed": false
   },
   "outputs": [
    {
     "data": {
      "text/html": [
       "<script type=\"text/javascript\">\n",
       "        Bokeh.$(function() {\n",
       "            var modelid = \"26615c13-ebe6-4b4f-ae6a-54652217ffaa\";\n",
       "            var modeltype = \"Plot\";\n",
       "            var elementid = \"ca16cf95-d1fc-4318-b2ee-e33aa4c66f27\";\n",
       "            Bokeh.logger.info(\"Realizing plot:\")\n",
       "            Bokeh.logger.info(\" - modeltype: Plot\");\n",
       "            Bokeh.logger.info(\" - modelid: 26615c13-ebe6-4b4f-ae6a-54652217ffaa\");\n",
       "            Bokeh.logger.info(\" - elementid: ca16cf95-d1fc-4318-b2ee-e33aa4c66f27\");\n",
       "            var all_models = [{\"id\": \"80e7c4fe-ca8f-470b-99ac-1a2bf5339ade\", \"attributes\": {\"id\": \"80e7c4fe-ca8f-470b-99ac-1a2bf5339ade\", \"tags\": [], \"doc\": null}, \"type\": \"BasicTickFormatter\"}, {\"id\": \"99562602-45a5-4a41-a495-4ba079d0f782\", \"attributes\": {\"doc\": null, \"id\": \"99562602-45a5-4a41-a495-4ba079d0f782\", \"plot\": {\"id\": \"26615c13-ebe6-4b4f-ae6a-54652217ffaa\", \"type\": \"Plot\", \"subtype\": \"Chart\"}, \"tags\": []}, \"type\": \"ResetTool\"}, {\"id\": \"d336df87-86a4-4637-a18c-19feb818d1fb\", \"attributes\": {\"doc\": null, \"dimensions\": [\"width\", \"height\"], \"id\": \"d336df87-86a4-4637-a18c-19feb818d1fb\", \"plot\": {\"id\": \"26615c13-ebe6-4b4f-ae6a-54652217ffaa\", \"type\": \"Plot\", \"subtype\": \"Chart\"}, \"tags\": []}, \"type\": \"BoxZoomTool\"}, {\"id\": \"e2bc7291-3583-4f5f-94a8-e2111f0d53e3\", \"attributes\": {\"id\": \"e2bc7291-3583-4f5f-94a8-e2111f0d53e3\", \"doc\": null, \"selection_glyph\": null, \"glyph\": {\"id\": \"bbed35af-8385-41a2-b060-3107d81ee2e2\", \"type\": \"Line\"}, \"tags\": [], \"data_source\": {\"id\": \"f0370cd2-cb81-4eae-b4d1-5b5affa0b05c\", \"type\": \"ColumnDataSource\"}, \"nonselection_glyph\": null}, \"type\": \"GlyphRenderer\"}, {\"id\": \"26615c13-ebe6-4b4f-ae6a-54652217ffaa\", \"attributes\": {\"doc\": null, \"tool_events\": {\"id\": \"53deb955-9cc7-424d-8329-a9f26abf8558\", \"type\": \"ToolEvents\"}, \"right\": [], \"y_range\": {\"id\": \"cc233ec5-02c5-42a2-9a18-914c829424ef\", \"type\": \"Range1d\"}, \"plot_height\": 100, \"below\": [{\"id\": \"add66fb5-6887-4df9-b21a-9a12474b492e\", \"type\": \"LinearAxis\"}], \"left\": [{\"id\": \"768b254e-04b8-42ea-80ae-83b6895d3621\", \"type\": \"LinearAxis\"}], \"extra_x_ranges\": {}, \"plot_width\": 600, \"x_range\": {\"id\": \"9281c1b6-f574-42c4-af01-00805a986b26\", \"type\": \"DataRange1d\"}, \"title\": null, \"renderers\": [{\"id\": \"add66fb5-6887-4df9-b21a-9a12474b492e\", \"type\": \"LinearAxis\"}, {\"id\": \"768b254e-04b8-42ea-80ae-83b6895d3621\", \"type\": \"LinearAxis\"}, {\"id\": \"1a2fe2b5-ecec-4114-97a1-e8cf8a4457cc\", \"type\": \"Grid\"}, {\"id\": \"40cc3851-ed70-44b6-a4f6-58599f2cb168\", \"type\": \"Grid\"}, {\"id\": \"e2bc7291-3583-4f5f-94a8-e2111f0d53e3\", \"type\": \"GlyphRenderer\"}], \"above\": [], \"id\": \"26615c13-ebe6-4b4f-ae6a-54652217ffaa\", \"tools\": [{\"id\": \"c780dc7c-d734-4072-9a1d-2f6164a00511\", \"type\": \"PanTool\"}, {\"id\": \"2342e5aa-2ea3-4223-9f8a-e69289752d75\", \"type\": \"WheelZoomTool\"}, {\"id\": \"d336df87-86a4-4637-a18c-19feb818d1fb\", \"type\": \"BoxZoomTool\"}, {\"id\": \"0adab503-6566-4f41-84d2-db35c3d19f75\", \"type\": \"PreviewSaveTool\"}, {\"id\": \"0016fafb-bf5e-4247-9ecf-9fd7255288db\", \"type\": \"ResizeTool\"}, {\"id\": \"99562602-45a5-4a41-a495-4ba079d0f782\", \"type\": \"ResetTool\"}, {\"id\": \"89b272b5-7224-488a-9d00-4662d07baee8\", \"type\": \"HelpTool\"}], \"tags\": [], \"extra_y_ranges\": {}}, \"type\": \"Plot\", \"subtype\": \"Chart\"}, {\"id\": \"2342e5aa-2ea3-4223-9f8a-e69289752d75\", \"attributes\": {\"doc\": null, \"dimensions\": [\"width\", \"height\"], \"id\": \"2342e5aa-2ea3-4223-9f8a-e69289752d75\", \"plot\": {\"id\": \"26615c13-ebe6-4b4f-ae6a-54652217ffaa\", \"type\": \"Plot\", \"subtype\": \"Chart\"}, \"tags\": []}, \"type\": \"WheelZoomTool\"}, {\"id\": \"9ab298f1-04ca-4308-80ca-2ac2d0c923b2\", \"attributes\": {\"mantissas\": [2, 5, 10], \"id\": \"9ab298f1-04ca-4308-80ca-2ac2d0c923b2\", \"tags\": [], \"doc\": null}, \"type\": \"BasicTicker\"}, {\"id\": \"0016fafb-bf5e-4247-9ecf-9fd7255288db\", \"attributes\": {\"doc\": null, \"id\": \"0016fafb-bf5e-4247-9ecf-9fd7255288db\", \"plot\": {\"id\": \"26615c13-ebe6-4b4f-ae6a-54652217ffaa\", \"type\": \"Plot\", \"subtype\": \"Chart\"}, \"tags\": []}, \"type\": \"ResizeTool\"}, {\"id\": \"f0370cd2-cb81-4eae-b4d1-5b5affa0b05c\", \"attributes\": {\"column_names\": [\"x\", \"y_0\"], \"data\": {\"x\": [1990, 1991, 1993, 1994], \"y_0\": [1, 2, 3, 4]}, \"selected\": {\"0d\": {\"flag\": false, \"indices\": []}, \"1d\": {\"indices\": []}, \"2d\": {\"indices\": []}}, \"id\": \"f0370cd2-cb81-4eae-b4d1-5b5affa0b05c\", \"tags\": [], \"callback\": null, \"doc\": null}, \"type\": \"ColumnDataSource\"}, {\"id\": \"40cc3851-ed70-44b6-a4f6-58599f2cb168\", \"attributes\": {\"doc\": null, \"id\": \"40cc3851-ed70-44b6-a4f6-58599f2cb168\", \"ticker\": {\"id\": \"9ab298f1-04ca-4308-80ca-2ac2d0c923b2\", \"type\": \"BasicTicker\"}, \"plot\": {\"id\": \"26615c13-ebe6-4b4f-ae6a-54652217ffaa\", \"type\": \"Plot\", \"subtype\": \"Chart\"}, \"tags\": [], \"dimension\": 1}, \"type\": \"Grid\"}, {\"id\": \"add66fb5-6887-4df9-b21a-9a12474b492e\", \"attributes\": {\"axis_label\": null, \"doc\": null, \"formatter\": {\"id\": \"80e7c4fe-ca8f-470b-99ac-1a2bf5339ade\", \"type\": \"BasicTickFormatter\"}, \"ticker\": {\"id\": \"2eaa45b8-5b11-40ec-af62-12660a901026\", \"type\": \"BasicTicker\"}, \"plot\": {\"id\": \"26615c13-ebe6-4b4f-ae6a-54652217ffaa\", \"type\": \"Plot\", \"subtype\": \"Chart\"}, \"id\": \"add66fb5-6887-4df9-b21a-9a12474b492e\", \"tags\": []}, \"type\": \"LinearAxis\"}, {\"id\": \"1867b89c-589b-4230-b035-1d1ade26ee78\", \"attributes\": {\"id\": \"1867b89c-589b-4230-b035-1d1ade26ee78\", \"tags\": [], \"doc\": null}, \"type\": \"BasicTickFormatter\"}, {\"id\": \"53deb955-9cc7-424d-8329-a9f26abf8558\", \"attributes\": {\"doc\": null, \"id\": \"53deb955-9cc7-424d-8329-a9f26abf8558\", \"tags\": [], \"geometries\": []}, \"type\": \"ToolEvents\"}, {\"id\": \"9281c1b6-f574-42c4-af01-00805a986b26\", \"attributes\": {\"id\": \"9281c1b6-f574-42c4-af01-00805a986b26\", \"doc\": null, \"renderers\": [], \"names\": [], \"tags\": []}, \"type\": \"DataRange1d\"}, {\"id\": \"768b254e-04b8-42ea-80ae-83b6895d3621\", \"attributes\": {\"axis_label\": null, \"doc\": null, \"formatter\": {\"id\": \"1867b89c-589b-4230-b035-1d1ade26ee78\", \"type\": \"BasicTickFormatter\"}, \"ticker\": {\"id\": \"9ab298f1-04ca-4308-80ca-2ac2d0c923b2\", \"type\": \"BasicTicker\"}, \"plot\": {\"id\": \"26615c13-ebe6-4b4f-ae6a-54652217ffaa\", \"type\": \"Plot\", \"subtype\": \"Chart\"}, \"id\": \"768b254e-04b8-42ea-80ae-83b6895d3621\", \"tags\": []}, \"type\": \"LinearAxis\"}, {\"id\": \"0adab503-6566-4f41-84d2-db35c3d19f75\", \"attributes\": {\"doc\": null, \"id\": \"0adab503-6566-4f41-84d2-db35c3d19f75\", \"plot\": {\"id\": \"26615c13-ebe6-4b4f-ae6a-54652217ffaa\", \"type\": \"Plot\", \"subtype\": \"Chart\"}, \"tags\": []}, \"type\": \"PreviewSaveTool\"}, {\"id\": \"1a2fe2b5-ecec-4114-97a1-e8cf8a4457cc\", \"attributes\": {\"doc\": null, \"id\": \"1a2fe2b5-ecec-4114-97a1-e8cf8a4457cc\", \"ticker\": {\"id\": \"2eaa45b8-5b11-40ec-af62-12660a901026\", \"type\": \"BasicTicker\"}, \"plot\": {\"id\": \"26615c13-ebe6-4b4f-ae6a-54652217ffaa\", \"type\": \"Plot\", \"subtype\": \"Chart\"}, \"tags\": [], \"dimension\": 0}, \"type\": \"Grid\"}, {\"id\": \"2eaa45b8-5b11-40ec-af62-12660a901026\", \"attributes\": {\"mantissas\": [2, 5, 10], \"id\": \"2eaa45b8-5b11-40ec-af62-12660a901026\", \"tags\": [], \"doc\": null}, \"type\": \"BasicTicker\"}, {\"id\": \"cc233ec5-02c5-42a2-9a18-914c829424ef\", \"attributes\": {\"start\": 0.7, \"doc\": null, \"end\": 4.3, \"tags\": [], \"id\": \"cc233ec5-02c5-42a2-9a18-914c829424ef\"}, \"type\": \"Range1d\"}, {\"id\": \"c780dc7c-d734-4072-9a1d-2f6164a00511\", \"attributes\": {\"doc\": null, \"dimensions\": [\"width\", \"height\"], \"id\": \"c780dc7c-d734-4072-9a1d-2f6164a00511\", \"plot\": {\"id\": \"26615c13-ebe6-4b4f-ae6a-54652217ffaa\", \"type\": \"Plot\", \"subtype\": \"Chart\"}, \"tags\": []}, \"type\": \"PanTool\"}, {\"id\": \"bbed35af-8385-41a2-b060-3107d81ee2e2\", \"attributes\": {\"x\": {\"field\": \"x\"}, \"doc\": null, \"id\": \"bbed35af-8385-41a2-b060-3107d81ee2e2\", \"tags\": [], \"y\": {\"field\": \"y_0\"}, \"line_color\": {\"value\": \"#f22c40\"}}, \"type\": \"Line\"}, {\"id\": \"89b272b5-7224-488a-9d00-4662d07baee8\", \"attributes\": {\"doc\": null, \"id\": \"89b272b5-7224-488a-9d00-4662d07baee8\", \"plot\": {\"id\": \"26615c13-ebe6-4b4f-ae6a-54652217ffaa\", \"type\": \"Plot\", \"subtype\": \"Chart\"}, \"tags\": []}, \"type\": \"HelpTool\"}];\n",
       "            Bokeh.load_models(all_models);\n",
       "            var model = Bokeh.Collections(modeltype).get(modelid);\n",
       "            var view = new model.default_view({model: model, el: '#ca16cf95-d1fc-4318-b2ee-e33aa4c66f27'});\n",
       "            Bokeh.index[modelid] = view\n",
       "        });\n",
       "    </script>\n",
       "<div class=\"plotdiv\" id=\"ca16cf95-d1fc-4318-b2ee-e33aa4c66f27\"></div>\n",
       "\n"
      ]
     },
     "metadata": {},
     "output_type": "display_data"
    },
    {
     "name": "stdout",
     "output_type": "stream",
     "text": [
      "26615c13-ebe6-4b4f-ae6a-54652217ffaa\n"
     ]
    }
   ],
   "source": [
    "line2 = Line(index=[1990, 1991, 1993, 1994], values=[1, 2, 3, 4], height=100)\n",
    "show(line2)\n",
    "print(line2.ref['id'])"
   ]
  },
  {
   "cell_type": "markdown",
   "metadata": {},
   "source": [
    "After running the following cell, the chart will not instantly change it's height. But if you change the size of your browser window, the chart will resize to a plot height of 400."
   ]
  },
  {
   "cell_type": "code",
   "execution_count": 8,
   "metadata": {
    "collapsed": false
   },
   "outputs": [
    {
     "data": {
      "text/html": [
       "\n",
       "<script>\n",
       "    Bokeh.$(window).resize(\n",
       "        function(){\n",
       "            Bokeh.index[\"26615c13-ebe6-4b4f-ae6a-54652217ffaa\"].model.set('plot_height', 400);\n",
       "        }\n",
       "    );\n",
       "</script>\n"
      ],
      "text/plain": [
       "<IPython.core.display.HTML object>"
      ]
     },
     "execution_count": 8,
     "metadata": {},
     "output_type": "execute_result"
    }
   ],
   "source": [
    "HTML(\"\"\"\n",
    "<script>\n",
    "    Bokeh.$(window).resize(\n",
    "        function(){\n",
    "            Bokeh.index[\"%s\"].model.set('plot_height', 400);\n",
    "        }\n",
    "    );\n",
    "</script>\n",
    "\"\"\" % (line2.ref['id']))"
   ]
  },
  {
   "cell_type": "markdown",
   "metadata": {
    "collapsed": true
   },
   "source": [
    "## Responsive plots"
   ]
  },
  {
   "cell_type": "code",
   "execution_count": 9,
   "metadata": {
    "collapsed": false
   },
   "outputs": [
    {
     "data": {
      "text/html": [
       "<script type=\"text/javascript\">\n",
       "        Bokeh.$(function() {\n",
       "            var modelid = \"e1cf539e-4e27-4617-b029-92a19c40b9cd\";\n",
       "            var modeltype = \"Plot\";\n",
       "            var elementid = \"1f28f268-9600-4b1b-9372-067eeb20e1d4\";\n",
       "            Bokeh.logger.info(\"Realizing plot:\")\n",
       "            Bokeh.logger.info(\" - modeltype: Plot\");\n",
       "            Bokeh.logger.info(\" - modelid: e1cf539e-4e27-4617-b029-92a19c40b9cd\");\n",
       "            Bokeh.logger.info(\" - elementid: 1f28f268-9600-4b1b-9372-067eeb20e1d4\");\n",
       "            var all_models = [{\"id\": \"a2a28f85-d51a-4013-852f-6565e2adf651\", \"attributes\": {\"mantissas\": [2, 5, 10], \"id\": \"a2a28f85-d51a-4013-852f-6565e2adf651\", \"tags\": [], \"doc\": null}, \"type\": \"BasicTicker\"}, {\"id\": \"3343c773-8f24-463a-93bb-ff4f42f63e5a\", \"attributes\": {\"axis_label\": null, \"doc\": null, \"formatter\": {\"id\": \"b4979c34-4596-45b0-b43f-49cfb749957e\", \"type\": \"BasicTickFormatter\"}, \"ticker\": {\"id\": \"a2a28f85-d51a-4013-852f-6565e2adf651\", \"type\": \"BasicTicker\"}, \"plot\": {\"id\": \"e1cf539e-4e27-4617-b029-92a19c40b9cd\", \"type\": \"Plot\", \"subtype\": \"Chart\"}, \"id\": \"3343c773-8f24-463a-93bb-ff4f42f63e5a\", \"tags\": []}, \"type\": \"LinearAxis\"}, {\"id\": \"14e8ca27-7147-4c13-89ab-3293ffc46919\", \"attributes\": {\"doc\": null, \"id\": \"14e8ca27-7147-4c13-89ab-3293ffc46919\", \"plot\": {\"id\": \"e1cf539e-4e27-4617-b029-92a19c40b9cd\", \"type\": \"Plot\", \"subtype\": \"Chart\"}, \"tags\": []}, \"type\": \"ResetTool\"}, {\"id\": \"2e05f213-1cf2-41fc-832c-cb3dca19073a\", \"attributes\": {\"column_names\": [\"x\", \"y_0\"], \"data\": {\"x\": [1990, 1991, 1993, 1994], \"y_0\": [1, 2, 3, 4]}, \"selected\": {\"0d\": {\"flag\": false, \"indices\": []}, \"1d\": {\"indices\": []}, \"2d\": {\"indices\": []}}, \"id\": \"2e05f213-1cf2-41fc-832c-cb3dca19073a\", \"tags\": [], \"callback\": null, \"doc\": null}, \"type\": \"ColumnDataSource\"}, {\"id\": \"2ed9792e-234a-44cc-8904-a82b4930abea\", \"attributes\": {\"x\": {\"field\": \"x\"}, \"doc\": null, \"id\": \"2ed9792e-234a-44cc-8904-a82b4930abea\", \"tags\": [], \"y\": {\"field\": \"y_0\"}, \"line_color\": {\"value\": \"#f22c40\"}}, \"type\": \"Line\"}, {\"id\": \"b4979c34-4596-45b0-b43f-49cfb749957e\", \"attributes\": {\"id\": \"b4979c34-4596-45b0-b43f-49cfb749957e\", \"tags\": [], \"doc\": null}, \"type\": \"BasicTickFormatter\"}, {\"id\": \"e9061f85-a825-45ce-beb5-4a3f48e491db\", \"attributes\": {\"doc\": null, \"dimensions\": [\"width\", \"height\"], \"id\": \"e9061f85-a825-45ce-beb5-4a3f48e491db\", \"plot\": {\"id\": \"e1cf539e-4e27-4617-b029-92a19c40b9cd\", \"type\": \"Plot\", \"subtype\": \"Chart\"}, \"tags\": []}, \"type\": \"BoxZoomTool\"}, {\"id\": \"96298d09-a028-4701-a676-92ea6c414d42\", \"attributes\": {\"start\": 0.7, \"doc\": null, \"end\": 4.3, \"tags\": [], \"id\": \"96298d09-a028-4701-a676-92ea6c414d42\"}, \"type\": \"Range1d\"}, {\"id\": \"4f4052d1-dd79-498e-9a9d-5b122897bc48\", \"attributes\": {\"id\": \"4f4052d1-dd79-498e-9a9d-5b122897bc48\", \"doc\": null, \"renderers\": [], \"names\": [], \"tags\": []}, \"type\": \"DataRange1d\"}, {\"id\": \"fb438417-0e22-4088-9624-43e3e922e52f\", \"attributes\": {\"doc\": null, \"dimensions\": [\"width\", \"height\"], \"id\": \"fb438417-0e22-4088-9624-43e3e922e52f\", \"plot\": {\"id\": \"e1cf539e-4e27-4617-b029-92a19c40b9cd\", \"type\": \"Plot\", \"subtype\": \"Chart\"}, \"tags\": []}, \"type\": \"PanTool\"}, {\"id\": \"432f0cd0-70e0-4aae-9515-9ce8411df45e\", \"attributes\": {\"doc\": null, \"id\": \"432f0cd0-70e0-4aae-9515-9ce8411df45e\", \"tags\": [], \"geometries\": []}, \"type\": \"ToolEvents\"}, {\"id\": \"39d7142f-cbdb-40fc-ba86-a849d889104e\", \"attributes\": {\"doc\": null, \"id\": \"39d7142f-cbdb-40fc-ba86-a849d889104e\", \"ticker\": {\"id\": \"a2a28f85-d51a-4013-852f-6565e2adf651\", \"type\": \"BasicTicker\"}, \"plot\": {\"id\": \"e1cf539e-4e27-4617-b029-92a19c40b9cd\", \"type\": \"Plot\", \"subtype\": \"Chart\"}, \"tags\": [], \"dimension\": 0}, \"type\": \"Grid\"}, {\"id\": \"21d0c2db-c1fd-4f35-bc7a-41b0c28a8160\", \"attributes\": {\"id\": \"21d0c2db-c1fd-4f35-bc7a-41b0c28a8160\", \"doc\": null, \"selection_glyph\": null, \"glyph\": {\"id\": \"2ed9792e-234a-44cc-8904-a82b4930abea\", \"type\": \"Line\"}, \"tags\": [], \"data_source\": {\"id\": \"2e05f213-1cf2-41fc-832c-cb3dca19073a\", \"type\": \"ColumnDataSource\"}, \"nonselection_glyph\": null}, \"type\": \"GlyphRenderer\"}, {\"id\": \"ea57b3c6-195a-47c2-b1dd-6241cad2a5cb\", \"attributes\": {\"doc\": null, \"id\": \"ea57b3c6-195a-47c2-b1dd-6241cad2a5cb\", \"ticker\": {\"id\": \"257cccac-16b3-436e-8ed2-08d191551383\", \"type\": \"BasicTicker\"}, \"plot\": {\"id\": \"e1cf539e-4e27-4617-b029-92a19c40b9cd\", \"type\": \"Plot\", \"subtype\": \"Chart\"}, \"tags\": [], \"dimension\": 1}, \"type\": \"Grid\"}, {\"id\": \"b483a0f3-ffdf-4867-88cd-c946c381149e\", \"attributes\": {\"id\": \"b483a0f3-ffdf-4867-88cd-c946c381149e\", \"tags\": [], \"doc\": null}, \"type\": \"BasicTickFormatter\"}, {\"id\": \"fad79efa-38b8-4bc9-8841-76cd65f51bb2\", \"attributes\": {\"doc\": null, \"id\": \"fad79efa-38b8-4bc9-8841-76cd65f51bb2\", \"plot\": {\"id\": \"e1cf539e-4e27-4617-b029-92a19c40b9cd\", \"type\": \"Plot\", \"subtype\": \"Chart\"}, \"tags\": []}, \"type\": \"PreviewSaveTool\"}, {\"id\": \"66dad896-225c-4b54-85cc-035cbe858b2b\", \"attributes\": {\"axis_label\": null, \"doc\": null, \"formatter\": {\"id\": \"b483a0f3-ffdf-4867-88cd-c946c381149e\", \"type\": \"BasicTickFormatter\"}, \"ticker\": {\"id\": \"257cccac-16b3-436e-8ed2-08d191551383\", \"type\": \"BasicTicker\"}, \"plot\": {\"id\": \"e1cf539e-4e27-4617-b029-92a19c40b9cd\", \"type\": \"Plot\", \"subtype\": \"Chart\"}, \"id\": \"66dad896-225c-4b54-85cc-035cbe858b2b\", \"tags\": []}, \"type\": \"LinearAxis\"}, {\"id\": \"257cccac-16b3-436e-8ed2-08d191551383\", \"attributes\": {\"mantissas\": [2, 5, 10], \"id\": \"257cccac-16b3-436e-8ed2-08d191551383\", \"tags\": [], \"doc\": null}, \"type\": \"BasicTicker\"}, {\"id\": \"4b15f320-ff1d-4f3d-aa6b-ea23bd484e1d\", \"attributes\": {\"doc\": null, \"id\": \"4b15f320-ff1d-4f3d-aa6b-ea23bd484e1d\", \"plot\": {\"id\": \"e1cf539e-4e27-4617-b029-92a19c40b9cd\", \"type\": \"Plot\", \"subtype\": \"Chart\"}, \"tags\": []}, \"type\": \"HelpTool\"}, {\"id\": \"e1cf539e-4e27-4617-b029-92a19c40b9cd\", \"attributes\": {\"doc\": null, \"tool_events\": {\"id\": \"432f0cd0-70e0-4aae-9515-9ce8411df45e\", \"type\": \"ToolEvents\"}, \"right\": [], \"y_range\": {\"id\": \"96298d09-a028-4701-a676-92ea6c414d42\", \"type\": \"Range1d\"}, \"plot_height\": 100, \"below\": [{\"id\": \"3343c773-8f24-463a-93bb-ff4f42f63e5a\", \"type\": \"LinearAxis\"}], \"left\": [{\"id\": \"66dad896-225c-4b54-85cc-035cbe858b2b\", \"type\": \"LinearAxis\"}], \"extra_x_ranges\": {}, \"plot_width\": 200, \"x_range\": {\"id\": \"4f4052d1-dd79-498e-9a9d-5b122897bc48\", \"type\": \"DataRange1d\"}, \"title\": null, \"renderers\": [{\"id\": \"3343c773-8f24-463a-93bb-ff4f42f63e5a\", \"type\": \"LinearAxis\"}, {\"id\": \"66dad896-225c-4b54-85cc-035cbe858b2b\", \"type\": \"LinearAxis\"}, {\"id\": \"39d7142f-cbdb-40fc-ba86-a849d889104e\", \"type\": \"Grid\"}, {\"id\": \"ea57b3c6-195a-47c2-b1dd-6241cad2a5cb\", \"type\": \"Grid\"}, {\"id\": \"21d0c2db-c1fd-4f35-bc7a-41b0c28a8160\", \"type\": \"GlyphRenderer\"}], \"above\": [], \"id\": \"e1cf539e-4e27-4617-b029-92a19c40b9cd\", \"tools\": [{\"id\": \"fb438417-0e22-4088-9624-43e3e922e52f\", \"type\": \"PanTool\"}, {\"id\": \"77a67172-9171-433d-b2f2-1299f0191d6e\", \"type\": \"WheelZoomTool\"}, {\"id\": \"e9061f85-a825-45ce-beb5-4a3f48e491db\", \"type\": \"BoxZoomTool\"}, {\"id\": \"fad79efa-38b8-4bc9-8841-76cd65f51bb2\", \"type\": \"PreviewSaveTool\"}, {\"id\": \"d50b5808-7cef-4940-bc9c-905963da72e1\", \"type\": \"ResizeTool\"}, {\"id\": \"14e8ca27-7147-4c13-89ab-3293ffc46919\", \"type\": \"ResetTool\"}, {\"id\": \"4b15f320-ff1d-4f3d-aa6b-ea23bd484e1d\", \"type\": \"HelpTool\"}], \"tags\": [], \"extra_y_ranges\": {}}, \"type\": \"Plot\", \"subtype\": \"Chart\"}, {\"id\": \"d50b5808-7cef-4940-bc9c-905963da72e1\", \"attributes\": {\"doc\": null, \"id\": \"d50b5808-7cef-4940-bc9c-905963da72e1\", \"plot\": {\"id\": \"e1cf539e-4e27-4617-b029-92a19c40b9cd\", \"type\": \"Plot\", \"subtype\": \"Chart\"}, \"tags\": []}, \"type\": \"ResizeTool\"}, {\"id\": \"77a67172-9171-433d-b2f2-1299f0191d6e\", \"attributes\": {\"doc\": null, \"dimensions\": [\"width\", \"height\"], \"id\": \"77a67172-9171-433d-b2f2-1299f0191d6e\", \"plot\": {\"id\": \"e1cf539e-4e27-4617-b029-92a19c40b9cd\", \"type\": \"Plot\", \"subtype\": \"Chart\"}, \"tags\": []}, \"type\": \"WheelZoomTool\"}];\n",
       "            Bokeh.load_models(all_models);\n",
       "            var model = Bokeh.Collections(modeltype).get(modelid);\n",
       "            var view = new model.default_view({model: model, el: '#1f28f268-9600-4b1b-9372-067eeb20e1d4'});\n",
       "            Bokeh.index[modelid] = view\n",
       "        });\n",
       "    </script>\n",
       "<div class=\"plotdiv\" id=\"1f28f268-9600-4b1b-9372-067eeb20e1d4\"></div>\n",
       "\n"
      ]
     },
     "metadata": {},
     "output_type": "display_data"
    },
    {
     "name": "stdout",
     "output_type": "stream",
     "text": [
      "e1cf539e-4e27-4617-b029-92a19c40b9cd\n"
     ]
    }
   ],
   "source": [
    "responsive = Line(index=[1990, 1991, 1993, 1994], values=[1, 2, 3, 4], height=100, width=200)\n",
    "show(responsive)\n",
    "print(responsive.ref['id'])"
   ]
  },
  {
   "cell_type": "markdown",
   "metadata": {},
   "source": [
    "After running the cell below, you will be able to resize the browser window and see the plot scale to fit it."
   ]
  },
  {
   "cell_type": "code",
   "execution_count": 10,
   "metadata": {
    "collapsed": false
   },
   "outputs": [
    {
     "data": {
      "text/html": [
       "\n",
       "<script> \n",
       "    function resize_plot() {\n",
       "        var containingDivWidth = Bokeh.$('.output_subarea').last().width(),\n",
       "            plot = Bokeh.index[\"e1cf539e-4e27-4617-b029-92a19c40b9cd\"].model,\n",
       "            curWidth = plot.get('plot_width'),\n",
       "            curHeight = plot.get('plot_height');\n",
       "        aspectRatio = curWidth / curHeight;\n",
       "        plotWidth = Math.max(containingDivWidth, 300); // This prevents the chart from getting too small.\n",
       "        plotHeight = parseInt(plotWidth / aspectRatio);\n",
       "        plot.set('plot_width', plotWidth);\n",
       "        plot.set('plot_height', plotHeight);\n",
       "    }\n",
       "    Bokeh.$(window).resize(resize_plot);\n",
       "    resize_plot();\n",
       "</script>\n"
      ],
      "text/plain": [
       "<IPython.core.display.HTML object>"
      ]
     },
     "execution_count": 10,
     "metadata": {},
     "output_type": "execute_result"
    }
   ],
   "source": [
    "HTML(\"\"\"\n",
    "<script> \n",
    "    function resize_plot() {\n",
    "        var containingDivWidth = Bokeh.$('.output_subarea').last().width(),\n",
    "            plot = Bokeh.index[\"%s\"].model,\n",
    "            curWidth = plot.get('plot_width'),\n",
    "            curHeight = plot.get('plot_height');\n",
    "        aspectRatio = curWidth / curHeight;\n",
    "        plotWidth = Math.max(containingDivWidth, 300); // This prevents the chart from getting too small.\n",
    "        plotHeight = parseInt(plotWidth / aspectRatio);\n",
    "        plot.set('plot_width', plotWidth);\n",
    "        plot.set('plot_height', plotHeight);\n",
    "    }\n",
    "    Bokeh.$(window).resize(resize_plot);\n",
    "    resize_plot();\n",
    "</script>\n",
    "\"\"\" % (responsive.ref['id']))"
   ]
  },
  {
   "cell_type": "markdown",
   "metadata": {
    "collapsed": true
   },
   "source": [
    "Note, in your useage, you will probably have a different way of getting the \"containingDivWidth.\" You just need a way to get the width of the div that the plot is living in. In an ipython notebook, it always lives in an output_subarea, so we can just use that."
   ]
  }
 ],
 "metadata": {
  "kernelspec": {
   "display_name": "Python 3",
   "language": "python",
   "name": "python3"
  },
  "language_info": {
   "codemirror_mode": {
    "name": "ipython",
    "version": 3
   },
   "file_extension": ".py",
   "mimetype": "text/x-python",
   "name": "python",
   "nbconvert_exporter": "python",
   "pygments_lexer": "ipython3",
   "version": "3.4.3"
  }
 },
 "nbformat": 4,
 "nbformat_minor": 0
}

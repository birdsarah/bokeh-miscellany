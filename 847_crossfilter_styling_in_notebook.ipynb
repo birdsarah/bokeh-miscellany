{
 "cells": [
  {
   "cell_type": "code",
   "execution_count": 1,
   "metadata": {
    "collapsed": false
   },
   "outputs": [
    {
     "name": "stdout",
     "output_type": "stream",
     "text": [
      "Using saved session configuration for http://localhost:5006/\n",
      "To override, pass 'load_from_config=False' to Session\n"
     ]
    }
   ],
   "source": [
    "from bokeh.crossfilter.models import CrossFilter\n",
    "from bokeh.sampledata.autompg import autompg\n",
    "from bokeh.document import Document\n",
    "from bokeh.session import Session\n",
    "from bokeh.plotting import *\n",
    "\n",
    "autompg['cyl'] = autompg['cyl'].astype(str)\n",
    "autompg['origin'] = autompg['cyl'].astype(str)\n",
    "app = CrossFilter.create(df=autompg)\n",
    "\n",
    "document = Document()\n",
    "session = Session()\n",
    "session.use_doc('crossfilter')\n",
    "session.load_document(document)"
   ]
  },
  {
   "cell_type": "code",
   "execution_count": 2,
   "metadata": {
    "collapsed": false
   },
   "outputs": [
    {
     "data": {
      "text/plain": [
       "<bokeh.crossfilter.models.CrossFilter at 0x7f7f444873c8>"
      ]
     },
     "execution_count": 2,
     "metadata": {},
     "output_type": "execute_result"
    }
   ],
   "source": [
    "app"
   ]
  },
  {
   "cell_type": "code",
   "execution_count": 3,
   "metadata": {
    "collapsed": false
   },
   "outputs": [
    {
     "data": {
      "text/plain": [
       "[<bokeh.models.tickers.BasicTicker at 0x7f7f22416780>,\n",
       " <bokeh.models.tools.PanTool at 0x7f7f223d4048>,\n",
       " <bokeh.models.renderers.GlyphRenderer at 0x7f7f223ca748>,\n",
       " <bokeh.models.tools.BoxZoomTool at 0x7f7f223cad68>,\n",
       " <bokeh.models.axes.LinearAxis at 0x7f7f223cae10>,\n",
       " <bokeh.models.widgets.inputs.Select at 0x7f7f223ca9e8>,\n",
       " <bokeh.models.tools.ResizeTool at 0x7f7f223caa20>,\n",
       " <bokeh.plotting.Figure at 0x7f7f223caac8>,\n",
       " <bokeh.models.markers.Circle at 0x7f7f4f1be0b8>,\n",
       " <bokeh.models.ranges.DataRange1d at 0x7f7f22416828>,\n",
       " <bokeh.models.markers.Circle at 0x7f7f4f1a7400>,\n",
       " <bokeh.models.widgets.inputs.Select at 0x7f7f240a8668>,\n",
       " <bokeh.models.ranges.DataRange1d at 0x7f7f224167f0>,\n",
       " <bokeh.models.formatters.BasicTickFormatter at 0x7f7f22416748>,\n",
       " <bokeh.models.tools.WheelZoomTool at 0x7f7f223caef0>,\n",
       " <bokeh.models.widgets.inputs.Select at 0x7f7f2552e400>,\n",
       " <bokeh.models.tools.ResetTool at 0x7f7f223ca908>,\n",
       " <bokeh.models.tools.PreviewSaveTool at 0x7f7f223caf28>,\n",
       " <bokeh.models.sources.ColumnDataSource at 0x7f7f224166d8>,\n",
       " <bokeh.models.widgets.inputs.Select at 0x7f7f4a9af198>,\n",
       " <bokeh.models.tickers.BasicTicker at 0x7f7f223cae48>,\n",
       " <bokeh.models.grids.Grid at 0x7f7f223caa58>,\n",
       " <bokeh.models.sources.ColumnDataSource at 0x7f7f22416470>,\n",
       " <bokeh.crossfilter.models.CrossFilter at 0x7f7f444873c8>,\n",
       " <bokeh.models.tools.BoxSelectTool at 0x7f7f223ca8d0>,\n",
       " <bokeh.models.plots.PlotContext at 0x7f7f21df5f98>,\n",
       " <bokeh.models.axes.LinearAxis at 0x7f7f22416898>,\n",
       " <bokeh.models.grids.Grid at 0x7f7f223cac18>,\n",
       " <bokeh.models.tools.ToolEvents at 0x7f7f223cac50>,\n",
       " <bokeh.models.formatters.BasicTickFormatter at 0x7f7f223cadd8>]"
      ]
     },
     "execution_count": 3,
     "metadata": {},
     "output_type": "execute_result"
    }
   ],
   "source": [
    "document.add(app)\n",
    "session.store_document(document)"
   ]
  },
  {
   "cell_type": "code",
   "execution_count": 4,
   "metadata": {
    "collapsed": false
   },
   "outputs": [
    {
     "data": {
      "text/html": [
       "<script\n",
       "    src=\"http://localhost:5006/bokeh/autoload.js/9710e24e-3e57-4664-b87b-2789c97ed5e0\"\n",
       "    id=\"9710e24e-3e57-4664-b87b-2789c97ed5e0\"\n",
       "    async=\"true\"\n",
       "    data-bokeh-data=\"server\"\n",
       "    data-bokeh-modelid=\"d5f9274d-e7d5-418f-a84c-0c62f9a7ef40\"\n",
       "    data-bokeh-root-url=\"http://localhost:5006/\"\n",
       "    data-bokeh-docid=\"ef988b7e-35c3-4def-a155-6462669184c6\"\n",
       "    \n",
       "    data-bokeh-docapikey=\"22b5c7a4-1200-4827-a0b7-cc449924cfc8\"\n",
       "    \n",
       "    data-bokeh-loglevel=\"info\"\n",
       "></script>"
      ]
     },
     "metadata": {},
     "output_type": "display_data"
    }
   ],
   "source": [
    "session.show(app)"
   ]
  },
  {
   "cell_type": "code",
   "execution_count": null,
   "metadata": {
    "collapsed": true
   },
   "outputs": [],
   "source": []
  }
 ],
 "metadata": {
  "kernelspec": {
   "display_name": "Python 3",
   "language": "python",
   "name": "python3"
  },
  "language_info": {
   "codemirror_mode": {
    "name": "ipython",
    "version": 3
   },
   "file_extension": ".py",
   "mimetype": "text/x-python",
   "name": "python",
   "nbconvert_exporter": "python",
   "pygments_lexer": "ipython3",
   "version": "3.4.3"
  }
 },
 "nbformat": 4,
 "nbformat_minor": 0
}

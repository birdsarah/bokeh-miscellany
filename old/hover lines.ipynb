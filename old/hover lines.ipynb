{
 "cells": [
  {
   "cell_type": "code",
   "execution_count": 1,
   "metadata": {
    "collapsed": false
   },
   "outputs": [
    {
     "data": {
      "text/html": [
       "\n",
       "    <div class=\"bk-banner\">\n",
       "        <a href=\"http://bokeh.pydata.org\" target=\"_blank\" class=\"bk-logo bk-logo-small bk-logo-notebook\"></a>\n",
       "        <span id=\"44645c2b-c847-4d80-affe-91caed4f3d60\">Loading BokehJS ...</span>\n",
       "    </div>"
      ]
     },
     "metadata": {},
     "output_type": "display_data"
    },
    {
     "data": {
      "application/javascript": [
       "\n",
       "(function(global) {\n",
       "  function now() {\n",
       "    return new Date();\n",
       "  }\n",
       "\n",
       "  if (typeof (window._bokeh_onload_callbacks) === \"undefined\") {\n",
       "    window._bokeh_onload_callbacks = [];\n",
       "  }\n",
       "\n",
       "  function run_callbacks() {\n",
       "    window._bokeh_onload_callbacks.forEach(function(callback) { callback() });\n",
       "    delete window._bokeh_onload_callbacks\n",
       "    console.info(\"Bokeh: all callbacks have finished\");\n",
       "  }\n",
       "\n",
       "  function load_libs(js_urls, callback) {\n",
       "    window._bokeh_onload_callbacks.push(callback);\n",
       "    if (window._bokeh_is_loading > 0) {\n",
       "      console.log(\"Bokeh: BokehJS is being loaded, scheduling callback at\", now());\n",
       "      return null;\n",
       "    }\n",
       "    if (js_urls == null || js_urls.length === 0) {\n",
       "      run_callbacks();\n",
       "      return null;\n",
       "    }\n",
       "    console.log(\"Bokeh: BokehJS not loaded, scheduling load and callback at\", now());\n",
       "    window._bokeh_is_loading = js_urls.length;\n",
       "    for (var i = 0; i < js_urls.length; i++) {\n",
       "      var url = js_urls[i];\n",
       "      var s = document.createElement('script');\n",
       "      s.src = url;\n",
       "      s.async = false;\n",
       "      s.onreadystatechange = s.onload = function() {\n",
       "        window._bokeh_is_loading--;\n",
       "        if (window._bokeh_is_loading === 0) {\n",
       "          console.log(\"Bokeh: all BokehJS libraries loaded\");\n",
       "          run_callbacks()\n",
       "        }\n",
       "      };\n",
       "      s.onerror = function() {\n",
       "        console.warn(\"failed to load library \" + url);\n",
       "      };\n",
       "      console.log(\"Bokeh: injecting script tag for BokehJS library: \", url);\n",
       "      document.getElementsByTagName(\"head\")[0].appendChild(s);\n",
       "    }\n",
       "  };\n",
       "\n",
       "  var js_urls = ['https://cdn.pydata.org/bokeh/release/bokeh-0.11.1.min.js', 'https://cdn.pydata.org/bokeh/release/bokeh-widgets-0.11.1.min.js', 'https://cdn.pydata.org/bokeh/release/bokeh-compiler-0.11.1.min.js'];\n",
       "\n",
       "  var inline_js = [\n",
       "    function(Bokeh) {\n",
       "      Bokeh.set_log_level(\"info\");\n",
       "    },\n",
       "    \n",
       "    function(Bokeh) {\n",
       "      Bokeh.$(\"#44645c2b-c847-4d80-affe-91caed4f3d60\").text(\"BokehJS successfully loaded\");\n",
       "    },\n",
       "    function(Bokeh) {\n",
       "      console.log(\"Bokeh: injecting CSS: https://cdn.pydata.org/bokeh/release/bokeh-0.11.1.min.css\");\n",
       "      Bokeh.embed.inject_css(\"https://cdn.pydata.org/bokeh/release/bokeh-0.11.1.min.css\");\n",
       "      console.log(\"Bokeh: injecting CSS: https://cdn.pydata.org/bokeh/release/bokeh-widgets-0.11.1.min.css\");\n",
       "      Bokeh.embed.inject_css(\"https://cdn.pydata.org/bokeh/release/bokeh-widgets-0.11.1.min.css\");\n",
       "    }\n",
       "  ];\n",
       "\n",
       "  function run_inline_js() {\n",
       "    for (var i = 0; i < inline_js.length; i++) {\n",
       "      inline_js[i](window.Bokeh);\n",
       "    }\n",
       "  }\n",
       "\n",
       "  if (window._bokeh_is_loading === 0) {\n",
       "    console.log(\"Bokeh: BokehJS loaded, going straight to plotting\");\n",
       "    run_inline_js();\n",
       "  } else {\n",
       "    load_libs(js_urls, function() {\n",
       "      console.log(\"Bokeh: BokehJS plotting callback run at\", now());\n",
       "      run_inline_js();\n",
       "    });\n",
       "  }\n",
       "}(this));"
      ]
     },
     "metadata": {},
     "output_type": "display_data"
    }
   ],
   "source": [
    "from bokeh.charts import Line, output_notebook, show\n",
    "from bokeh.models import HoverTool, Legend\n",
    "from bokeh.plotting import figure, ColumnDataSource\n",
    "from bokeh.palettes import Spectral6\n",
    "import pandas as pd\n",
    "import numpy as np\n",
    "from itertools import cycle\n",
    "output_notebook()"
   ]
  },
  {
   "cell_type": "code",
   "execution_count": 2,
   "metadata": {
    "collapsed": false
   },
   "outputs": [
    {
     "data": {
      "text/html": [
       "\n",
       "\n",
       "    <div class=\"plotdiv\" id=\"edca72b2-021d-4a2e-8ecd-27f671483fb0\"></div>\n",
       "<script type=\"text/javascript\">\n",
       "  \n",
       "  (function(global) {\n",
       "    function now() {\n",
       "      return new Date();\n",
       "    }\n",
       "  \n",
       "    if (typeof (window._bokeh_onload_callbacks) === \"undefined\") {\n",
       "      window._bokeh_onload_callbacks = [];\n",
       "    }\n",
       "  \n",
       "    function run_callbacks() {\n",
       "      window._bokeh_onload_callbacks.forEach(function(callback) { callback() });\n",
       "      delete window._bokeh_onload_callbacks\n",
       "      console.info(\"Bokeh: all callbacks have finished\");\n",
       "    }\n",
       "  \n",
       "    function load_libs(js_urls, callback) {\n",
       "      window._bokeh_onload_callbacks.push(callback);\n",
       "      if (window._bokeh_is_loading > 0) {\n",
       "        console.log(\"Bokeh: BokehJS is being loaded, scheduling callback at\", now());\n",
       "        return null;\n",
       "      }\n",
       "      if (js_urls == null || js_urls.length === 0) {\n",
       "        run_callbacks();\n",
       "        return null;\n",
       "      }\n",
       "      console.log(\"Bokeh: BokehJS not loaded, scheduling load and callback at\", now());\n",
       "      window._bokeh_is_loading = js_urls.length;\n",
       "      for (var i = 0; i < js_urls.length; i++) {\n",
       "        var url = js_urls[i];\n",
       "        var s = document.createElement('script');\n",
       "        s.src = url;\n",
       "        s.async = false;\n",
       "        s.onreadystatechange = s.onload = function() {\n",
       "          window._bokeh_is_loading--;\n",
       "          if (window._bokeh_is_loading === 0) {\n",
       "            console.log(\"Bokeh: all BokehJS libraries loaded\");\n",
       "            run_callbacks()\n",
       "          }\n",
       "        };\n",
       "        s.onerror = function() {\n",
       "          console.warn(\"failed to load library \" + url);\n",
       "        };\n",
       "        console.log(\"Bokeh: injecting script tag for BokehJS library: \", url);\n",
       "        document.getElementsByTagName(\"head\")[0].appendChild(s);\n",
       "      }\n",
       "    };var element = document.getElementById(\"edca72b2-021d-4a2e-8ecd-27f671483fb0\");\n",
       "    if (element == null) {\n",
       "      console.log(\"Bokeh: ERROR: autoload.js configured with elementid 'edca72b2-021d-4a2e-8ecd-27f671483fb0' but no matching script tag was found. \")\n",
       "      return false;\n",
       "    }\n",
       "  \n",
       "    var js_urls = [];\n",
       "  \n",
       "    var inline_js = [\n",
       "      function(Bokeh) {\n",
       "        Bokeh.$(function() {\n",
       "            var docs_json = {\"4c1743f9-3ecf-4bc5-98fd-6f4051d659d4\":{\"roots\":{\"references\":[{\"attributes\":{\"plot\":{\"id\":\"fece934d-128b-4908-abe3-ada2b9cde0a2\",\"subtype\":\"Figure\",\"type\":\"Plot\"}},\"id\":\"1ac8dc8b-a3ab-4101-923f-7ff868fcab69\",\"type\":\"ResetTool\"},{\"attributes\":{\"callback\":null,\"column_names\":[\"index\",\"E\",\"C\",\"A\",\"B\",\"D\",\"x\",\"x\",\"x\",\"x\",\"x\"],\"data\":{\"A\":[0.651978163403073,0.6995742945575752,0.18353229966216822,0.8122416672018437,0.5956565392237994,0.5537961472681696,0.3779852387855448,0.8631843212437245,0.540792806332632,0.09143805727687737],\"B\":[0.26852014321289575,0.5187162762859121,0.4357279345414643,0.8507429986144194,0.7455125090331257,0.4506662042255579,0.36484625522900205,0.606447856467526,0.40958280062459174,0.3886585206455333],\"C\":[0.9744486455803802,0.8066646783207132,0.7567278455148634,0.9037484595174876,0.6757982818679236,0.20806272894041244,0.5435091661471874,0.4960748111011726,0.05564406900144636,0.46365827563914097],\"D\":[0.5212491288815714,0.38669824258210217,0.414794272916857,0.8909580406354701,0.8156661518863596,0.8427747247964076,0.878965024289426,0.6740521137286346,0.08645143493134999,0.09958591070144773],\"E\":[0.13428951986199222,0.8129744035115163,0.8240168127776002,0.7359837541076168,0.7790081210186706,0.3186327820684419,0.27863977477402013,0.8514857149865689,0.5716831917721521,0.713628063985527],\"index\":[0,1,2,3,4,5,6,7,8,9],\"x\":[0,1,2,3,4,5,6,7,8,9]}},\"id\":\"4709f17f-fc91-4f78-9cca-e27c88d85962\",\"type\":\"ColumnDataSource\"},{\"attributes\":{\"callback\":null},\"id\":\"fc730e70-2fad-45af-a55d-698661107bf8\",\"type\":\"DataRange1d\"},{\"attributes\":{\"line_alpha\":{\"value\":0.1},\"line_cap\":\"round\",\"line_color\":{\"value\":\"#1f77b4\"},\"line_join\":\"round\",\"line_width\":{\"value\":5},\"x\":{\"field\":\"x\"},\"y\":{\"field\":\"C\"}},\"id\":\"c61ef119-ec3a-4802-8649-bc554b79235c\",\"type\":\"Line\"},{\"attributes\":{},\"id\":\"2e224aec-d5a6-406d-9d44-af85ec6d6e5d\",\"type\":\"ToolEvents\"},{\"attributes\":{\"callback\":null,\"plot\":{\"id\":\"fece934d-128b-4908-abe3-ada2b9cde0a2\",\"subtype\":\"Figure\",\"type\":\"Plot\"},\"renderers\":[{\"id\":\"13054579-6441-486c-8e0d-73a3d7c1909e\",\"type\":\"GlyphRenderer\"}],\"tooltips\":[[\"x,y\",\"$x,$y\"],[\"column\",\"&nbsp;C\"]]},\"id\":\"11a44c82-18fa-48a4-8f35-81b9186da648\",\"type\":\"HoverTool\"},{\"attributes\":{\"callback\":null,\"plot\":{\"id\":\"fece934d-128b-4908-abe3-ada2b9cde0a2\",\"subtype\":\"Figure\",\"type\":\"Plot\"},\"renderers\":[{\"id\":\"8d3bd199-e6cd-42de-ab81-74ea9f1a485f\",\"type\":\"GlyphRenderer\"}],\"tooltips\":[[\"x,y\",\"$x,$y\"],[\"column\",\"&nbsp;B\"]]},\"id\":\"4b2724f3-cb4a-4df5-8481-091a4ae62338\",\"type\":\"HoverTool\"},{\"attributes\":{\"bottom_units\":\"screen\",\"fill_alpha\":{\"value\":0.5},\"fill_color\":{\"value\":\"lightgrey\"},\"left_units\":\"screen\",\"level\":\"overlay\",\"line_alpha\":{\"value\":1.0},\"line_color\":{\"value\":\"black\"},\"line_dash\":[4,4],\"line_width\":{\"value\":2},\"plot\":null,\"render_mode\":\"css\",\"right_units\":\"screen\",\"top_units\":\"screen\"},\"id\":\"897e4d88-37b1-44b2-a699-19a982ccc30c\",\"type\":\"BoxAnnotation\"},{\"attributes\":{\"callback\":null},\"id\":\"ecf1bc8b-cd25-4f97-99f9-251d36c1a41c\",\"type\":\"DataRange1d\"},{\"attributes\":{\"callback\":null,\"plot\":{\"id\":\"fece934d-128b-4908-abe3-ada2b9cde0a2\",\"subtype\":\"Figure\",\"type\":\"Plot\"},\"renderers\":[{\"id\":\"891837a1-4145-4e61-8316-6700e59eb7ff\",\"type\":\"GlyphRenderer\"}],\"tooltips\":[[\"x,y\",\"$x,$y\"],[\"column\",\"&nbsp;A\"]]},\"id\":\"6bdf2e92-dff6-4f4c-88cc-a89c0d224467\",\"type\":\"HoverTool\"},{\"attributes\":{\"line_cap\":\"round\",\"line_color\":{\"value\":\"#fee08b\"},\"line_join\":\"round\",\"line_width\":{\"value\":5},\"x\":{\"field\":\"x\"},\"y\":{\"field\":\"D\"}},\"id\":\"3c0b5984-a492-438f-bd1a-2f60eb329662\",\"type\":\"Line\"},{\"attributes\":{\"data_source\":{\"id\":\"4709f17f-fc91-4f78-9cca-e27c88d85962\",\"type\":\"ColumnDataSource\"},\"glyph\":{\"id\":\"3c0b5984-a492-438f-bd1a-2f60eb329662\",\"type\":\"Line\"},\"hover_glyph\":null,\"nonselection_glyph\":{\"id\":\"b6ee9486-4da3-446a-90e3-c6ebf5e16d03\",\"type\":\"Line\"},\"selection_glyph\":null},\"id\":\"d1bac3d5-19d4-4cf6-9522-cd5ce4546fa1\",\"type\":\"GlyphRenderer\"},{\"attributes\":{\"line_alpha\":{\"value\":0.1},\"line_cap\":\"round\",\"line_color\":{\"value\":\"#1f77b4\"},\"line_join\":\"round\",\"line_width\":{\"value\":5},\"x\":{\"field\":\"x\"},\"y\":{\"field\":\"E\"}},\"id\":\"68d9fec7-f90c-4a64-8d12-bf77053a25c9\",\"type\":\"Line\"},{\"attributes\":{\"plot\":{\"id\":\"fece934d-128b-4908-abe3-ada2b9cde0a2\",\"subtype\":\"Figure\",\"type\":\"Plot\"}},\"id\":\"d13f0be8-f39c-48d7-9044-3b726970e0a0\",\"type\":\"WheelZoomTool\"},{\"attributes\":{\"line_alpha\":{\"value\":0.1},\"line_cap\":\"round\",\"line_color\":{\"value\":\"#1f77b4\"},\"line_join\":\"round\",\"line_width\":{\"value\":5},\"x\":{\"field\":\"x\"},\"y\":{\"field\":\"B\"}},\"id\":\"34e9dddf-24d6-4398-a60d-53871c375941\",\"type\":\"Line\"},{\"attributes\":{\"line_cap\":\"round\",\"line_color\":{\"value\":\"#fc8d59\"},\"line_join\":\"round\",\"line_width\":{\"value\":5},\"x\":{\"field\":\"x\"},\"y\":{\"field\":\"E\"}},\"id\":\"463f5753-62c8-48ff-b3be-4bd80aae69d0\",\"type\":\"Line\"},{\"attributes\":{\"line_alpha\":{\"value\":0.1},\"line_cap\":\"round\",\"line_color\":{\"value\":\"#1f77b4\"},\"line_join\":\"round\",\"line_width\":{\"value\":5},\"x\":{\"field\":\"x\"},\"y\":{\"field\":\"A\"}},\"id\":\"52e98d82-df94-4762-b731-86fb3fd5a856\",\"type\":\"Line\"},{\"attributes\":{},\"id\":\"e1284627-0ab7-4d3a-a389-3b9442055e02\",\"type\":\"BasicTicker\"},{\"attributes\":{},\"id\":\"cadd9dc4-8057-4850-8051-cb63aef0935d\",\"type\":\"BasicTicker\"},{\"attributes\":{\"callback\":null,\"plot\":{\"id\":\"fece934d-128b-4908-abe3-ada2b9cde0a2\",\"subtype\":\"Figure\",\"type\":\"Plot\"},\"renderers\":[{\"id\":\"d1bac3d5-19d4-4cf6-9522-cd5ce4546fa1\",\"type\":\"GlyphRenderer\"}],\"tooltips\":[[\"x,y\",\"$x,$y\"],[\"column\",\"&nbsp;D\"]]},\"id\":\"a8245134-c12b-4a98-b01d-7af4be51f3b4\",\"type\":\"HoverTool\"},{\"attributes\":{\"dimension\":1,\"plot\":{\"id\":\"fece934d-128b-4908-abe3-ada2b9cde0a2\",\"subtype\":\"Figure\",\"type\":\"Plot\"},\"ticker\":{\"id\":\"cadd9dc4-8057-4850-8051-cb63aef0935d\",\"type\":\"BasicTicker\"}},\"id\":\"64440688-c34f-4565-b359-29e66aad7a2e\",\"type\":\"Grid\"},{\"attributes\":{\"data_source\":{\"id\":\"4709f17f-fc91-4f78-9cca-e27c88d85962\",\"type\":\"ColumnDataSource\"},\"glyph\":{\"id\":\"c239a775-9c1c-41d1-91f3-6f35e25cb5ff\",\"type\":\"Line\"},\"hover_glyph\":null,\"nonselection_glyph\":{\"id\":\"c61ef119-ec3a-4802-8649-bc554b79235c\",\"type\":\"Line\"},\"selection_glyph\":null},\"id\":\"13054579-6441-486c-8e0d-73a3d7c1909e\",\"type\":\"GlyphRenderer\"},{\"attributes\":{},\"id\":\"17da76e4-d001-47bd-b230-4e92754c5bf5\",\"type\":\"BasicTickFormatter\"},{\"attributes\":{\"below\":[{\"id\":\"e7dba94d-6e81-452f-a2b8-f24f0e0d771c\",\"type\":\"LinearAxis\"}],\"left\":[{\"id\":\"3281b3db-6604-483a-96bf-9108d130096d\",\"type\":\"LinearAxis\"}],\"plot_height\":400,\"plot_width\":800,\"renderers\":[{\"id\":\"e7dba94d-6e81-452f-a2b8-f24f0e0d771c\",\"type\":\"LinearAxis\"},{\"id\":\"353b1adc-1644-4d8e-9358-a37767beda3f\",\"type\":\"Grid\"},{\"id\":\"3281b3db-6604-483a-96bf-9108d130096d\",\"type\":\"LinearAxis\"},{\"id\":\"64440688-c34f-4565-b359-29e66aad7a2e\",\"type\":\"Grid\"},{\"id\":\"897e4d88-37b1-44b2-a699-19a982ccc30c\",\"type\":\"BoxAnnotation\"},{\"id\":\"88dc940d-d86d-471d-9c0e-e24195ee763b\",\"type\":\"Legend\"},{\"id\":\"891837a1-4145-4e61-8316-6700e59eb7ff\",\"type\":\"GlyphRenderer\"},{\"id\":\"8d3bd199-e6cd-42de-ab81-74ea9f1a485f\",\"type\":\"GlyphRenderer\"},{\"id\":\"13054579-6441-486c-8e0d-73a3d7c1909e\",\"type\":\"GlyphRenderer\"},{\"id\":\"d1bac3d5-19d4-4cf6-9522-cd5ce4546fa1\",\"type\":\"GlyphRenderer\"},{\"id\":\"a91a21e0-7c1d-4989-a209-7a063321fb6c\",\"type\":\"GlyphRenderer\"}],\"tool_events\":{\"id\":\"2e224aec-d5a6-406d-9d44-af85ec6d6e5d\",\"type\":\"ToolEvents\"},\"tools\":[{\"id\":\"0b28c313-d70e-4f33-9d78-864ed14843ad\",\"type\":\"PanTool\"},{\"id\":\"d13f0be8-f39c-48d7-9044-3b726970e0a0\",\"type\":\"WheelZoomTool\"},{\"id\":\"b9de6429-8a25-4902-b6a1-3f1d3b2ecab8\",\"type\":\"BoxZoomTool\"},{\"id\":\"96a70e90-7ed2-40c6-93f9-22e572e0ec71\",\"type\":\"PreviewSaveTool\"},{\"id\":\"c21509c5-2c13-4f4a-a4a3-be461ebe8e57\",\"type\":\"ResizeTool\"},{\"id\":\"1ac8dc8b-a3ab-4101-923f-7ff868fcab69\",\"type\":\"ResetTool\"},{\"id\":\"63894c4a-d52d-4c70-99db-b88a38280469\",\"type\":\"HelpTool\"},{\"id\":\"6bdf2e92-dff6-4f4c-88cc-a89c0d224467\",\"type\":\"HoverTool\"},{\"id\":\"4b2724f3-cb4a-4df5-8481-091a4ae62338\",\"type\":\"HoverTool\"},{\"id\":\"11a44c82-18fa-48a4-8f35-81b9186da648\",\"type\":\"HoverTool\"},{\"id\":\"a8245134-c12b-4a98-b01d-7af4be51f3b4\",\"type\":\"HoverTool\"},{\"id\":\"1cf6ea60-9827-4239-9fd4-194533d26596\",\"type\":\"HoverTool\"}],\"x_range\":{\"id\":\"ecf1bc8b-cd25-4f97-99f9-251d36c1a41c\",\"type\":\"DataRange1d\"},\"y_range\":{\"id\":\"fc730e70-2fad-45af-a55d-698661107bf8\",\"type\":\"DataRange1d\"}},\"id\":\"fece934d-128b-4908-abe3-ada2b9cde0a2\",\"subtype\":\"Figure\",\"type\":\"Plot\"},{\"attributes\":{\"line_cap\":\"round\",\"line_color\":{\"value\":\"#99d594\"},\"line_join\":\"round\",\"line_width\":{\"value\":5},\"x\":{\"field\":\"x\"},\"y\":{\"field\":\"B\"}},\"id\":\"9759f9f1-daf1-4922-8ca9-4a81a06192cf\",\"type\":\"Line\"},{\"attributes\":{\"line_cap\":\"round\",\"line_color\":{\"value\":\"#e6f598\"},\"line_join\":\"round\",\"line_width\":{\"value\":5},\"x\":{\"field\":\"x\"},\"y\":{\"field\":\"C\"}},\"id\":\"c239a775-9c1c-41d1-91f3-6f35e25cb5ff\",\"type\":\"Line\"},{\"attributes\":{\"line_alpha\":{\"value\":0.1},\"line_cap\":\"round\",\"line_color\":{\"value\":\"#1f77b4\"},\"line_join\":\"round\",\"line_width\":{\"value\":5},\"x\":{\"field\":\"x\"},\"y\":{\"field\":\"D\"}},\"id\":\"b6ee9486-4da3-446a-90e3-c6ebf5e16d03\",\"type\":\"Line\"},{\"attributes\":{\"plot\":{\"id\":\"fece934d-128b-4908-abe3-ada2b9cde0a2\",\"subtype\":\"Figure\",\"type\":\"Plot\"}},\"id\":\"96a70e90-7ed2-40c6-93f9-22e572e0ec71\",\"type\":\"PreviewSaveTool\"},{\"attributes\":{\"overlay\":{\"id\":\"897e4d88-37b1-44b2-a699-19a982ccc30c\",\"type\":\"BoxAnnotation\"},\"plot\":{\"id\":\"fece934d-128b-4908-abe3-ada2b9cde0a2\",\"subtype\":\"Figure\",\"type\":\"Plot\"}},\"id\":\"b9de6429-8a25-4902-b6a1-3f1d3b2ecab8\",\"type\":\"BoxZoomTool\"},{\"attributes\":{\"data_source\":{\"id\":\"4709f17f-fc91-4f78-9cca-e27c88d85962\",\"type\":\"ColumnDataSource\"},\"glyph\":{\"id\":\"9759f9f1-daf1-4922-8ca9-4a81a06192cf\",\"type\":\"Line\"},\"hover_glyph\":null,\"nonselection_glyph\":{\"id\":\"34e9dddf-24d6-4398-a60d-53871c375941\",\"type\":\"Line\"},\"selection_glyph\":null},\"id\":\"8d3bd199-e6cd-42de-ab81-74ea9f1a485f\",\"type\":\"GlyphRenderer\"},{\"attributes\":{\"plot\":{\"id\":\"fece934d-128b-4908-abe3-ada2b9cde0a2\",\"subtype\":\"Figure\",\"type\":\"Plot\"}},\"id\":\"0b28c313-d70e-4f33-9d78-864ed14843ad\",\"type\":\"PanTool\"},{\"attributes\":{\"callback\":null,\"plot\":{\"id\":\"fece934d-128b-4908-abe3-ada2b9cde0a2\",\"subtype\":\"Figure\",\"type\":\"Plot\"},\"renderers\":[{\"id\":\"a91a21e0-7c1d-4989-a209-7a063321fb6c\",\"type\":\"GlyphRenderer\"}],\"tooltips\":[[\"x,y\",\"$x,$y\"],[\"column\",\"&nbsp;E\"]]},\"id\":\"1cf6ea60-9827-4239-9fd4-194533d26596\",\"type\":\"HoverTool\"},{\"attributes\":{\"plot\":{\"id\":\"fece934d-128b-4908-abe3-ada2b9cde0a2\",\"subtype\":\"Figure\",\"type\":\"Plot\"}},\"id\":\"63894c4a-d52d-4c70-99db-b88a38280469\",\"type\":\"HelpTool\"},{\"attributes\":{\"data_source\":{\"id\":\"4709f17f-fc91-4f78-9cca-e27c88d85962\",\"type\":\"ColumnDataSource\"},\"glyph\":{\"id\":\"c9d7e9a7-16ae-4cdf-b11a-24f7af587728\",\"type\":\"Line\"},\"hover_glyph\":null,\"nonselection_glyph\":{\"id\":\"52e98d82-df94-4762-b731-86fb3fd5a856\",\"type\":\"Line\"},\"selection_glyph\":null},\"id\":\"891837a1-4145-4e61-8316-6700e59eb7ff\",\"type\":\"GlyphRenderer\"},{\"attributes\":{\"formatter\":{\"id\":\"17da76e4-d001-47bd-b230-4e92754c5bf5\",\"type\":\"BasicTickFormatter\"},\"plot\":{\"id\":\"fece934d-128b-4908-abe3-ada2b9cde0a2\",\"subtype\":\"Figure\",\"type\":\"Plot\"},\"ticker\":{\"id\":\"cadd9dc4-8057-4850-8051-cb63aef0935d\",\"type\":\"BasicTicker\"}},\"id\":\"3281b3db-6604-483a-96bf-9108d130096d\",\"type\":\"LinearAxis\"},{\"attributes\":{\"data_source\":{\"id\":\"4709f17f-fc91-4f78-9cca-e27c88d85962\",\"type\":\"ColumnDataSource\"},\"glyph\":{\"id\":\"463f5753-62c8-48ff-b3be-4bd80aae69d0\",\"type\":\"Line\"},\"hover_glyph\":null,\"nonselection_glyph\":{\"id\":\"68d9fec7-f90c-4a64-8d12-bf77053a25c9\",\"type\":\"Line\"},\"selection_glyph\":null},\"id\":\"a91a21e0-7c1d-4989-a209-7a063321fb6c\",\"type\":\"GlyphRenderer\"},{\"attributes\":{\"legends\":[[\"A\",[{\"id\":\"891837a1-4145-4e61-8316-6700e59eb7ff\",\"type\":\"GlyphRenderer\"}]],[\"B\",[{\"id\":\"8d3bd199-e6cd-42de-ab81-74ea9f1a485f\",\"type\":\"GlyphRenderer\"}]],[\"C\",[{\"id\":\"13054579-6441-486c-8e0d-73a3d7c1909e\",\"type\":\"GlyphRenderer\"}]],[\"D\",[{\"id\":\"d1bac3d5-19d4-4cf6-9522-cd5ce4546fa1\",\"type\":\"GlyphRenderer\"}]],[\"E\",[{\"id\":\"a91a21e0-7c1d-4989-a209-7a063321fb6c\",\"type\":\"GlyphRenderer\"}]]],\"plot\":{\"id\":\"fece934d-128b-4908-abe3-ada2b9cde0a2\",\"subtype\":\"Figure\",\"type\":\"Plot\"}},\"id\":\"88dc940d-d86d-471d-9c0e-e24195ee763b\",\"type\":\"Legend\"},{\"attributes\":{},\"id\":\"6aff71a2-d3b7-4c35-8cb5-9f53c925238f\",\"type\":\"BasicTickFormatter\"},{\"attributes\":{\"formatter\":{\"id\":\"6aff71a2-d3b7-4c35-8cb5-9f53c925238f\",\"type\":\"BasicTickFormatter\"},\"plot\":{\"id\":\"fece934d-128b-4908-abe3-ada2b9cde0a2\",\"subtype\":\"Figure\",\"type\":\"Plot\"},\"ticker\":{\"id\":\"e1284627-0ab7-4d3a-a389-3b9442055e02\",\"type\":\"BasicTicker\"}},\"id\":\"e7dba94d-6e81-452f-a2b8-f24f0e0d771c\",\"type\":\"LinearAxis\"},{\"attributes\":{\"plot\":{\"id\":\"fece934d-128b-4908-abe3-ada2b9cde0a2\",\"subtype\":\"Figure\",\"type\":\"Plot\"},\"ticker\":{\"id\":\"e1284627-0ab7-4d3a-a389-3b9442055e02\",\"type\":\"BasicTicker\"}},\"id\":\"353b1adc-1644-4d8e-9358-a37767beda3f\",\"type\":\"Grid\"},{\"attributes\":{\"line_cap\":\"round\",\"line_color\":{\"value\":\"#3288bd\"},\"line_join\":\"round\",\"line_width\":{\"value\":5},\"x\":{\"field\":\"x\"},\"y\":{\"field\":\"A\"}},\"id\":\"c9d7e9a7-16ae-4cdf-b11a-24f7af587728\",\"type\":\"Line\"},{\"attributes\":{\"plot\":{\"id\":\"fece934d-128b-4908-abe3-ada2b9cde0a2\",\"subtype\":\"Figure\",\"type\":\"Plot\"}},\"id\":\"c21509c5-2c13-4f4a-a4a3-be461ebe8e57\",\"type\":\"ResizeTool\"}],\"root_ids\":[\"fece934d-128b-4908-abe3-ada2b9cde0a2\"]},\"title\":\"Bokeh Application\",\"version\":\"0.11.1\"}};\n",
       "            var render_items = [{\"docid\":\"4c1743f9-3ecf-4bc5-98fd-6f4051d659d4\",\"elementid\":\"edca72b2-021d-4a2e-8ecd-27f671483fb0\",\"modelid\":\"fece934d-128b-4908-abe3-ada2b9cde0a2\",\"notebook_comms_target\":\"34d92780-18c9-457e-b4da-78fa08589f27\"}];\n",
       "            \n",
       "            Bokeh.embed.embed_items(docs_json, render_items);\n",
       "        });\n",
       "      },\n",
       "      function(Bokeh) {\n",
       "      }\n",
       "    ];\n",
       "  \n",
       "    function run_inline_js() {\n",
       "      for (var i = 0; i < inline_js.length; i++) {\n",
       "        inline_js[i](window.Bokeh);\n",
       "      }\n",
       "    }\n",
       "  \n",
       "    if (window._bokeh_is_loading === 0) {\n",
       "      console.log(\"Bokeh: BokehJS loaded, going straight to plotting\");\n",
       "      run_inline_js();\n",
       "    } else {\n",
       "      load_libs(js_urls, function() {\n",
       "        console.log(\"Bokeh: BokehJS plotting callback run at\", now());\n",
       "        run_inline_js();\n",
       "      });\n",
       "    }\n",
       "  }(this));\n",
       "</script>"
      ]
     },
     "metadata": {},
     "output_type": "display_data"
    },
    {
     "data": {
      "text/html": [
       "<p><code>&lt;Bokeh Notebook handle for <strong>In[2]</strong>&gt;</code></p>"
      ],
      "text/plain": [
       "<bokeh.io._CommsHandle at 0x113f03e80>"
      ]
     },
     "execution_count": 2,
     "metadata": {},
     "output_type": "execute_result"
    }
   ],
   "source": [
    "\n",
    "df = pd.DataFrame(np.random.rand(10, 5), columns=['A', 'B', 'C', 'D', 'E'])\n",
    "\n",
    "colors = Spectral6\n",
    "colorcycler = cycle(colors)\n",
    "\n",
    "source = ColumnDataSource(df)\n",
    "p = figure(plot_width=800, plot_height=400)\n",
    "\n",
    "for column in df.columns:\n",
    "    line = p.line(\n",
    "        x=df.index, y=column, source=source, legend=\"%s\" % column,\n",
    "        line_color=next(colorcycler), line_width=5, line_cap='round', line_join='round'\n",
    "    )\n",
    "    p.add_tools(HoverTool(tooltips=[(\"x,y\",\"$x,$y\"),(\"column\", \"&nbsp;%s\" % column),], renderers=[line]))\n",
    "show(p)"
   ]
  },
  {
   "cell_type": "code",
   "execution_count": null,
   "metadata": {
    "collapsed": true
   },
   "outputs": [],
   "source": []
  }
 ],
 "metadata": {
  "kernelspec": {
   "display_name": "Python 3",
   "language": "python",
   "name": "python3"
  },
  "language_info": {
   "codemirror_mode": {
    "name": "ipython",
    "version": 3
   },
   "file_extension": ".py",
   "mimetype": "text/x-python",
   "name": "python",
   "nbconvert_exporter": "python",
   "pygments_lexer": "ipython3",
   "version": "3.5.1"
  }
 },
 "nbformat": 4,
 "nbformat_minor": 0
}

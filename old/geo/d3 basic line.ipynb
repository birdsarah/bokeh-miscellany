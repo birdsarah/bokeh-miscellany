{
 "cells": [
  {
   "cell_type": "code",
   "execution_count": 1,
   "metadata": {
    "collapsed": false
   },
   "outputs": [
    {
     "data": {
      "application/javascript": [
       "require.config({\n",
       "    paths: {\n",
       "        d3: '//cdnjs.cloudflare.com/ajax/libs/d3/3.4.8/d3.min'\n",
       "    }\n",
       "});"
      ],
      "text/plain": [
       "<IPython.core.display.Javascript object>"
      ]
     },
     "metadata": {},
     "output_type": "display_data"
    }
   ],
   "source": [
    "%%javascript\n",
    "require.config({\n",
    "    paths: {\n",
    "        d3: '//cdnjs.cloudflare.com/ajax/libs/d3/3.4.8/d3.min'\n",
    "    }\n",
    "});"
   ]
  },
  {
   "cell_type": "code",
   "execution_count": 10,
   "metadata": {
    "collapsed": false
   },
   "outputs": [
    {
     "data": {
      "text/html": [
       "\n",
       "<style>\n",
       "\n",
       "body {\n",
       "  font: 10px sans-serif;\n",
       "}\n",
       "\n",
       ".axis path,\n",
       ".axis line {\n",
       "  fill: none;\n",
       "  stroke: #000;\n",
       "  shape-rendering: crispEdges;\n",
       "}\n",
       "\n",
       ".x.axis path {\n",
       "  display: none;\n",
       "}\n",
       "\n",
       ".line {\n",
       "  fill: none;\n",
       "  stroke: steelblue;\n",
       "  stroke-width: 1.5px;\n",
       "}\n",
       "\n",
       "</style>\n",
       "<div id='chart'></div>\n"
      ],
      "text/plain": [
       "<IPython.core.display.HTML object>"
      ]
     },
     "metadata": {},
     "output_type": "display_data"
    }
   ],
   "source": [
    "from IPython.display import display, HTML\n",
    "display(HTML(\"\"\"\n",
    "<style>\n",
    "\n",
    "body {\n",
    "  font: 10px sans-serif;\n",
    "}\n",
    "\n",
    ".axis path,\n",
    ".axis line {\n",
    "  fill: none;\n",
    "  stroke: #000;\n",
    "  shape-rendering: crispEdges;\n",
    "}\n",
    "\n",
    ".x.axis path {\n",
    "  display: none;\n",
    "}\n",
    "\n",
    ".line {\n",
    "  fill: none;\n",
    "  stroke: steelblue;\n",
    "  stroke-width: 1.5px;\n",
    "}\n",
    "\n",
    "</style>\n",
    "<div id='chart'></div>\n",
    "\"\"\"))\n"
   ]
  },
  {
   "cell_type": "code",
   "execution_count": 11,
   "metadata": {
    "collapsed": false
   },
   "outputs": [
    {
     "data": {
      "application/javascript": [
       "require(['d3'], function(d3){  \n",
       "\n",
       "    var margin = {top: 20, right: 20, bottom: 30, left: 50},\n",
       "        width = 960 - margin.left - margin.right,\n",
       "        height = 500 - margin.top - margin.bottom;\n",
       "\n",
       "    var parseDate = d3.time.format(\"%d-%b-%y\").parse;\n",
       "\n",
       "    var x = d3.time.scale()\n",
       "        .range([0, width]);\n",
       "\n",
       "    var y = d3.scale.linear()\n",
       "        .range([height, 0]);\n",
       "\n",
       "    var xAxis = d3.svg.axis()\n",
       "        .scale(x)\n",
       "        .orient(\"bottom\");\n",
       "\n",
       "    var yAxis = d3.svg.axis()\n",
       "        .scale(y)\n",
       "        .orient(\"left\");\n",
       "\n",
       "    var line = d3.svg.line()\n",
       "        .x(function(d) { return x(d.date); })\n",
       "        .y(function(d) { return y(d.close); });\n",
       "\n",
       "    var svg = d3.select(\"#chart\").append(\"svg\")\n",
       "        .attr(\"width\", width + margin.left + margin.right)\n",
       "        .attr(\"height\", height + margin.top + margin.bottom)\n",
       "      .append(\"g\")\n",
       "        .attr(\"transform\", \"translate(\" + margin.left + \",\" + margin.top + \")\");\n",
       "\n",
       "    d3.tsv(\"data.tsv\", function(error, data) {\n",
       "      if (error) throw error;\n",
       "\n",
       "      data.forEach(function(d) {\n",
       "        d.date = parseDate(d.date);\n",
       "        d.close = +d.close;\n",
       "      });\n",
       "\n",
       "      x.domain(d3.extent(data, function(d) { return d.date; }));\n",
       "      y.domain(d3.extent(data, function(d) { return d.close; }));\n",
       "\n",
       "      svg.append(\"g\")\n",
       "          .attr(\"class\", \"x axis\")\n",
       "          .attr(\"transform\", \"translate(0,\" + height + \")\")\n",
       "          .call(xAxis);\n",
       "\n",
       "      svg.append(\"g\")\n",
       "          .attr(\"class\", \"y axis\")\n",
       "          .call(yAxis)\n",
       "        .append(\"text\")\n",
       "          .attr(\"transform\", \"rotate(-90)\")\n",
       "          .attr(\"y\", 6)\n",
       "          .attr(\"dy\", \".71em\")\n",
       "          .style(\"text-anchor\", \"end\")\n",
       "          .text(\"Price ($)\");\n",
       "\n",
       "      svg.append(\"path\")\n",
       "          .datum(data)\n",
       "          .attr(\"class\", \"line\")\n",
       "          .attr(\"d\", line);\n",
       "    });\n",
       "    \n",
       "})();"
      ],
      "text/plain": [
       "<IPython.core.display.Javascript object>"
      ]
     },
     "metadata": {},
     "output_type": "display_data"
    }
   ],
   "source": [
    "%%javascript\n",
    "require(['d3'], function(d3){  \n",
    "\n",
    "    var margin = {top: 20, right: 20, bottom: 30, left: 50},\n",
    "        width = 960 - margin.left - margin.right,\n",
    "        height = 500 - margin.top - margin.bottom;\n",
    "\n",
    "    var parseDate = d3.time.format(\"%d-%b-%y\").parse;\n",
    "\n",
    "    var x = d3.time.scale()\n",
    "        .range([0, width]);\n",
    "\n",
    "    var y = d3.scale.linear()\n",
    "        .range([height, 0]);\n",
    "\n",
    "    var xAxis = d3.svg.axis()\n",
    "        .scale(x)\n",
    "        .orient(\"bottom\");\n",
    "\n",
    "    var yAxis = d3.svg.axis()\n",
    "        .scale(y)\n",
    "        .orient(\"left\");\n",
    "\n",
    "    var line = d3.svg.line()\n",
    "        .x(function(d) { return x(d.date); })\n",
    "        .y(function(d) { return y(d.close); });\n",
    "\n",
    "    var svg = d3.select(\"#chart\").append(\"svg\")\n",
    "        .attr(\"width\", width + margin.left + margin.right)\n",
    "        .attr(\"height\", height + margin.top + margin.bottom)\n",
    "      .append(\"g\")\n",
    "        .attr(\"transform\", \"translate(\" + margin.left + \",\" + margin.top + \")\");\n",
    "\n",
    "    d3.tsv(\"data.tsv\", function(error, data) {\n",
    "      if (error) throw error;\n",
    "\n",
    "      data.forEach(function(d) {\n",
    "        d.date = parseDate(d.date);\n",
    "        d.close = +d.close;\n",
    "      });\n",
    "\n",
    "      x.domain(d3.extent(data, function(d) { return d.date; }));\n",
    "      y.domain(d3.extent(data, function(d) { return d.close; }));\n",
    "\n",
    "      svg.append(\"g\")\n",
    "          .attr(\"class\", \"x axis\")\n",
    "          .attr(\"transform\", \"translate(0,\" + height + \")\")\n",
    "          .call(xAxis);\n",
    "\n",
    "      svg.append(\"g\")\n",
    "          .attr(\"class\", \"y axis\")\n",
    "          .call(yAxis)\n",
    "        .append(\"text\")\n",
    "          .attr(\"transform\", \"rotate(-90)\")\n",
    "          .attr(\"y\", 6)\n",
    "          .attr(\"dy\", \".71em\")\n",
    "          .style(\"text-anchor\", \"end\")\n",
    "          .text(\"Price ($)\");\n",
    "\n",
    "      svg.append(\"path\")\n",
    "          .datum(data)\n",
    "          .attr(\"class\", \"line\")\n",
    "          .attr(\"d\", line);\n",
    "    });\n",
    "    \n",
    "})();\n"
   ]
  },
  {
   "cell_type": "code",
   "execution_count": null,
   "metadata": {
    "collapsed": true
   },
   "outputs": [],
   "source": []
  }
 ],
 "metadata": {
  "kernelspec": {
   "display_name": "Python 3",
   "language": "python",
   "name": "python3"
  },
  "language_info": {
   "codemirror_mode": {
    "name": "ipython",
    "version": 3
   },
   "file_extension": ".py",
   "mimetype": "text/x-python",
   "name": "python",
   "nbconvert_exporter": "python",
   "pygments_lexer": "ipython3",
   "version": "3.4.3"
  }
 },
 "nbformat": 4,
 "nbformat_minor": 0
}

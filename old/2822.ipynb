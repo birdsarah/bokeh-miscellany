{
 "cells": [
  {
   "cell_type": "code",
   "execution_count": 1,
   "metadata": {
    "collapsed": false
   },
   "outputs": [
    {
     "data": {
      "text/html": [
       "\n",
       "    <div class=\"bk-banner\">\n",
       "        <a href=\"http://bokeh.pydata.org\" target=\"_blank\" class=\"bk-logo bk-logo-small bk-logo-notebook\"></a>\n",
       "        <span id=\"752fb7f2-dcda-4cc1-bc12-8d00dba72cf4\">Loading BokehJS ...</span>\n",
       "    </div>"
      ]
     },
     "metadata": {},
     "output_type": "display_data"
    },
    {
     "data": {
      "application/javascript": [
       "\n",
       "(function(global) {\n",
       "  function now() {\n",
       "    return new Date();\n",
       "  }\n",
       "\n",
       "  if (typeof (window._bokeh_onload_callbacks) === \"undefined\") {\n",
       "    window._bokeh_onload_callbacks = [];\n",
       "  }\n",
       "\n",
       "  function run_callbacks() {\n",
       "    window._bokeh_onload_callbacks.forEach(function(callback) { callback() });\n",
       "    delete window._bokeh_onload_callbacks\n",
       "    console.info(\"Bokeh: all callbacks have finished\");\n",
       "  }\n",
       "\n",
       "  function load_libs(js_urls, callback) {\n",
       "    window._bokeh_onload_callbacks.push(callback);\n",
       "    if (window._bokeh_is_loading > 0) {\n",
       "      console.log(\"Bokeh: BokehJS is being loaded, scheduling callback at\", now());\n",
       "      return null;\n",
       "    }\n",
       "    if (js_urls == null || js_urls.length === 0) {\n",
       "      run_callbacks();\n",
       "      return null;\n",
       "    }\n",
       "    console.log(\"Bokeh: BokehJS not loaded, scheduling load and callback at\", now());\n",
       "    window._bokeh_is_loading = js_urls.length;\n",
       "    for (var i = 0; i < js_urls.length; i++) {\n",
       "      var url = js_urls[i];\n",
       "      var s = document.createElement('script');\n",
       "      s.src = url;\n",
       "      s.async = false;\n",
       "      s.onreadystatechange = s.onload = function() {\n",
       "        window._bokeh_is_loading--;\n",
       "        if (window._bokeh_is_loading === 0) {\n",
       "          console.log(\"Bokeh: all BokehJS libraries loaded\");\n",
       "          run_callbacks()\n",
       "        }\n",
       "      };\n",
       "      s.onerror = function() {\n",
       "        console.warn(\"failed to load library \" + url);\n",
       "      };\n",
       "      console.log(\"Bokeh: injecting script tag for BokehJS library: \", url);\n",
       "      document.getElementsByTagName(\"head\")[0].appendChild(s);\n",
       "    }\n",
       "  };\n",
       "\n",
       "  var js_urls = ['https://cdn.pydata.org/bokeh/release/bokeh-0.11.1.min.js', 'https://cdn.pydata.org/bokeh/release/bokeh-widgets-0.11.1.min.js', 'https://cdn.pydata.org/bokeh/release/bokeh-compiler-0.11.1.min.js'];\n",
       "\n",
       "  var inline_js = [\n",
       "    function(Bokeh) {\n",
       "      Bokeh.set_log_level(\"info\");\n",
       "    },\n",
       "    \n",
       "    function(Bokeh) {\n",
       "      Bokeh.$(\"#752fb7f2-dcda-4cc1-bc12-8d00dba72cf4\").text(\"BokehJS successfully loaded\");\n",
       "    },\n",
       "    function(Bokeh) {\n",
       "      console.log(\"Bokeh: injecting CSS: https://cdn.pydata.org/bokeh/release/bokeh-0.11.1.min.css\");\n",
       "      Bokeh.embed.inject_css(\"https://cdn.pydata.org/bokeh/release/bokeh-0.11.1.min.css\");\n",
       "      console.log(\"Bokeh: injecting CSS: https://cdn.pydata.org/bokeh/release/bokeh-widgets-0.11.1.min.css\");\n",
       "      Bokeh.embed.inject_css(\"https://cdn.pydata.org/bokeh/release/bokeh-widgets-0.11.1.min.css\");\n",
       "    }\n",
       "  ];\n",
       "\n",
       "  function run_inline_js() {\n",
       "    for (var i = 0; i < inline_js.length; i++) {\n",
       "      inline_js[i](window.Bokeh);\n",
       "    }\n",
       "  }\n",
       "\n",
       "  if (window._bokeh_is_loading === 0) {\n",
       "    console.log(\"Bokeh: BokehJS loaded, going straight to plotting\");\n",
       "    run_inline_js();\n",
       "  } else {\n",
       "    load_libs(js_urls, function() {\n",
       "      console.log(\"Bokeh: BokehJS plotting callback run at\", now());\n",
       "      run_inline_js();\n",
       "    });\n",
       "  }\n",
       "}(this));"
      ]
     },
     "metadata": {},
     "output_type": "display_data"
    }
   ],
   "source": [
    "from bokeh.models import (\n",
    "    Circle, GMapPlot, Range1d, ColumnDataSource,\n",
    "    PanTool, WheelZoomTool, ResetTool, GMapOptions)\n",
    "from bokeh.io import output_notebook, show\n",
    "output_notebook()"
   ]
  },
  {
   "cell_type": "code",
   "execution_count": 2,
   "metadata": {
    "collapsed": false
   },
   "outputs": [
    {
     "data": {
      "text/html": [
       "\n",
       "\n",
       "    <div class=\"plotdiv\" id=\"042b8aaf-14e6-41be-8055-59b3a7af83b0\"></div>\n",
       "<script type=\"text/javascript\">\n",
       "  \n",
       "  (function(global) {\n",
       "    function now() {\n",
       "      return new Date();\n",
       "    }\n",
       "  \n",
       "    if (typeof (window._bokeh_onload_callbacks) === \"undefined\") {\n",
       "      window._bokeh_onload_callbacks = [];\n",
       "    }\n",
       "  \n",
       "    function run_callbacks() {\n",
       "      window._bokeh_onload_callbacks.forEach(function(callback) { callback() });\n",
       "      delete window._bokeh_onload_callbacks\n",
       "      console.info(\"Bokeh: all callbacks have finished\");\n",
       "    }\n",
       "  \n",
       "    function load_libs(js_urls, callback) {\n",
       "      window._bokeh_onload_callbacks.push(callback);\n",
       "      if (window._bokeh_is_loading > 0) {\n",
       "        console.log(\"Bokeh: BokehJS is being loaded, scheduling callback at\", now());\n",
       "        return null;\n",
       "      }\n",
       "      if (js_urls == null || js_urls.length === 0) {\n",
       "        run_callbacks();\n",
       "        return null;\n",
       "      }\n",
       "      console.log(\"Bokeh: BokehJS not loaded, scheduling load and callback at\", now());\n",
       "      window._bokeh_is_loading = js_urls.length;\n",
       "      for (var i = 0; i < js_urls.length; i++) {\n",
       "        var url = js_urls[i];\n",
       "        var s = document.createElement('script');\n",
       "        s.src = url;\n",
       "        s.async = false;\n",
       "        s.onreadystatechange = s.onload = function() {\n",
       "          window._bokeh_is_loading--;\n",
       "          if (window._bokeh_is_loading === 0) {\n",
       "            console.log(\"Bokeh: all BokehJS libraries loaded\");\n",
       "            run_callbacks()\n",
       "          }\n",
       "        };\n",
       "        s.onerror = function() {\n",
       "          console.warn(\"failed to load library \" + url);\n",
       "        };\n",
       "        console.log(\"Bokeh: injecting script tag for BokehJS library: \", url);\n",
       "        document.getElementsByTagName(\"head\")[0].appendChild(s);\n",
       "      }\n",
       "    };var element = document.getElementById(\"042b8aaf-14e6-41be-8055-59b3a7af83b0\");\n",
       "    if (element == null) {\n",
       "      console.log(\"Bokeh: ERROR: autoload.js configured with elementid '042b8aaf-14e6-41be-8055-59b3a7af83b0' but no matching script tag was found. \")\n",
       "      return false;\n",
       "    }\n",
       "  \n",
       "    var js_urls = [];\n",
       "  \n",
       "    var inline_js = [\n",
       "      function(Bokeh) {\n",
       "        Bokeh.$(function() {\n",
       "            var docs_json = {\"88bba02a-0415-4416-a444-97c733cba2c8\":{\"roots\":{\"references\":[{\"attributes\":{\"fill_color\":{\"field\":\"fill\"},\"size\":{\"units\":\"screen\",\"value\":15},\"x\":{\"field\":\"lon\"},\"y\":{\"field\":\"lat\"}},\"id\":\"3d475579-b59d-4d48-ae4f-b3a61d2b06d5\",\"type\":\"Circle\"},{\"attributes\":{\"data_source\":{\"id\":\"b981c4a5-742e-4837-8faf-9edac31dc287\",\"type\":\"ColumnDataSource\"},\"glyph\":{\"id\":\"3d475579-b59d-4d48-ae4f-b3a61d2b06d5\",\"type\":\"Circle\"},\"hover_glyph\":null,\"nonselection_glyph\":null,\"selection_glyph\":null},\"id\":\"462aa5a8-971a-44ea-8d67-ab2208d69054\",\"type\":\"GlyphRenderer\"},{\"attributes\":{\"callback\":null,\"end\":-100,\"start\":-96},\"id\":\"6dca3898-0c0f-4cdf-8418-b468fe197037\",\"type\":\"Range1d\"},{\"attributes\":{\"callback\":null,\"column_names\":[\"lat\",\"fill\",\"lon\"],\"data\":{\"fill\":[\"orange\",\"blue\",\"green\"],\"lat\":[30.2861,30.2855,30.2869],\"lon\":[-97.7394,-97.739,-97.7405]}},\"id\":\"b981c4a5-742e-4837-8faf-9edac31dc287\",\"type\":\"ColumnDataSource\"},{\"attributes\":{\"map_options\":{\"lat\":30.2861,\"lng\":-97.7394,\"map_type\":\"roadmap\",\"zoom\":13},\"renderers\":[{\"id\":\"462aa5a8-971a-44ea-8d67-ab2208d69054\",\"type\":\"GlyphRenderer\"}],\"title\":\"Austin\",\"tool_events\":{\"id\":\"8d2509de-b133-4e3e-b82d-453930b0e4ff\",\"type\":\"ToolEvents\"},\"tools\":[{\"id\":\"96bdd73d-60de-4b36-a38f-38ee3808638c\",\"type\":\"PanTool\"},{\"id\":\"377fc60c-f3d6-4da0-94bb-2c77c8d14112\",\"type\":\"WheelZoomTool\"},{\"id\":\"baab95ac-68df-4881-a73f-d5650e19c442\",\"type\":\"ResetTool\"}],\"x_range\":{\"id\":\"6b97ea8e-ae0a-41ce-b1b2-dbc9b2d2a29d\",\"type\":\"Range1d\"},\"y_range\":{\"id\":\"6dca3898-0c0f-4cdf-8418-b468fe197037\",\"type\":\"Range1d\"}},\"id\":\"5214033c-9180-4dc2-839f-bb3c9f033f17\",\"type\":\"GMapPlot\"},{\"attributes\":{\"plot\":{\"id\":\"5214033c-9180-4dc2-839f-bb3c9f033f17\",\"type\":\"GMapPlot\"}},\"id\":\"96bdd73d-60de-4b36-a38f-38ee3808638c\",\"type\":\"PanTool\"},{\"attributes\":{\"plot\":{\"id\":\"5214033c-9180-4dc2-839f-bb3c9f033f17\",\"type\":\"GMapPlot\"}},\"id\":\"baab95ac-68df-4881-a73f-d5650e19c442\",\"type\":\"ResetTool\"},{\"attributes\":{\"callback\":null,\"end\":32,\"start\":28},\"id\":\"6b97ea8e-ae0a-41ce-b1b2-dbc9b2d2a29d\",\"type\":\"Range1d\"},{\"attributes\":{},\"id\":\"8d2509de-b133-4e3e-b82d-453930b0e4ff\",\"type\":\"ToolEvents\"},{\"attributes\":{\"plot\":{\"id\":\"5214033c-9180-4dc2-839f-bb3c9f033f17\",\"type\":\"GMapPlot\"}},\"id\":\"377fc60c-f3d6-4da0-94bb-2c77c8d14112\",\"type\":\"WheelZoomTool\"}],\"root_ids\":[\"5214033c-9180-4dc2-839f-bb3c9f033f17\"]},\"title\":\"Bokeh Application\",\"version\":\"0.11.1\"}};\n",
       "            var render_items = [{\"docid\":\"88bba02a-0415-4416-a444-97c733cba2c8\",\"elementid\":\"042b8aaf-14e6-41be-8055-59b3a7af83b0\",\"modelid\":\"5214033c-9180-4dc2-839f-bb3c9f033f17\",\"notebook_comms_target\":\"2f7cea20-e842-44eb-ad00-3184b3782f19\"}];\n",
       "            \n",
       "            Bokeh.embed.embed_items(docs_json, render_items);\n",
       "        });\n",
       "      },\n",
       "      function(Bokeh) {\n",
       "      }\n",
       "    ];\n",
       "  \n",
       "    function run_inline_js() {\n",
       "      for (var i = 0; i < inline_js.length; i++) {\n",
       "        inline_js[i](window.Bokeh);\n",
       "      }\n",
       "    }\n",
       "  \n",
       "    if (window._bokeh_is_loading === 0) {\n",
       "      console.log(\"Bokeh: BokehJS loaded, going straight to plotting\");\n",
       "      run_inline_js();\n",
       "    } else {\n",
       "      load_libs(js_urls, function() {\n",
       "        console.log(\"Bokeh: BokehJS plotting callback run at\", now());\n",
       "        run_inline_js();\n",
       "      });\n",
       "    }\n",
       "  }(this));\n",
       "</script>"
      ]
     },
     "metadata": {},
     "output_type": "display_data"
    },
    {
     "data": {
      "text/html": [
       "<p><code>&lt;Bokeh Notebook handle for <strong>In[2]</strong>&gt;</code></p>"
      ],
      "text/plain": [
       "<bokeh.io._CommsHandle at 0x10cce9a20>"
      ]
     },
     "execution_count": 2,
     "metadata": {},
     "output_type": "execute_result"
    }
   ],
   "source": [
    "gmap_options = GMapOptions(lat=30.2861, lng=-97.7394, map_type=\"roadmap\", zoom=13)\n",
    "\n",
    "x_range = Range1d(28, 32)\n",
    "y_range = Range1d(-96, -100)\n",
    "\n",
    "plot = GMapPlot(\n",
    "    x_range=x_range, \n",
    "    y_range=y_range,\n",
    "    map_options=gmap_options,\n",
    "    title = \"Austin\",\n",
    ")\n",
    "\n",
    "source = ColumnDataSource(\n",
    "    data=dict(\n",
    "        lat=[30.2861, 30.2855, 30.2869],\n",
    "        lon=[-97.7394, -97.7390, -97.7405],\n",
    "        fill=['orange', 'blue', 'green']\n",
    "    )\n",
    ")\n",
    "\n",
    "circle = Circle(x=\"lon\", y=\"lat\", size=15, fill_color=\"fill\", line_color=\"black\")\n",
    "plot.add_glyph(source, circle)\n",
    "\n",
    "plot.add_tools(PanTool(), WheelZoomTool(), ResetTool())\n",
    "\n",
    "show(plot)"
   ]
  },
  {
   "cell_type": "code",
   "execution_count": null,
   "metadata": {
    "collapsed": true
   },
   "outputs": [],
   "source": []
  }
 ],
 "metadata": {
  "kernelspec": {
   "display_name": "Python 3",
   "language": "python",
   "name": "python3"
  },
  "language_info": {
   "codemirror_mode": {
    "name": "ipython",
    "version": 3
   },
   "file_extension": ".py",
   "mimetype": "text/x-python",
   "name": "python",
   "nbconvert_exporter": "python",
   "pygments_lexer": "ipython3",
   "version": "3.5.1"
  }
 },
 "nbformat": 4,
 "nbformat_minor": 0
}

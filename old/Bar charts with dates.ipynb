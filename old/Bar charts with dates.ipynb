{
 "cells": [
  {
   "cell_type": "code",
   "execution_count": 1,
   "metadata": {
    "collapsed": false
   },
   "outputs": [
    {
     "data": {
      "text/html": [
       "\n",
       "    <div class=\"bk-banner\">\n",
       "        <a href=\"http://bokeh.pydata.org\" target=\"_blank\" class=\"bk-logo bk-logo-small bk-logo-notebook\"></a>\n",
       "        <span id=\"bd94156c-9b0f-4d83-9e5c-a0cb010f1d05\">Loading BokehJS ...</span>\n",
       "    </div>"
      ]
     },
     "metadata": {},
     "output_type": "display_data"
    },
    {
     "data": {
      "application/javascript": [
       "\n",
       "(function(global) {\n",
       "  function now() {\n",
       "    return new Date();\n",
       "  }\n",
       "\n",
       "  if (typeof (window._bokeh_onload_callbacks) === \"undefined\") {\n",
       "    window._bokeh_onload_callbacks = [];\n",
       "  }\n",
       "\n",
       "  function run_callbacks() {\n",
       "    window._bokeh_onload_callbacks.forEach(function(callback) { callback() });\n",
       "    delete window._bokeh_onload_callbacks\n",
       "    console.info(\"Bokeh: all callbacks have finished\");\n",
       "  }\n",
       "\n",
       "  function load_libs(js_urls, callback) {\n",
       "    window._bokeh_onload_callbacks.push(callback);\n",
       "    if (window._bokeh_is_loading > 0) {\n",
       "      console.log(\"Bokeh: BokehJS is being loaded, scheduling callback at\", now());\n",
       "      return null;\n",
       "    }\n",
       "    if (js_urls == null || js_urls.length === 0) {\n",
       "      run_callbacks();\n",
       "      return null;\n",
       "    }\n",
       "    console.log(\"Bokeh: BokehJS not loaded, scheduling load and callback at\", now());\n",
       "    window._bokeh_is_loading = js_urls.length;\n",
       "    for (var i = 0; i < js_urls.length; i++) {\n",
       "      var url = js_urls[i];\n",
       "      var s = document.createElement('script');\n",
       "      s.src = url;\n",
       "      s.async = false;\n",
       "      s.onreadystatechange = s.onload = function() {\n",
       "        window._bokeh_is_loading--;\n",
       "        if (window._bokeh_is_loading === 0) {\n",
       "          console.log(\"Bokeh: all BokehJS libraries loaded\");\n",
       "          run_callbacks()\n",
       "        }\n",
       "      };\n",
       "      s.onerror = function() {\n",
       "        console.warn(\"failed to load library \" + url);\n",
       "      };\n",
       "      console.log(\"Bokeh: injecting script tag for BokehJS library: \", url);\n",
       "      document.getElementsByTagName(\"head\")[0].appendChild(s);\n",
       "    }\n",
       "  };\n",
       "\n",
       "  var js_urls = ['https://cdn.pydata.org/bokeh/release/bokeh-0.11.1.min.js', 'https://cdn.pydata.org/bokeh/release/bokeh-widgets-0.11.1.min.js', 'https://cdn.pydata.org/bokeh/release/bokeh-compiler-0.11.1.min.js'];\n",
       "\n",
       "  var inline_js = [\n",
       "    function(Bokeh) {\n",
       "      Bokeh.set_log_level(\"info\");\n",
       "    },\n",
       "    \n",
       "    function(Bokeh) {\n",
       "      Bokeh.$(\"#bd94156c-9b0f-4d83-9e5c-a0cb010f1d05\").text(\"BokehJS successfully loaded\");\n",
       "    },\n",
       "    function(Bokeh) {\n",
       "      console.log(\"Bokeh: injecting CSS: https://cdn.pydata.org/bokeh/release/bokeh-0.11.1.min.css\");\n",
       "      Bokeh.embed.inject_css(\"https://cdn.pydata.org/bokeh/release/bokeh-0.11.1.min.css\");\n",
       "      console.log(\"Bokeh: injecting CSS: https://cdn.pydata.org/bokeh/release/bokeh-widgets-0.11.1.min.css\");\n",
       "      Bokeh.embed.inject_css(\"https://cdn.pydata.org/bokeh/release/bokeh-widgets-0.11.1.min.css\");\n",
       "    }\n",
       "  ];\n",
       "\n",
       "  function run_inline_js() {\n",
       "    for (var i = 0; i < inline_js.length; i++) {\n",
       "      inline_js[i](window.Bokeh);\n",
       "    }\n",
       "  }\n",
       "\n",
       "  if (window._bokeh_is_loading === 0) {\n",
       "    console.log(\"Bokeh: BokehJS loaded, going straight to plotting\");\n",
       "    run_inline_js();\n",
       "  } else {\n",
       "    load_libs(js_urls, function() {\n",
       "      console.log(\"Bokeh: BokehJS plotting callback run at\", now());\n",
       "      run_inline_js();\n",
       "    });\n",
       "  }\n",
       "}(this));"
      ]
     },
     "metadata": {},
     "output_type": "display_data"
    }
   ],
   "source": [
    "import numpy as np\n",
    "import pandas as pd\n",
    "from bokeh.charts import Bar, show, output_notebook\n",
    "output_notebook()"
   ]
  },
  {
   "cell_type": "code",
   "execution_count": 2,
   "metadata": {
    "collapsed": false
   },
   "outputs": [
    {
     "data": {
      "text/html": [
       "<div>\n",
       "<table border=\"1\" class=\"dataframe\">\n",
       "  <thead>\n",
       "    <tr style=\"text-align: right;\">\n",
       "      <th></th>\n",
       "      <th>DATE</th>\n",
       "      <th>A</th>\n",
       "      <th>B</th>\n",
       "    </tr>\n",
       "  </thead>\n",
       "  <tbody>\n",
       "    <tr>\n",
       "      <th>0</th>\n",
       "      <td>2016-01-03</td>\n",
       "      <td>2</td>\n",
       "      <td>2</td>\n",
       "    </tr>\n",
       "    <tr>\n",
       "      <th>1</th>\n",
       "      <td>2016-01-10</td>\n",
       "      <td>18</td>\n",
       "      <td>17</td>\n",
       "    </tr>\n",
       "    <tr>\n",
       "      <th>2</th>\n",
       "      <td>2016-01-17</td>\n",
       "      <td>12</td>\n",
       "      <td>11</td>\n",
       "    </tr>\n",
       "    <tr>\n",
       "      <th>3</th>\n",
       "      <td>2016-01-24</td>\n",
       "      <td>11</td>\n",
       "      <td>15</td>\n",
       "    </tr>\n",
       "    <tr>\n",
       "      <th>4</th>\n",
       "      <td>2016-01-31</td>\n",
       "      <td>16</td>\n",
       "      <td>18</td>\n",
       "    </tr>\n",
       "  </tbody>\n",
       "</table>\n",
       "</div>"
      ],
      "text/plain": [
       "         DATE   A   B\n",
       "0  2016-01-03   2   2\n",
       "1  2016-01-10  18  17\n",
       "2  2016-01-17  12  11\n",
       "3  2016-01-24  11  15\n",
       "4  2016-01-31  16  18"
      ]
     },
     "execution_count": 2,
     "metadata": {},
     "output_type": "execute_result"
    }
   ],
   "source": [
    "s = pd.date_range('2016-01-01', periods=100, freq='D')\n",
    "df = pd.DataFrame(np.random.randint(0,5, size=(100,2)), columns=['A','B'], index=s)\n",
    "\n",
    "data = df.resample('W', how='sum')\n",
    "data.index.name='DATE'\n",
    "data = data.reset_index()\n",
    "\n",
    "# This line turns your dates into strings\n",
    "data.DATE = data.DATE.apply(lambda x: str(x).split(' 00:00:00')[0])\n",
    "\n",
    "data.head()"
   ]
  },
  {
   "cell_type": "code",
   "execution_count": 3,
   "metadata": {
    "collapsed": false
   },
   "outputs": [
    {
     "data": {
      "text/html": [
       "\n",
       "\n",
       "    <div class=\"plotdiv\" id=\"f0ba919a-92b0-459c-87b4-63cf29b93610\"></div>\n",
       "<script type=\"text/javascript\">\n",
       "  \n",
       "  (function(global) {\n",
       "    function now() {\n",
       "      return new Date();\n",
       "    }\n",
       "  \n",
       "    if (typeof (window._bokeh_onload_callbacks) === \"undefined\") {\n",
       "      window._bokeh_onload_callbacks = [];\n",
       "    }\n",
       "  \n",
       "    function run_callbacks() {\n",
       "      window._bokeh_onload_callbacks.forEach(function(callback) { callback() });\n",
       "      delete window._bokeh_onload_callbacks\n",
       "      console.info(\"Bokeh: all callbacks have finished\");\n",
       "    }\n",
       "  \n",
       "    function load_libs(js_urls, callback) {\n",
       "      window._bokeh_onload_callbacks.push(callback);\n",
       "      if (window._bokeh_is_loading > 0) {\n",
       "        console.log(\"Bokeh: BokehJS is being loaded, scheduling callback at\", now());\n",
       "        return null;\n",
       "      }\n",
       "      if (js_urls == null || js_urls.length === 0) {\n",
       "        run_callbacks();\n",
       "        return null;\n",
       "      }\n",
       "      console.log(\"Bokeh: BokehJS not loaded, scheduling load and callback at\", now());\n",
       "      window._bokeh_is_loading = js_urls.length;\n",
       "      for (var i = 0; i < js_urls.length; i++) {\n",
       "        var url = js_urls[i];\n",
       "        var s = document.createElement('script');\n",
       "        s.src = url;\n",
       "        s.async = false;\n",
       "        s.onreadystatechange = s.onload = function() {\n",
       "          window._bokeh_is_loading--;\n",
       "          if (window._bokeh_is_loading === 0) {\n",
       "            console.log(\"Bokeh: all BokehJS libraries loaded\");\n",
       "            run_callbacks()\n",
       "          }\n",
       "        };\n",
       "        s.onerror = function() {\n",
       "          console.warn(\"failed to load library \" + url);\n",
       "        };\n",
       "        console.log(\"Bokeh: injecting script tag for BokehJS library: \", url);\n",
       "        document.getElementsByTagName(\"head\")[0].appendChild(s);\n",
       "      }\n",
       "    };var element = document.getElementById(\"f0ba919a-92b0-459c-87b4-63cf29b93610\");\n",
       "    if (element == null) {\n",
       "      console.log(\"Bokeh: ERROR: autoload.js configured with elementid 'f0ba919a-92b0-459c-87b4-63cf29b93610' but no matching script tag was found. \")\n",
       "      return false;\n",
       "    }\n",
       "  \n",
       "    var js_urls = [];\n",
       "  \n",
       "    var inline_js = [\n",
       "      function(Bokeh) {\n",
       "        Bokeh.$(function() {\n",
       "            var docs_json = {\"1e3df7d5-0d3a-4ecc-bc55-3126b2d5c8d1\":{\"roots\":{\"references\":[{\"attributes\":{\"fill_alpha\":{\"field\":\"fill_alpha\"},\"fill_color\":{\"field\":\"color\"},\"height\":{\"field\":\"height\",\"units\":\"data\"},\"line_color\":{\"field\":\"line_color\"},\"width\":{\"field\":\"width\",\"units\":\"data\"},\"x\":{\"field\":\"x\"},\"y\":{\"field\":\"y\"}},\"id\":\"0f83320e-2d72-462e-bdb2-ef090e00a0ed\",\"type\":\"Rect\"},{\"attributes\":{},\"id\":\"34e51dfd-3528-4ef3-8ec7-058c06b5be72\",\"type\":\"CategoricalTickFormatter\"},{\"attributes\":{\"fill_alpha\":{\"field\":\"fill_alpha\"},\"fill_color\":{\"field\":\"color\"},\"height\":{\"field\":\"height\",\"units\":\"data\"},\"line_color\":{\"field\":\"line_color\"},\"width\":{\"field\":\"width\",\"units\":\"data\"},\"x\":{\"field\":\"x\"},\"y\":{\"field\":\"y\"}},\"id\":\"4fdc47d2-571b-4aed-a02b-fd5203151084\",\"type\":\"Rect\"},{\"attributes\":{\"callback\":null,\"column_names\":[\"y\",\"line_alpha\",\"fill_alpha\",\"line_color\",\"height\",\"color\",\"x\",\"width\"],\"data\":{\"DATE\":[\"2016-01-03\"],\"chart_index\":[{\"DATE\":\"2016-01-03\"}],\"color\":[\"#f22c40\"],\"fill_alpha\":[0.8],\"height\":[2.0],\"line_alpha\":[1.0],\"line_color\":[\"white\"],\"width\":[0.8],\"x\":[\"2016-01-03\"],\"y\":[1.0]}},\"id\":\"5206cf8d-3934-45b1-a893-06accb4aa052\",\"type\":\"ColumnDataSource\"},{\"attributes\":{\"callback\":null,\"column_names\":[\"y\",\"line_alpha\",\"fill_alpha\",\"line_color\",\"height\",\"color\",\"x\",\"width\"],\"data\":{\"DATE\":[\"2016-03-06\"],\"chart_index\":[{\"DATE\":\"2016-03-06\"}],\"color\":[\"#f22c40\"],\"fill_alpha\":[0.8],\"height\":[9.0],\"line_alpha\":[1.0],\"line_color\":[\"white\"],\"width\":[0.8],\"x\":[\"2016-03-06\"],\"y\":[4.5]}},\"id\":\"58938eab-4e2d-4070-9493-0d3df235ef2c\",\"type\":\"ColumnDataSource\"},{\"attributes\":{\"plot\":{\"id\":\"cbb514b5-8062-482c-9850-6b641c532e0f\",\"subtype\":\"Chart\",\"type\":\"Plot\"}},\"id\":\"70aa45ed-c260-4bf0-a938-7c1e5ceddd59\",\"type\":\"PreviewSaveTool\"},{\"attributes\":{\"data_source\":{\"id\":\"709fdbf1-e308-4f13-bdd7-248992afd7d3\",\"type\":\"ColumnDataSource\"},\"glyph\":{\"id\":\"0f83320e-2d72-462e-bdb2-ef090e00a0ed\",\"type\":\"Rect\"},\"hover_glyph\":null,\"nonselection_glyph\":null,\"selection_glyph\":null},\"id\":\"598d0814-eaae-47e3-8848-f3c0d47aa506\",\"type\":\"GlyphRenderer\"},{\"attributes\":{\"callback\":null,\"column_names\":[\"y\",\"line_alpha\",\"fill_alpha\",\"line_color\",\"height\",\"color\",\"x\",\"width\"],\"data\":{\"DATE\":[\"2016-01-31\"],\"chart_index\":[{\"DATE\":\"2016-01-31\"}],\"color\":[\"#f22c40\"],\"fill_alpha\":[0.8],\"height\":[16.0],\"line_alpha\":[1.0],\"line_color\":[\"white\"],\"width\":[0.8],\"x\":[\"2016-01-31\"],\"y\":[8.0]}},\"id\":\"eb5ee2d3-540d-4ac6-91fb-ef99423210c9\",\"type\":\"ColumnDataSource\"},{\"attributes\":{\"below\":[{\"id\":\"80b7ebb6-7844-42e9-958c-4a7b08a33ff2\",\"type\":\"CategoricalAxis\"}],\"left\":[{\"id\":\"8c1ed3a6-1fd9-406f-9b36-84c0f668d80c\",\"type\":\"LinearAxis\"}],\"legend\":null,\"renderers\":[{\"id\":\"f33fe4f7-848b-47af-b3cb-654fb22470ae\",\"type\":\"BoxAnnotation\"},{\"id\":\"edbd829f-1d8a-46ae-91d1-ef7d32760448\",\"type\":\"GlyphRenderer\"},{\"id\":\"5577189c-3244-41f7-a34d-109d9b362636\",\"type\":\"GlyphRenderer\"},{\"id\":\"78919a1d-28ea-4207-a1d2-1b4faea4e064\",\"type\":\"GlyphRenderer\"},{\"id\":\"68d04e6d-df2b-4bc7-a0f5-97732adceca7\",\"type\":\"GlyphRenderer\"},{\"id\":\"774e5df9-2aa7-4993-9891-fb37562e8cff\",\"type\":\"GlyphRenderer\"},{\"id\":\"854ae638-11f3-4361-96e7-5d93fc95713e\",\"type\":\"GlyphRenderer\"},{\"id\":\"54ed67c2-9af2-47b4-82f7-3f696d0d74f7\",\"type\":\"GlyphRenderer\"},{\"id\":\"3870d5da-e1d1-4f84-85b7-4aaedf986ad7\",\"type\":\"GlyphRenderer\"},{\"id\":\"fb281c8c-d7a3-4aef-bedf-a1eb4e9bf784\",\"type\":\"GlyphRenderer\"},{\"id\":\"02f2085d-b735-48c7-b008-6599e58c7cad\",\"type\":\"GlyphRenderer\"},{\"id\":\"be077ce5-6162-4cc5-92ee-f4f46ffd4f76\",\"type\":\"GlyphRenderer\"},{\"id\":\"0909d1ba-3628-4f20-91a4-f29ce27297bf\",\"type\":\"GlyphRenderer\"},{\"id\":\"ae494b9c-4b3c-478d-a04e-9e3a87d29889\",\"type\":\"GlyphRenderer\"},{\"id\":\"598d0814-eaae-47e3-8848-f3c0d47aa506\",\"type\":\"GlyphRenderer\"},{\"id\":\"f8062f99-f9d5-40a6-a669-d6c32b722dbb\",\"type\":\"GlyphRenderer\"},{\"id\":\"80b7ebb6-7844-42e9-958c-4a7b08a33ff2\",\"type\":\"CategoricalAxis\"},{\"id\":\"8c1ed3a6-1fd9-406f-9b36-84c0f668d80c\",\"type\":\"LinearAxis\"},{\"id\":\"6d0a5eb9-4e1e-4650-b61a-020fe49b7650\",\"type\":\"Grid\"}],\"title_text_font_size\":{\"value\":\"14pt\"},\"tool_events\":{\"id\":\"b44ddbc7-68c8-41b8-83a0-22ca04dface4\",\"type\":\"ToolEvents\"},\"tools\":[{\"id\":\"b5bb994c-63a9-4d8e-8338-dab49309a35c\",\"type\":\"PanTool\"},{\"id\":\"c90a1e57-fa7b-4e87-911d-51a732870eb3\",\"type\":\"WheelZoomTool\"},{\"id\":\"5636549c-e326-4b1f-bf13-bd80e33a1e79\",\"type\":\"BoxZoomTool\"},{\"id\":\"70aa45ed-c260-4bf0-a938-7c1e5ceddd59\",\"type\":\"PreviewSaveTool\"},{\"id\":\"5d3f56d6-85e8-4f1f-9e4b-3b03c7b1872a\",\"type\":\"ResizeTool\"},{\"id\":\"8a709f43-09b5-4219-8e8a-1ae0e2a0e0a5\",\"type\":\"ResetTool\"},{\"id\":\"9c385f31-ab03-4b49-87db-7e5bc56b200b\",\"type\":\"HelpTool\"}],\"x_mapper_type\":\"auto\",\"x_range\":{\"id\":\"1af0be90-544a-4bf7-b4c8-54435721c394\",\"type\":\"FactorRange\"},\"xgrid\":false,\"xscale\":\"auto\",\"y_mapper_type\":\"auto\",\"y_range\":{\"id\":\"29531303-a70e-4714-bac4-f6ee92f50826\",\"type\":\"Range1d\"},\"yscale\":\"auto\"},\"id\":\"cbb514b5-8062-482c-9850-6b641c532e0f\",\"subtype\":\"Chart\",\"type\":\"Plot\"},{\"attributes\":{\"plot\":{\"id\":\"cbb514b5-8062-482c-9850-6b641c532e0f\",\"subtype\":\"Chart\",\"type\":\"Plot\"}},\"id\":\"8a709f43-09b5-4219-8e8a-1ae0e2a0e0a5\",\"type\":\"ResetTool\"},{\"attributes\":{\"data_source\":{\"id\":\"8e631a76-be79-4374-b44e-3efc766ebfca\",\"type\":\"ColumnDataSource\"},\"glyph\":{\"id\":\"55b8eb33-12d1-4645-bcb2-94d2e7d25865\",\"type\":\"Rect\"},\"hover_glyph\":null,\"nonselection_glyph\":null,\"selection_glyph\":null},\"id\":\"78919a1d-28ea-4207-a1d2-1b4faea4e064\",\"type\":\"GlyphRenderer\"},{\"attributes\":{\"fill_alpha\":{\"field\":\"fill_alpha\"},\"fill_color\":{\"field\":\"color\"},\"height\":{\"field\":\"height\",\"units\":\"data\"},\"line_color\":{\"field\":\"line_color\"},\"width\":{\"field\":\"width\",\"units\":\"data\"},\"x\":{\"field\":\"x\"},\"y\":{\"field\":\"y\"}},\"id\":\"b40bccd4-57f5-4652-8707-aa2e1ae24767\",\"type\":\"Rect\"},{\"attributes\":{\"callback\":null,\"column_names\":[\"y\",\"line_alpha\",\"fill_alpha\",\"line_color\",\"height\",\"color\",\"x\",\"width\"],\"data\":{\"DATE\":[\"2016-03-13\"],\"chart_index\":[{\"DATE\":\"2016-03-13\"}],\"color\":[\"#f22c40\"],\"fill_alpha\":[0.8],\"height\":[10.0],\"line_alpha\":[1.0],\"line_color\":[\"white\"],\"width\":[0.8],\"x\":[\"2016-03-13\"],\"y\":[5.0]}},\"id\":\"8be042ff-2460-4aaf-a9ab-d7c3dc1daf0b\",\"type\":\"ColumnDataSource\"},{\"attributes\":{\"data_source\":{\"id\":\"8be042ff-2460-4aaf-a9ab-d7c3dc1daf0b\",\"type\":\"ColumnDataSource\"},\"glyph\":{\"id\":\"4340d8f6-d438-427c-b6dc-bdae0b81a622\",\"type\":\"Rect\"},\"hover_glyph\":null,\"nonselection_glyph\":null,\"selection_glyph\":null},\"id\":\"be077ce5-6162-4cc5-92ee-f4f46ffd4f76\",\"type\":\"GlyphRenderer\"},{\"attributes\":{\"fill_alpha\":{\"field\":\"fill_alpha\"},\"fill_color\":{\"field\":\"color\"},\"height\":{\"field\":\"height\",\"units\":\"data\"},\"line_color\":{\"field\":\"line_color\"},\"width\":{\"field\":\"width\",\"units\":\"data\"},\"x\":{\"field\":\"x\"},\"y\":{\"field\":\"y\"}},\"id\":\"ebcf1572-3e1b-4066-a1f3-8c42395f4ddf\",\"type\":\"Rect\"},{\"attributes\":{\"data_source\":{\"id\":\"68b76490-c88a-4094-9bfe-a0a7dc27a8fd\",\"type\":\"ColumnDataSource\"},\"glyph\":{\"id\":\"16967ec6-282b-411a-bc4f-3178ed3e9e6d\",\"type\":\"Rect\"},\"hover_glyph\":null,\"nonselection_glyph\":null,\"selection_glyph\":null},\"id\":\"0909d1ba-3628-4f20-91a4-f29ce27297bf\",\"type\":\"GlyphRenderer\"},{\"attributes\":{\"data_source\":{\"id\":\"58938eab-4e2d-4070-9493-0d3df235ef2c\",\"type\":\"ColumnDataSource\"},\"glyph\":{\"id\":\"b40bccd4-57f5-4652-8707-aa2e1ae24767\",\"type\":\"Rect\"},\"hover_glyph\":null,\"nonselection_glyph\":null,\"selection_glyph\":null},\"id\":\"02f2085d-b735-48c7-b008-6599e58c7cad\",\"type\":\"GlyphRenderer\"},{\"attributes\":{\"callback\":null,\"column_names\":[\"y\",\"line_alpha\",\"fill_alpha\",\"line_color\",\"height\",\"color\",\"x\",\"width\"],\"data\":{\"DATE\":[\"2016-01-10\"],\"chart_index\":[{\"DATE\":\"2016-01-10\"}],\"color\":[\"#f22c40\"],\"fill_alpha\":[0.8],\"height\":[18.0],\"line_alpha\":[1.0],\"line_color\":[\"white\"],\"width\":[0.8],\"x\":[\"2016-01-10\"],\"y\":[9.0]}},\"id\":\"fa61cf7b-b075-41cc-be78-0e3693a0dde9\",\"type\":\"ColumnDataSource\"},{\"attributes\":{\"callback\":null,\"column_names\":[\"y\",\"line_alpha\",\"fill_alpha\",\"line_color\",\"height\",\"color\",\"x\",\"width\"],\"data\":{\"DATE\":[\"2016-04-03\"],\"chart_index\":[{\"DATE\":\"2016-04-03\"}],\"color\":[\"#f22c40\"],\"fill_alpha\":[0.8],\"height\":[22.0],\"line_alpha\":[1.0],\"line_color\":[\"white\"],\"width\":[0.8],\"x\":[\"2016-04-03\"],\"y\":[11.0]}},\"id\":\"709fdbf1-e308-4f13-bdd7-248992afd7d3\",\"type\":\"ColumnDataSource\"},{\"attributes\":{\"callback\":null,\"column_names\":[\"y\",\"line_alpha\",\"fill_alpha\",\"line_color\",\"height\",\"color\",\"x\",\"width\"],\"data\":{\"DATE\":[\"2016-04-10\"],\"chart_index\":[{\"DATE\":\"2016-04-10\"}],\"color\":[\"#f22c40\"],\"fill_alpha\":[0.8],\"height\":[13.0],\"line_alpha\":[1.0],\"line_color\":[\"white\"],\"width\":[0.8],\"x\":[\"2016-04-10\"],\"y\":[6.5]}},\"id\":\"3a583f13-7eef-4f27-93ad-3fcfa6ebcda3\",\"type\":\"ColumnDataSource\"},{\"attributes\":{\"data_source\":{\"id\":\"99aadb91-3d57-46c1-91d5-7da799a07fc0\",\"type\":\"ColumnDataSource\"},\"glyph\":{\"id\":\"ebcf1572-3e1b-4066-a1f3-8c42395f4ddf\",\"type\":\"Rect\"},\"hover_glyph\":null,\"nonselection_glyph\":null,\"selection_glyph\":null},\"id\":\"3870d5da-e1d1-4f84-85b7-4aaedf986ad7\",\"type\":\"GlyphRenderer\"},{\"attributes\":{\"data_source\":{\"id\":\"eb5ee2d3-540d-4ac6-91fb-ef99423210c9\",\"type\":\"ColumnDataSource\"},\"glyph\":{\"id\":\"c62e1668-1ab9-44b4-9618-ee891a9e6b4a\",\"type\":\"Rect\"},\"hover_glyph\":null,\"nonselection_glyph\":null,\"selection_glyph\":null},\"id\":\"774e5df9-2aa7-4993-9891-fb37562e8cff\",\"type\":\"GlyphRenderer\"},{\"attributes\":{},\"id\":\"5595e31b-1c73-4f34-9a51-12b553bc65f5\",\"type\":\"BasicTicker\"},{\"attributes\":{\"data_source\":{\"id\":\"3a583f13-7eef-4f27-93ad-3fcfa6ebcda3\",\"type\":\"ColumnDataSource\"},\"glyph\":{\"id\":\"7647ebc8-3d1e-4745-b478-692f36a842a2\",\"type\":\"Rect\"},\"hover_glyph\":null,\"nonselection_glyph\":null,\"selection_glyph\":null},\"id\":\"f8062f99-f9d5-40a6-a669-d6c32b722dbb\",\"type\":\"GlyphRenderer\"},{\"attributes\":{\"plot\":{\"id\":\"cbb514b5-8062-482c-9850-6b641c532e0f\",\"subtype\":\"Chart\",\"type\":\"Plot\"}},\"id\":\"9c385f31-ab03-4b49-87db-7e5bc56b200b\",\"type\":\"HelpTool\"},{\"attributes\":{\"fill_alpha\":{\"field\":\"fill_alpha\"},\"fill_color\":{\"field\":\"color\"},\"height\":{\"field\":\"height\",\"units\":\"data\"},\"line_color\":{\"field\":\"line_color\"},\"width\":{\"field\":\"width\",\"units\":\"data\"},\"x\":{\"field\":\"x\"},\"y\":{\"field\":\"y\"}},\"id\":\"492c9113-56cc-44b6-b763-6199410cb3d1\",\"type\":\"Rect\"},{\"attributes\":{\"plot\":{\"id\":\"cbb514b5-8062-482c-9850-6b641c532e0f\",\"subtype\":\"Chart\",\"type\":\"Plot\"}},\"id\":\"b5bb994c-63a9-4d8e-8338-dab49309a35c\",\"type\":\"PanTool\"},{\"attributes\":{\"callback\":null,\"column_names\":[\"y\",\"line_alpha\",\"fill_alpha\",\"line_color\",\"height\",\"color\",\"x\",\"width\"],\"data\":{\"DATE\":[\"2016-02-07\"],\"chart_index\":[{\"DATE\":\"2016-02-07\"}],\"color\":[\"#f22c40\"],\"fill_alpha\":[0.8],\"height\":[15.0],\"line_alpha\":[1.0],\"line_color\":[\"white\"],\"width\":[0.8],\"x\":[\"2016-02-07\"],\"y\":[7.5]}},\"id\":\"63f04adb-1501-42b8-84a2-66314ea20afc\",\"type\":\"ColumnDataSource\"},{\"attributes\":{\"callback\":null,\"column_names\":[\"y\",\"line_alpha\",\"fill_alpha\",\"line_color\",\"height\",\"color\",\"x\",\"width\"],\"data\":{\"DATE\":[\"2016-01-17\"],\"chart_index\":[{\"DATE\":\"2016-01-17\"}],\"color\":[\"#f22c40\"],\"fill_alpha\":[0.8],\"height\":[12.0],\"line_alpha\":[1.0],\"line_color\":[\"white\"],\"width\":[0.8],\"x\":[\"2016-01-17\"],\"y\":[6.0]}},\"id\":\"8e631a76-be79-4374-b44e-3efc766ebfca\",\"type\":\"ColumnDataSource\"},{\"attributes\":{\"data_source\":{\"id\":\"924abb52-553e-4dc5-a8ac-66b157782377\",\"type\":\"ColumnDataSource\"},\"glyph\":{\"id\":\"4fdc47d2-571b-4aed-a02b-fd5203151084\",\"type\":\"Rect\"},\"hover_glyph\":null,\"nonselection_glyph\":null,\"selection_glyph\":null},\"id\":\"54ed67c2-9af2-47b4-82f7-3f696d0d74f7\",\"type\":\"GlyphRenderer\"},{\"attributes\":{\"callback\":null,\"column_names\":[\"y\",\"line_alpha\",\"fill_alpha\",\"line_color\",\"height\",\"color\",\"x\",\"width\"],\"data\":{\"DATE\":[\"2016-03-27\"],\"chart_index\":[{\"DATE\":\"2016-03-27\"}],\"color\":[\"#f22c40\"],\"fill_alpha\":[0.8],\"height\":[17.0],\"line_alpha\":[1.0],\"line_color\":[\"white\"],\"width\":[0.8],\"x\":[\"2016-03-27\"],\"y\":[8.5]}},\"id\":\"dc1f7b7c-cbdb-405e-91ee-3a140f9e3972\",\"type\":\"ColumnDataSource\"},{\"attributes\":{\"fill_alpha\":{\"field\":\"fill_alpha\"},\"fill_color\":{\"field\":\"color\"},\"height\":{\"field\":\"height\",\"units\":\"data\"},\"line_color\":{\"field\":\"line_color\"},\"width\":{\"field\":\"width\",\"units\":\"data\"},\"x\":{\"field\":\"x\"},\"y\":{\"field\":\"y\"}},\"id\":\"c62e1668-1ab9-44b4-9618-ee891a9e6b4a\",\"type\":\"Rect\"},{\"attributes\":{\"callback\":null,\"column_names\":[\"y\",\"line_alpha\",\"fill_alpha\",\"line_color\",\"height\",\"color\",\"x\",\"width\"],\"data\":{\"DATE\":[\"2016-03-20\"],\"chart_index\":[{\"DATE\":\"2016-03-20\"}],\"color\":[\"#f22c40\"],\"fill_alpha\":[0.8],\"height\":[14.0],\"line_alpha\":[1.0],\"line_color\":[\"white\"],\"width\":[0.8],\"x\":[\"2016-03-20\"],\"y\":[7.0]}},\"id\":\"68b76490-c88a-4094-9bfe-a0a7dc27a8fd\",\"type\":\"ColumnDataSource\"},{\"attributes\":{\"fill_alpha\":{\"field\":\"fill_alpha\"},\"fill_color\":{\"field\":\"color\"},\"height\":{\"field\":\"height\",\"units\":\"data\"},\"line_color\":{\"field\":\"line_color\"},\"width\":{\"field\":\"width\",\"units\":\"data\"},\"x\":{\"field\":\"x\"},\"y\":{\"field\":\"y\"}},\"id\":\"4947e85e-4dd1-4231-87b3-5eee38b29a0d\",\"type\":\"Rect\"},{\"attributes\":{\"data_source\":{\"id\":\"eda8a350-1378-4499-8b7b-f6e1d091e0dc\",\"type\":\"ColumnDataSource\"},\"glyph\":{\"id\":\"3c45a5e5-3388-495a-a81c-c452f07a7a2d\",\"type\":\"Rect\"},\"hover_glyph\":null,\"nonselection_glyph\":null,\"selection_glyph\":null},\"id\":\"fb281c8c-d7a3-4aef-bedf-a1eb4e9bf784\",\"type\":\"GlyphRenderer\"},{\"attributes\":{\"callback\":null,\"factors\":[\"2016-01-03\",\"2016-01-10\",\"2016-01-17\",\"2016-01-24\",\"2016-01-31\",\"2016-02-07\",\"2016-02-14\",\"2016-02-21\",\"2016-02-28\",\"2016-03-06\",\"2016-03-13\",\"2016-03-20\",\"2016-03-27\",\"2016-04-03\",\"2016-04-10\"]},\"id\":\"1af0be90-544a-4bf7-b4c8-54435721c394\",\"type\":\"FactorRange\"},{\"attributes\":{\"fill_alpha\":{\"field\":\"fill_alpha\"},\"fill_color\":{\"field\":\"color\"},\"height\":{\"field\":\"height\",\"units\":\"data\"},\"line_color\":{\"field\":\"line_color\"},\"width\":{\"field\":\"width\",\"units\":\"data\"},\"x\":{\"field\":\"x\"},\"y\":{\"field\":\"y\"}},\"id\":\"55b8eb33-12d1-4645-bcb2-94d2e7d25865\",\"type\":\"Rect\"},{\"attributes\":{\"callback\":null,\"end\":23.1},\"id\":\"29531303-a70e-4714-bac4-f6ee92f50826\",\"type\":\"Range1d\"},{\"attributes\":{\"data_source\":{\"id\":\"83ecb185-c874-4f06-b1e8-292de31c47fe\",\"type\":\"ColumnDataSource\"},\"glyph\":{\"id\":\"8110c9ea-54af-4210-8cc9-729be32a3788\",\"type\":\"Rect\"},\"hover_glyph\":null,\"nonselection_glyph\":null,\"selection_glyph\":null},\"id\":\"68d04e6d-df2b-4bc7-a0f5-97732adceca7\",\"type\":\"GlyphRenderer\"},{\"attributes\":{\"bottom_units\":\"screen\",\"fill_alpha\":{\"value\":0.5},\"fill_color\":{\"value\":\"lightgrey\"},\"left_units\":\"screen\",\"level\":\"overlay\",\"line_alpha\":{\"value\":1.0},\"line_color\":{\"value\":\"black\"},\"line_dash\":[4,4],\"line_width\":{\"value\":2},\"plot\":null,\"render_mode\":\"css\",\"right_units\":\"screen\",\"top_units\":\"screen\"},\"id\":\"f33fe4f7-848b-47af-b3cb-654fb22470ae\",\"type\":\"BoxAnnotation\"},{\"attributes\":{\"axis_label\":\"Date\",\"formatter\":{\"id\":\"34e51dfd-3528-4ef3-8ec7-058c06b5be72\",\"type\":\"CategoricalTickFormatter\"},\"major_label_orientation\":0.7853981633974483,\"plot\":{\"id\":\"cbb514b5-8062-482c-9850-6b641c532e0f\",\"subtype\":\"Chart\",\"type\":\"Plot\"},\"ticker\":{\"id\":\"86904df0-8ecc-4c21-b7ae-b250ff8ea23d\",\"type\":\"CategoricalTicker\"}},\"id\":\"80b7ebb6-7844-42e9-958c-4a7b08a33ff2\",\"type\":\"CategoricalAxis\"},{\"attributes\":{\"dimension\":1,\"plot\":{\"id\":\"cbb514b5-8062-482c-9850-6b641c532e0f\",\"subtype\":\"Chart\",\"type\":\"Plot\"},\"ticker\":{\"id\":\"5595e31b-1c73-4f34-9a51-12b553bc65f5\",\"type\":\"BasicTicker\"}},\"id\":\"6d0a5eb9-4e1e-4650-b61a-020fe49b7650\",\"type\":\"Grid\"},{\"attributes\":{},\"id\":\"86904df0-8ecc-4c21-b7ae-b250ff8ea23d\",\"type\":\"CategoricalTicker\"},{\"attributes\":{\"fill_alpha\":{\"field\":\"fill_alpha\"},\"fill_color\":{\"field\":\"color\"},\"height\":{\"field\":\"height\",\"units\":\"data\"},\"line_color\":{\"field\":\"line_color\"},\"width\":{\"field\":\"width\",\"units\":\"data\"},\"x\":{\"field\":\"x\"},\"y\":{\"field\":\"y\"}},\"id\":\"7647ebc8-3d1e-4745-b478-692f36a842a2\",\"type\":\"Rect\"},{\"attributes\":{\"fill_alpha\":{\"field\":\"fill_alpha\"},\"fill_color\":{\"field\":\"color\"},\"height\":{\"field\":\"height\",\"units\":\"data\"},\"line_color\":{\"field\":\"line_color\"},\"width\":{\"field\":\"width\",\"units\":\"data\"},\"x\":{\"field\":\"x\"},\"y\":{\"field\":\"y\"}},\"id\":\"8110c9ea-54af-4210-8cc9-729be32a3788\",\"type\":\"Rect\"},{\"attributes\":{\"callback\":null,\"column_names\":[\"y\",\"line_alpha\",\"fill_alpha\",\"line_color\",\"height\",\"color\",\"x\",\"width\"],\"data\":{\"DATE\":[\"2016-01-24\"],\"chart_index\":[{\"DATE\":\"2016-01-24\"}],\"color\":[\"#f22c40\"],\"fill_alpha\":[0.8],\"height\":[11.0],\"line_alpha\":[1.0],\"line_color\":[\"white\"],\"width\":[0.8],\"x\":[\"2016-01-24\"],\"y\":[5.5]}},\"id\":\"83ecb185-c874-4f06-b1e8-292de31c47fe\",\"type\":\"ColumnDataSource\"},{\"attributes\":{},\"id\":\"b44ddbc7-68c8-41b8-83a0-22ca04dface4\",\"type\":\"ToolEvents\"},{\"attributes\":{\"axis_label\":\"Sum( A )\",\"formatter\":{\"id\":\"b47704b6-9d4d-4032-a66f-f1cf81981eb6\",\"type\":\"BasicTickFormatter\"},\"plot\":{\"id\":\"cbb514b5-8062-482c-9850-6b641c532e0f\",\"subtype\":\"Chart\",\"type\":\"Plot\"},\"ticker\":{\"id\":\"5595e31b-1c73-4f34-9a51-12b553bc65f5\",\"type\":\"BasicTicker\"}},\"id\":\"8c1ed3a6-1fd9-406f-9b36-84c0f668d80c\",\"type\":\"LinearAxis\"},{\"attributes\":{},\"id\":\"b47704b6-9d4d-4032-a66f-f1cf81981eb6\",\"type\":\"BasicTickFormatter\"},{\"attributes\":{\"data_source\":{\"id\":\"fa61cf7b-b075-41cc-be78-0e3693a0dde9\",\"type\":\"ColumnDataSource\"},\"glyph\":{\"id\":\"492c9113-56cc-44b6-b763-6199410cb3d1\",\"type\":\"Rect\"},\"hover_glyph\":null,\"nonselection_glyph\":null,\"selection_glyph\":null},\"id\":\"5577189c-3244-41f7-a34d-109d9b362636\",\"type\":\"GlyphRenderer\"},{\"attributes\":{\"plot\":{\"id\":\"cbb514b5-8062-482c-9850-6b641c532e0f\",\"subtype\":\"Chart\",\"type\":\"Plot\"}},\"id\":\"5d3f56d6-85e8-4f1f-9e4b-3b03c7b1872a\",\"type\":\"ResizeTool\"},{\"attributes\":{\"data_source\":{\"id\":\"5206cf8d-3934-45b1-a893-06accb4aa052\",\"type\":\"ColumnDataSource\"},\"glyph\":{\"id\":\"4947e85e-4dd1-4231-87b3-5eee38b29a0d\",\"type\":\"Rect\"},\"hover_glyph\":null,\"nonselection_glyph\":null,\"selection_glyph\":null},\"id\":\"edbd829f-1d8a-46ae-91d1-ef7d32760448\",\"type\":\"GlyphRenderer\"},{\"attributes\":{\"plot\":{\"id\":\"cbb514b5-8062-482c-9850-6b641c532e0f\",\"subtype\":\"Chart\",\"type\":\"Plot\"}},\"id\":\"c90a1e57-fa7b-4e87-911d-51a732870eb3\",\"type\":\"WheelZoomTool\"},{\"attributes\":{\"overlay\":{\"id\":\"f33fe4f7-848b-47af-b3cb-654fb22470ae\",\"type\":\"BoxAnnotation\"},\"plot\":{\"id\":\"cbb514b5-8062-482c-9850-6b641c532e0f\",\"subtype\":\"Chart\",\"type\":\"Plot\"}},\"id\":\"5636549c-e326-4b1f-bf13-bd80e33a1e79\",\"type\":\"BoxZoomTool\"},{\"attributes\":{\"data_source\":{\"id\":\"63f04adb-1501-42b8-84a2-66314ea20afc\",\"type\":\"ColumnDataSource\"},\"glyph\":{\"id\":\"84ea6dc8-9f21-49ca-9bf0-adb6f3ed9c27\",\"type\":\"Rect\"},\"hover_glyph\":null,\"nonselection_glyph\":null,\"selection_glyph\":null},\"id\":\"854ae638-11f3-4361-96e7-5d93fc95713e\",\"type\":\"GlyphRenderer\"},{\"attributes\":{\"fill_alpha\":{\"field\":\"fill_alpha\"},\"fill_color\":{\"field\":\"color\"},\"height\":{\"field\":\"height\",\"units\":\"data\"},\"line_color\":{\"field\":\"line_color\"},\"width\":{\"field\":\"width\",\"units\":\"data\"},\"x\":{\"field\":\"x\"},\"y\":{\"field\":\"y\"}},\"id\":\"3c45a5e5-3388-495a-a81c-c452f07a7a2d\",\"type\":\"Rect\"},{\"attributes\":{\"data_source\":{\"id\":\"dc1f7b7c-cbdb-405e-91ee-3a140f9e3972\",\"type\":\"ColumnDataSource\"},\"glyph\":{\"id\":\"6b00fb1d-bffa-4601-b22b-b4701a226330\",\"type\":\"Rect\"},\"hover_glyph\":null,\"nonselection_glyph\":null,\"selection_glyph\":null},\"id\":\"ae494b9c-4b3c-478d-a04e-9e3a87d29889\",\"type\":\"GlyphRenderer\"},{\"attributes\":{\"callback\":null,\"column_names\":[\"y\",\"line_alpha\",\"fill_alpha\",\"line_color\",\"height\",\"color\",\"x\",\"width\"],\"data\":{\"DATE\":[\"2016-02-28\"],\"chart_index\":[{\"DATE\":\"2016-02-28\"}],\"color\":[\"#f22c40\"],\"fill_alpha\":[0.8],\"height\":[22.0],\"line_alpha\":[1.0],\"line_color\":[\"white\"],\"width\":[0.8],\"x\":[\"2016-02-28\"],\"y\":[11.0]}},\"id\":\"eda8a350-1378-4499-8b7b-f6e1d091e0dc\",\"type\":\"ColumnDataSource\"},{\"attributes\":{\"fill_alpha\":{\"field\":\"fill_alpha\"},\"fill_color\":{\"field\":\"color\"},\"height\":{\"field\":\"height\",\"units\":\"data\"},\"line_color\":{\"field\":\"line_color\"},\"width\":{\"field\":\"width\",\"units\":\"data\"},\"x\":{\"field\":\"x\"},\"y\":{\"field\":\"y\"}},\"id\":\"84ea6dc8-9f21-49ca-9bf0-adb6f3ed9c27\",\"type\":\"Rect\"},{\"attributes\":{\"callback\":null,\"column_names\":[\"y\",\"line_alpha\",\"fill_alpha\",\"line_color\",\"height\",\"color\",\"x\",\"width\"],\"data\":{\"DATE\":[\"2016-02-21\"],\"chart_index\":[{\"DATE\":\"2016-02-21\"}],\"color\":[\"#f22c40\"],\"fill_alpha\":[0.8],\"height\":[14.0],\"line_alpha\":[1.0],\"line_color\":[\"white\"],\"width\":[0.8],\"x\":[\"2016-02-21\"],\"y\":[7.0]}},\"id\":\"99aadb91-3d57-46c1-91d5-7da799a07fc0\",\"type\":\"ColumnDataSource\"},{\"attributes\":{\"fill_alpha\":{\"field\":\"fill_alpha\"},\"fill_color\":{\"field\":\"color\"},\"height\":{\"field\":\"height\",\"units\":\"data\"},\"line_color\":{\"field\":\"line_color\"},\"width\":{\"field\":\"width\",\"units\":\"data\"},\"x\":{\"field\":\"x\"},\"y\":{\"field\":\"y\"}},\"id\":\"6b00fb1d-bffa-4601-b22b-b4701a226330\",\"type\":\"Rect\"},{\"attributes\":{\"fill_alpha\":{\"field\":\"fill_alpha\"},\"fill_color\":{\"field\":\"color\"},\"height\":{\"field\":\"height\",\"units\":\"data\"},\"line_color\":{\"field\":\"line_color\"},\"width\":{\"field\":\"width\",\"units\":\"data\"},\"x\":{\"field\":\"x\"},\"y\":{\"field\":\"y\"}},\"id\":\"16967ec6-282b-411a-bc4f-3178ed3e9e6d\",\"type\":\"Rect\"},{\"attributes\":{\"fill_alpha\":{\"field\":\"fill_alpha\"},\"fill_color\":{\"field\":\"color\"},\"height\":{\"field\":\"height\",\"units\":\"data\"},\"line_color\":{\"field\":\"line_color\"},\"width\":{\"field\":\"width\",\"units\":\"data\"},\"x\":{\"field\":\"x\"},\"y\":{\"field\":\"y\"}},\"id\":\"4340d8f6-d438-427c-b6dc-bdae0b81a622\",\"type\":\"Rect\"},{\"attributes\":{\"callback\":null,\"column_names\":[\"y\",\"line_alpha\",\"fill_alpha\",\"line_color\",\"height\",\"color\",\"x\",\"width\"],\"data\":{\"DATE\":[\"2016-02-14\"],\"chart_index\":[{\"DATE\":\"2016-02-14\"}],\"color\":[\"#f22c40\"],\"fill_alpha\":[0.8],\"height\":[19.0],\"line_alpha\":[1.0],\"line_color\":[\"white\"],\"width\":[0.8],\"x\":[\"2016-02-14\"],\"y\":[9.5]}},\"id\":\"924abb52-553e-4dc5-a8ac-66b157782377\",\"type\":\"ColumnDataSource\"}],\"root_ids\":[\"cbb514b5-8062-482c-9850-6b641c532e0f\"]},\"title\":\"Bokeh Application\",\"version\":\"0.11.1\"}};\n",
       "            var render_items = [{\"docid\":\"1e3df7d5-0d3a-4ecc-bc55-3126b2d5c8d1\",\"elementid\":\"f0ba919a-92b0-459c-87b4-63cf29b93610\",\"modelid\":\"cbb514b5-8062-482c-9850-6b641c532e0f\",\"notebook_comms_target\":\"5f7c5ef5-10dd-475d-a6df-5d1148f630bd\"}];\n",
       "            \n",
       "            Bokeh.embed.embed_items(docs_json, render_items);\n",
       "        });\n",
       "      },\n",
       "      function(Bokeh) {\n",
       "      }\n",
       "    ];\n",
       "  \n",
       "    function run_inline_js() {\n",
       "      for (var i = 0; i < inline_js.length; i++) {\n",
       "        inline_js[i](window.Bokeh);\n",
       "      }\n",
       "    }\n",
       "  \n",
       "    if (window._bokeh_is_loading === 0) {\n",
       "      console.log(\"Bokeh: BokehJS loaded, going straight to plotting\");\n",
       "      run_inline_js();\n",
       "    } else {\n",
       "      load_libs(js_urls, function() {\n",
       "        console.log(\"Bokeh: BokehJS plotting callback run at\", now());\n",
       "        run_inline_js();\n",
       "      });\n",
       "    }\n",
       "  }(this));\n",
       "</script>"
      ]
     },
     "metadata": {},
     "output_type": "display_data"
    },
    {
     "data": {
      "text/html": [
       "<p><code>&lt;Bokeh Notebook handle for <strong>In[3]</strong>&gt;</code></p>"
      ],
      "text/plain": [
       "<bokeh.io._CommsHandle at 0x10ca1bd68>"
      ]
     },
     "execution_count": 3,
     "metadata": {},
     "output_type": "execute_result"
    }
   ],
   "source": [
    "show(Bar(data, label='DATE', values='A'))"
   ]
  },
  {
   "cell_type": "code",
   "execution_count": null,
   "metadata": {
    "collapsed": true
   },
   "outputs": [],
   "source": []
  }
 ],
 "metadata": {
  "kernelspec": {
   "display_name": "Python 3",
   "language": "python",
   "name": "python3"
  },
  "language_info": {
   "codemirror_mode": {
    "name": "ipython",
    "version": 3
   },
   "file_extension": ".py",
   "mimetype": "text/x-python",
   "name": "python",
   "nbconvert_exporter": "python",
   "pygments_lexer": "ipython3",
   "version": "3.5.1"
  }
 },
 "nbformat": 4,
 "nbformat_minor": 0
}

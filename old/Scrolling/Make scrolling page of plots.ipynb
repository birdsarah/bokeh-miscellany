{
 "cells": [
  {
   "cell_type": "code",
   "execution_count": 1,
   "metadata": {
    "collapsed": true
   },
   "outputs": [],
   "source": [
    "import pandas as pd\n",
    "\n",
    "from bokeh.io import vplot, output_file, show\n",
    "output_file('scrolling.html', mode='relative-dev')"
   ]
  },
  {
   "cell_type": "code",
   "execution_count": 2,
   "metadata": {
    "collapsed": true
   },
   "outputs": [],
   "source": [
    "from bokeh.models import Plot, Patch, Patches, Line, MultiLine, ColumnDataSource, Range1d, LinearAxis, HoverTool\n",
    "from bokeh.palettes import Spectral3, Spectral4\n",
    "from bokeh._version import version_version\n",
    "from numpy import NAN"
   ]
  },
  {
   "cell_type": "code",
   "execution_count": 3,
   "metadata": {
    "collapsed": false
   },
   "outputs": [],
   "source": [
    "patch_data = ColumnDataSource(pd.DataFrame(\n",
    "    {\n",
    "        'oil'  : [1, 2, 3, 1],\n",
    "        'gas'  : [3, 2, 2, 3],\n",
    "        'solar': [0, 1, 1, 1]\n",
    "    }, \n",
    "    index= [2010, 2011, 2012, 2013]\n",
    "))\n",
    "patches_data = ColumnDataSource(pd.DataFrame(\n",
    "    {\n",
    "        'xs'  : [[1, 2, 3, 1], [2, 4, 6, 2], [3, 6, 9, 3], [1, -1, -2, 0] ],\n",
    "        'ys'  : [[0, 1, 5, -1], [8, -3, 4, 0], [3, 4, 5, 4], [1, 4, 0, 2]],\n",
    "        'value': [Spectral4[0], Spectral4[1], Spectral4[2], Spectral4[3]]\n",
    "    }, \n",
    "))\n",
    "patch_with_hole_data = ColumnDataSource(pd.DataFrame(\n",
    "    {\n",
    "        'oil'  : [1, 2, 1, NAN, 3, 1, 2, 1],\n",
    "        'gas'  : [3, 2, 2, NAN, 2, 3, 4, 1],\n",
    "        'solar': [0, 1, 3, 2, NAN, 1, 4, 5]\n",
    "    }, \n",
    "    index= [2010, 2011, 2012, 2013, 2014, 2015, 2016, 2017]\n",
    "))\n",
    "patches_with_hole_data = ColumnDataSource(pd.DataFrame(\n",
    "    {\n",
    "        'xs'  : [[1, 2, 3, NAN, 3, 1, 2], [2, 4, 5, NAN, 6, 2, 1], [3, 6, 8, NAN, 9, 3, 4], [1, -1, 2, NAN, 2, -2, 0] ],\n",
    "        'ys'  : [[0, 1, -1, NAN, 5, -1, -2], [8, -3, 5, NAN, 4, 0, 1], [3, 4, 2, NAN, 5, 4, 6], [1, 4, 6, NAN, 1, 0, 2] ],\n",
    "        'value': [Spectral4[0], Spectral4[1], Spectral4[2], Spectral4[3]]\n",
    "    }, \n",
    "))"
   ]
  },
  {
   "cell_type": "code",
   "execution_count": 4,
   "metadata": {
    "collapsed": true
   },
   "outputs": [],
   "source": [
    "PLOT_PROPS = dict(plot_width=2000, plot_height=300, min_border=0, toolbar_location=None, title=None)\n",
    "\n",
    "def make_patch_plot(xrange, source):\n",
    "    plot = Plot(x_range=xrange, y_range=Range1d(0,5), **PLOT_PROPS)\n",
    "    for i, energy in enumerate(['gas', 'oil', 'solar']):\n",
    "        glyph = Patch(x='index', y=energy, fill_color=Spectral3[i], fill_alpha=0.5, line_color='#CCCCCC', line_alpha=0.5)\n",
    "        plot.add_glyph(source, glyph)  \n",
    "    return plot\n",
    "\n",
    "def make_line_plot(xrange, source):\n",
    "    plot = Plot(x_range=xrange, y_range=Range1d(0,5), **PLOT_PROPS)\n",
    "    for i, energy in enumerate(['gas', 'oil', 'solar']):\n",
    "        glyph = Line(x='index', y=energy, line_color=Spectral3[i], line_alpha=0.5, line_width=5)\n",
    "        plot.add_glyph(source, glyph)\n",
    "    return plot\n",
    "\n",
    "def make_patches_plot(xrange, yrange, source):\n",
    "    plot = Plot(x_range=xrange, y_range=yrange, **PLOT_PROPS)\n",
    "    glyph = Patches(xs='xs', ys='ys', fill_color='value', fill_alpha=0.8, line_color='#CCCCCC', line_alpha=0.8)\n",
    "    plot.add_glyph(source, glyph)\n",
    "    return plot\n",
    "\n",
    "def make_multiline_plot(xrange, yrange, source):\n",
    "    plot = Plot(x_range=xrange, y_range=yrange, **PLOT_PROPS)\n",
    "    glyph = MultiLine(xs='xs', ys='ys', line_color='value', line_width=5, line_alpha=0.8)\n",
    "    plot.add_glyph(source, glyph)\n",
    "    return plot"
   ]
  },
  {
   "cell_type": "code",
   "execution_count": 5,
   "metadata": {
    "collapsed": false
   },
   "outputs": [],
   "source": [
    "patch = make_patch_plot(Range1d(2010, 2013), patch_data)\n",
    "line = make_line_plot(Range1d(2010, 2013), patch_data)\n",
    "\n",
    "patches = make_patches_plot(Range1d(-5, 10), Range1d(-5,10), patches_data)\n",
    "multiline = make_multiline_plot(Range1d(-5, 10), Range1d(-5,10), patches_data)\n",
    "\n",
    "patch_with_hole = make_patch_plot(Range1d(2010, 2017), patch_with_hole_data)\n",
    "line_with_hole = make_line_plot(Range1d(2010, 2016), patch_with_hole_data)\n",
    "\n",
    "patches_with_hole = make_patches_plot(Range1d(-5, 10), Range1d(-5,10), patches_with_hole_data)\n",
    "multiline_with_hole = make_multiline_plot(Range1d(-5, 10), Range1d(-5,10), patches_with_hole_data)"
   ]
  },
  {
   "cell_type": "code",
   "execution_count": 6,
   "metadata": {
    "collapsed": true
   },
   "outputs": [],
   "source": [
    "show(vplot(\n",
    "        patch, line, patches, multiline, \n",
    "        patches_with_hole, line_with_hole, patches_with_hole, multiline_with_hole\n",
    "    ))"
   ]
  },
  {
   "cell_type": "code",
   "execution_count": null,
   "metadata": {
    "collapsed": true
   },
   "outputs": [],
   "source": []
  }
 ],
 "metadata": {
  "kernelspec": {
   "display_name": "Python 3",
   "language": "python",
   "name": "python3"
  },
  "language_info": {
   "codemirror_mode": {
    "name": "ipython",
    "version": 3
   },
   "file_extension": ".py",
   "mimetype": "text/x-python",
   "name": "python",
   "nbconvert_exporter": "python",
   "pygments_lexer": "ipython3",
   "version": "3.4.3"
  }
 },
 "nbformat": 4,
 "nbformat_minor": 0
}

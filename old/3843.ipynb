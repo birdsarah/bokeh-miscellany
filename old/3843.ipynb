{
 "cells": [
  {
   "cell_type": "code",
   "execution_count": 1,
   "metadata": {
    "collapsed": false
   },
   "outputs": [
    {
     "data": {
      "text/html": [
       "\n",
       "    <div class=\"bk-banner\">\n",
       "        <a href=\"http://bokeh.pydata.org\" target=\"_blank\" class=\"bk-logo bk-logo-small bk-logo-notebook\"></a>\n",
       "        <span id=\"43fcd845-6a46-47cf-859c-2a4c945622db\">Loading BokehJS ...</span>\n",
       "    </div>"
      ]
     },
     "metadata": {},
     "output_type": "display_data"
    },
    {
     "data": {
      "application/javascript": [
       "\n",
       "(function(global) {\n",
       "  function now() {\n",
       "    return new Date();\n",
       "  }\n",
       "\n",
       "  if (typeof (window._bokeh_onload_callbacks) === \"undefined\") {\n",
       "    window._bokeh_onload_callbacks = [];\n",
       "  }\n",
       "\n",
       "  function run_callbacks() {\n",
       "    window._bokeh_onload_callbacks.forEach(function(callback) { callback() });\n",
       "    delete window._bokeh_onload_callbacks\n",
       "    console.info(\"Bokeh: all callbacks have finished\");\n",
       "  }\n",
       "\n",
       "  function load_libs(js_urls, callback) {\n",
       "    window._bokeh_onload_callbacks.push(callback);\n",
       "    if (window._bokeh_is_loading > 0) {\n",
       "      console.log(\"Bokeh: BokehJS is being loaded, scheduling callback at\", now());\n",
       "      return null;\n",
       "    }\n",
       "    if (js_urls == null || js_urls.length === 0) {\n",
       "      run_callbacks();\n",
       "      return null;\n",
       "    }\n",
       "    console.log(\"Bokeh: BokehJS not loaded, scheduling load and callback at\", now());\n",
       "    window._bokeh_is_loading = js_urls.length;\n",
       "    for (var i = 0; i < js_urls.length; i++) {\n",
       "      var url = js_urls[i];\n",
       "      var s = document.createElement('script');\n",
       "      s.src = url;\n",
       "      s.async = false;\n",
       "      s.onreadystatechange = s.onload = function() {\n",
       "        window._bokeh_is_loading--;\n",
       "        if (window._bokeh_is_loading === 0) {\n",
       "          console.log(\"Bokeh: all BokehJS libraries loaded\");\n",
       "          run_callbacks()\n",
       "        }\n",
       "      };\n",
       "      s.onerror = function() {\n",
       "        console.warn(\"failed to load library \" + url);\n",
       "      };\n",
       "      console.log(\"Bokeh: injecting script tag for BokehJS library: \", url);\n",
       "      document.getElementsByTagName(\"head\")[0].appendChild(s);\n",
       "    }\n",
       "  };\n",
       "\n",
       "  var js_urls = ['https://cdn.pydata.org/bokeh/release/bokeh-0.11.1.min.js', 'https://cdn.pydata.org/bokeh/release/bokeh-widgets-0.11.1.min.js', 'https://cdn.pydata.org/bokeh/release/bokeh-compiler-0.11.1.min.js'];\n",
       "\n",
       "  var inline_js = [\n",
       "    function(Bokeh) {\n",
       "      Bokeh.set_log_level(\"info\");\n",
       "    },\n",
       "    \n",
       "    function(Bokeh) {\n",
       "      Bokeh.$(\"#43fcd845-6a46-47cf-859c-2a4c945622db\").text(\"BokehJS successfully loaded\");\n",
       "    },\n",
       "    function(Bokeh) {\n",
       "      console.log(\"Bokeh: injecting CSS: https://cdn.pydata.org/bokeh/release/bokeh-0.11.1.min.css\");\n",
       "      Bokeh.embed.inject_css(\"https://cdn.pydata.org/bokeh/release/bokeh-0.11.1.min.css\");\n",
       "      console.log(\"Bokeh: injecting CSS: https://cdn.pydata.org/bokeh/release/bokeh-widgets-0.11.1.min.css\");\n",
       "      Bokeh.embed.inject_css(\"https://cdn.pydata.org/bokeh/release/bokeh-widgets-0.11.1.min.css\");\n",
       "    }\n",
       "  ];\n",
       "\n",
       "  function run_inline_js() {\n",
       "    for (var i = 0; i < inline_js.length; i++) {\n",
       "      inline_js[i](window.Bokeh);\n",
       "    }\n",
       "  }\n",
       "\n",
       "  if (window._bokeh_is_loading === 0) {\n",
       "    console.log(\"Bokeh: BokehJS loaded, going straight to plotting\");\n",
       "    run_inline_js();\n",
       "  } else {\n",
       "    load_libs(js_urls, function() {\n",
       "      console.log(\"Bokeh: BokehJS plotting callback run at\", now());\n",
       "      run_inline_js();\n",
       "    });\n",
       "  }\n",
       "}(this));"
      ]
     },
     "metadata": {},
     "output_type": "display_data"
    }
   ],
   "source": [
    "from bokeh.io import output_notebook, show\n",
    "output_notebook()"
   ]
  },
  {
   "cell_type": "code",
   "execution_count": 2,
   "metadata": {
    "collapsed": true
   },
   "outputs": [],
   "source": [
    "from bokeh.charts import Donut\n",
    "\n",
    "def pie_chart(values, labels, title):\n",
    "    data = {'values': values}\n",
    "    # Calculate percents for each value, used as wedge labels.\n",
    "    data['percents'] = ['{:0.2f}'.format(100 * amount / sum(data['values']))\n",
    "                        for amount in data['values']]\n",
    "    donut = Donut(data, values='values', legend='top_left',\n",
    "                  labels=labels, label='percents', title=title)\n",
    "    return donut"
   ]
  },
  {
   "cell_type": "code",
   "execution_count": 3,
   "metadata": {
    "collapsed": false
   },
   "outputs": [
    {
     "data": {
      "text/html": [
       "\n",
       "\n",
       "    <div class=\"plotdiv\" id=\"ea14918b-df84-4b89-ad70-cd13bfb88861\"></div>\n",
       "<script type=\"text/javascript\">\n",
       "  \n",
       "  (function(global) {\n",
       "    function now() {\n",
       "      return new Date();\n",
       "    }\n",
       "  \n",
       "    if (typeof (window._bokeh_onload_callbacks) === \"undefined\") {\n",
       "      window._bokeh_onload_callbacks = [];\n",
       "    }\n",
       "  \n",
       "    function run_callbacks() {\n",
       "      window._bokeh_onload_callbacks.forEach(function(callback) { callback() });\n",
       "      delete window._bokeh_onload_callbacks\n",
       "      console.info(\"Bokeh: all callbacks have finished\");\n",
       "    }\n",
       "  \n",
       "    function load_libs(js_urls, callback) {\n",
       "      window._bokeh_onload_callbacks.push(callback);\n",
       "      if (window._bokeh_is_loading > 0) {\n",
       "        console.log(\"Bokeh: BokehJS is being loaded, scheduling callback at\", now());\n",
       "        return null;\n",
       "      }\n",
       "      if (js_urls == null || js_urls.length === 0) {\n",
       "        run_callbacks();\n",
       "        return null;\n",
       "      }\n",
       "      console.log(\"Bokeh: BokehJS not loaded, scheduling load and callback at\", now());\n",
       "      window._bokeh_is_loading = js_urls.length;\n",
       "      for (var i = 0; i < js_urls.length; i++) {\n",
       "        var url = js_urls[i];\n",
       "        var s = document.createElement('script');\n",
       "        s.src = url;\n",
       "        s.async = false;\n",
       "        s.onreadystatechange = s.onload = function() {\n",
       "          window._bokeh_is_loading--;\n",
       "          if (window._bokeh_is_loading === 0) {\n",
       "            console.log(\"Bokeh: all BokehJS libraries loaded\");\n",
       "            run_callbacks()\n",
       "          }\n",
       "        };\n",
       "        s.onerror = function() {\n",
       "          console.warn(\"failed to load library \" + url);\n",
       "        };\n",
       "        console.log(\"Bokeh: injecting script tag for BokehJS library: \", url);\n",
       "        document.getElementsByTagName(\"head\")[0].appendChild(s);\n",
       "      }\n",
       "    };var element = document.getElementById(\"ea14918b-df84-4b89-ad70-cd13bfb88861\");\n",
       "    if (element == null) {\n",
       "      console.log(\"Bokeh: ERROR: autoload.js configured with elementid 'ea14918b-df84-4b89-ad70-cd13bfb88861' but no matching script tag was found. \")\n",
       "      return false;\n",
       "    }\n",
       "  \n",
       "    var js_urls = [];\n",
       "  \n",
       "    var inline_js = [\n",
       "      function(Bokeh) {\n",
       "        Bokeh.$(function() {\n",
       "            var docs_json = {\"f50898f5-c431-4ea0-9c5a-87f6ec53c004\":{\"roots\":{\"references\":[{\"attributes\":{},\"id\":\"571b3afc-b4f4-48bb-8b3b-d0b618776241\",\"type\":\"BasicTicker\"},{\"attributes\":{},\"id\":\"0b4a0495-4a66-4a1d-a2ad-6d54c1a7d691\",\"type\":\"BasicTickFormatter\"},{\"attributes\":{},\"id\":\"b1f4d0f6-64ba-4083-874e-bcd28dccd5b8\",\"type\":\"ToolEvents\"},{\"attributes\":{\"callback\":null,\"end\":1.6500000000000001,\"start\":-1.6500000000000001},\"id\":\"ab39642e-4dc3-447f-9b0b-a3857010e3c8\",\"type\":\"Range1d\"},{\"attributes\":{\"axis_label\":null,\"formatter\":{\"id\":\"0b4a0495-4a66-4a1d-a2ad-6d54c1a7d691\",\"type\":\"BasicTickFormatter\"},\"plot\":{\"id\":\"13bb8039-5287-4b4e-81f6-205ab52470cb\",\"subtype\":\"Chart\",\"type\":\"Plot\"},\"ticker\":{\"id\":\"f490a088-c84a-4318-b79a-edc924cbeac9\",\"type\":\"BasicTicker\"},\"visible\":false},\"id\":\"d40476c1-3479-461e-8b18-aebc140a5cba\",\"type\":\"LinearAxis\"},{\"attributes\":{\"plot\":{\"id\":\"13bb8039-5287-4b4e-81f6-205ab52470cb\",\"subtype\":\"Chart\",\"type\":\"Plot\"}},\"id\":\"de50db43-9ac8-424c-9ab4-ed894f6e4b50\",\"type\":\"PanTool\"},{\"attributes\":{\"plot\":{\"id\":\"13bb8039-5287-4b4e-81f6-205ab52470cb\",\"subtype\":\"Chart\",\"type\":\"Plot\"}},\"id\":\"338f875e-f506-43a8-a719-3663071a1023\",\"type\":\"ResetTool\"},{\"attributes\":{\"plot\":{\"id\":\"13bb8039-5287-4b4e-81f6-205ab52470cb\",\"subtype\":\"Chart\",\"type\":\"Plot\"}},\"id\":\"50bf6746-3542-4735-b349-aad6788f7979\",\"type\":\"PreviewSaveTool\"},{\"attributes\":{\"plot\":{\"id\":\"13bb8039-5287-4b4e-81f6-205ab52470cb\",\"subtype\":\"Chart\",\"type\":\"Plot\"}},\"id\":\"d9042db5-da86-4658-85ac-b040f7532ce5\",\"type\":\"HelpTool\"},{\"attributes\":{\"location\":\"top_left\",\"plot\":{\"id\":\"13bb8039-5287-4b4e-81f6-205ab52470cb\",\"subtype\":\"Chart\",\"type\":\"Plot\"}},\"id\":\"ba49becc-5da5-4e9a-979e-0e4b88cc8538\",\"type\":\"Legend\"},{\"attributes\":{\"callback\":null,\"column_names\":[\"level\",\"values\",\"percents\",\"inners\",\"outers\",\"end\",\"color\",\"start\",\"centers\"],\"data\":{\"centers\":[1.125,1.125],\"color\":[\"#f22c40\",\"#5ab738\"],\"end\":[2.5132741228718345,6.283185307179586],\"inners\":[0.0,0.0],\"level\":[0.0,0.0],\"outers\":[1.5,1.5],\"percents\":[\"40.00\",\"60.00\"],\"start\":[0.0,2.5132741228718345],\"values\":[2,3]}},\"id\":\"dbee39f6-c64c-4797-a484-755cf8e98109\",\"type\":\"ColumnDataSource\"},{\"attributes\":{\"data_source\":{\"id\":\"dbee39f6-c64c-4797-a484-755cf8e98109\",\"type\":\"ColumnDataSource\"},\"glyph\":{\"id\":\"c9f3cf2d-7694-4853-9b79-2b2ea8ea91bb\",\"type\":\"AnnularWedge\"},\"hover_glyph\":null,\"nonselection_glyph\":null,\"selection_glyph\":null},\"id\":\"649cbf94-ad79-43a2-a220-f96d81d5fd28\",\"type\":\"GlyphRenderer\"},{\"attributes\":{\"angle\":{\"field\":\"text_angle\",\"units\":\"rad\"},\"text_align\":\"center\",\"text_baseline\":\"middle\",\"text_font_size\":{\"value\":\"10pt\"},\"x\":{\"field\":\"x\"},\"y\":{\"field\":\"y\"}},\"id\":\"6f08a068-285e-49f0-9349-3d367ffa9d50\",\"type\":\"Text\"},{\"attributes\":{\"bottom_units\":\"screen\",\"fill_alpha\":{\"value\":0.5},\"fill_color\":{\"value\":\"lightgrey\"},\"left_units\":\"screen\",\"level\":\"overlay\",\"line_alpha\":{\"value\":1.0},\"line_color\":{\"value\":\"black\"},\"line_dash\":[4,4],\"line_width\":{\"value\":2},\"plot\":null,\"render_mode\":\"css\",\"right_units\":\"screen\",\"top_units\":\"screen\"},\"id\":\"b61287cf-69da-48ba-9a47-d82915996af2\",\"type\":\"BoxAnnotation\"},{\"attributes\":{\"plot\":{\"id\":\"13bb8039-5287-4b4e-81f6-205ab52470cb\",\"subtype\":\"Chart\",\"type\":\"Plot\"}},\"id\":\"9225b61d-3454-48d6-8cc9-b68307643660\",\"type\":\"ResizeTool\"},{\"attributes\":{\"overlay\":{\"id\":\"b61287cf-69da-48ba-9a47-d82915996af2\",\"type\":\"BoxAnnotation\"},\"plot\":{\"id\":\"13bb8039-5287-4b4e-81f6-205ab52470cb\",\"subtype\":\"Chart\",\"type\":\"Plot\"}},\"id\":\"a324a68e-5dc9-4cea-8410-b68b665e0090\",\"type\":\"BoxZoomTool\"},{\"attributes\":{\"callback\":null,\"end\":1.6500000000000001,\"start\":-1.6500000000000001},\"id\":\"7a598b88-0482-4e50-a826-d57ca8832499\",\"type\":\"Range1d\"},{\"attributes\":{\"data_source\":{\"id\":\"ef2d9243-2477-4ff5-85f5-52ced63ef3bb\",\"type\":\"ColumnDataSource\"},\"glyph\":{\"id\":\"6f08a068-285e-49f0-9349-3d367ffa9d50\",\"type\":\"Text\"},\"hover_glyph\":null,\"nonselection_glyph\":null,\"selection_glyph\":null},\"id\":\"9e99992c-ccf5-4632-988c-680cee31c3b6\",\"type\":\"GlyphRenderer\"},{\"attributes\":{\"end_angle\":{\"field\":\"end\",\"units\":\"rad\"},\"fill_alpha\":{\"value\":0.8},\"fill_color\":{\"field\":\"color\"},\"inner_radius\":{\"field\":\"inners\",\"units\":\"data\"},\"line_color\":{\"value\":\"White\"},\"outer_radius\":{\"field\":\"outers\",\"units\":\"data\"},\"start_angle\":{\"field\":\"start\",\"units\":\"rad\"},\"x\":{\"value\":0},\"y\":{\"value\":0}},\"id\":\"c9f3cf2d-7694-4853-9b79-2b2ea8ea91bb\",\"type\":\"AnnularWedge\"},{\"attributes\":{},\"id\":\"f490a088-c84a-4318-b79a-edc924cbeac9\",\"type\":\"BasicTicker\"},{\"attributes\":{\"plot\":{\"id\":\"13bb8039-5287-4b4e-81f6-205ab52470cb\",\"subtype\":\"Chart\",\"type\":\"Plot\"}},\"id\":\"42c612ec-f11d-4d32-b0a8-8c0b4985e806\",\"type\":\"WheelZoomTool\"},{\"attributes\":{},\"id\":\"f7da13ab-85a6-4af7-9e11-0b62672c8c70\",\"type\":\"BasicTickFormatter\"},{\"attributes\":{\"axis_label\":null,\"formatter\":{\"id\":\"f7da13ab-85a6-4af7-9e11-0b62672c8c70\",\"type\":\"BasicTickFormatter\"},\"plot\":{\"id\":\"13bb8039-5287-4b4e-81f6-205ab52470cb\",\"subtype\":\"Chart\",\"type\":\"Plot\"},\"ticker\":{\"id\":\"571b3afc-b4f4-48bb-8b3b-d0b618776241\",\"type\":\"BasicTicker\"},\"visible\":false},\"id\":\"37891c8d-2155-4653-bfa7-f25ce07e8ba5\",\"type\":\"LinearAxis\"},{\"attributes\":{\"below\":[{\"id\":\"d40476c1-3479-461e-8b18-aebc140a5cba\",\"type\":\"LinearAxis\"}],\"left\":[{\"id\":\"37891c8d-2155-4653-bfa7-f25ce07e8ba5\",\"type\":\"LinearAxis\"}],\"legend\":\"top_left\",\"plot_height\":400,\"plot_width\":400,\"renderers\":[{\"id\":\"b61287cf-69da-48ba-9a47-d82915996af2\",\"type\":\"BoxAnnotation\"},{\"id\":\"649cbf94-ad79-43a2-a220-f96d81d5fd28\",\"type\":\"GlyphRenderer\"},{\"id\":\"9e99992c-ccf5-4632-988c-680cee31c3b6\",\"type\":\"GlyphRenderer\"},{\"id\":\"ba49becc-5da5-4e9a-979e-0e4b88cc8538\",\"type\":\"Legend\"},{\"id\":\"d40476c1-3479-461e-8b18-aebc140a5cba\",\"type\":\"LinearAxis\"},{\"id\":\"37891c8d-2155-4653-bfa7-f25ce07e8ba5\",\"type\":\"LinearAxis\"}],\"title\":\"test chart\",\"title_text_font_size\":{\"value\":\"14pt\"},\"tool_events\":{\"id\":\"b1f4d0f6-64ba-4083-874e-bcd28dccd5b8\",\"type\":\"ToolEvents\"},\"tools\":[{\"id\":\"de50db43-9ac8-424c-9ab4-ed894f6e4b50\",\"type\":\"PanTool\"},{\"id\":\"42c612ec-f11d-4d32-b0a8-8c0b4985e806\",\"type\":\"WheelZoomTool\"},{\"id\":\"a324a68e-5dc9-4cea-8410-b68b665e0090\",\"type\":\"BoxZoomTool\"},{\"id\":\"50bf6746-3542-4735-b349-aad6788f7979\",\"type\":\"PreviewSaveTool\"},{\"id\":\"9225b61d-3454-48d6-8cc9-b68307643660\",\"type\":\"ResizeTool\"},{\"id\":\"338f875e-f506-43a8-a719-3663071a1023\",\"type\":\"ResetTool\"},{\"id\":\"d9042db5-da86-4658-85ac-b040f7532ce5\",\"type\":\"HelpTool\"}],\"x_mapper_type\":\"auto\",\"x_range\":{\"id\":\"ab39642e-4dc3-447f-9b0b-a3857010e3c8\",\"type\":\"Range1d\"},\"xgrid\":false,\"xscale\":\"auto\",\"y_mapper_type\":\"auto\",\"y_range\":{\"id\":\"7a598b88-0482-4e50-a826-d57ca8832499\",\"type\":\"Range1d\"},\"ygrid\":false,\"yscale\":\"auto\"},\"id\":\"13bb8039-5287-4b4e-81f6-205ab52470cb\",\"subtype\":\"Chart\",\"type\":\"Plot\"},{\"attributes\":{\"callback\":null,\"column_names\":[\"y\",\"x\",\"text_angle\",\"text\"],\"data\":{\"text\":[\"40.00\",\"60.00\"],\"text_angle\":[0.0,0.0],\"x\":[0.3476441186718159,-0.347644118671816],\"y\":[1.0699385808320476,-1.0699385808320476]}},\"id\":\"ef2d9243-2477-4ff5-85f5-52ced63ef3bb\",\"type\":\"ColumnDataSource\"}],\"root_ids\":[\"13bb8039-5287-4b4e-81f6-205ab52470cb\"]},\"title\":\"Bokeh Application\",\"version\":\"0.11.1\"}};\n",
       "            var render_items = [{\"docid\":\"f50898f5-c431-4ea0-9c5a-87f6ec53c004\",\"elementid\":\"ea14918b-df84-4b89-ad70-cd13bfb88861\",\"modelid\":\"13bb8039-5287-4b4e-81f6-205ab52470cb\",\"notebook_comms_target\":\"e3aae54c-ba83-4ad4-a621-a5a7f559f3f0\"}];\n",
       "            \n",
       "            Bokeh.embed.embed_items(docs_json, render_items);\n",
       "        });\n",
       "      },\n",
       "      function(Bokeh) {\n",
       "      }\n",
       "    ];\n",
       "  \n",
       "    function run_inline_js() {\n",
       "      for (var i = 0; i < inline_js.length; i++) {\n",
       "        inline_js[i](window.Bokeh);\n",
       "      }\n",
       "    }\n",
       "  \n",
       "    if (window._bokeh_is_loading === 0) {\n",
       "      console.log(\"Bokeh: BokehJS loaded, going straight to plotting\");\n",
       "      run_inline_js();\n",
       "    } else {\n",
       "      load_libs(js_urls, function() {\n",
       "        console.log(\"Bokeh: BokehJS plotting callback run at\", now());\n",
       "        run_inline_js();\n",
       "      });\n",
       "    }\n",
       "  }(this));\n",
       "</script>"
      ]
     },
     "metadata": {},
     "output_type": "display_data"
    },
    {
     "data": {
      "text/html": [
       "<p><code>&lt;Bokeh Notebook handle for <strong>In[3]</strong>&gt;</code></p>"
      ],
      "text/plain": [
       "<bokeh.io._CommsHandle at 0x10cdfd780>"
      ]
     },
     "execution_count": 3,
     "metadata": {},
     "output_type": "execute_result"
    }
   ],
   "source": [
    "show(pie_chart([2, 3], ['a', 'b'], 'test chart'))"
   ]
  },
  {
   "cell_type": "code",
   "execution_count": 4,
   "metadata": {
    "collapsed": false
   },
   "outputs": [
    {
     "name": "stderr",
     "output_type": "stream",
     "text": [
      "/Users/caged/miniconda3/envs/bokeh_miscellany/lib/python3.5/site-packages/ipykernel/__main__.py:10: FutureWarning: sort(columns=....) is deprecated, use sort_values(by=.....)\n"
     ]
    },
    {
     "data": {
      "text/html": [
       "\n",
       "\n",
       "    <div class=\"plotdiv\" id=\"8b41ad01-1177-4da2-b587-4039f64db2d4\"></div>\n",
       "<script type=\"text/javascript\">\n",
       "  \n",
       "  (function(global) {\n",
       "    function now() {\n",
       "      return new Date();\n",
       "    }\n",
       "  \n",
       "    if (typeof (window._bokeh_onload_callbacks) === \"undefined\") {\n",
       "      window._bokeh_onload_callbacks = [];\n",
       "    }\n",
       "  \n",
       "    function run_callbacks() {\n",
       "      window._bokeh_onload_callbacks.forEach(function(callback) { callback() });\n",
       "      delete window._bokeh_onload_callbacks\n",
       "      console.info(\"Bokeh: all callbacks have finished\");\n",
       "    }\n",
       "  \n",
       "    function load_libs(js_urls, callback) {\n",
       "      window._bokeh_onload_callbacks.push(callback);\n",
       "      if (window._bokeh_is_loading > 0) {\n",
       "        console.log(\"Bokeh: BokehJS is being loaded, scheduling callback at\", now());\n",
       "        return null;\n",
       "      }\n",
       "      if (js_urls == null || js_urls.length === 0) {\n",
       "        run_callbacks();\n",
       "        return null;\n",
       "      }\n",
       "      console.log(\"Bokeh: BokehJS not loaded, scheduling load and callback at\", now());\n",
       "      window._bokeh_is_loading = js_urls.length;\n",
       "      for (var i = 0; i < js_urls.length; i++) {\n",
       "        var url = js_urls[i];\n",
       "        var s = document.createElement('script');\n",
       "        s.src = url;\n",
       "        s.async = false;\n",
       "        s.onreadystatechange = s.onload = function() {\n",
       "          window._bokeh_is_loading--;\n",
       "          if (window._bokeh_is_loading === 0) {\n",
       "            console.log(\"Bokeh: all BokehJS libraries loaded\");\n",
       "            run_callbacks()\n",
       "          }\n",
       "        };\n",
       "        s.onerror = function() {\n",
       "          console.warn(\"failed to load library \" + url);\n",
       "        };\n",
       "        console.log(\"Bokeh: injecting script tag for BokehJS library: \", url);\n",
       "        document.getElementsByTagName(\"head\")[0].appendChild(s);\n",
       "      }\n",
       "    };var element = document.getElementById(\"8b41ad01-1177-4da2-b587-4039f64db2d4\");\n",
       "    if (element == null) {\n",
       "      console.log(\"Bokeh: ERROR: autoload.js configured with elementid '8b41ad01-1177-4da2-b587-4039f64db2d4' but no matching script tag was found. \")\n",
       "      return false;\n",
       "    }\n",
       "  \n",
       "    var js_urls = [];\n",
       "  \n",
       "    var inline_js = [\n",
       "      function(Bokeh) {\n",
       "        Bokeh.$(function() {\n",
       "            var docs_json = {\"7eca3e66-daa2-4ea0-91d3-4417c8ef230b\":{\"roots\":{\"references\":[{\"attributes\":{\"plot\":{\"id\":\"b50e223c-b35c-4489-afc4-fc6a6d3d8263\",\"subtype\":\"Chart\",\"type\":\"Plot\"}},\"id\":\"8dfcbfce-3951-4f3c-9b0a-ceb607a56365\",\"type\":\"WheelZoomTool\"},{\"attributes\":{\"end_angle\":{\"field\":\"end\",\"units\":\"rad\"},\"fill_alpha\":{\"value\":0.8},\"fill_color\":{\"field\":\"color\"},\"inner_radius\":{\"field\":\"inners\",\"units\":\"data\"},\"line_color\":{\"value\":\"White\"},\"outer_radius\":{\"field\":\"outers\",\"units\":\"data\"},\"start_angle\":{\"field\":\"start\",\"units\":\"rad\"},\"x\":{\"value\":0},\"y\":{\"value\":0}},\"id\":\"cc6a8c78-3cc2-4f41-ae43-fa467c3c28fd\",\"type\":\"AnnularWedge\"},{\"attributes\":{\"callback\":null,\"column_names\":[\"level\",\"values\",\"inners\",\"outers\",\"end\",\"color\",\"start\",\"centers\",\"abbr_medal\"],\"data\":{\"abbr_medal\":[[\"AUT\",\"\"],[\"AUT\",\"bronze\"],[\"AUT\",\"gold\"],[\"AUT\",\"silver\"],[\"CAN\",\"\"],[\"CAN\",\"bronze\"],[\"CAN\",\"gold\"],[\"CAN\",\"silver\"],[\"CHE\",\"\"],[\"CHE\",\"bronze\"],[\"CHE\",\"gold\"],[\"CHE\",\"silver\"],[\"DEU\",\"\"],[\"DEU\",\"bronze\"],[\"DEU\",\"gold\"],[\"DEU\",\"silver\"],[\"FRA\",\"\"],[\"FRA\",\"bronze\"],[\"FRA\",\"gold\"],[\"FRA\",\"silver\"],[\"NLD\",\"\"],[\"NLD\",\"bronze\"],[\"NLD\",\"gold\"],[\"NLD\",\"silver\"],[\"NOR\",\"\"],[\"NOR\",\"bronze\"],[\"NOR\",\"gold\"],[\"NOR\",\"silver\"],[\"RUS\",\"\"],[\"RUS\",\"bronze\"],[\"RUS\",\"gold\"],[\"RUS\",\"silver\"],[\"SWE\",\"\"],[\"SWE\",\"bronze\"],[\"SWE\",\"gold\"],[\"SWE\",\"silver\"],[\"USA\",\"\"],[\"USA\",\"bronze\"],[\"USA\",\"gold\"],[\"USA\",\"silver\"]],\"centers\":[1.125,2.25,2.25,2.25,1.125,2.25,2.25,2.25,1.125,2.25,2.25,2.25,1.125,2.25,2.25,2.25,1.125,2.25,2.25,2.25,1.125,2.25,2.25,2.25,1.125,2.25,2.25,2.25,1.125,2.25,2.25,2.25,1.125,2.25,2.25,2.25,1.125,2.25,2.25,2.25],\"color\":[\"#f22c40\",\"#f22c40\",\"#f22c40\",\"#f22c40\",\"#5ab738\",\"#5ab738\",\"#5ab738\",\"#5ab738\",\"#407ee7\",\"#407ee7\",\"#407ee7\",\"#407ee7\",\"#df5320\",\"#df5320\",\"#df5320\",\"#df5320\",\"#00ad9c\",\"#00ad9c\",\"#00ad9c\",\"#00ad9c\",\"#c33ff3\",\"#c33ff3\",\"#c33ff3\",\"#c33ff3\",\"#f22c40\",\"#f22c40\",\"#f22c40\",\"#f22c40\",\"#5ab738\",\"#5ab738\",\"#5ab738\",\"#5ab738\",\"#407ee7\",\"#407ee7\",\"#407ee7\",\"#407ee7\",\"#df5320\",\"#df5320\",\"#df5320\",\"#df5320\"],\"end\":[0.37952126016520993,0.04216902890724555,0.12650708672173663,0.37952126016520993,1.0542257226811387,0.5481973757941921,0.7168734914231744,1.0542257226811387,1.475916011753594,1.0963947515883843,1.3494089250318575,1.475916011753594,2.1084514453622774,1.6445921273825763,1.9819443586405407,2.1084514453622774,2.530141734434733,2.319296589898505,2.445803676620242,2.530141734434733,3.373522312579644,2.8674939656926974,3.1205081391361706,3.373522312579644,4.174733861817309,3.6687055149303625,4.006057746188326,4.174733861817309,5.060283468869465,4.469917064168028,4.722931237611501,5.060283468869465,5.439804729034675,5.144621526683956,5.228959584498447,5.439804729034674,6.283185307179586,5.86149501810713,6.114509191550603,6.283185307179585],\"inners\":[0.0,1.5,1.5,1.5,0.0,1.5,1.5,1.5,0.0,1.5,1.5,1.5,0.0,1.5,1.5,1.5,0.0,1.5,1.5,1.5,0.0,1.5,1.5,1.5,0.0,1.5,1.5,1.5,0.0,1.5,1.5,1.5,0.0,1.5,1.5,1.5,0.0,1.5,1.5,1.5],\"level\":[0.0,1.0,1.0,1.0,0.0,1.0,1.0,1.0,0.0,1.0,1.0,1.0,0.0,1.0,1.0,1.0,0.0,1.0,1.0,1.0,0.0,1.0,1.0,1.0,0.0,1.0,1.0,1.0,0.0,1.0,1.0,1.0,0.0,1.0,1.0,1.0,0.0,1.0,1.0,1.0],\"outers\":[1.5,3.0,3.0,3.0,1.5,3.0,3.0,3.0,1.5,3.0,3.0,3.0,1.5,3.0,3.0,3.0,1.5,3.0,3.0,3.0,1.5,3.0,3.0,3.0,1.5,3.0,3.0,3.0,1.5,3.0,3.0,3.0,1.5,3.0,3.0,3.0,1.5,3.0,3.0,3.0],\"start\":[0.0,0.0,0.04216902890724555,0.12650708672173663,0.37952126016520993,0.37952126016520993,0.5481973757941921,0.7168734914231744,1.0542257226811387,1.0542257226811387,1.0963947515883843,1.3494089250318575,1.475916011753594,1.475916011753594,1.6445921273825763,1.9819443586405407,2.1084514453622774,2.1084514453622774,2.319296589898505,2.445803676620242,2.530141734434733,2.530141734434733,2.8674939656926974,3.1205081391361706,3.373522312579644,3.373522312579644,3.6687055149303625,4.006057746188326,4.174733861817309,4.174733861817309,4.469917064168028,4.722931237611501,5.060283468869465,5.060283468869465,5.144621526683956,5.228959584498447,5.439804729034675,5.439804729034674,5.86149501810713,6.114509191550603],\"values\":[9,1,2,6,16,4,4,8,10,1,6,3,15,4,8,3,10,5,3,2,20,8,6,6,19,7,8,4,21,7,6,8,9,2,2,5,20,10,6,4]}},\"id\":\"83f91b60-b214-4e62-94f2-fc5e95ec3814\",\"type\":\"ColumnDataSource\"},{\"attributes\":{\"plot\":{\"id\":\"b50e223c-b35c-4489-afc4-fc6a6d3d8263\",\"subtype\":\"Chart\",\"type\":\"Plot\"}},\"id\":\"3981accf-3620-427b-9033-4c649e95285a\",\"type\":\"HelpTool\"},{\"attributes\":{\"axis_label\":null,\"formatter\":{\"id\":\"0b4a0495-4a66-4a1d-a2ad-6d54c1a7d691\",\"type\":\"BasicTickFormatter\"},\"plot\":{\"id\":\"13bb8039-5287-4b4e-81f6-205ab52470cb\",\"subtype\":\"Chart\",\"type\":\"Plot\"},\"ticker\":{\"id\":\"f490a088-c84a-4318-b79a-edc924cbeac9\",\"type\":\"BasicTicker\"},\"visible\":false},\"id\":\"d40476c1-3479-461e-8b18-aebc140a5cba\",\"type\":\"LinearAxis\"},{\"attributes\":{\"plot\":{\"id\":\"13bb8039-5287-4b4e-81f6-205ab52470cb\",\"subtype\":\"Chart\",\"type\":\"Plot\"}},\"id\":\"338f875e-f506-43a8-a719-3663071a1023\",\"type\":\"ResetTool\"},{\"attributes\":{\"plot\":{\"id\":\"13bb8039-5287-4b4e-81f6-205ab52470cb\",\"subtype\":\"Chart\",\"type\":\"Plot\"}},\"id\":\"d9042db5-da86-4658-85ac-b040f7532ce5\",\"type\":\"HelpTool\"},{\"attributes\":{\"axis_label\":null,\"formatter\":{\"id\":\"c4968302-4b1e-4b84-80af-b2bca62420b9\",\"type\":\"BasicTickFormatter\"},\"plot\":{\"id\":\"b50e223c-b35c-4489-afc4-fc6a6d3d8263\",\"subtype\":\"Chart\",\"type\":\"Plot\"},\"ticker\":{\"id\":\"d9c82092-6d41-490b-a317-5836941e3a63\",\"type\":\"BasicTicker\"},\"visible\":false},\"id\":\"1a3925d9-d403-46c1-909f-eff62a907e9a\",\"type\":\"LinearAxis\"},{\"attributes\":{\"location\":\"top_left\",\"plot\":{\"id\":\"13bb8039-5287-4b4e-81f6-205ab52470cb\",\"subtype\":\"Chart\",\"type\":\"Plot\"}},\"id\":\"ba49becc-5da5-4e9a-979e-0e4b88cc8538\",\"type\":\"Legend\"},{\"attributes\":{\"location\":\"top_left\",\"plot\":{\"id\":\"b50e223c-b35c-4489-afc4-fc6a6d3d8263\",\"subtype\":\"Chart\",\"type\":\"Plot\"}},\"id\":\"4875d607-4932-4360-a560-6522a314605c\",\"type\":\"Legend\"},{\"attributes\":{\"callback\":null,\"column_names\":[\"level\",\"values\",\"percents\",\"inners\",\"outers\",\"end\",\"color\",\"start\",\"centers\"],\"data\":{\"centers\":[1.125,1.125],\"color\":[\"#f22c40\",\"#5ab738\"],\"end\":[2.5132741228718345,6.283185307179586],\"inners\":[0.0,0.0],\"level\":[0.0,0.0],\"outers\":[1.5,1.5],\"percents\":[\"40.00\",\"60.00\"],\"start\":[0.0,2.5132741228718345],\"values\":[2,3]}},\"id\":\"dbee39f6-c64c-4797-a484-755cf8e98109\",\"type\":\"ColumnDataSource\"},{\"attributes\":{\"callback\":null,\"end\":3.1500000000000004,\"start\":-3.1500000000000004},\"id\":\"aa25820c-4a6a-4c39-b96f-fd388de8aaca\",\"type\":\"Range1d\"},{\"attributes\":{\"angle\":{\"field\":\"text_angle\",\"units\":\"rad\"},\"text_align\":\"center\",\"text_baseline\":\"middle\",\"text_font_size\":{\"value\":\"8pt\"},\"x\":{\"field\":\"x\"},\"y\":{\"field\":\"y\"}},\"id\":\"cd37bd37-5d58-4db0-99a8-8755f6f96c10\",\"type\":\"Text\"},{\"attributes\":{\"plot\":{\"id\":\"b50e223c-b35c-4489-afc4-fc6a6d3d8263\",\"subtype\":\"Chart\",\"type\":\"Plot\"}},\"id\":\"1acc076f-3608-4521-8294-6c90bf8cd6a0\",\"type\":\"PanTool\"},{\"attributes\":{\"bottom_units\":\"screen\",\"fill_alpha\":{\"value\":0.5},\"fill_color\":{\"value\":\"lightgrey\"},\"left_units\":\"screen\",\"level\":\"overlay\",\"line_alpha\":{\"value\":1.0},\"line_color\":{\"value\":\"black\"},\"line_dash\":[4,4],\"line_width\":{\"value\":2},\"plot\":null,\"render_mode\":\"css\",\"right_units\":\"screen\",\"top_units\":\"screen\"},\"id\":\"6a83b333-0ae8-428a-a6fe-df0d85dcbd41\",\"type\":\"BoxAnnotation\"},{\"attributes\":{\"plot\":{\"id\":\"13bb8039-5287-4b4e-81f6-205ab52470cb\",\"subtype\":\"Chart\",\"type\":\"Plot\"}},\"id\":\"9225b61d-3454-48d6-8cc9-b68307643660\",\"type\":\"ResizeTool\"},{\"attributes\":{\"plot\":{\"id\":\"b50e223c-b35c-4489-afc4-fc6a6d3d8263\",\"subtype\":\"Chart\",\"type\":\"Plot\"}},\"id\":\"ccac1313-de53-4787-bc8f-cda72a3ee521\",\"type\":\"PreviewSaveTool\"},{\"attributes\":{\"below\":[{\"id\":\"1a3925d9-d403-46c1-909f-eff62a907e9a\",\"type\":\"LinearAxis\"}],\"left\":[{\"id\":\"97de45ea-cc4f-45bb-af3a-e3ec2c033076\",\"type\":\"LinearAxis\"}],\"legend\":\"top_left\",\"plot_height\":400,\"plot_width\":400,\"renderers\":[{\"id\":\"6a83b333-0ae8-428a-a6fe-df0d85dcbd41\",\"type\":\"BoxAnnotation\"},{\"id\":\"8b7b23c8-51ca-4f31-999d-c351f1163f89\",\"type\":\"GlyphRenderer\"},{\"id\":\"efcca3db-4656-4904-83f8-dcf8b567bc58\",\"type\":\"GlyphRenderer\"},{\"id\":\"4875d607-4932-4360-a560-6522a314605c\",\"type\":\"Legend\"},{\"id\":\"1a3925d9-d403-46c1-909f-eff62a907e9a\",\"type\":\"LinearAxis\"},{\"id\":\"97de45ea-cc4f-45bb-af3a-e3ec2c033076\",\"type\":\"LinearAxis\"}],\"title_text_font_size\":{\"value\":\"14pt\"},\"tool_events\":{\"id\":\"b80a4499-ac59-4cb1-95f9-f29945c014a8\",\"type\":\"ToolEvents\"},\"tools\":[{\"id\":\"1acc076f-3608-4521-8294-6c90bf8cd6a0\",\"type\":\"PanTool\"},{\"id\":\"8dfcbfce-3951-4f3c-9b0a-ceb607a56365\",\"type\":\"WheelZoomTool\"},{\"id\":\"61bdbfc7-dfaa-4d48-8c2f-b006523dde13\",\"type\":\"BoxZoomTool\"},{\"id\":\"ccac1313-de53-4787-bc8f-cda72a3ee521\",\"type\":\"PreviewSaveTool\"},{\"id\":\"15fb3a21-9b01-47e3-accd-aaa853e2f58a\",\"type\":\"ResizeTool\"},{\"id\":\"0529d0a8-74c2-4a90-9655-b464c0f7f890\",\"type\":\"ResetTool\"},{\"id\":\"3981accf-3620-427b-9033-4c649e95285a\",\"type\":\"HelpTool\"}],\"x_mapper_type\":\"auto\",\"x_range\":{\"id\":\"0a5f2149-6492-491b-8ae9-a95da94d07e3\",\"type\":\"Range1d\"},\"xgrid\":false,\"xscale\":\"auto\",\"y_mapper_type\":\"auto\",\"y_range\":{\"id\":\"aa25820c-4a6a-4c39-b96f-fd388de8aaca\",\"type\":\"Range1d\"},\"ygrid\":false,\"yscale\":\"auto\"},\"id\":\"b50e223c-b35c-4489-afc4-fc6a6d3d8263\",\"subtype\":\"Chart\",\"type\":\"Plot\"},{\"attributes\":{\"callback\":null,\"end\":1.6500000000000001,\"start\":-1.6500000000000001},\"id\":\"7a598b88-0482-4e50-a826-d57ca8832499\",\"type\":\"Range1d\"},{\"attributes\":{},\"id\":\"b80a4499-ac59-4cb1-95f9-f29945c014a8\",\"type\":\"ToolEvents\"},{\"attributes\":{\"overlay\":{\"id\":\"b61287cf-69da-48ba-9a47-d82915996af2\",\"type\":\"BoxAnnotation\"},\"plot\":{\"id\":\"13bb8039-5287-4b4e-81f6-205ab52470cb\",\"subtype\":\"Chart\",\"type\":\"Plot\"}},\"id\":\"a324a68e-5dc9-4cea-8410-b68b665e0090\",\"type\":\"BoxZoomTool\"},{\"attributes\":{\"end_angle\":{\"field\":\"end\",\"units\":\"rad\"},\"fill_alpha\":{\"value\":0.8},\"fill_color\":{\"field\":\"color\"},\"inner_radius\":{\"field\":\"inners\",\"units\":\"data\"},\"line_color\":{\"value\":\"White\"},\"outer_radius\":{\"field\":\"outers\",\"units\":\"data\"},\"start_angle\":{\"field\":\"start\",\"units\":\"rad\"},\"x\":{\"value\":0},\"y\":{\"value\":0}},\"id\":\"c9f3cf2d-7694-4853-9b79-2b2ea8ea91bb\",\"type\":\"AnnularWedge\"},{\"attributes\":{},\"id\":\"f490a088-c84a-4318-b79a-edc924cbeac9\",\"type\":\"BasicTicker\"},{\"attributes\":{\"plot\":{\"id\":\"13bb8039-5287-4b4e-81f6-205ab52470cb\",\"subtype\":\"Chart\",\"type\":\"Plot\"}},\"id\":\"42c612ec-f11d-4d32-b0a8-8c0b4985e806\",\"type\":\"WheelZoomTool\"},{\"attributes\":{},\"id\":\"e408891c-478d-4528-af84-a43cae653c84\",\"type\":\"BasicTickFormatter\"},{\"attributes\":{\"below\":[{\"id\":\"d40476c1-3479-461e-8b18-aebc140a5cba\",\"type\":\"LinearAxis\"}],\"left\":[{\"id\":\"37891c8d-2155-4653-bfa7-f25ce07e8ba5\",\"type\":\"LinearAxis\"}],\"legend\":\"top_left\",\"plot_height\":400,\"plot_width\":400,\"renderers\":[{\"id\":\"b61287cf-69da-48ba-9a47-d82915996af2\",\"type\":\"BoxAnnotation\"},{\"id\":\"649cbf94-ad79-43a2-a220-f96d81d5fd28\",\"type\":\"GlyphRenderer\"},{\"id\":\"9e99992c-ccf5-4632-988c-680cee31c3b6\",\"type\":\"GlyphRenderer\"},{\"id\":\"ba49becc-5da5-4e9a-979e-0e4b88cc8538\",\"type\":\"Legend\"},{\"id\":\"d40476c1-3479-461e-8b18-aebc140a5cba\",\"type\":\"LinearAxis\"},{\"id\":\"37891c8d-2155-4653-bfa7-f25ce07e8ba5\",\"type\":\"LinearAxis\"}],\"title\":\"test chart\",\"title_text_font_size\":{\"value\":\"14pt\"},\"tool_events\":{\"id\":\"b1f4d0f6-64ba-4083-874e-bcd28dccd5b8\",\"type\":\"ToolEvents\"},\"tools\":[{\"id\":\"de50db43-9ac8-424c-9ab4-ed894f6e4b50\",\"type\":\"PanTool\"},{\"id\":\"42c612ec-f11d-4d32-b0a8-8c0b4985e806\",\"type\":\"WheelZoomTool\"},{\"id\":\"a324a68e-5dc9-4cea-8410-b68b665e0090\",\"type\":\"BoxZoomTool\"},{\"id\":\"50bf6746-3542-4735-b349-aad6788f7979\",\"type\":\"PreviewSaveTool\"},{\"id\":\"9225b61d-3454-48d6-8cc9-b68307643660\",\"type\":\"ResizeTool\"},{\"id\":\"338f875e-f506-43a8-a719-3663071a1023\",\"type\":\"ResetTool\"},{\"id\":\"d9042db5-da86-4658-85ac-b040f7532ce5\",\"type\":\"HelpTool\"}],\"x_mapper_type\":\"auto\",\"x_range\":{\"id\":\"ab39642e-4dc3-447f-9b0b-a3857010e3c8\",\"type\":\"Range1d\"},\"xgrid\":false,\"xscale\":\"auto\",\"y_mapper_type\":\"auto\",\"y_range\":{\"id\":\"7a598b88-0482-4e50-a826-d57ca8832499\",\"type\":\"Range1d\"},\"ygrid\":false,\"yscale\":\"auto\"},\"id\":\"13bb8039-5287-4b4e-81f6-205ab52470cb\",\"subtype\":\"Chart\",\"type\":\"Plot\"},{\"attributes\":{\"plot\":{\"id\":\"13bb8039-5287-4b4e-81f6-205ab52470cb\",\"subtype\":\"Chart\",\"type\":\"Plot\"}},\"id\":\"50bf6746-3542-4735-b349-aad6788f7979\",\"type\":\"PreviewSaveTool\"},{\"attributes\":{},\"id\":\"571b3afc-b4f4-48bb-8b3b-d0b618776241\",\"type\":\"BasicTicker\"},{\"attributes\":{},\"id\":\"0b4a0495-4a66-4a1d-a2ad-6d54c1a7d691\",\"type\":\"BasicTickFormatter\"},{\"attributes\":{\"callback\":null,\"column_names\":[\"y\",\"x\",\"text_angle\",\"text\"],\"data\":{\"text\":[\"40.00\",\"60.00\"],\"text_angle\":[0.0,0.0],\"x\":[0.3476441186718159,-0.347644118671816],\"y\":[1.0699385808320476,-1.0699385808320476]}},\"id\":\"ef2d9243-2477-4ff5-85f5-52ced63ef3bb\",\"type\":\"ColumnDataSource\"},{\"attributes\":{},\"id\":\"b1f4d0f6-64ba-4083-874e-bcd28dccd5b8\",\"type\":\"ToolEvents\"},{\"attributes\":{},\"id\":\"d9c82092-6d41-490b-a317-5836941e3a63\",\"type\":\"BasicTicker\"},{\"attributes\":{\"callback\":null,\"end\":1.6500000000000001,\"start\":-1.6500000000000001},\"id\":\"ab39642e-4dc3-447f-9b0b-a3857010e3c8\",\"type\":\"Range1d\"},{\"attributes\":{\"callback\":null,\"end\":3.1500000000000004,\"start\":-3.1500000000000004},\"id\":\"0a5f2149-6492-491b-8ae9-a95da94d07e3\",\"type\":\"Range1d\"},{\"attributes\":{\"plot\":{\"id\":\"13bb8039-5287-4b4e-81f6-205ab52470cb\",\"subtype\":\"Chart\",\"type\":\"Plot\"}},\"id\":\"de50db43-9ac8-424c-9ab4-ed894f6e4b50\",\"type\":\"PanTool\"},{\"attributes\":{\"data_source\":{\"id\":\"dbee39f6-c64c-4797-a484-755cf8e98109\",\"type\":\"ColumnDataSource\"},\"glyph\":{\"id\":\"c9f3cf2d-7694-4853-9b79-2b2ea8ea91bb\",\"type\":\"AnnularWedge\"},\"hover_glyph\":null,\"nonselection_glyph\":null,\"selection_glyph\":null},\"id\":\"649cbf94-ad79-43a2-a220-f96d81d5fd28\",\"type\":\"GlyphRenderer\"},{\"attributes\":{\"overlay\":{\"id\":\"6a83b333-0ae8-428a-a6fe-df0d85dcbd41\",\"type\":\"BoxAnnotation\"},\"plot\":{\"id\":\"b50e223c-b35c-4489-afc4-fc6a6d3d8263\",\"subtype\":\"Chart\",\"type\":\"Plot\"}},\"id\":\"61bdbfc7-dfaa-4d48-8c2f-b006523dde13\",\"type\":\"BoxZoomTool\"},{\"attributes\":{},\"id\":\"d4d6bdd5-cf13-4ba1-b1d8-b01347811d77\",\"type\":\"BasicTicker\"},{\"attributes\":{\"data_source\":{\"id\":\"83f91b60-b214-4e62-94f2-fc5e95ec3814\",\"type\":\"ColumnDataSource\"},\"glyph\":{\"id\":\"cc6a8c78-3cc2-4f41-ae43-fa467c3c28fd\",\"type\":\"AnnularWedge\"},\"hover_glyph\":null,\"nonselection_glyph\":null,\"selection_glyph\":null},\"id\":\"8b7b23c8-51ca-4f31-999d-c351f1163f89\",\"type\":\"GlyphRenderer\"},{\"attributes\":{\"plot\":{\"id\":\"b50e223c-b35c-4489-afc4-fc6a6d3d8263\",\"subtype\":\"Chart\",\"type\":\"Plot\"}},\"id\":\"15fb3a21-9b01-47e3-accd-aaa853e2f58a\",\"type\":\"ResizeTool\"},{\"attributes\":{\"data_source\":{\"id\":\"6fd82c6e-872e-420a-be24-2f3206be1715\",\"type\":\"ColumnDataSource\"},\"glyph\":{\"id\":\"cd37bd37-5d58-4db0-99a8-8755f6f96c10\",\"type\":\"Text\"},\"hover_glyph\":null,\"nonselection_glyph\":null,\"selection_glyph\":null},\"id\":\"efcca3db-4656-4904-83f8-dcf8b567bc58\",\"type\":\"GlyphRenderer\"},{\"attributes\":{\"angle\":{\"field\":\"text_angle\",\"units\":\"rad\"},\"text_align\":\"center\",\"text_baseline\":\"middle\",\"text_font_size\":{\"value\":\"10pt\"},\"x\":{\"field\":\"x\"},\"y\":{\"field\":\"y\"}},\"id\":\"6f08a068-285e-49f0-9349-3d367ffa9d50\",\"type\":\"Text\"},{\"attributes\":{\"bottom_units\":\"screen\",\"fill_alpha\":{\"value\":0.5},\"fill_color\":{\"value\":\"lightgrey\"},\"left_units\":\"screen\",\"level\":\"overlay\",\"line_alpha\":{\"value\":1.0},\"line_color\":{\"value\":\"black\"},\"line_dash\":[4,4],\"line_width\":{\"value\":2},\"plot\":null,\"render_mode\":\"css\",\"right_units\":\"screen\",\"top_units\":\"screen\"},\"id\":\"b61287cf-69da-48ba-9a47-d82915996af2\",\"type\":\"BoxAnnotation\"},{\"attributes\":{\"plot\":{\"id\":\"b50e223c-b35c-4489-afc4-fc6a6d3d8263\",\"subtype\":\"Chart\",\"type\":\"Plot\"}},\"id\":\"0529d0a8-74c2-4a90-9655-b464c0f7f890\",\"type\":\"ResetTool\"},{\"attributes\":{},\"id\":\"c4968302-4b1e-4b84-80af-b2bca62420b9\",\"type\":\"BasicTickFormatter\"},{\"attributes\":{\"data_source\":{\"id\":\"ef2d9243-2477-4ff5-85f5-52ced63ef3bb\",\"type\":\"ColumnDataSource\"},\"glyph\":{\"id\":\"6f08a068-285e-49f0-9349-3d367ffa9d50\",\"type\":\"Text\"},\"hover_glyph\":null,\"nonselection_glyph\":null,\"selection_glyph\":null},\"id\":\"9e99992c-ccf5-4632-988c-680cee31c3b6\",\"type\":\"GlyphRenderer\"},{\"attributes\":{\"callback\":null,\"column_names\":[\"y\",\"x\",\"text_angle\",\"text\"],\"data\":{\"text\":[\"AUT\",\"bronze\",\"gold\",\"silver\",\"CAN\",\"bronze\",\"gold\",\"silver\",\"CHE\",\"bronze\",\"gold\",\"silver\",\"DEU\",\"bronze\",\"gold\",\"silver\",\"FRA\",\"bronze\",\"gold\",\"silver\",\"NLD\",\"bronze\",\"gold\",\"silver\",\"NOR\",\"bronze\",\"gold\",\"silver\",\"RUS\",\"bronze\",\"gold\",\"silver\",\"SWE\",\"bronze\",\"gold\",\"silver\",\"USA\",\"bronze\",\"gold\",\"silver\"],\"text_angle\":[0.0,0.021084514453622773,0.0843380578144911,0.25301417344347327,0.0,0.46385931797970104,0.6325354336086833,0.8855496070521565,0.0,1.0753102371347616,1.222901838310121,1.4126624683927258,0.0,1.560254069568085,4.954860896601351,5.186790555591202,0.0,5.355466671220184,5.524142786849167,5.62956535911728,0.0,5.840410503653509,6.135593706004228,6.388607879447701,0.0,6.662706567344796,6.978974284149137,7.23198845759261,0.0,7.4639181165824615,7.738016804479558,4.891607353240483,0.0,5.10245249777671,5.186790555591202,5.33438215676656,0.0,5.650649873570902,5.988002104828866,6.198847249365095],\"x\":[1.104805590886699,2.249499892184141,2.2420027205170387,2.178365181744732,0.8480965760393239,2.012248106600736,1.8146951444761354,1.4239441276355629,0.33860820772678335,1.069783512354476,0.767068174776323,0.35432015483704005,-0.24703129626183343,0.023719639391054256,-0.5402316686595636,-1.0278139286434214,-0.7656082347002524,-1.3492377266828857,-1.632364439995781,-1.7862476490719368,-1.104805590886699,-2.0330241374833724,-2.2255382623177966,-2.2375084170483754,-0.907347572238068,-2.0898947329938067,-1.7269834802180628,-1.3109764694102914,-0.10658027550270278,-0.8555561148769509,-0.2603364557048132,0.40108616972985656,0.5761387742118242,0.8555561148769484,1.0278139286434202,1.3109764694102874,1.0264482036225655,1.8146951444761346,2.1526849395915697,2.2420027205170387],\"y\":[0.21220180570742547,0.04743664262507488,0.18953575175727672,0.5632274273881197,0.7391597917300259,1.0066566234231777,1.3301810149805693,1.7420915938526873,1.0728324574042563,1.9794098202985961,2.11520836213488,2.221926467702353,1.0975429552720013,2.2498749695721223,2.184181710430088,2.0015240513385235,0.8242991149814265,1.8005714528714485,1.5485110057849962,1.3681444865894021,0.21220180570742506,0.9640087429115931,0.3308767791179714,-0.23676165998250986,-0.6650905074902843,-0.8335706358820144,-1.4422302378794822,-1.8286171542049274,-1.1199400184267763,-2.0809910461836827,-2.234888124678964,-2.213962484878963,-0.9662758989283012,-2.0809910461836836,-2.001524051338524,-1.82861715420493,-0.46046616084138936,-1.3301810149805708,-0.6545590507017991,-0.18953575175727858]}},\"id\":\"6fd82c6e-872e-420a-be24-2f3206be1715\",\"type\":\"ColumnDataSource\"},{\"attributes\":{},\"id\":\"f7da13ab-85a6-4af7-9e11-0b62672c8c70\",\"type\":\"BasicTickFormatter\"},{\"attributes\":{\"axis_label\":null,\"formatter\":{\"id\":\"f7da13ab-85a6-4af7-9e11-0b62672c8c70\",\"type\":\"BasicTickFormatter\"},\"plot\":{\"id\":\"13bb8039-5287-4b4e-81f6-205ab52470cb\",\"subtype\":\"Chart\",\"type\":\"Plot\"},\"ticker\":{\"id\":\"571b3afc-b4f4-48bb-8b3b-d0b618776241\",\"type\":\"BasicTicker\"},\"visible\":false},\"id\":\"37891c8d-2155-4653-bfa7-f25ce07e8ba5\",\"type\":\"LinearAxis\"},{\"attributes\":{\"axis_label\":null,\"formatter\":{\"id\":\"e408891c-478d-4528-af84-a43cae653c84\",\"type\":\"BasicTickFormatter\"},\"plot\":{\"id\":\"b50e223c-b35c-4489-afc4-fc6a6d3d8263\",\"subtype\":\"Chart\",\"type\":\"Plot\"},\"ticker\":{\"id\":\"d4d6bdd5-cf13-4ba1-b1d8-b01347811d77\",\"type\":\"BasicTicker\"},\"visible\":false},\"id\":\"97de45ea-cc4f-45bb-af3a-e3ec2c033076\",\"type\":\"LinearAxis\"}],\"root_ids\":[\"13bb8039-5287-4b4e-81f6-205ab52470cb\",\"b50e223c-b35c-4489-afc4-fc6a6d3d8263\"]},\"title\":\"Bokeh Application\",\"version\":\"0.11.1\"}};\n",
       "            var render_items = [{\"docid\":\"7eca3e66-daa2-4ea0-91d3-4417c8ef230b\",\"elementid\":\"8b41ad01-1177-4da2-b587-4039f64db2d4\",\"modelid\":\"b50e223c-b35c-4489-afc4-fc6a6d3d8263\",\"notebook_comms_target\":\"d34a0909-fa0c-4275-bbab-8b7fa2dac644\"}];\n",
       "            \n",
       "            Bokeh.embed.embed_items(docs_json, render_items);\n",
       "        });\n",
       "      },\n",
       "      function(Bokeh) {\n",
       "      }\n",
       "    ];\n",
       "  \n",
       "    function run_inline_js() {\n",
       "      for (var i = 0; i < inline_js.length; i++) {\n",
       "        inline_js[i](window.Bokeh);\n",
       "      }\n",
       "    }\n",
       "  \n",
       "    if (window._bokeh_is_loading === 0) {\n",
       "      console.log(\"Bokeh: BokehJS loaded, going straight to plotting\");\n",
       "      run_inline_js();\n",
       "    } else {\n",
       "      load_libs(js_urls, function() {\n",
       "        console.log(\"Bokeh: BokehJS plotting callback run at\", now());\n",
       "        run_inline_js();\n",
       "      });\n",
       "    }\n",
       "  }(this));\n",
       "</script>"
      ]
     },
     "metadata": {},
     "output_type": "display_data"
    },
    {
     "data": {
      "text/html": [
       "<p><code>&lt;Bokeh Notebook handle for <strong>In[4]</strong>&gt;</code></p>"
      ],
      "text/plain": [
       "<bokeh.io._CommsHandle at 0x10cf40e48>"
      ]
     },
     "execution_count": 4,
     "metadata": {},
     "output_type": "execute_result"
    }
   ],
   "source": [
    "import pandas as pd\n",
    "from bokeh.charts.utils import df_from_json\n",
    "from bokeh.sampledata.olympics2014 import data\n",
    "\n",
    "# utilize utility to make it easy to get json/dict data converted to a dataframe\n",
    "df = df_from_json(data)\n",
    "\n",
    "# filter by countries with at least one medal and sort by total medals\n",
    "df = df[df['total'] > 8]\n",
    "df = df.sort(\"total\", ascending=False)\n",
    "df = pd.melt(df, id_vars=['abbr'],\n",
    "             value_vars=['bronze', 'silver', 'gold'],\n",
    "             value_name='medal_count', var_name='medal')\n",
    "\n",
    "# original example\n",
    "d = Donut(df, label=['abbr', 'medal'], values='medal_count', legend='top_left',\n",
    "          text_font_size='8pt', hover_text='medal_count')\n",
    "show(d)"
   ]
  },
  {
   "cell_type": "code",
   "execution_count": 10,
   "metadata": {
    "collapsed": true
   },
   "outputs": [],
   "source": [
    "pie = pie_chart([2, 3], ['a', 'b'], 'test chart')"
   ]
  },
  {
   "cell_type": "code",
   "execution_count": 13,
   "metadata": {
    "collapsed": false
   },
   "outputs": [],
   "source": [
    "from bokeh.models import Legend\n",
    "legend = pie.select_one(Legend)\n"
   ]
  },
  {
   "cell_type": "code",
   "execution_count": 20,
   "metadata": {
    "collapsed": false
   },
   "outputs": [],
   "source": [
    "legend.legends = [\n",
    "    ('a', [pie.renderers[1]]),\n",
    "    ('b', [pie.renderers[2]])\n",
    "]"
   ]
  },
  {
   "cell_type": "code",
   "execution_count": 21,
   "metadata": {
    "collapsed": false
   },
   "outputs": [
    {
     "data": {
      "text/html": [
       "\n",
       "\n",
       "    <div class=\"plotdiv\" id=\"61387e4f-4f50-44ed-a738-0f57812200d5\"></div>\n",
       "<script type=\"text/javascript\">\n",
       "  \n",
       "  (function(global) {\n",
       "    function now() {\n",
       "      return new Date();\n",
       "    }\n",
       "  \n",
       "    if (typeof (window._bokeh_onload_callbacks) === \"undefined\") {\n",
       "      window._bokeh_onload_callbacks = [];\n",
       "    }\n",
       "  \n",
       "    function run_callbacks() {\n",
       "      window._bokeh_onload_callbacks.forEach(function(callback) { callback() });\n",
       "      delete window._bokeh_onload_callbacks\n",
       "      console.info(\"Bokeh: all callbacks have finished\");\n",
       "    }\n",
       "  \n",
       "    function load_libs(js_urls, callback) {\n",
       "      window._bokeh_onload_callbacks.push(callback);\n",
       "      if (window._bokeh_is_loading > 0) {\n",
       "        console.log(\"Bokeh: BokehJS is being loaded, scheduling callback at\", now());\n",
       "        return null;\n",
       "      }\n",
       "      if (js_urls == null || js_urls.length === 0) {\n",
       "        run_callbacks();\n",
       "        return null;\n",
       "      }\n",
       "      console.log(\"Bokeh: BokehJS not loaded, scheduling load and callback at\", now());\n",
       "      window._bokeh_is_loading = js_urls.length;\n",
       "      for (var i = 0; i < js_urls.length; i++) {\n",
       "        var url = js_urls[i];\n",
       "        var s = document.createElement('script');\n",
       "        s.src = url;\n",
       "        s.async = false;\n",
       "        s.onreadystatechange = s.onload = function() {\n",
       "          window._bokeh_is_loading--;\n",
       "          if (window._bokeh_is_loading === 0) {\n",
       "            console.log(\"Bokeh: all BokehJS libraries loaded\");\n",
       "            run_callbacks()\n",
       "          }\n",
       "        };\n",
       "        s.onerror = function() {\n",
       "          console.warn(\"failed to load library \" + url);\n",
       "        };\n",
       "        console.log(\"Bokeh: injecting script tag for BokehJS library: \", url);\n",
       "        document.getElementsByTagName(\"head\")[0].appendChild(s);\n",
       "      }\n",
       "    };var element = document.getElementById(\"61387e4f-4f50-44ed-a738-0f57812200d5\");\n",
       "    if (element == null) {\n",
       "      console.log(\"Bokeh: ERROR: autoload.js configured with elementid '61387e4f-4f50-44ed-a738-0f57812200d5' but no matching script tag was found. \")\n",
       "      return false;\n",
       "    }\n",
       "  \n",
       "    var js_urls = [];\n",
       "  \n",
       "    var inline_js = [\n",
       "      function(Bokeh) {\n",
       "        Bokeh.$(function() {\n",
       "            var docs_json = {\"816a5c26-1e7a-4969-83dd-fbc788b12523\":{\"roots\":{\"references\":[{\"attributes\":{\"data_source\":{\"id\":\"2e8e3282-ec9e-4abd-8740-5df4fd5ff795\",\"type\":\"ColumnDataSource\"},\"glyph\":{\"id\":\"97a79653-7a8d-470a-80f1-f431ec328153\",\"type\":\"Text\"},\"hover_glyph\":null,\"nonselection_glyph\":null,\"selection_glyph\":null},\"id\":\"53c5ad18-6d48-4c35-8f73-560a12201079\",\"type\":\"GlyphRenderer\"},{\"attributes\":{\"plot\":{\"id\":\"b50e223c-b35c-4489-afc4-fc6a6d3d8263\",\"subtype\":\"Chart\",\"type\":\"Plot\"}},\"id\":\"8dfcbfce-3951-4f3c-9b0a-ceb607a56365\",\"type\":\"WheelZoomTool\"},{\"attributes\":{\"end_angle\":{\"field\":\"end\",\"units\":\"rad\"},\"fill_alpha\":{\"value\":0.8},\"fill_color\":{\"field\":\"color\"},\"inner_radius\":{\"field\":\"inners\",\"units\":\"data\"},\"line_color\":{\"value\":\"White\"},\"outer_radius\":{\"field\":\"outers\",\"units\":\"data\"},\"start_angle\":{\"field\":\"start\",\"units\":\"rad\"},\"x\":{\"value\":0},\"y\":{\"value\":0}},\"id\":\"cc6a8c78-3cc2-4f41-ae43-fa467c3c28fd\",\"type\":\"AnnularWedge\"},{\"attributes\":{\"callback\":null,\"column_names\":[\"level\",\"values\",\"percents\",\"inners\",\"outers\",\"end\",\"color\",\"start\",\"centers\"],\"data\":{\"centers\":[1.125,1.125],\"color\":[\"#f22c40\",\"#5ab738\"],\"end\":[2.5132741228718345,6.283185307179586],\"inners\":[0.0,0.0],\"level\":[0.0,0.0],\"outers\":[1.5,1.5],\"percents\":[\"40.00\",\"60.00\"],\"start\":[0.0,2.5132741228718345],\"values\":[2,3]}},\"id\":\"949f6aca-e03b-44cb-be9e-c915349a7d7f\",\"type\":\"ColumnDataSource\"},{\"attributes\":{\"end_angle\":{\"field\":\"end\",\"units\":\"rad\"},\"fill_alpha\":{\"value\":0.8},\"fill_color\":{\"field\":\"color\"},\"inner_radius\":{\"field\":\"inners\",\"units\":\"data\"},\"line_color\":{\"value\":\"White\"},\"outer_radius\":{\"field\":\"outers\",\"units\":\"data\"},\"start_angle\":{\"field\":\"start\",\"units\":\"rad\"},\"x\":{\"value\":0},\"y\":{\"value\":0}},\"id\":\"4cacc988-2733-47f0-b186-5d53699b2b31\",\"type\":\"AnnularWedge\"},{\"attributes\":{\"axis_label\":null,\"formatter\":{\"id\":\"0b4a0495-4a66-4a1d-a2ad-6d54c1a7d691\",\"type\":\"BasicTickFormatter\"},\"plot\":{\"id\":\"13bb8039-5287-4b4e-81f6-205ab52470cb\",\"subtype\":\"Chart\",\"type\":\"Plot\"},\"ticker\":{\"id\":\"f490a088-c84a-4318-b79a-edc924cbeac9\",\"type\":\"BasicTicker\"},\"visible\":false},\"id\":\"d40476c1-3479-461e-8b18-aebc140a5cba\",\"type\":\"LinearAxis\"},{\"attributes\":{\"angle\":{\"field\":\"text_angle\",\"units\":\"rad\"},\"text_align\":\"center\",\"text_baseline\":\"middle\",\"text_font_size\":{\"value\":\"10pt\"},\"x\":{\"field\":\"x\"},\"y\":{\"field\":\"y\"}},\"id\":\"b237cb0f-5c7e-4355-a2c2-b6028f0ae3d8\",\"type\":\"Text\"},{\"attributes\":{\"plot\":{\"id\":\"13bb8039-5287-4b4e-81f6-205ab52470cb\",\"subtype\":\"Chart\",\"type\":\"Plot\"}},\"id\":\"338f875e-f506-43a8-a719-3663071a1023\",\"type\":\"ResetTool\"},{\"attributes\":{\"plot\":{\"id\":\"8e26defa-e96f-4ffd-99c9-7c854dfa1797\",\"subtype\":\"Chart\",\"type\":\"Plot\"}},\"id\":\"dc0a427f-5219-40eb-8724-6b4985d730dc\",\"type\":\"PreviewSaveTool\"},{\"attributes\":{\"angle\":{\"field\":\"text_angle\",\"units\":\"rad\"},\"text_align\":\"center\",\"text_baseline\":\"middle\",\"text_font_size\":{\"value\":\"10pt\"},\"x\":{\"field\":\"x\"},\"y\":{\"field\":\"y\"}},\"id\":\"97a79653-7a8d-470a-80f1-f431ec328153\",\"type\":\"Text\"},{\"attributes\":{\"axis_label\":null,\"formatter\":{\"id\":\"c4968302-4b1e-4b84-80af-b2bca62420b9\",\"type\":\"BasicTickFormatter\"},\"plot\":{\"id\":\"b50e223c-b35c-4489-afc4-fc6a6d3d8263\",\"subtype\":\"Chart\",\"type\":\"Plot\"},\"ticker\":{\"id\":\"d9c82092-6d41-490b-a317-5836941e3a63\",\"type\":\"BasicTicker\"},\"visible\":false},\"id\":\"1a3925d9-d403-46c1-909f-eff62a907e9a\",\"type\":\"LinearAxis\"},{\"attributes\":{\"location\":\"top_left\",\"plot\":{\"id\":\"13bb8039-5287-4b4e-81f6-205ab52470cb\",\"subtype\":\"Chart\",\"type\":\"Plot\"}},\"id\":\"ba49becc-5da5-4e9a-979e-0e4b88cc8538\",\"type\":\"Legend\"},{\"attributes\":{\"location\":\"top_left\",\"plot\":{\"id\":\"b50e223c-b35c-4489-afc4-fc6a6d3d8263\",\"subtype\":\"Chart\",\"type\":\"Plot\"}},\"id\":\"4875d607-4932-4360-a560-6522a314605c\",\"type\":\"Legend\"},{\"attributes\":{\"data_source\":{\"id\":\"dbee39f6-c64c-4797-a484-755cf8e98109\",\"type\":\"ColumnDataSource\"},\"glyph\":{\"id\":\"c9f3cf2d-7694-4853-9b79-2b2ea8ea91bb\",\"type\":\"AnnularWedge\"},\"hover_glyph\":null,\"nonselection_glyph\":null,\"selection_glyph\":null},\"id\":\"649cbf94-ad79-43a2-a220-f96d81d5fd28\",\"type\":\"GlyphRenderer\"},{\"attributes\":{\"axis_label\":null,\"formatter\":{\"id\":\"a0751f57-3e18-4d76-8f78-2ba428ca097f\",\"type\":\"BasicTickFormatter\"},\"plot\":{\"id\":\"edc798fd-755a-445b-a68f-2cee79bbe28c\",\"subtype\":\"Chart\",\"type\":\"Plot\"},\"ticker\":{\"id\":\"e1f1ed61-ed5e-41a7-a64c-8a44d0b30b19\",\"type\":\"BasicTicker\"},\"visible\":false},\"id\":\"ddfd9230-f6ea-4bca-9c54-90437359532d\",\"type\":\"LinearAxis\"},{\"attributes\":{\"below\":[{\"id\":\"cd3ecd20-1d45-4d41-8637-e0724727b697\",\"type\":\"LinearAxis\"}],\"left\":[{\"id\":\"bddd31fb-9266-40d2-b8ff-3ae88dd9341b\",\"type\":\"LinearAxis\"}],\"legend\":\"top_left\",\"plot_height\":400,\"plot_width\":400,\"renderers\":[{\"id\":\"6f92886a-a1a0-41fa-8b59-6d65dc1edba1\",\"type\":\"BoxAnnotation\"},{\"id\":\"b0c12e6d-c8e5-4ff6-8dcc-cd8b85ce7fcd\",\"type\":\"GlyphRenderer\"},{\"id\":\"53c5ad18-6d48-4c35-8f73-560a12201079\",\"type\":\"GlyphRenderer\"},{\"id\":\"634ff9f4-d92e-4fb9-8d21-692eec7ee3df\",\"type\":\"Legend\"},{\"id\":\"cd3ecd20-1d45-4d41-8637-e0724727b697\",\"type\":\"LinearAxis\"},{\"id\":\"bddd31fb-9266-40d2-b8ff-3ae88dd9341b\",\"type\":\"LinearAxis\"}],\"title\":\"test chart\",\"title_text_font_size\":{\"value\":\"14pt\"},\"tool_events\":{\"id\":\"4c4d66d2-e4be-4695-86fb-cc0cf0a3f449\",\"type\":\"ToolEvents\"},\"tools\":[{\"id\":\"d0e2d647-6300-448a-bf48-f950a35786c7\",\"type\":\"PanTool\"},{\"id\":\"809561fa-0e20-404b-b1ad-48b7c613076f\",\"type\":\"WheelZoomTool\"},{\"id\":\"ce07b1c6-6842-4f42-b45d-16fcd88d78e1\",\"type\":\"BoxZoomTool\"},{\"id\":\"dc0a427f-5219-40eb-8724-6b4985d730dc\",\"type\":\"PreviewSaveTool\"},{\"id\":\"a50e6f58-b7d9-475f-85a2-062f9205394f\",\"type\":\"ResizeTool\"},{\"id\":\"a1b2d168-5b3d-477c-ba89-5c43ee3be567\",\"type\":\"ResetTool\"},{\"id\":\"3996a531-3437-4d9f-adee-4beebcf923b8\",\"type\":\"HelpTool\"}],\"x_mapper_type\":\"auto\",\"x_range\":{\"id\":\"76834a2b-6b75-4567-91f3-39d048e46da8\",\"type\":\"Range1d\"},\"xgrid\":false,\"xscale\":\"auto\",\"y_mapper_type\":\"auto\",\"y_range\":{\"id\":\"c04055e6-4683-4297-a261-95b358e9476c\",\"type\":\"Range1d\"},\"ygrid\":false,\"yscale\":\"auto\"},\"id\":\"8e26defa-e96f-4ffd-99c9-7c854dfa1797\",\"subtype\":\"Chart\",\"type\":\"Plot\"},{\"attributes\":{\"plot\":{\"id\":\"13bb8039-5287-4b4e-81f6-205ab52470cb\",\"subtype\":\"Chart\",\"type\":\"Plot\"}},\"id\":\"9225b61d-3454-48d6-8cc9-b68307643660\",\"type\":\"ResizeTool\"},{\"attributes\":{\"plot\":{\"id\":\"edc798fd-755a-445b-a68f-2cee79bbe28c\",\"subtype\":\"Chart\",\"type\":\"Plot\"}},\"id\":\"15041cb1-4b6f-4f86-b5f5-df0619191405\",\"type\":\"PanTool\"},{\"attributes\":{\"callback\":null,\"end\":1.6500000000000001,\"start\":-1.6500000000000001},\"id\":\"7a598b88-0482-4e50-a826-d57ca8832499\",\"type\":\"Range1d\"},{\"attributes\":{},\"id\":\"f490a088-c84a-4318-b79a-edc924cbeac9\",\"type\":\"BasicTicker\"},{\"attributes\":{\"axis_label\":null,\"formatter\":{\"id\":\"e408891c-478d-4528-af84-a43cae653c84\",\"type\":\"BasicTickFormatter\"},\"plot\":{\"id\":\"b50e223c-b35c-4489-afc4-fc6a6d3d8263\",\"subtype\":\"Chart\",\"type\":\"Plot\"},\"ticker\":{\"id\":\"d4d6bdd5-cf13-4ba1-b1d8-b01347811d77\",\"type\":\"BasicTicker\"},\"visible\":false},\"id\":\"97de45ea-cc4f-45bb-af3a-e3ec2c033076\",\"type\":\"LinearAxis\"},{\"attributes\":{\"callback\":null,\"column_names\":[\"level\",\"values\",\"inners\",\"outers\",\"end\",\"color\",\"start\",\"centers\",\"abbr_medal\"],\"data\":{\"abbr_medal\":[[\"AUT\",\"\"],[\"AUT\",\"bronze\"],[\"AUT\",\"gold\"],[\"AUT\",\"silver\"],[\"CAN\",\"\"],[\"CAN\",\"bronze\"],[\"CAN\",\"gold\"],[\"CAN\",\"silver\"],[\"CHE\",\"\"],[\"CHE\",\"bronze\"],[\"CHE\",\"gold\"],[\"CHE\",\"silver\"],[\"DEU\",\"\"],[\"DEU\",\"bronze\"],[\"DEU\",\"gold\"],[\"DEU\",\"silver\"],[\"FRA\",\"\"],[\"FRA\",\"bronze\"],[\"FRA\",\"gold\"],[\"FRA\",\"silver\"],[\"NLD\",\"\"],[\"NLD\",\"bronze\"],[\"NLD\",\"gold\"],[\"NLD\",\"silver\"],[\"NOR\",\"\"],[\"NOR\",\"bronze\"],[\"NOR\",\"gold\"],[\"NOR\",\"silver\"],[\"RUS\",\"\"],[\"RUS\",\"bronze\"],[\"RUS\",\"gold\"],[\"RUS\",\"silver\"],[\"SWE\",\"\"],[\"SWE\",\"bronze\"],[\"SWE\",\"gold\"],[\"SWE\",\"silver\"],[\"USA\",\"\"],[\"USA\",\"bronze\"],[\"USA\",\"gold\"],[\"USA\",\"silver\"]],\"centers\":[1.125,2.25,2.25,2.25,1.125,2.25,2.25,2.25,1.125,2.25,2.25,2.25,1.125,2.25,2.25,2.25,1.125,2.25,2.25,2.25,1.125,2.25,2.25,2.25,1.125,2.25,2.25,2.25,1.125,2.25,2.25,2.25,1.125,2.25,2.25,2.25,1.125,2.25,2.25,2.25],\"color\":[\"#f22c40\",\"#f22c40\",\"#f22c40\",\"#f22c40\",\"#5ab738\",\"#5ab738\",\"#5ab738\",\"#5ab738\",\"#407ee7\",\"#407ee7\",\"#407ee7\",\"#407ee7\",\"#df5320\",\"#df5320\",\"#df5320\",\"#df5320\",\"#00ad9c\",\"#00ad9c\",\"#00ad9c\",\"#00ad9c\",\"#c33ff3\",\"#c33ff3\",\"#c33ff3\",\"#c33ff3\",\"#f22c40\",\"#f22c40\",\"#f22c40\",\"#f22c40\",\"#5ab738\",\"#5ab738\",\"#5ab738\",\"#5ab738\",\"#407ee7\",\"#407ee7\",\"#407ee7\",\"#407ee7\",\"#df5320\",\"#df5320\",\"#df5320\",\"#df5320\"],\"end\":[0.37952126016520993,0.04216902890724555,0.12650708672173663,0.37952126016520993,1.0542257226811387,0.5481973757941921,0.7168734914231744,1.0542257226811387,1.475916011753594,1.0963947515883843,1.3494089250318575,1.475916011753594,2.1084514453622774,1.6445921273825763,1.9819443586405407,2.1084514453622774,2.530141734434733,2.319296589898505,2.445803676620242,2.530141734434733,3.373522312579644,2.8674939656926974,3.1205081391361706,3.373522312579644,4.174733861817309,3.6687055149303625,4.006057746188326,4.174733861817309,5.060283468869465,4.469917064168028,4.722931237611501,5.060283468869465,5.439804729034675,5.144621526683956,5.228959584498447,5.439804729034674,6.283185307179586,5.86149501810713,6.114509191550603,6.283185307179585],\"inners\":[0.0,1.5,1.5,1.5,0.0,1.5,1.5,1.5,0.0,1.5,1.5,1.5,0.0,1.5,1.5,1.5,0.0,1.5,1.5,1.5,0.0,1.5,1.5,1.5,0.0,1.5,1.5,1.5,0.0,1.5,1.5,1.5,0.0,1.5,1.5,1.5,0.0,1.5,1.5,1.5],\"level\":[0.0,1.0,1.0,1.0,0.0,1.0,1.0,1.0,0.0,1.0,1.0,1.0,0.0,1.0,1.0,1.0,0.0,1.0,1.0,1.0,0.0,1.0,1.0,1.0,0.0,1.0,1.0,1.0,0.0,1.0,1.0,1.0,0.0,1.0,1.0,1.0,0.0,1.0,1.0,1.0],\"outers\":[1.5,3.0,3.0,3.0,1.5,3.0,3.0,3.0,1.5,3.0,3.0,3.0,1.5,3.0,3.0,3.0,1.5,3.0,3.0,3.0,1.5,3.0,3.0,3.0,1.5,3.0,3.0,3.0,1.5,3.0,3.0,3.0,1.5,3.0,3.0,3.0,1.5,3.0,3.0,3.0],\"start\":[0.0,0.0,0.04216902890724555,0.12650708672173663,0.37952126016520993,0.37952126016520993,0.5481973757941921,0.7168734914231744,1.0542257226811387,1.0542257226811387,1.0963947515883843,1.3494089250318575,1.475916011753594,1.475916011753594,1.6445921273825763,1.9819443586405407,2.1084514453622774,2.1084514453622774,2.319296589898505,2.445803676620242,2.530141734434733,2.530141734434733,2.8674939656926974,3.1205081391361706,3.373522312579644,3.373522312579644,3.6687055149303625,4.006057746188326,4.174733861817309,4.174733861817309,4.469917064168028,4.722931237611501,5.060283468869465,5.060283468869465,5.144621526683956,5.228959584498447,5.439804729034675,5.439804729034674,5.86149501810713,6.114509191550603],\"values\":[9,1,2,6,16,4,4,8,10,1,6,3,15,4,8,3,10,5,3,2,20,8,6,6,19,7,8,4,21,7,6,8,9,2,2,5,20,10,6,4]}},\"id\":\"83f91b60-b214-4e62-94f2-fc5e95ec3814\",\"type\":\"ColumnDataSource\"},{\"attributes\":{\"plot\":{\"id\":\"13bb8039-5287-4b4e-81f6-205ab52470cb\",\"subtype\":\"Chart\",\"type\":\"Plot\"}},\"id\":\"50bf6746-3542-4735-b349-aad6788f7979\",\"type\":\"PreviewSaveTool\"},{\"attributes\":{\"plot\":{\"id\":\"edc798fd-755a-445b-a68f-2cee79bbe28c\",\"subtype\":\"Chart\",\"type\":\"Plot\"}},\"id\":\"7b360081-c7f5-4817-997f-f1f05355d344\",\"type\":\"ResizeTool\"},{\"attributes\":{},\"id\":\"aa5a01da-9674-432e-bdbf-006a56018e01\",\"type\":\"BasicTickFormatter\"},{\"attributes\":{\"callback\":null,\"end\":3.1500000000000004,\"start\":-3.1500000000000004},\"id\":\"0a5f2149-6492-491b-8ae9-a95da94d07e3\",\"type\":\"Range1d\"},{\"attributes\":{\"end_angle\":{\"field\":\"end\",\"units\":\"rad\"},\"fill_alpha\":{\"value\":0.8},\"fill_color\":{\"field\":\"color\"},\"inner_radius\":{\"field\":\"inners\",\"units\":\"data\"},\"line_color\":{\"value\":\"White\"},\"outer_radius\":{\"field\":\"outers\",\"units\":\"data\"},\"start_angle\":{\"field\":\"start\",\"units\":\"rad\"},\"x\":{\"value\":0},\"y\":{\"value\":0}},\"id\":\"cfb1bb01-0752-4e91-a595-b9d946106508\",\"type\":\"AnnularWedge\"},{\"attributes\":{\"callback\":null,\"end\":1.6500000000000001,\"start\":-1.6500000000000001},\"id\":\"79b20902-c769-45ed-a210-ed0158d016f8\",\"type\":\"Range1d\"},{\"attributes\":{\"callback\":null,\"end\":3.1500000000000004,\"start\":-3.1500000000000004},\"id\":\"aa25820c-4a6a-4c39-b96f-fd388de8aaca\",\"type\":\"Range1d\"},{\"attributes\":{},\"id\":\"1cdc0699-fac0-4a14-8539-26aa312a9b02\",\"type\":\"ToolEvents\"},{\"attributes\":{\"data_source\":{\"id\":\"83f91b60-b214-4e62-94f2-fc5e95ec3814\",\"type\":\"ColumnDataSource\"},\"glyph\":{\"id\":\"cc6a8c78-3cc2-4f41-ae43-fa467c3c28fd\",\"type\":\"AnnularWedge\"},\"hover_glyph\":null,\"nonselection_glyph\":null,\"selection_glyph\":null},\"id\":\"8b7b23c8-51ca-4f31-999d-c351f1163f89\",\"type\":\"GlyphRenderer\"},{\"attributes\":{\"location\":\"top_left\",\"plot\":{\"id\":\"8e26defa-e96f-4ffd-99c9-7c854dfa1797\",\"subtype\":\"Chart\",\"type\":\"Plot\"}},\"id\":\"634ff9f4-d92e-4fb9-8d21-692eec7ee3df\",\"type\":\"Legend\"},{\"attributes\":{\"below\":[{\"id\":\"ddfd9230-f6ea-4bca-9c54-90437359532d\",\"type\":\"LinearAxis\"}],\"left\":[{\"id\":\"cefaf890-ec43-475d-9bb2-387e84218c5b\",\"type\":\"LinearAxis\"}],\"legend\":\"top_left\",\"plot_height\":400,\"plot_width\":400,\"renderers\":[{\"id\":\"3c37b5f0-e163-486c-878f-826b00d68258\",\"type\":\"BoxAnnotation\"},{\"id\":\"affd7d09-f7ec-4d91-b4dc-545a210eda1c\",\"type\":\"GlyphRenderer\"},{\"id\":\"325bb59d-bbf4-4c84-bb4f-4476f9365053\",\"type\":\"GlyphRenderer\"},{\"id\":\"cf8d4b2d-f864-4a11-9237-4230465f56f8\",\"type\":\"Legend\"},{\"id\":\"ddfd9230-f6ea-4bca-9c54-90437359532d\",\"type\":\"LinearAxis\"},{\"id\":\"cefaf890-ec43-475d-9bb2-387e84218c5b\",\"type\":\"LinearAxis\"}],\"title\":\"test chart\",\"title_text_font_size\":{\"value\":\"14pt\"},\"tool_events\":{\"id\":\"1cdc0699-fac0-4a14-8539-26aa312a9b02\",\"type\":\"ToolEvents\"},\"tools\":[{\"id\":\"15041cb1-4b6f-4f86-b5f5-df0619191405\",\"type\":\"PanTool\"},{\"id\":\"264027ce-63d9-4807-bed0-843fc50fb1da\",\"type\":\"WheelZoomTool\"},{\"id\":\"e2d044e4-e683-4af4-b519-11c41a972e5c\",\"type\":\"BoxZoomTool\"},{\"id\":\"1ec7d16e-1ef1-4a52-a7c7-7130b85bd075\",\"type\":\"PreviewSaveTool\"},{\"id\":\"7b360081-c7f5-4817-997f-f1f05355d344\",\"type\":\"ResizeTool\"},{\"id\":\"e216b6ba-8fbe-42b6-ba67-9edf760b5143\",\"type\":\"ResetTool\"},{\"id\":\"b18887f9-58c3-4595-a161-5611facbfd8b\",\"type\":\"HelpTool\"}],\"x_mapper_type\":\"auto\",\"x_range\":{\"id\":\"79b20902-c769-45ed-a210-ed0158d016f8\",\"type\":\"Range1d\"},\"xgrid\":false,\"xscale\":\"auto\",\"y_mapper_type\":\"auto\",\"y_range\":{\"id\":\"56b57f7f-138e-429b-b4ef-2c82dd879c53\",\"type\":\"Range1d\"},\"ygrid\":false,\"yscale\":\"auto\"},\"id\":\"edc798fd-755a-445b-a68f-2cee79bbe28c\",\"subtype\":\"Chart\",\"type\":\"Plot\"},{\"attributes\":{},\"id\":\"9f3a68a1-7a2a-4a1d-b94b-f0303db00b35\",\"type\":\"BasicTicker\"},{\"attributes\":{\"axis_label\":null,\"formatter\":{\"id\":\"e78d44fb-085b-45fb-b2c9-12c7bb5a8adc\",\"type\":\"BasicTickFormatter\"},\"plot\":{\"id\":\"8e26defa-e96f-4ffd-99c9-7c854dfa1797\",\"subtype\":\"Chart\",\"type\":\"Plot\"},\"ticker\":{\"id\":\"0bb216b4-c03c-45c4-a1c6-d6274cfde688\",\"type\":\"BasicTicker\"},\"visible\":false},\"id\":\"bddd31fb-9266-40d2-b8ff-3ae88dd9341b\",\"type\":\"LinearAxis\"},{\"attributes\":{\"below\":[{\"id\":\"d40476c1-3479-461e-8b18-aebc140a5cba\",\"type\":\"LinearAxis\"}],\"left\":[{\"id\":\"37891c8d-2155-4653-bfa7-f25ce07e8ba5\",\"type\":\"LinearAxis\"}],\"legend\":\"top_left\",\"plot_height\":400,\"plot_width\":400,\"renderers\":[{\"id\":\"b61287cf-69da-48ba-9a47-d82915996af2\",\"type\":\"BoxAnnotation\"},{\"id\":\"649cbf94-ad79-43a2-a220-f96d81d5fd28\",\"type\":\"GlyphRenderer\"},{\"id\":\"9e99992c-ccf5-4632-988c-680cee31c3b6\",\"type\":\"GlyphRenderer\"},{\"id\":\"ba49becc-5da5-4e9a-979e-0e4b88cc8538\",\"type\":\"Legend\"},{\"id\":\"d40476c1-3479-461e-8b18-aebc140a5cba\",\"type\":\"LinearAxis\"},{\"id\":\"37891c8d-2155-4653-bfa7-f25ce07e8ba5\",\"type\":\"LinearAxis\"}],\"title\":\"test chart\",\"title_text_font_size\":{\"value\":\"14pt\"},\"tool_events\":{\"id\":\"b1f4d0f6-64ba-4083-874e-bcd28dccd5b8\",\"type\":\"ToolEvents\"},\"tools\":[{\"id\":\"de50db43-9ac8-424c-9ab4-ed894f6e4b50\",\"type\":\"PanTool\"},{\"id\":\"42c612ec-f11d-4d32-b0a8-8c0b4985e806\",\"type\":\"WheelZoomTool\"},{\"id\":\"a324a68e-5dc9-4cea-8410-b68b665e0090\",\"type\":\"BoxZoomTool\"},{\"id\":\"50bf6746-3542-4735-b349-aad6788f7979\",\"type\":\"PreviewSaveTool\"},{\"id\":\"9225b61d-3454-48d6-8cc9-b68307643660\",\"type\":\"ResizeTool\"},{\"id\":\"338f875e-f506-43a8-a719-3663071a1023\",\"type\":\"ResetTool\"},{\"id\":\"d9042db5-da86-4658-85ac-b040f7532ce5\",\"type\":\"HelpTool\"}],\"x_mapper_type\":\"auto\",\"x_range\":{\"id\":\"ab39642e-4dc3-447f-9b0b-a3857010e3c8\",\"type\":\"Range1d\"},\"xgrid\":false,\"xscale\":\"auto\",\"y_mapper_type\":\"auto\",\"y_range\":{\"id\":\"7a598b88-0482-4e50-a826-d57ca8832499\",\"type\":\"Range1d\"},\"ygrid\":false,\"yscale\":\"auto\"},\"id\":\"13bb8039-5287-4b4e-81f6-205ab52470cb\",\"subtype\":\"Chart\",\"type\":\"Plot\"},{\"attributes\":{\"bottom_units\":\"screen\",\"fill_alpha\":{\"value\":0.5},\"fill_color\":{\"value\":\"lightgrey\"},\"left_units\":\"screen\",\"level\":\"overlay\",\"line_alpha\":{\"value\":1.0},\"line_color\":{\"value\":\"black\"},\"line_dash\":[4,4],\"line_width\":{\"value\":2},\"plot\":null,\"render_mode\":\"css\",\"right_units\":\"screen\",\"top_units\":\"screen\"},\"id\":\"6f92886a-a1a0-41fa-8b59-6d65dc1edba1\",\"type\":\"BoxAnnotation\"},{\"attributes\":{},\"id\":\"47ba2905-dd99-4120-b2aa-5a8c136a59fd\",\"type\":\"BasicTickFormatter\"},{\"attributes\":{\"overlay\":{\"id\":\"3c37b5f0-e163-486c-878f-826b00d68258\",\"type\":\"BoxAnnotation\"},\"plot\":{\"id\":\"edc798fd-755a-445b-a68f-2cee79bbe28c\",\"subtype\":\"Chart\",\"type\":\"Plot\"}},\"id\":\"e2d044e4-e683-4af4-b519-11c41a972e5c\",\"type\":\"BoxZoomTool\"},{\"attributes\":{\"bottom_units\":\"screen\",\"fill_alpha\":{\"value\":0.5},\"fill_color\":{\"value\":\"lightgrey\"},\"left_units\":\"screen\",\"level\":\"overlay\",\"line_alpha\":{\"value\":1.0},\"line_color\":{\"value\":\"black\"},\"line_dash\":[4,4],\"line_width\":{\"value\":2},\"plot\":null,\"render_mode\":\"css\",\"right_units\":\"screen\",\"top_units\":\"screen\"},\"id\":\"3c37b5f0-e163-486c-878f-826b00d68258\",\"type\":\"BoxAnnotation\"},{\"attributes\":{},\"id\":\"e78d44fb-085b-45fb-b2c9-12c7bb5a8adc\",\"type\":\"BasicTickFormatter\"},{\"attributes\":{\"plot\":{\"id\":\"8e26defa-e96f-4ffd-99c9-7c854dfa1797\",\"subtype\":\"Chart\",\"type\":\"Plot\"}},\"id\":\"d0e2d647-6300-448a-bf48-f950a35786c7\",\"type\":\"PanTool\"},{\"attributes\":{\"data_source\":{\"id\":\"949f6aca-e03b-44cb-be9e-c915349a7d7f\",\"type\":\"ColumnDataSource\"},\"glyph\":{\"id\":\"4cacc988-2733-47f0-b186-5d53699b2b31\",\"type\":\"AnnularWedge\"},\"hover_glyph\":null,\"nonselection_glyph\":null,\"selection_glyph\":null},\"id\":\"b0c12e6d-c8e5-4ff6-8dcc-cd8b85ce7fcd\",\"type\":\"GlyphRenderer\"},{\"attributes\":{},\"id\":\"e1f1ed61-ed5e-41a7-a64c-8a44d0b30b19\",\"type\":\"BasicTicker\"},{\"attributes\":{\"plot\":{\"id\":\"edc798fd-755a-445b-a68f-2cee79bbe28c\",\"subtype\":\"Chart\",\"type\":\"Plot\"}},\"id\":\"b18887f9-58c3-4595-a161-5611facbfd8b\",\"type\":\"HelpTool\"},{\"attributes\":{\"axis_label\":null,\"formatter\":{\"id\":\"aa5a01da-9674-432e-bdbf-006a56018e01\",\"type\":\"BasicTickFormatter\"},\"plot\":{\"id\":\"edc798fd-755a-445b-a68f-2cee79bbe28c\",\"subtype\":\"Chart\",\"type\":\"Plot\"},\"ticker\":{\"id\":\"12373229-180e-4c8f-afbe-661ff812a8ff\",\"type\":\"BasicTicker\"},\"visible\":false},\"id\":\"cefaf890-ec43-475d-9bb2-387e84218c5b\",\"type\":\"LinearAxis\"},{\"attributes\":{\"callback\":null,\"end\":1.6500000000000001,\"start\":-1.6500000000000001},\"id\":\"76834a2b-6b75-4567-91f3-39d048e46da8\",\"type\":\"Range1d\"},{\"attributes\":{\"overlay\":{\"id\":\"6f92886a-a1a0-41fa-8b59-6d65dc1edba1\",\"type\":\"BoxAnnotation\"},\"plot\":{\"id\":\"8e26defa-e96f-4ffd-99c9-7c854dfa1797\",\"subtype\":\"Chart\",\"type\":\"Plot\"}},\"id\":\"ce07b1c6-6842-4f42-b45d-16fcd88d78e1\",\"type\":\"BoxZoomTool\"},{\"attributes\":{\"plot\":{\"id\":\"b50e223c-b35c-4489-afc4-fc6a6d3d8263\",\"subtype\":\"Chart\",\"type\":\"Plot\"}},\"id\":\"3981accf-3620-427b-9033-4c649e95285a\",\"type\":\"HelpTool\"},{\"attributes\":{\"data_source\":{\"id\":\"ef2d9243-2477-4ff5-85f5-52ced63ef3bb\",\"type\":\"ColumnDataSource\"},\"glyph\":{\"id\":\"6f08a068-285e-49f0-9349-3d367ffa9d50\",\"type\":\"Text\"},\"hover_glyph\":null,\"nonselection_glyph\":null,\"selection_glyph\":null},\"id\":\"9e99992c-ccf5-4632-988c-680cee31c3b6\",\"type\":\"GlyphRenderer\"},{\"attributes\":{\"callback\":null,\"column_names\":[\"level\",\"values\",\"percents\",\"inners\",\"outers\",\"end\",\"color\",\"start\",\"centers\"],\"data\":{\"centers\":[1.125,1.125],\"color\":[\"#f22c40\",\"#5ab738\"],\"end\":[2.5132741228718345,6.283185307179586],\"inners\":[0.0,0.0],\"level\":[0.0,0.0],\"outers\":[1.5,1.5],\"percents\":[\"40.00\",\"60.00\"],\"start\":[0.0,2.5132741228718345],\"values\":[2,3]}},\"id\":\"c2fdbc06-1fb1-49c1-a311-c7d7eab6654f\",\"type\":\"ColumnDataSource\"},{\"attributes\":{\"plot\":{\"id\":\"edc798fd-755a-445b-a68f-2cee79bbe28c\",\"subtype\":\"Chart\",\"type\":\"Plot\"}},\"id\":\"e216b6ba-8fbe-42b6-ba67-9edf760b5143\",\"type\":\"ResetTool\"},{\"attributes\":{\"plot\":{\"id\":\"8e26defa-e96f-4ffd-99c9-7c854dfa1797\",\"subtype\":\"Chart\",\"type\":\"Plot\"}},\"id\":\"3996a531-3437-4d9f-adee-4beebcf923b8\",\"type\":\"HelpTool\"},{\"attributes\":{\"plot\":{\"id\":\"edc798fd-755a-445b-a68f-2cee79bbe28c\",\"subtype\":\"Chart\",\"type\":\"Plot\"}},\"id\":\"264027ce-63d9-4807-bed0-843fc50fb1da\",\"type\":\"WheelZoomTool\"},{\"attributes\":{},\"id\":\"a0751f57-3e18-4d76-8f78-2ba428ca097f\",\"type\":\"BasicTickFormatter\"},{\"attributes\":{\"plot\":{\"id\":\"13bb8039-5287-4b4e-81f6-205ab52470cb\",\"subtype\":\"Chart\",\"type\":\"Plot\"}},\"id\":\"d9042db5-da86-4658-85ac-b040f7532ce5\",\"type\":\"HelpTool\"},{\"attributes\":{\"plot\":{\"id\":\"8e26defa-e96f-4ffd-99c9-7c854dfa1797\",\"subtype\":\"Chart\",\"type\":\"Plot\"}},\"id\":\"a1b2d168-5b3d-477c-ba89-5c43ee3be567\",\"type\":\"ResetTool\"},{\"attributes\":{\"plot\":{\"id\":\"b50e223c-b35c-4489-afc4-fc6a6d3d8263\",\"subtype\":\"Chart\",\"type\":\"Plot\"}},\"id\":\"ccac1313-de53-4787-bc8f-cda72a3ee521\",\"type\":\"PreviewSaveTool\"},{\"attributes\":{\"callback\":null,\"end\":1.6500000000000001,\"start\":-1.6500000000000001},\"id\":\"56b57f7f-138e-429b-b4ef-2c82dd879c53\",\"type\":\"Range1d\"},{\"attributes\":{\"callback\":null,\"column_names\":[\"level\",\"values\",\"percents\",\"inners\",\"outers\",\"end\",\"color\",\"start\",\"centers\"],\"data\":{\"centers\":[1.125,1.125],\"color\":[\"#f22c40\",\"#5ab738\"],\"end\":[2.5132741228718345,6.283185307179586],\"inners\":[0.0,0.0],\"level\":[0.0,0.0],\"outers\":[1.5,1.5],\"percents\":[\"40.00\",\"60.00\"],\"start\":[0.0,2.5132741228718345],\"values\":[2,3]}},\"id\":\"dbee39f6-c64c-4797-a484-755cf8e98109\",\"type\":\"ColumnDataSource\"},{\"attributes\":{\"plot\":{\"id\":\"8e26defa-e96f-4ffd-99c9-7c854dfa1797\",\"subtype\":\"Chart\",\"type\":\"Plot\"}},\"id\":\"809561fa-0e20-404b-b1ad-48b7c613076f\",\"type\":\"WheelZoomTool\"},{\"attributes\":{\"angle\":{\"field\":\"text_angle\",\"units\":\"rad\"},\"text_align\":\"center\",\"text_baseline\":\"middle\",\"text_font_size\":{\"value\":\"8pt\"},\"x\":{\"field\":\"x\"},\"y\":{\"field\":\"y\"}},\"id\":\"cd37bd37-5d58-4db0-99a8-8755f6f96c10\",\"type\":\"Text\"},{\"attributes\":{\"plot\":{\"id\":\"b50e223c-b35c-4489-afc4-fc6a6d3d8263\",\"subtype\":\"Chart\",\"type\":\"Plot\"}},\"id\":\"1acc076f-3608-4521-8294-6c90bf8cd6a0\",\"type\":\"PanTool\"},{\"attributes\":{\"bottom_units\":\"screen\",\"fill_alpha\":{\"value\":0.5},\"fill_color\":{\"value\":\"lightgrey\"},\"left_units\":\"screen\",\"level\":\"overlay\",\"line_alpha\":{\"value\":1.0},\"line_color\":{\"value\":\"black\"},\"line_dash\":[4,4],\"line_width\":{\"value\":2},\"plot\":null,\"render_mode\":\"css\",\"right_units\":\"screen\",\"top_units\":\"screen\"},\"id\":\"6a83b333-0ae8-428a-a6fe-df0d85dcbd41\",\"type\":\"BoxAnnotation\"},{\"attributes\":{},\"id\":\"0bb216b4-c03c-45c4-a1c6-d6274cfde688\",\"type\":\"BasicTicker\"},{\"attributes\":{\"callback\":null,\"column_names\":[\"y\",\"x\",\"text_angle\",\"text\"],\"data\":{\"text\":[\"AUT\",\"bronze\",\"gold\",\"silver\",\"CAN\",\"bronze\",\"gold\",\"silver\",\"CHE\",\"bronze\",\"gold\",\"silver\",\"DEU\",\"bronze\",\"gold\",\"silver\",\"FRA\",\"bronze\",\"gold\",\"silver\",\"NLD\",\"bronze\",\"gold\",\"silver\",\"NOR\",\"bronze\",\"gold\",\"silver\",\"RUS\",\"bronze\",\"gold\",\"silver\",\"SWE\",\"bronze\",\"gold\",\"silver\",\"USA\",\"bronze\",\"gold\",\"silver\"],\"text_angle\":[0.0,0.021084514453622773,0.0843380578144911,0.25301417344347327,0.0,0.46385931797970104,0.6325354336086833,0.8855496070521565,0.0,1.0753102371347616,1.222901838310121,1.4126624683927258,0.0,1.560254069568085,4.954860896601351,5.186790555591202,0.0,5.355466671220184,5.524142786849167,5.62956535911728,0.0,5.840410503653509,6.135593706004228,6.388607879447701,0.0,6.662706567344796,6.978974284149137,7.23198845759261,0.0,7.4639181165824615,7.738016804479558,4.891607353240483,0.0,5.10245249777671,5.186790555591202,5.33438215676656,0.0,5.650649873570902,5.988002104828866,6.198847249365095],\"x\":[1.104805590886699,2.249499892184141,2.2420027205170387,2.178365181744732,0.8480965760393239,2.012248106600736,1.8146951444761354,1.4239441276355629,0.33860820772678335,1.069783512354476,0.767068174776323,0.35432015483704005,-0.24703129626183343,0.023719639391054256,-0.5402316686595636,-1.0278139286434214,-0.7656082347002524,-1.3492377266828857,-1.632364439995781,-1.7862476490719368,-1.104805590886699,-2.0330241374833724,-2.2255382623177966,-2.2375084170483754,-0.907347572238068,-2.0898947329938067,-1.7269834802180628,-1.3109764694102914,-0.10658027550270278,-0.8555561148769509,-0.2603364557048132,0.40108616972985656,0.5761387742118242,0.8555561148769484,1.0278139286434202,1.3109764694102874,1.0264482036225655,1.8146951444761346,2.1526849395915697,2.2420027205170387],\"y\":[0.21220180570742547,0.04743664262507488,0.18953575175727672,0.5632274273881197,0.7391597917300259,1.0066566234231777,1.3301810149805693,1.7420915938526873,1.0728324574042563,1.9794098202985961,2.11520836213488,2.221926467702353,1.0975429552720013,2.2498749695721223,2.184181710430088,2.0015240513385235,0.8242991149814265,1.8005714528714485,1.5485110057849962,1.3681444865894021,0.21220180570742506,0.9640087429115931,0.3308767791179714,-0.23676165998250986,-0.6650905074902843,-0.8335706358820144,-1.4422302378794822,-1.8286171542049274,-1.1199400184267763,-2.0809910461836827,-2.234888124678964,-2.213962484878963,-0.9662758989283012,-2.0809910461836836,-2.001524051338524,-1.82861715420493,-0.46046616084138936,-1.3301810149805708,-0.6545590507017991,-0.18953575175727858]}},\"id\":\"6fd82c6e-872e-420a-be24-2f3206be1715\",\"type\":\"ColumnDataSource\"},{\"attributes\":{\"below\":[{\"id\":\"1a3925d9-d403-46c1-909f-eff62a907e9a\",\"type\":\"LinearAxis\"}],\"left\":[{\"id\":\"97de45ea-cc4f-45bb-af3a-e3ec2c033076\",\"type\":\"LinearAxis\"}],\"legend\":\"top_left\",\"plot_height\":400,\"plot_width\":400,\"renderers\":[{\"id\":\"6a83b333-0ae8-428a-a6fe-df0d85dcbd41\",\"type\":\"BoxAnnotation\"},{\"id\":\"8b7b23c8-51ca-4f31-999d-c351f1163f89\",\"type\":\"GlyphRenderer\"},{\"id\":\"efcca3db-4656-4904-83f8-dcf8b567bc58\",\"type\":\"GlyphRenderer\"},{\"id\":\"4875d607-4932-4360-a560-6522a314605c\",\"type\":\"Legend\"},{\"id\":\"1a3925d9-d403-46c1-909f-eff62a907e9a\",\"type\":\"LinearAxis\"},{\"id\":\"97de45ea-cc4f-45bb-af3a-e3ec2c033076\",\"type\":\"LinearAxis\"}],\"title_text_font_size\":{\"value\":\"14pt\"},\"tool_events\":{\"id\":\"b80a4499-ac59-4cb1-95f9-f29945c014a8\",\"type\":\"ToolEvents\"},\"tools\":[{\"id\":\"1acc076f-3608-4521-8294-6c90bf8cd6a0\",\"type\":\"PanTool\"},{\"id\":\"8dfcbfce-3951-4f3c-9b0a-ceb607a56365\",\"type\":\"WheelZoomTool\"},{\"id\":\"61bdbfc7-dfaa-4d48-8c2f-b006523dde13\",\"type\":\"BoxZoomTool\"},{\"id\":\"ccac1313-de53-4787-bc8f-cda72a3ee521\",\"type\":\"PreviewSaveTool\"},{\"id\":\"15fb3a21-9b01-47e3-accd-aaa853e2f58a\",\"type\":\"ResizeTool\"},{\"id\":\"0529d0a8-74c2-4a90-9655-b464c0f7f890\",\"type\":\"ResetTool\"},{\"id\":\"3981accf-3620-427b-9033-4c649e95285a\",\"type\":\"HelpTool\"}],\"x_mapper_type\":\"auto\",\"x_range\":{\"id\":\"0a5f2149-6492-491b-8ae9-a95da94d07e3\",\"type\":\"Range1d\"},\"xgrid\":false,\"xscale\":\"auto\",\"y_mapper_type\":\"auto\",\"y_range\":{\"id\":\"aa25820c-4a6a-4c39-b96f-fd388de8aaca\",\"type\":\"Range1d\"},\"ygrid\":false,\"yscale\":\"auto\"},\"id\":\"b50e223c-b35c-4489-afc4-fc6a6d3d8263\",\"subtype\":\"Chart\",\"type\":\"Plot\"},{\"attributes\":{},\"id\":\"b80a4499-ac59-4cb1-95f9-f29945c014a8\",\"type\":\"ToolEvents\"},{\"attributes\":{\"legends\":[[\"a\",[{\"id\":\"affd7d09-f7ec-4d91-b4dc-545a210eda1c\",\"type\":\"GlyphRenderer\"}]],[\"b\",[{\"id\":\"325bb59d-bbf4-4c84-bb4f-4476f9365053\",\"type\":\"GlyphRenderer\"}]]],\"location\":\"top_left\",\"plot\":{\"id\":\"edc798fd-755a-445b-a68f-2cee79bbe28c\",\"subtype\":\"Chart\",\"type\":\"Plot\"}},\"id\":\"cf8d4b2d-f864-4a11-9237-4230465f56f8\",\"type\":\"Legend\"},{\"attributes\":{\"overlay\":{\"id\":\"b61287cf-69da-48ba-9a47-d82915996af2\",\"type\":\"BoxAnnotation\"},\"plot\":{\"id\":\"13bb8039-5287-4b4e-81f6-205ab52470cb\",\"subtype\":\"Chart\",\"type\":\"Plot\"}},\"id\":\"a324a68e-5dc9-4cea-8410-b68b665e0090\",\"type\":\"BoxZoomTool\"},{\"attributes\":{\"end_angle\":{\"field\":\"end\",\"units\":\"rad\"},\"fill_alpha\":{\"value\":0.8},\"fill_color\":{\"field\":\"color\"},\"inner_radius\":{\"field\":\"inners\",\"units\":\"data\"},\"line_color\":{\"value\":\"White\"},\"outer_radius\":{\"field\":\"outers\",\"units\":\"data\"},\"start_angle\":{\"field\":\"start\",\"units\":\"rad\"},\"x\":{\"value\":0},\"y\":{\"value\":0}},\"id\":\"c9f3cf2d-7694-4853-9b79-2b2ea8ea91bb\",\"type\":\"AnnularWedge\"},{\"attributes\":{\"plot\":{\"id\":\"13bb8039-5287-4b4e-81f6-205ab52470cb\",\"subtype\":\"Chart\",\"type\":\"Plot\"}},\"id\":\"42c612ec-f11d-4d32-b0a8-8c0b4985e806\",\"type\":\"WheelZoomTool\"},{\"attributes\":{},\"id\":\"e408891c-478d-4528-af84-a43cae653c84\",\"type\":\"BasicTickFormatter\"},{\"attributes\":{\"plot\":{\"id\":\"edc798fd-755a-445b-a68f-2cee79bbe28c\",\"subtype\":\"Chart\",\"type\":\"Plot\"}},\"id\":\"1ec7d16e-1ef1-4a52-a7c7-7130b85bd075\",\"type\":\"PreviewSaveTool\"},{\"attributes\":{\"callback\":null,\"column_names\":[\"y\",\"x\",\"text_angle\",\"text\"],\"data\":{\"text\":[\"40.00\",\"60.00\"],\"text_angle\":[0.0,0.0],\"x\":[0.3476441186718159,-0.347644118671816],\"y\":[1.0699385808320476,-1.0699385808320476]}},\"id\":\"ef2d9243-2477-4ff5-85f5-52ced63ef3bb\",\"type\":\"ColumnDataSource\"},{\"attributes\":{\"callback\":null,\"end\":1.6500000000000001,\"start\":-1.6500000000000001},\"id\":\"c04055e6-4683-4297-a261-95b358e9476c\",\"type\":\"Range1d\"},{\"attributes\":{},\"id\":\"571b3afc-b4f4-48bb-8b3b-d0b618776241\",\"type\":\"BasicTicker\"},{\"attributes\":{},\"id\":\"12373229-180e-4c8f-afbe-661ff812a8ff\",\"type\":\"BasicTicker\"},{\"attributes\":{\"callback\":null,\"column_names\":[\"y\",\"x\",\"text_angle\",\"text\"],\"data\":{\"text\":[\"40.00\",\"60.00\"],\"text_angle\":[0.0,0.0],\"x\":[0.3476441186718159,-0.347644118671816],\"y\":[1.0699385808320476,-1.0699385808320476]}},\"id\":\"2e8e3282-ec9e-4abd-8740-5df4fd5ff795\",\"type\":\"ColumnDataSource\"},{\"attributes\":{},\"id\":\"b1f4d0f6-64ba-4083-874e-bcd28dccd5b8\",\"type\":\"ToolEvents\"},{\"attributes\":{},\"id\":\"d9c82092-6d41-490b-a317-5836941e3a63\",\"type\":\"BasicTicker\"},{\"attributes\":{\"callback\":null,\"end\":1.6500000000000001,\"start\":-1.6500000000000001},\"id\":\"ab39642e-4dc3-447f-9b0b-a3857010e3c8\",\"type\":\"Range1d\"},{\"attributes\":{\"plot\":{\"id\":\"13bb8039-5287-4b4e-81f6-205ab52470cb\",\"subtype\":\"Chart\",\"type\":\"Plot\"}},\"id\":\"de50db43-9ac8-424c-9ab4-ed894f6e4b50\",\"type\":\"PanTool\"},{\"attributes\":{\"plot\":{\"id\":\"8e26defa-e96f-4ffd-99c9-7c854dfa1797\",\"subtype\":\"Chart\",\"type\":\"Plot\"}},\"id\":\"a50e6f58-b7d9-475f-85a2-062f9205394f\",\"type\":\"ResizeTool\"},{\"attributes\":{\"data_source\":{\"id\":\"c2fdbc06-1fb1-49c1-a311-c7d7eab6654f\",\"type\":\"ColumnDataSource\"},\"glyph\":{\"id\":\"cfb1bb01-0752-4e91-a595-b9d946106508\",\"type\":\"AnnularWedge\"},\"hover_glyph\":null,\"nonselection_glyph\":null,\"selection_glyph\":null},\"id\":\"affd7d09-f7ec-4d91-b4dc-545a210eda1c\",\"type\":\"GlyphRenderer\"},{\"attributes\":{},\"id\":\"0b4a0495-4a66-4a1d-a2ad-6d54c1a7d691\",\"type\":\"BasicTickFormatter\"},{\"attributes\":{\"overlay\":{\"id\":\"6a83b333-0ae8-428a-a6fe-df0d85dcbd41\",\"type\":\"BoxAnnotation\"},\"plot\":{\"id\":\"b50e223c-b35c-4489-afc4-fc6a6d3d8263\",\"subtype\":\"Chart\",\"type\":\"Plot\"}},\"id\":\"61bdbfc7-dfaa-4d48-8c2f-b006523dde13\",\"type\":\"BoxZoomTool\"},{\"attributes\":{},\"id\":\"d4d6bdd5-cf13-4ba1-b1d8-b01347811d77\",\"type\":\"BasicTicker\"},{\"attributes\":{\"data_source\":{\"id\":\"81829e63-3859-4ed2-8669-0ca29cf9a401\",\"type\":\"ColumnDataSource\"},\"glyph\":{\"id\":\"b237cb0f-5c7e-4355-a2c2-b6028f0ae3d8\",\"type\":\"Text\"},\"hover_glyph\":null,\"nonselection_glyph\":null,\"selection_glyph\":null},\"id\":\"325bb59d-bbf4-4c84-bb4f-4476f9365053\",\"type\":\"GlyphRenderer\"},{\"attributes\":{\"plot\":{\"id\":\"b50e223c-b35c-4489-afc4-fc6a6d3d8263\",\"subtype\":\"Chart\",\"type\":\"Plot\"}},\"id\":\"15fb3a21-9b01-47e3-accd-aaa853e2f58a\",\"type\":\"ResizeTool\"},{\"attributes\":{\"angle\":{\"field\":\"text_angle\",\"units\":\"rad\"},\"text_align\":\"center\",\"text_baseline\":\"middle\",\"text_font_size\":{\"value\":\"10pt\"},\"x\":{\"field\":\"x\"},\"y\":{\"field\":\"y\"}},\"id\":\"6f08a068-285e-49f0-9349-3d367ffa9d50\",\"type\":\"Text\"},{\"attributes\":{\"bottom_units\":\"screen\",\"fill_alpha\":{\"value\":0.5},\"fill_color\":{\"value\":\"lightgrey\"},\"left_units\":\"screen\",\"level\":\"overlay\",\"line_alpha\":{\"value\":1.0},\"line_color\":{\"value\":\"black\"},\"line_dash\":[4,4],\"line_width\":{\"value\":2},\"plot\":null,\"render_mode\":\"css\",\"right_units\":\"screen\",\"top_units\":\"screen\"},\"id\":\"b61287cf-69da-48ba-9a47-d82915996af2\",\"type\":\"BoxAnnotation\"},{\"attributes\":{\"plot\":{\"id\":\"b50e223c-b35c-4489-afc4-fc6a6d3d8263\",\"subtype\":\"Chart\",\"type\":\"Plot\"}},\"id\":\"0529d0a8-74c2-4a90-9655-b464c0f7f890\",\"type\":\"ResetTool\"},{\"attributes\":{\"axis_label\":null,\"formatter\":{\"id\":\"47ba2905-dd99-4120-b2aa-5a8c136a59fd\",\"type\":\"BasicTickFormatter\"},\"plot\":{\"id\":\"8e26defa-e96f-4ffd-99c9-7c854dfa1797\",\"subtype\":\"Chart\",\"type\":\"Plot\"},\"ticker\":{\"id\":\"9f3a68a1-7a2a-4a1d-b94b-f0303db00b35\",\"type\":\"BasicTicker\"},\"visible\":false},\"id\":\"cd3ecd20-1d45-4d41-8637-e0724727b697\",\"type\":\"LinearAxis\"},{\"attributes\":{\"callback\":null,\"column_names\":[\"y\",\"x\",\"text_angle\",\"text\"],\"data\":{\"text\":[\"40.00\",\"60.00\"],\"text_angle\":[0.0,0.0],\"x\":[0.3476441186718159,-0.347644118671816],\"y\":[1.0699385808320476,-1.0699385808320476]}},\"id\":\"81829e63-3859-4ed2-8669-0ca29cf9a401\",\"type\":\"ColumnDataSource\"},{\"attributes\":{},\"id\":\"c4968302-4b1e-4b84-80af-b2bca62420b9\",\"type\":\"BasicTickFormatter\"},{\"attributes\":{},\"id\":\"4c4d66d2-e4be-4695-86fb-cc0cf0a3f449\",\"type\":\"ToolEvents\"},{\"attributes\":{\"data_source\":{\"id\":\"6fd82c6e-872e-420a-be24-2f3206be1715\",\"type\":\"ColumnDataSource\"},\"glyph\":{\"id\":\"cd37bd37-5d58-4db0-99a8-8755f6f96c10\",\"type\":\"Text\"},\"hover_glyph\":null,\"nonselection_glyph\":null,\"selection_glyph\":null},\"id\":\"efcca3db-4656-4904-83f8-dcf8b567bc58\",\"type\":\"GlyphRenderer\"},{\"attributes\":{},\"id\":\"f7da13ab-85a6-4af7-9e11-0b62672c8c70\",\"type\":\"BasicTickFormatter\"},{\"attributes\":{\"axis_label\":null,\"formatter\":{\"id\":\"f7da13ab-85a6-4af7-9e11-0b62672c8c70\",\"type\":\"BasicTickFormatter\"},\"plot\":{\"id\":\"13bb8039-5287-4b4e-81f6-205ab52470cb\",\"subtype\":\"Chart\",\"type\":\"Plot\"},\"ticker\":{\"id\":\"571b3afc-b4f4-48bb-8b3b-d0b618776241\",\"type\":\"BasicTicker\"},\"visible\":false},\"id\":\"37891c8d-2155-4653-bfa7-f25ce07e8ba5\",\"type\":\"LinearAxis\"}],\"root_ids\":[\"13bb8039-5287-4b4e-81f6-205ab52470cb\",\"b50e223c-b35c-4489-afc4-fc6a6d3d8263\",\"8e26defa-e96f-4ffd-99c9-7c854dfa1797\",\"edc798fd-755a-445b-a68f-2cee79bbe28c\"]},\"title\":\"Bokeh Application\",\"version\":\"0.11.1\"}};\n",
       "            var render_items = [{\"docid\":\"816a5c26-1e7a-4969-83dd-fbc788b12523\",\"elementid\":\"61387e4f-4f50-44ed-a738-0f57812200d5\",\"modelid\":\"edc798fd-755a-445b-a68f-2cee79bbe28c\",\"notebook_comms_target\":\"35e1d222-5fa6-48e2-a023-5b5005de2ce2\"}];\n",
       "            \n",
       "            Bokeh.embed.embed_items(docs_json, render_items);\n",
       "        });\n",
       "      },\n",
       "      function(Bokeh) {\n",
       "      }\n",
       "    ];\n",
       "  \n",
       "    function run_inline_js() {\n",
       "      for (var i = 0; i < inline_js.length; i++) {\n",
       "        inline_js[i](window.Bokeh);\n",
       "      }\n",
       "    }\n",
       "  \n",
       "    if (window._bokeh_is_loading === 0) {\n",
       "      console.log(\"Bokeh: BokehJS loaded, going straight to plotting\");\n",
       "      run_inline_js();\n",
       "    } else {\n",
       "      load_libs(js_urls, function() {\n",
       "        console.log(\"Bokeh: BokehJS plotting callback run at\", now());\n",
       "        run_inline_js();\n",
       "      });\n",
       "    }\n",
       "  }(this));\n",
       "</script>"
      ]
     },
     "metadata": {},
     "output_type": "display_data"
    },
    {
     "data": {
      "text/html": [
       "<p><code>&lt;Bokeh Notebook handle for <strong>In[21]</strong>&gt;</code></p>"
      ],
      "text/plain": [
       "<bokeh.io._CommsHandle at 0x10cfde278>"
      ]
     },
     "execution_count": 21,
     "metadata": {},
     "output_type": "execute_result"
    }
   ],
   "source": [
    "show(pie)"
   ]
  },
  {
   "cell_type": "code",
   "execution_count": 22,
   "metadata": {
    "collapsed": false
   },
   "outputs": [
    {
     "data": {
      "text/plain": [
       "[<bokeh.models.annotations.BoxAnnotation at 0x10cdf77f0>,\n",
       " <bokeh.models.renderers.GlyphRenderer at 0x10cceb8d0>,\n",
       " <bokeh.models.renderers.GlyphRenderer at 0x10cdfdda0>,\n",
       " <bokeh.models.annotations.Legend at 0x10cdfd400>,\n",
       " <bokeh.models.axes.LinearAxis at 0x10cdfd0f0>,\n",
       " <bokeh.models.axes.LinearAxis at 0x10cdfd080>]"
      ]
     },
     "execution_count": 22,
     "metadata": {},
     "output_type": "execute_result"
    }
   ],
   "source": [
    "pie.renderers"
   ]
  },
  {
   "cell_type": "code",
   "execution_count": 26,
   "metadata": {
    "collapsed": false
   },
   "outputs": [],
   "source": [
    "wedge = pie.renderers[1].glyph"
   ]
  },
  {
   "cell_type": "code",
   "execution_count": 27,
   "metadata": {
    "collapsed": false
   },
   "outputs": [
    {
     "data": {
      "text/plain": [
       "'color'"
      ]
     },
     "execution_count": 27,
     "metadata": {},
     "output_type": "execute_result"
    }
   ],
   "source": [
    "wedge.fill_color"
   ]
  },
  {
   "cell_type": "code",
   "execution_count": null,
   "metadata": {
    "collapsed": true
   },
   "outputs": [],
   "source": []
  }
 ],
 "metadata": {
  "kernelspec": {
   "display_name": "Python 3",
   "language": "python",
   "name": "python3"
  },
  "language_info": {
   "codemirror_mode": {
    "name": "ipython",
    "version": 3
   },
   "file_extension": ".py",
   "mimetype": "text/x-python",
   "name": "python",
   "nbconvert_exporter": "python",
   "pygments_lexer": "ipython3",
   "version": "3.5.1"
  }
 },
 "nbformat": 4,
 "nbformat_minor": 0
}

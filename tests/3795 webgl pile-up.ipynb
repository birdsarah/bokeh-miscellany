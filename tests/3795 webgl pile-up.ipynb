{
 "cells": [
  {
   "cell_type": "code",
   "execution_count": 1,
   "metadata": {
    "collapsed": false
   },
   "outputs": [
    {
     "data": {
      "text/html": [
       "\n",
       "    <div class=\"bk-banner\">\n",
       "        <a href=\"http://bokeh.pydata.org\" target=\"_blank\" class=\"bk-logo bk-logo-small bk-logo-notebook\"></a>\n",
       "        <span id=\"1c49e6f1-3b88-4b6a-b9c8-49f545320efb\">Loading BokehJS ...</span>\n",
       "    </div>"
      ]
     },
     "metadata": {},
     "output_type": "display_data"
    },
    {
     "data": {
      "application/javascript": [
       "\n",
       "(function(global) {\n",
       "  function now() {\n",
       "    return new Date();\n",
       "  }\n",
       "\n",
       "  if (typeof (window._bokeh_onload_callbacks) === \"undefined\") {\n",
       "    window._bokeh_onload_callbacks = [];\n",
       "  }\n",
       "\n",
       "  function run_callbacks() {\n",
       "    window._bokeh_onload_callbacks.forEach(function(callback) { callback() });\n",
       "    delete window._bokeh_onload_callbacks\n",
       "    console.info(\"Bokeh: all callbacks have finished\");\n",
       "  }\n",
       "\n",
       "  function load_libs(js_urls, callback) {\n",
       "    window._bokeh_onload_callbacks.push(callback);\n",
       "    if (window._bokeh_is_loading > 0) {\n",
       "      console.log(\"Bokeh: BokehJS is being loaded, scheduling callback at\", now());\n",
       "      return null;\n",
       "    }\n",
       "    if (js_urls == null || js_urls.length === 0) {\n",
       "      run_callbacks();\n",
       "      return null;\n",
       "    }\n",
       "    console.log(\"Bokeh: BokehJS not loaded, scheduling load and callback at\", now());\n",
       "    window._bokeh_is_loading = js_urls.length;\n",
       "    for (var i = 0; i < js_urls.length; i++) {\n",
       "      var url = js_urls[i];\n",
       "      var s = document.createElement('script');\n",
       "      s.src = url;\n",
       "      s.async = false;\n",
       "      s.onreadystatechange = s.onload = function() {\n",
       "        window._bokeh_is_loading--;\n",
       "        if (window._bokeh_is_loading === 0) {\n",
       "          console.log(\"Bokeh: all BokehJS libraries loaded\");\n",
       "          run_callbacks()\n",
       "        }\n",
       "      };\n",
       "      s.onerror = function() {\n",
       "        console.warn(\"failed to load library \" + url);\n",
       "      };\n",
       "      console.log(\"Bokeh: injecting script tag for BokehJS library: \", url);\n",
       "      document.getElementsByTagName(\"head\")[0].appendChild(s);\n",
       "    }\n",
       "  };\n",
       "\n",
       "  var js_urls = ['https://cdn.pydata.org/bokeh/release/bokeh-0.11.1.min.js', 'https://cdn.pydata.org/bokeh/release/bokeh-widgets-0.11.1.min.js', 'https://cdn.pydata.org/bokeh/release/bokeh-compiler-0.11.1.min.js'];\n",
       "\n",
       "  var inline_js = [\n",
       "    function(Bokeh) {\n",
       "      Bokeh.set_log_level(\"info\");\n",
       "    },\n",
       "    \n",
       "    function(Bokeh) {\n",
       "      Bokeh.$(\"#1c49e6f1-3b88-4b6a-b9c8-49f545320efb\").text(\"BokehJS successfully loaded\");\n",
       "    },\n",
       "    function(Bokeh) {\n",
       "      console.log(\"Bokeh: injecting CSS: https://cdn.pydata.org/bokeh/release/bokeh-0.11.1.min.css\");\n",
       "      Bokeh.embed.inject_css(\"https://cdn.pydata.org/bokeh/release/bokeh-0.11.1.min.css\");\n",
       "      console.log(\"Bokeh: injecting CSS: https://cdn.pydata.org/bokeh/release/bokeh-widgets-0.11.1.min.css\");\n",
       "      Bokeh.embed.inject_css(\"https://cdn.pydata.org/bokeh/release/bokeh-widgets-0.11.1.min.css\");\n",
       "    }\n",
       "  ];\n",
       "\n",
       "  function run_inline_js() {\n",
       "    for (var i = 0; i < inline_js.length; i++) {\n",
       "      inline_js[i](window.Bokeh);\n",
       "    }\n",
       "  }\n",
       "\n",
       "  if (window._bokeh_is_loading === 0) {\n",
       "    console.log(\"Bokeh: BokehJS loaded, going straight to plotting\");\n",
       "    run_inline_js();\n",
       "  } else {\n",
       "    load_libs(js_urls, function() {\n",
       "      console.log(\"Bokeh: BokehJS plotting callback run at\", now());\n",
       "      run_inline_js();\n",
       "    });\n",
       "  }\n",
       "}(this));"
      ]
     },
     "metadata": {},
     "output_type": "display_data"
    }
   ],
   "source": [
    "from bokeh.io import output_notebook, show\n",
    "output_notebook()"
   ]
  },
  {
   "cell_type": "code",
   "execution_count": 2,
   "metadata": {
    "collapsed": false
   },
   "outputs": [
    {
     "data": {
      "text/plain": [
       "'0.11.1'"
      ]
     },
     "execution_count": 2,
     "metadata": {},
     "output_type": "execute_result"
    }
   ],
   "source": [
    "import bokeh\n",
    "bokeh.__version__"
   ]
  },
  {
   "cell_type": "code",
   "execution_count": 3,
   "metadata": {
    "collapsed": false
   },
   "outputs": [
    {
     "data": {
      "text/html": [
       "\n",
       "\n",
       "    <div class=\"plotdiv\" id=\"430549e0-7ee0-49d0-b839-1a6592bfb08c\"></div>\n",
       "<script type=\"text/javascript\">\n",
       "  \n",
       "  (function(global) {\n",
       "    function now() {\n",
       "      return new Date();\n",
       "    }\n",
       "  \n",
       "    if (typeof (window._bokeh_onload_callbacks) === \"undefined\") {\n",
       "      window._bokeh_onload_callbacks = [];\n",
       "    }\n",
       "  \n",
       "    function run_callbacks() {\n",
       "      window._bokeh_onload_callbacks.forEach(function(callback) { callback() });\n",
       "      delete window._bokeh_onload_callbacks\n",
       "      console.info(\"Bokeh: all callbacks have finished\");\n",
       "    }\n",
       "  \n",
       "    function load_libs(js_urls, callback) {\n",
       "      window._bokeh_onload_callbacks.push(callback);\n",
       "      if (window._bokeh_is_loading > 0) {\n",
       "        console.log(\"Bokeh: BokehJS is being loaded, scheduling callback at\", now());\n",
       "        return null;\n",
       "      }\n",
       "      if (js_urls == null || js_urls.length === 0) {\n",
       "        run_callbacks();\n",
       "        return null;\n",
       "      }\n",
       "      console.log(\"Bokeh: BokehJS not loaded, scheduling load and callback at\", now());\n",
       "      window._bokeh_is_loading = js_urls.length;\n",
       "      for (var i = 0; i < js_urls.length; i++) {\n",
       "        var url = js_urls[i];\n",
       "        var s = document.createElement('script');\n",
       "        s.src = url;\n",
       "        s.async = false;\n",
       "        s.onreadystatechange = s.onload = function() {\n",
       "          window._bokeh_is_loading--;\n",
       "          if (window._bokeh_is_loading === 0) {\n",
       "            console.log(\"Bokeh: all BokehJS libraries loaded\");\n",
       "            run_callbacks()\n",
       "          }\n",
       "        };\n",
       "        s.onerror = function() {\n",
       "          console.warn(\"failed to load library \" + url);\n",
       "        };\n",
       "        console.log(\"Bokeh: injecting script tag for BokehJS library: \", url);\n",
       "        document.getElementsByTagName(\"head\")[0].appendChild(s);\n",
       "      }\n",
       "    };var element = document.getElementById(\"430549e0-7ee0-49d0-b839-1a6592bfb08c\");\n",
       "    if (element == null) {\n",
       "      console.log(\"Bokeh: ERROR: autoload.js configured with elementid '430549e0-7ee0-49d0-b839-1a6592bfb08c' but no matching script tag was found. \")\n",
       "      return false;\n",
       "    }\n",
       "  \n",
       "    var js_urls = [];\n",
       "  \n",
       "    var inline_js = [\n",
       "      function(Bokeh) {\n",
       "        Bokeh.$(function() {\n",
       "            var docs_json = {\"1ba60b95-9da5-4fad-8070-5718a19a6095\":{\"roots\":{\"references\":[{\"attributes\":{\"months\":[0,6]},\"id\":\"6931d5cc-bb5e-4ffc-aa4e-87d17492d7bb\",\"type\":\"MonthsTicker\"},{\"attributes\":{},\"id\":\"3276afa0-9415-4e28-80de-80bca1eb0299\",\"type\":\"BasicTicker\"},{\"attributes\":{\"overlay\":{\"id\":\"72b78ef1-5037-4a6c-80c8-d7ca47903a0e\",\"type\":\"BoxAnnotation\"},\"plot\":{\"id\":\"4e94759f-f2df-4a66-acbe-e7b75e4e2b74\",\"subtype\":\"Figure\",\"type\":\"Plot\"}},\"id\":\"d107ddce-1300-446b-b225-bb9e8be6f945\",\"type\":\"BoxZoomTool\"},{\"attributes\":{\"callback\":null,\"column_names\":[\"x\",\"y\"],\"data\":{\"x\":[1454319360000.0,1454319300000.0,1454319240000.0,1454319180000.0,1454319120000.0,1454319060000.0,1454319000000.0,1454318940000.0,1454318880000.0,1454318820000.0],\"y\":[0,1,2,3,4,5,6,7,8,9]}},\"id\":\"75d8b31e-79b3-4503-88b6-1e659e601809\",\"type\":\"ColumnDataSource\"},{\"attributes\":{\"num_minor_ticks\":5},\"id\":\"3f16a4ed-1788-4c2a-bb6e-81123de4131b\",\"type\":\"DatetimeTicker\"},{\"attributes\":{\"callback\":null},\"id\":\"35a09ba2-d3a9-4418-a296-4e9aaffa31da\",\"type\":\"DataRange1d\"},{\"attributes\":{\"fill_alpha\":{\"value\":0.1},\"fill_color\":{\"value\":\"#1f77b4\"},\"line_alpha\":{\"value\":0.1},\"line_color\":{\"value\":\"#1f77b4\"},\"x\":{\"field\":\"x\"},\"y\":{\"field\":\"y\"}},\"id\":\"33cd270c-892b-4018-a6f0-17a1c31e7f2f\",\"type\":\"Circle\"},{\"attributes\":{\"plot\":{\"id\":\"4e94759f-f2df-4a66-acbe-e7b75e4e2b74\",\"subtype\":\"Figure\",\"type\":\"Plot\"}},\"id\":\"3f8588f4-a42a-437a-9085-c124f04f9ccc\",\"type\":\"WheelZoomTool\"},{\"attributes\":{\"days\":[1,8,15,22]},\"id\":\"13664dc0-2305-451f-bf4f-026c4bbe344a\",\"type\":\"DaysTicker\"},{\"attributes\":{\"callback\":null},\"id\":\"b9f9a640-ce82-48c6-8c38-619f992e8581\",\"type\":\"DataRange1d\"},{\"attributes\":{},\"id\":\"9a641aa1-ce9c-4813-b940-84a544e3828f\",\"type\":\"ToolEvents\"},{\"attributes\":{},\"id\":\"e1cda330-0b87-49f8-843e-9b887e6fe49d\",\"type\":\"YearsTicker\"},{\"attributes\":{\"base\":60,\"mantissas\":[1,2,5,10,15,20,30],\"max_interval\":1800000.0,\"min_interval\":1000.0,\"num_minor_ticks\":0},\"id\":\"1609ee35-331d-4805-a9f0-a6f0fd585b71\",\"type\":\"AdaptiveTicker\"},{\"attributes\":{\"plot\":{\"id\":\"4e94759f-f2df-4a66-acbe-e7b75e4e2b74\",\"subtype\":\"Figure\",\"type\":\"Plot\"},\"ticker\":{\"id\":\"3f16a4ed-1788-4c2a-bb6e-81123de4131b\",\"type\":\"DatetimeTicker\"}},\"id\":\"75cde429-45c8-49ab-8a74-c8451c700e71\",\"type\":\"Grid\"},{\"attributes\":{\"max_interval\":500.0,\"num_minor_ticks\":0},\"id\":\"76d7760e-dcfc-4c08-af05-2fb6044d4520\",\"type\":\"AdaptiveTicker\"},{\"attributes\":{\"plot\":{\"id\":\"4e94759f-f2df-4a66-acbe-e7b75e4e2b74\",\"subtype\":\"Figure\",\"type\":\"Plot\"}},\"id\":\"25a96ac8-40ce-48d4-8cfb-12aaa761b162\",\"type\":\"HelpTool\"},{\"attributes\":{\"data_source\":{\"id\":\"75d8b31e-79b3-4503-88b6-1e659e601809\",\"type\":\"ColumnDataSource\"},\"glyph\":{\"id\":\"578ed6ff-3e20-439a-b797-b9570317a64c\",\"type\":\"Circle\"},\"hover_glyph\":null,\"nonselection_glyph\":{\"id\":\"33cd270c-892b-4018-a6f0-17a1c31e7f2f\",\"type\":\"Circle\"},\"selection_glyph\":null},\"id\":\"6cde152b-bef6-417e-b768-3f3527e0f368\",\"type\":\"GlyphRenderer\"},{\"attributes\":{\"dimension\":1,\"plot\":{\"id\":\"4e94759f-f2df-4a66-acbe-e7b75e4e2b74\",\"subtype\":\"Figure\",\"type\":\"Plot\"},\"ticker\":{\"id\":\"3276afa0-9415-4e28-80de-80bca1eb0299\",\"type\":\"BasicTicker\"}},\"id\":\"f78aefe8-fb42-4d3a-8f39-c445483acd25\",\"type\":\"Grid\"},{\"attributes\":{\"plot\":{\"id\":\"4e94759f-f2df-4a66-acbe-e7b75e4e2b74\",\"subtype\":\"Figure\",\"type\":\"Plot\"}},\"id\":\"9585fcfe-cfb9-47d8-a90e-022e8f0868dd\",\"type\":\"PreviewSaveTool\"},{\"attributes\":{\"base\":24,\"mantissas\":[1,2,4,6,8,12],\"max_interval\":43200000.0,\"min_interval\":3600000.0,\"num_minor_ticks\":0},\"id\":\"c6e7ec5b-82bb-4df8-8cee-1f85a7472339\",\"type\":\"AdaptiveTicker\"},{\"attributes\":{\"plot\":{\"id\":\"4e94759f-f2df-4a66-acbe-e7b75e4e2b74\",\"subtype\":\"Figure\",\"type\":\"Plot\"}},\"id\":\"65642eb1-bcdb-426e-9236-624762ac5979\",\"type\":\"PanTool\"},{\"attributes\":{\"days\":[1,2,3,4,5,6,7,8,9,10,11,12,13,14,15,16,17,18,19,20,21,22,23,24,25,26,27,28,29,30,31]},\"id\":\"2482b3ab-7fe2-49dc-aeca-9fe7b681bc99\",\"type\":\"DaysTicker\"},{\"attributes\":{\"months\":[0,4,8]},\"id\":\"89dc41f9-b83a-47df-b4a6-de0e8bb81f35\",\"type\":\"MonthsTicker\"},{\"attributes\":{},\"id\":\"2a93f3d4-60c3-4e37-89d1-bc0e1b031686\",\"type\":\"DatetimeTickFormatter\"},{\"attributes\":{\"plot\":{\"id\":\"4e94759f-f2df-4a66-acbe-e7b75e4e2b74\",\"subtype\":\"Figure\",\"type\":\"Plot\"}},\"id\":\"013ae5df-bcb9-47f7-9209-6ca49a92362d\",\"type\":\"ResetTool\"},{\"attributes\":{\"plot\":{\"id\":\"4e94759f-f2df-4a66-acbe-e7b75e4e2b74\",\"subtype\":\"Figure\",\"type\":\"Plot\"}},\"id\":\"35cdacec-039a-4cdd-8dd8-4c8df20fe8c6\",\"type\":\"ResizeTool\"},{\"attributes\":{\"days\":[1,15]},\"id\":\"68ae10a2-3e3f-4369-89f0-033176bbac1a\",\"type\":\"DaysTicker\"},{\"attributes\":{},\"id\":\"d2cfd236-297f-417f-a240-5b8eb67c8777\",\"type\":\"BasicTickFormatter\"},{\"attributes\":{\"fill_color\":{\"value\":\"#1f77b4\"},\"line_color\":{\"value\":\"#1f77b4\"},\"x\":{\"field\":\"x\"},\"y\":{\"field\":\"y\"}},\"id\":\"578ed6ff-3e20-439a-b797-b9570317a64c\",\"type\":\"Circle\"},{\"attributes\":{\"months\":[0,1,2,3,4,5,6,7,8,9,10,11]},\"id\":\"38201ec1-588c-461a-9990-32d033d60c70\",\"type\":\"MonthsTicker\"},{\"attributes\":{\"bottom_units\":\"screen\",\"fill_alpha\":{\"value\":0.5},\"fill_color\":{\"value\":\"lightgrey\"},\"left_units\":\"screen\",\"level\":\"overlay\",\"line_alpha\":{\"value\":1.0},\"line_color\":{\"value\":\"black\"},\"line_dash\":[4,4],\"line_width\":{\"value\":2},\"plot\":null,\"render_mode\":\"css\",\"right_units\":\"screen\",\"top_units\":\"screen\"},\"id\":\"72b78ef1-5037-4a6c-80c8-d7ca47903a0e\",\"type\":\"BoxAnnotation\"},{\"attributes\":{\"months\":[0,2,4,6,8,10]},\"id\":\"f7572210-1f99-4e8c-b85b-551f6fa69ad6\",\"type\":\"MonthsTicker\"},{\"attributes\":{\"days\":[1,4,7,10,13,16,19,22,25,28]},\"id\":\"942b5482-9a3b-4e8f-968a-6ba0bee134eb\",\"type\":\"DaysTicker\"},{\"attributes\":{\"formatter\":{\"id\":\"d2cfd236-297f-417f-a240-5b8eb67c8777\",\"type\":\"BasicTickFormatter\"},\"plot\":{\"id\":\"4e94759f-f2df-4a66-acbe-e7b75e4e2b74\",\"subtype\":\"Figure\",\"type\":\"Plot\"},\"ticker\":{\"id\":\"3276afa0-9415-4e28-80de-80bca1eb0299\",\"type\":\"BasicTicker\"}},\"id\":\"22ebea5b-87e9-44a0-ba96-06ab70a832f9\",\"type\":\"LinearAxis\"},{\"attributes\":{\"below\":[{\"id\":\"e2ed1fda-b1f6-4da5-9a5e-11d3bef0640f\",\"type\":\"DatetimeAxis\"}],\"left\":[{\"id\":\"22ebea5b-87e9-44a0-ba96-06ab70a832f9\",\"type\":\"LinearAxis\"}],\"renderers\":[{\"id\":\"e2ed1fda-b1f6-4da5-9a5e-11d3bef0640f\",\"type\":\"DatetimeAxis\"},{\"id\":\"75cde429-45c8-49ab-8a74-c8451c700e71\",\"type\":\"Grid\"},{\"id\":\"22ebea5b-87e9-44a0-ba96-06ab70a832f9\",\"type\":\"LinearAxis\"},{\"id\":\"f78aefe8-fb42-4d3a-8f39-c445483acd25\",\"type\":\"Grid\"},{\"id\":\"72b78ef1-5037-4a6c-80c8-d7ca47903a0e\",\"type\":\"BoxAnnotation\"},{\"id\":\"6cde152b-bef6-417e-b768-3f3527e0f368\",\"type\":\"GlyphRenderer\"}],\"tool_events\":{\"id\":\"9a641aa1-ce9c-4813-b940-84a544e3828f\",\"type\":\"ToolEvents\"},\"tools\":[{\"id\":\"65642eb1-bcdb-426e-9236-624762ac5979\",\"type\":\"PanTool\"},{\"id\":\"3f8588f4-a42a-437a-9085-c124f04f9ccc\",\"type\":\"WheelZoomTool\"},{\"id\":\"d107ddce-1300-446b-b225-bb9e8be6f945\",\"type\":\"BoxZoomTool\"},{\"id\":\"9585fcfe-cfb9-47d8-a90e-022e8f0868dd\",\"type\":\"PreviewSaveTool\"},{\"id\":\"35cdacec-039a-4cdd-8dd8-4c8df20fe8c6\",\"type\":\"ResizeTool\"},{\"id\":\"013ae5df-bcb9-47f7-9209-6ca49a92362d\",\"type\":\"ResetTool\"},{\"id\":\"25a96ac8-40ce-48d4-8cfb-12aaa761b162\",\"type\":\"HelpTool\"}],\"webgl\":true,\"x_range\":{\"id\":\"b9f9a640-ce82-48c6-8c38-619f992e8581\",\"type\":\"DataRange1d\"},\"y_range\":{\"id\":\"35a09ba2-d3a9-4418-a296-4e9aaffa31da\",\"type\":\"DataRange1d\"}},\"id\":\"4e94759f-f2df-4a66-acbe-e7b75e4e2b74\",\"subtype\":\"Figure\",\"type\":\"Plot\"},{\"attributes\":{\"formatter\":{\"id\":\"2a93f3d4-60c3-4e37-89d1-bc0e1b031686\",\"type\":\"DatetimeTickFormatter\"},\"plot\":{\"id\":\"4e94759f-f2df-4a66-acbe-e7b75e4e2b74\",\"subtype\":\"Figure\",\"type\":\"Plot\"},\"ticker\":{\"id\":\"3f16a4ed-1788-4c2a-bb6e-81123de4131b\",\"type\":\"DatetimeTicker\"}},\"id\":\"e2ed1fda-b1f6-4da5-9a5e-11d3bef0640f\",\"type\":\"DatetimeAxis\"}],\"root_ids\":[\"4e94759f-f2df-4a66-acbe-e7b75e4e2b74\"]},\"title\":\"Bokeh Application\",\"version\":\"0.11.1\"}};\n",
       "            var render_items = [{\"docid\":\"1ba60b95-9da5-4fad-8070-5718a19a6095\",\"elementid\":\"430549e0-7ee0-49d0-b839-1a6592bfb08c\",\"modelid\":\"4e94759f-f2df-4a66-acbe-e7b75e4e2b74\",\"notebook_comms_target\":\"f3eb9d1c-61fd-417a-8c00-5122eebae9f7\"}];\n",
       "            \n",
       "            Bokeh.embed.embed_items(docs_json, render_items);\n",
       "        });\n",
       "      },\n",
       "      function(Bokeh) {\n",
       "      }\n",
       "    ];\n",
       "  \n",
       "    function run_inline_js() {\n",
       "      for (var i = 0; i < inline_js.length; i++) {\n",
       "        inline_js[i](window.Bokeh);\n",
       "      }\n",
       "    }\n",
       "  \n",
       "    if (window._bokeh_is_loading === 0) {\n",
       "      console.log(\"Bokeh: BokehJS loaded, going straight to plotting\");\n",
       "      run_inline_js();\n",
       "    } else {\n",
       "      load_libs(js_urls, function() {\n",
       "        console.log(\"Bokeh: BokehJS plotting callback run at\", now());\n",
       "        run_inline_js();\n",
       "      });\n",
       "    }\n",
       "  }(this));\n",
       "</script>"
      ]
     },
     "metadata": {},
     "output_type": "display_data"
    },
    {
     "data": {
      "text/html": [
       "<p><code>&lt;Bokeh Notebook handle for <strong>In[3]</strong>&gt;</code></p>"
      ],
      "text/plain": [
       "<bokeh.io._CommsHandle at 0x108c4b630>"
      ]
     },
     "execution_count": 3,
     "metadata": {},
     "output_type": "execute_result"
    }
   ],
   "source": [
    "import numpy as np\n",
    "from bokeh.plotting import figure\n",
    "from datetime import datetime,timedelta\n",
    "\n",
    "no_of_datapoints = 10\n",
    "\n",
    "base = datetime(2016, 2, 1, 9, 36, 0)\n",
    "date_list = [base - timedelta(minutes=x) for x in range(0, no_of_datapoints)]\n",
    "datapoints = np.arange(no_of_datapoints)\n",
    "\n",
    "p = figure(webgl=True,x_axis_type=\"datetime\")\n",
    "p.scatter(x=date_list,y=datapoints)\n",
    "show(p)"
   ]
  },
  {
   "cell_type": "code",
   "execution_count": 4,
   "metadata": {
    "collapsed": false
   },
   "outputs": [
    {
     "data": {
      "text/html": [
       "\n",
       "\n",
       "    <div class=\"plotdiv\" id=\"1a6ccf28-7317-4348-bb67-da7dbaa23a28\"></div>\n",
       "<script type=\"text/javascript\">\n",
       "  \n",
       "  (function(global) {\n",
       "    function now() {\n",
       "      return new Date();\n",
       "    }\n",
       "  \n",
       "    if (typeof (window._bokeh_onload_callbacks) === \"undefined\") {\n",
       "      window._bokeh_onload_callbacks = [];\n",
       "    }\n",
       "  \n",
       "    function run_callbacks() {\n",
       "      window._bokeh_onload_callbacks.forEach(function(callback) { callback() });\n",
       "      delete window._bokeh_onload_callbacks\n",
       "      console.info(\"Bokeh: all callbacks have finished\");\n",
       "    }\n",
       "  \n",
       "    function load_libs(js_urls, callback) {\n",
       "      window._bokeh_onload_callbacks.push(callback);\n",
       "      if (window._bokeh_is_loading > 0) {\n",
       "        console.log(\"Bokeh: BokehJS is being loaded, scheduling callback at\", now());\n",
       "        return null;\n",
       "      }\n",
       "      if (js_urls == null || js_urls.length === 0) {\n",
       "        run_callbacks();\n",
       "        return null;\n",
       "      }\n",
       "      console.log(\"Bokeh: BokehJS not loaded, scheduling load and callback at\", now());\n",
       "      window._bokeh_is_loading = js_urls.length;\n",
       "      for (var i = 0; i < js_urls.length; i++) {\n",
       "        var url = js_urls[i];\n",
       "        var s = document.createElement('script');\n",
       "        s.src = url;\n",
       "        s.async = false;\n",
       "        s.onreadystatechange = s.onload = function() {\n",
       "          window._bokeh_is_loading--;\n",
       "          if (window._bokeh_is_loading === 0) {\n",
       "            console.log(\"Bokeh: all BokehJS libraries loaded\");\n",
       "            run_callbacks()\n",
       "          }\n",
       "        };\n",
       "        s.onerror = function() {\n",
       "          console.warn(\"failed to load library \" + url);\n",
       "        };\n",
       "        console.log(\"Bokeh: injecting script tag for BokehJS library: \", url);\n",
       "        document.getElementsByTagName(\"head\")[0].appendChild(s);\n",
       "      }\n",
       "    };var element = document.getElementById(\"1a6ccf28-7317-4348-bb67-da7dbaa23a28\");\n",
       "    if (element == null) {\n",
       "      console.log(\"Bokeh: ERROR: autoload.js configured with elementid '1a6ccf28-7317-4348-bb67-da7dbaa23a28' but no matching script tag was found. \")\n",
       "      return false;\n",
       "    }\n",
       "  \n",
       "    var js_urls = [];\n",
       "  \n",
       "    var inline_js = [\n",
       "      function(Bokeh) {\n",
       "        Bokeh.$(function() {\n",
       "            var docs_json = {\"56557488-e98e-426a-89a0-d0f52a1d2d82\":{\"roots\":{\"references\":[{\"attributes\":{\"months\":[0,2,4,6,8,10]},\"id\":\"f7572210-1f99-4e8c-b85b-551f6fa69ad6\",\"type\":\"MonthsTicker\"},{\"attributes\":{\"base\":24,\"mantissas\":[1,2,4,6,8,12],\"max_interval\":43200000.0,\"min_interval\":3600000.0,\"num_minor_ticks\":0},\"id\":\"b00b06b1-8c41-428b-8281-3e0bca7cee28\",\"type\":\"AdaptiveTicker\"},{\"attributes\":{\"plot\":{\"id\":\"4e94759f-f2df-4a66-acbe-e7b75e4e2b74\",\"subtype\":\"Figure\",\"type\":\"Plot\"}},\"id\":\"013ae5df-bcb9-47f7-9209-6ca49a92362d\",\"type\":\"ResetTool\"},{\"attributes\":{\"plot\":{\"id\":\"5bf58123-ce4d-4461-bd27-735acf25484b\",\"subtype\":\"Figure\",\"type\":\"Plot\"}},\"id\":\"88a3f616-389f-4413-b418-ddc19cd94a36\",\"type\":\"ResetTool\"},{\"attributes\":{\"callback\":null},\"id\":\"35a09ba2-d3a9-4418-a296-4e9aaffa31da\",\"type\":\"DataRange1d\"},{\"attributes\":{\"overlay\":{\"id\":\"f54fac5f-6a68-429b-b74d-80edbd665b85\",\"type\":\"BoxAnnotation\"},\"plot\":{\"id\":\"5bf58123-ce4d-4461-bd27-735acf25484b\",\"subtype\":\"Figure\",\"type\":\"Plot\"}},\"id\":\"0d4cc38b-3f0d-4e28-8d7c-940ab49b620a\",\"type\":\"BoxZoomTool\"},{\"attributes\":{\"data_source\":{\"id\":\"bec169ee-f748-4dcd-a586-159ffa2a0020\",\"type\":\"ColumnDataSource\"},\"glyph\":{\"id\":\"abe2baf5-f8be-4499-8b56-d988da8ff47b\",\"type\":\"Circle\"},\"hover_glyph\":null,\"nonselection_glyph\":{\"id\":\"aed47ff3-6557-48b8-a479-10c00b01390c\",\"type\":\"Circle\"},\"selection_glyph\":null},\"id\":\"eb141e37-1042-41be-b0e4-ccb135a12384\",\"type\":\"GlyphRenderer\"},{\"attributes\":{\"days\":[1,8,15,22]},\"id\":\"13664dc0-2305-451f-bf4f-026c4bbe344a\",\"type\":\"DaysTicker\"},{\"attributes\":{},\"id\":\"9a641aa1-ce9c-4813-b940-84a544e3828f\",\"type\":\"ToolEvents\"},{\"attributes\":{\"max_interval\":500.0,\"num_minor_ticks\":0},\"id\":\"a23006af-279b-41cb-a651-5da8becf3b2e\",\"type\":\"AdaptiveTicker\"},{\"attributes\":{\"max_interval\":500.0,\"num_minor_ticks\":0},\"id\":\"76d7760e-dcfc-4c08-af05-2fb6044d4520\",\"type\":\"AdaptiveTicker\"},{\"attributes\":{\"plot\":{\"id\":\"4e94759f-f2df-4a66-acbe-e7b75e4e2b74\",\"subtype\":\"Figure\",\"type\":\"Plot\"}},\"id\":\"25a96ac8-40ce-48d4-8cfb-12aaa761b162\",\"type\":\"HelpTool\"},{\"attributes\":{\"fill_alpha\":{\"value\":0.1},\"fill_color\":{\"value\":\"#1f77b4\"},\"line_alpha\":{\"value\":0.1},\"line_color\":{\"value\":\"#1f77b4\"},\"x\":{\"field\":\"x\"},\"y\":{\"field\":\"y\"}},\"id\":\"aed47ff3-6557-48b8-a479-10c00b01390c\",\"type\":\"Circle\"},{\"attributes\":{\"plot\":{\"id\":\"4e94759f-f2df-4a66-acbe-e7b75e4e2b74\",\"subtype\":\"Figure\",\"type\":\"Plot\"}},\"id\":\"9585fcfe-cfb9-47d8-a90e-022e8f0868dd\",\"type\":\"PreviewSaveTool\"},{\"attributes\":{\"base\":24,\"mantissas\":[1,2,4,6,8,12],\"max_interval\":43200000.0,\"min_interval\":3600000.0,\"num_minor_ticks\":0},\"id\":\"c6e7ec5b-82bb-4df8-8cee-1f85a7472339\",\"type\":\"AdaptiveTicker\"},{\"attributes\":{},\"id\":\"49e0dddf-5aa8-44f5-b324-c184b41cc683\",\"type\":\"BasicTickFormatter\"},{\"attributes\":{\"formatter\":{\"id\":\"49e0dddf-5aa8-44f5-b324-c184b41cc683\",\"type\":\"BasicTickFormatter\"},\"plot\":{\"id\":\"5bf58123-ce4d-4461-bd27-735acf25484b\",\"subtype\":\"Figure\",\"type\":\"Plot\"},\"ticker\":{\"id\":\"ff93a8a7-34f3-4074-9a90-e86cef93c7e1\",\"type\":\"BasicTicker\"}},\"id\":\"33a139a4-d39b-4412-bc38-e20d24e42d21\",\"type\":\"LinearAxis\"},{\"attributes\":{\"months\":[0,4,8]},\"id\":\"89dc41f9-b83a-47df-b4a6-de0e8bb81f35\",\"type\":\"MonthsTicker\"},{\"attributes\":{},\"id\":\"2a93f3d4-60c3-4e37-89d1-bc0e1b031686\",\"type\":\"DatetimeTickFormatter\"},{\"attributes\":{\"below\":[{\"id\":\"39d29bf6-e368-4856-990c-1d7a6a5eaef6\",\"type\":\"DatetimeAxis\"}],\"left\":[{\"id\":\"33a139a4-d39b-4412-bc38-e20d24e42d21\",\"type\":\"LinearAxis\"}],\"renderers\":[{\"id\":\"39d29bf6-e368-4856-990c-1d7a6a5eaef6\",\"type\":\"DatetimeAxis\"},{\"id\":\"43b20d97-80ae-4685-9dc2-67b1fb382cc2\",\"type\":\"Grid\"},{\"id\":\"33a139a4-d39b-4412-bc38-e20d24e42d21\",\"type\":\"LinearAxis\"},{\"id\":\"8b94f307-7529-44c4-a4d6-ed1640d0078e\",\"type\":\"Grid\"},{\"id\":\"f54fac5f-6a68-429b-b74d-80edbd665b85\",\"type\":\"BoxAnnotation\"},{\"id\":\"eb141e37-1042-41be-b0e4-ccb135a12384\",\"type\":\"GlyphRenderer\"}],\"tool_events\":{\"id\":\"cae1ea05-b53c-42d3-8438-e6053270bf1e\",\"type\":\"ToolEvents\"},\"tools\":[{\"id\":\"4d5c7425-09d4-47ff-bdfc-b60c1f089f53\",\"type\":\"PanTool\"},{\"id\":\"57d16ec0-7bec-4ce3-b644-b6e4d83d3967\",\"type\":\"WheelZoomTool\"},{\"id\":\"0d4cc38b-3f0d-4e28-8d7c-940ab49b620a\",\"type\":\"BoxZoomTool\"},{\"id\":\"b34d9270-c31b-46b8-86fb-4d62cd452897\",\"type\":\"PreviewSaveTool\"},{\"id\":\"0ccf98e3-c048-4f3a-9cfa-d63cacbb25d6\",\"type\":\"ResizeTool\"},{\"id\":\"88a3f616-389f-4413-b418-ddc19cd94a36\",\"type\":\"ResetTool\"},{\"id\":\"93dda3e1-4cde-4555-b6ec-9ed75233f8a8\",\"type\":\"HelpTool\"}],\"x_range\":{\"id\":\"1fe8cee9-5b24-4c0a-98b0-b9b02dc91d78\",\"type\":\"DataRange1d\"},\"y_range\":{\"id\":\"c6c75286-24ef-4f51-9673-4f03b748c143\",\"type\":\"DataRange1d\"}},\"id\":\"5bf58123-ce4d-4461-bd27-735acf25484b\",\"subtype\":\"Figure\",\"type\":\"Plot\"},{\"attributes\":{\"plot\":{\"id\":\"4e94759f-f2df-4a66-acbe-e7b75e4e2b74\",\"subtype\":\"Figure\",\"type\":\"Plot\"}},\"id\":\"35cdacec-039a-4cdd-8dd8-4c8df20fe8c6\",\"type\":\"ResizeTool\"},{\"attributes\":{},\"id\":\"92ab169d-7d55-4284-936a-d1cad1d730f8\",\"type\":\"DatetimeTickFormatter\"},{\"attributes\":{\"months\":[0,4,8]},\"id\":\"e3270101-e60f-437b-94a7-7bbc812e957f\",\"type\":\"MonthsTicker\"},{\"attributes\":{\"plot\":{\"id\":\"5bf58123-ce4d-4461-bd27-735acf25484b\",\"subtype\":\"Figure\",\"type\":\"Plot\"}},\"id\":\"b34d9270-c31b-46b8-86fb-4d62cd452897\",\"type\":\"PreviewSaveTool\"},{\"attributes\":{\"num_minor_ticks\":5},\"id\":\"3f16a4ed-1788-4c2a-bb6e-81123de4131b\",\"type\":\"DatetimeTicker\"},{\"attributes\":{\"plot\":{\"id\":\"5bf58123-ce4d-4461-bd27-735acf25484b\",\"subtype\":\"Figure\",\"type\":\"Plot\"}},\"id\":\"93dda3e1-4cde-4555-b6ec-9ed75233f8a8\",\"type\":\"HelpTool\"},{\"attributes\":{\"plot\":{\"id\":\"5bf58123-ce4d-4461-bd27-735acf25484b\",\"subtype\":\"Figure\",\"type\":\"Plot\"}},\"id\":\"4d5c7425-09d4-47ff-bdfc-b60c1f089f53\",\"type\":\"PanTool\"},{\"attributes\":{\"days\":[1,4,7,10,13,16,19,22,25,28]},\"id\":\"04e04648-4295-44f5-bb70-4d283ce170a1\",\"type\":\"DaysTicker\"},{\"attributes\":{\"callback\":null,\"column_names\":[\"x\",\"y\"],\"data\":{\"x\":[1454319360000.0,1454319300000.0,1454319240000.0,1454319180000.0,1454319120000.0,1454319060000.0,1454319000000.0,1454318940000.0,1454318880000.0,1454318820000.0],\"y\":[0,1,2,3,4,5,6,7,8,9]}},\"id\":\"bec169ee-f748-4dcd-a586-159ffa2a0020\",\"type\":\"ColumnDataSource\"},{\"attributes\":{\"plot\":{\"id\":\"4e94759f-f2df-4a66-acbe-e7b75e4e2b74\",\"subtype\":\"Figure\",\"type\":\"Plot\"}},\"id\":\"65642eb1-bcdb-426e-9236-624762ac5979\",\"type\":\"PanTool\"},{\"attributes\":{\"months\":[0,1,2,3,4,5,6,7,8,9,10,11]},\"id\":\"7ccc5d04-b570-4346-8df1-e4b70014f051\",\"type\":\"MonthsTicker\"},{\"attributes\":{\"num_minor_ticks\":5},\"id\":\"0e0c30c5-8cd0-4e3f-a20c-723e1c542999\",\"type\":\"DatetimeTicker\"},{\"attributes\":{},\"id\":\"ff93a8a7-34f3-4074-9a90-e86cef93c7e1\",\"type\":\"BasicTicker\"},{\"attributes\":{\"callback\":null},\"id\":\"1fe8cee9-5b24-4c0a-98b0-b9b02dc91d78\",\"type\":\"DataRange1d\"},{\"attributes\":{\"months\":[0,6]},\"id\":\"6931d5cc-bb5e-4ffc-aa4e-87d17492d7bb\",\"type\":\"MonthsTicker\"},{\"attributes\":{\"days\":[1,8,15,22]},\"id\":\"c584efcc-0648-4a29-b00d-a307f980fdf8\",\"type\":\"DaysTicker\"},{\"attributes\":{\"overlay\":{\"id\":\"72b78ef1-5037-4a6c-80c8-d7ca47903a0e\",\"type\":\"BoxAnnotation\"},\"plot\":{\"id\":\"4e94759f-f2df-4a66-acbe-e7b75e4e2b74\",\"subtype\":\"Figure\",\"type\":\"Plot\"}},\"id\":\"d107ddce-1300-446b-b225-bb9e8be6f945\",\"type\":\"BoxZoomTool\"},{\"attributes\":{\"days\":[1,2,3,4,5,6,7,8,9,10,11,12,13,14,15,16,17,18,19,20,21,22,23,24,25,26,27,28,29,30,31]},\"id\":\"f00d4b74-2917-4344-ba81-d5267813f2e1\",\"type\":\"DaysTicker\"},{\"attributes\":{},\"id\":\"d54d2acd-6569-4263-aa87-895601016860\",\"type\":\"YearsTicker\"},{\"attributes\":{\"formatter\":{\"id\":\"92ab169d-7d55-4284-936a-d1cad1d730f8\",\"type\":\"DatetimeTickFormatter\"},\"plot\":{\"id\":\"5bf58123-ce4d-4461-bd27-735acf25484b\",\"subtype\":\"Figure\",\"type\":\"Plot\"},\"ticker\":{\"id\":\"0e0c30c5-8cd0-4e3f-a20c-723e1c542999\",\"type\":\"DatetimeTicker\"}},\"id\":\"39d29bf6-e368-4856-990c-1d7a6a5eaef6\",\"type\":\"DatetimeAxis\"},{\"attributes\":{\"dimension\":1,\"plot\":{\"id\":\"5bf58123-ce4d-4461-bd27-735acf25484b\",\"subtype\":\"Figure\",\"type\":\"Plot\"},\"ticker\":{\"id\":\"ff93a8a7-34f3-4074-9a90-e86cef93c7e1\",\"type\":\"BasicTicker\"}},\"id\":\"8b94f307-7529-44c4-a4d6-ed1640d0078e\",\"type\":\"Grid\"},{\"attributes\":{\"fill_alpha\":{\"value\":0.1},\"fill_color\":{\"value\":\"#1f77b4\"},\"line_alpha\":{\"value\":0.1},\"line_color\":{\"value\":\"#1f77b4\"},\"x\":{\"field\":\"x\"},\"y\":{\"field\":\"y\"}},\"id\":\"33cd270c-892b-4018-a6f0-17a1c31e7f2f\",\"type\":\"Circle\"},{\"attributes\":{\"base\":60,\"mantissas\":[1,2,5,10,15,20,30],\"max_interval\":1800000.0,\"min_interval\":1000.0,\"num_minor_ticks\":0},\"id\":\"8e9c079f-b9dc-484b-bebb-fd3c123cdcbe\",\"type\":\"AdaptiveTicker\"},{\"attributes\":{\"callback\":null},\"id\":\"b9f9a640-ce82-48c6-8c38-619f992e8581\",\"type\":\"DataRange1d\"},{\"attributes\":{\"plot\":{\"id\":\"5bf58123-ce4d-4461-bd27-735acf25484b\",\"subtype\":\"Figure\",\"type\":\"Plot\"}},\"id\":\"0ccf98e3-c048-4f3a-9cfa-d63cacbb25d6\",\"type\":\"ResizeTool\"},{\"attributes\":{\"formatter\":{\"id\":\"d2cfd236-297f-417f-a240-5b8eb67c8777\",\"type\":\"BasicTickFormatter\"},\"plot\":{\"id\":\"4e94759f-f2df-4a66-acbe-e7b75e4e2b74\",\"subtype\":\"Figure\",\"type\":\"Plot\"},\"ticker\":{\"id\":\"3276afa0-9415-4e28-80de-80bca1eb0299\",\"type\":\"BasicTicker\"}},\"id\":\"22ebea5b-87e9-44a0-ba96-06ab70a832f9\",\"type\":\"LinearAxis\"},{\"attributes\":{\"base\":60,\"mantissas\":[1,2,5,10,15,20,30],\"max_interval\":1800000.0,\"min_interval\":1000.0,\"num_minor_ticks\":0},\"id\":\"1609ee35-331d-4805-a9f0-a6f0fd585b71\",\"type\":\"AdaptiveTicker\"},{\"attributes\":{\"plot\":{\"id\":\"4e94759f-f2df-4a66-acbe-e7b75e4e2b74\",\"subtype\":\"Figure\",\"type\":\"Plot\"},\"ticker\":{\"id\":\"3f16a4ed-1788-4c2a-bb6e-81123de4131b\",\"type\":\"DatetimeTicker\"}},\"id\":\"75cde429-45c8-49ab-8a74-c8451c700e71\",\"type\":\"Grid\"},{\"attributes\":{\"days\":[1,2,3,4,5,6,7,8,9,10,11,12,13,14,15,16,17,18,19,20,21,22,23,24,25,26,27,28,29,30,31]},\"id\":\"2482b3ab-7fe2-49dc-aeca-9fe7b681bc99\",\"type\":\"DaysTicker\"},{\"attributes\":{\"data_source\":{\"id\":\"75d8b31e-79b3-4503-88b6-1e659e601809\",\"type\":\"ColumnDataSource\"},\"glyph\":{\"id\":\"578ed6ff-3e20-439a-b797-b9570317a64c\",\"type\":\"Circle\"},\"hover_glyph\":null,\"nonselection_glyph\":{\"id\":\"33cd270c-892b-4018-a6f0-17a1c31e7f2f\",\"type\":\"Circle\"},\"selection_glyph\":null},\"id\":\"6cde152b-bef6-417e-b768-3f3527e0f368\",\"type\":\"GlyphRenderer\"},{\"attributes\":{\"dimension\":1,\"plot\":{\"id\":\"4e94759f-f2df-4a66-acbe-e7b75e4e2b74\",\"subtype\":\"Figure\",\"type\":\"Plot\"},\"ticker\":{\"id\":\"3276afa0-9415-4e28-80de-80bca1eb0299\",\"type\":\"BasicTicker\"}},\"id\":\"f78aefe8-fb42-4d3a-8f39-c445483acd25\",\"type\":\"Grid\"},{\"attributes\":{\"days\":[1,4,7,10,13,16,19,22,25,28]},\"id\":\"942b5482-9a3b-4e8f-968a-6ba0bee134eb\",\"type\":\"DaysTicker\"},{\"attributes\":{\"months\":[0,2,4,6,8,10]},\"id\":\"6d0cc47b-2fa4-49f7-a2d7-d40586b32890\",\"type\":\"MonthsTicker\"},{\"attributes\":{\"callback\":null,\"column_names\":[\"x\",\"y\"],\"data\":{\"x\":[1454319360000.0,1454319300000.0,1454319240000.0,1454319180000.0,1454319120000.0,1454319060000.0,1454319000000.0,1454318940000.0,1454318880000.0,1454318820000.0],\"y\":[0,1,2,3,4,5,6,7,8,9]}},\"id\":\"75d8b31e-79b3-4503-88b6-1e659e601809\",\"type\":\"ColumnDataSource\"},{\"attributes\":{\"plot\":{\"id\":\"5bf58123-ce4d-4461-bd27-735acf25484b\",\"subtype\":\"Figure\",\"type\":\"Plot\"}},\"id\":\"57d16ec0-7bec-4ce3-b644-b6e4d83d3967\",\"type\":\"WheelZoomTool\"},{\"attributes\":{\"months\":[0,1,2,3,4,5,6,7,8,9,10,11]},\"id\":\"38201ec1-588c-461a-9990-32d033d60c70\",\"type\":\"MonthsTicker\"},{\"attributes\":{\"months\":[0,6]},\"id\":\"95f18118-33b4-4290-a6ef-05034bb9106c\",\"type\":\"MonthsTicker\"},{\"attributes\":{\"days\":[1,15]},\"id\":\"3bcc088b-5a2c-4232-b829-f8f6cf811a78\",\"type\":\"DaysTicker\"},{\"attributes\":{\"fill_color\":{\"value\":\"#1f77b4\"},\"line_color\":{\"value\":\"#1f77b4\"},\"x\":{\"field\":\"x\"},\"y\":{\"field\":\"y\"}},\"id\":\"abe2baf5-f8be-4499-8b56-d988da8ff47b\",\"type\":\"Circle\"},{\"attributes\":{},\"id\":\"cae1ea05-b53c-42d3-8438-e6053270bf1e\",\"type\":\"ToolEvents\"},{\"attributes\":{\"days\":[1,15]},\"id\":\"68ae10a2-3e3f-4369-89f0-033176bbac1a\",\"type\":\"DaysTicker\"},{\"attributes\":{},\"id\":\"d2cfd236-297f-417f-a240-5b8eb67c8777\",\"type\":\"BasicTickFormatter\"},{\"attributes\":{\"plot\":{\"id\":\"4e94759f-f2df-4a66-acbe-e7b75e4e2b74\",\"subtype\":\"Figure\",\"type\":\"Plot\"}},\"id\":\"3f8588f4-a42a-437a-9085-c124f04f9ccc\",\"type\":\"WheelZoomTool\"},{\"attributes\":{},\"id\":\"e1cda330-0b87-49f8-843e-9b887e6fe49d\",\"type\":\"YearsTicker\"},{\"attributes\":{\"fill_color\":{\"value\":\"#1f77b4\"},\"line_color\":{\"value\":\"#1f77b4\"},\"x\":{\"field\":\"x\"},\"y\":{\"field\":\"y\"}},\"id\":\"578ed6ff-3e20-439a-b797-b9570317a64c\",\"type\":\"Circle\"},{\"attributes\":{\"bottom_units\":\"screen\",\"fill_alpha\":{\"value\":0.5},\"fill_color\":{\"value\":\"lightgrey\"},\"left_units\":\"screen\",\"level\":\"overlay\",\"line_alpha\":{\"value\":1.0},\"line_color\":{\"value\":\"black\"},\"line_dash\":[4,4],\"line_width\":{\"value\":2},\"plot\":null,\"render_mode\":\"css\",\"right_units\":\"screen\",\"top_units\":\"screen\"},\"id\":\"72b78ef1-5037-4a6c-80c8-d7ca47903a0e\",\"type\":\"BoxAnnotation\"},{\"attributes\":{\"callback\":null},\"id\":\"c6c75286-24ef-4f51-9673-4f03b748c143\",\"type\":\"DataRange1d\"},{\"attributes\":{\"bottom_units\":\"screen\",\"fill_alpha\":{\"value\":0.5},\"fill_color\":{\"value\":\"lightgrey\"},\"left_units\":\"screen\",\"level\":\"overlay\",\"line_alpha\":{\"value\":1.0},\"line_color\":{\"value\":\"black\"},\"line_dash\":[4,4],\"line_width\":{\"value\":2},\"plot\":null,\"render_mode\":\"css\",\"right_units\":\"screen\",\"top_units\":\"screen\"},\"id\":\"f54fac5f-6a68-429b-b74d-80edbd665b85\",\"type\":\"BoxAnnotation\"},{\"attributes\":{\"plot\":{\"id\":\"5bf58123-ce4d-4461-bd27-735acf25484b\",\"subtype\":\"Figure\",\"type\":\"Plot\"},\"ticker\":{\"id\":\"0e0c30c5-8cd0-4e3f-a20c-723e1c542999\",\"type\":\"DatetimeTicker\"}},\"id\":\"43b20d97-80ae-4685-9dc2-67b1fb382cc2\",\"type\":\"Grid\"},{\"attributes\":{\"below\":[{\"id\":\"e2ed1fda-b1f6-4da5-9a5e-11d3bef0640f\",\"type\":\"DatetimeAxis\"}],\"left\":[{\"id\":\"22ebea5b-87e9-44a0-ba96-06ab70a832f9\",\"type\":\"LinearAxis\"}],\"renderers\":[{\"id\":\"e2ed1fda-b1f6-4da5-9a5e-11d3bef0640f\",\"type\":\"DatetimeAxis\"},{\"id\":\"75cde429-45c8-49ab-8a74-c8451c700e71\",\"type\":\"Grid\"},{\"id\":\"22ebea5b-87e9-44a0-ba96-06ab70a832f9\",\"type\":\"LinearAxis\"},{\"id\":\"f78aefe8-fb42-4d3a-8f39-c445483acd25\",\"type\":\"Grid\"},{\"id\":\"72b78ef1-5037-4a6c-80c8-d7ca47903a0e\",\"type\":\"BoxAnnotation\"},{\"id\":\"6cde152b-bef6-417e-b768-3f3527e0f368\",\"type\":\"GlyphRenderer\"}],\"tool_events\":{\"id\":\"9a641aa1-ce9c-4813-b940-84a544e3828f\",\"type\":\"ToolEvents\"},\"tools\":[{\"id\":\"65642eb1-bcdb-426e-9236-624762ac5979\",\"type\":\"PanTool\"},{\"id\":\"3f8588f4-a42a-437a-9085-c124f04f9ccc\",\"type\":\"WheelZoomTool\"},{\"id\":\"d107ddce-1300-446b-b225-bb9e8be6f945\",\"type\":\"BoxZoomTool\"},{\"id\":\"9585fcfe-cfb9-47d8-a90e-022e8f0868dd\",\"type\":\"PreviewSaveTool\"},{\"id\":\"35cdacec-039a-4cdd-8dd8-4c8df20fe8c6\",\"type\":\"ResizeTool\"},{\"id\":\"013ae5df-bcb9-47f7-9209-6ca49a92362d\",\"type\":\"ResetTool\"},{\"id\":\"25a96ac8-40ce-48d4-8cfb-12aaa761b162\",\"type\":\"HelpTool\"}],\"webgl\":true,\"x_range\":{\"id\":\"b9f9a640-ce82-48c6-8c38-619f992e8581\",\"type\":\"DataRange1d\"},\"y_range\":{\"id\":\"35a09ba2-d3a9-4418-a296-4e9aaffa31da\",\"type\":\"DataRange1d\"}},\"id\":\"4e94759f-f2df-4a66-acbe-e7b75e4e2b74\",\"subtype\":\"Figure\",\"type\":\"Plot\"},{\"attributes\":{},\"id\":\"3276afa0-9415-4e28-80de-80bca1eb0299\",\"type\":\"BasicTicker\"},{\"attributes\":{\"formatter\":{\"id\":\"2a93f3d4-60c3-4e37-89d1-bc0e1b031686\",\"type\":\"DatetimeTickFormatter\"},\"plot\":{\"id\":\"4e94759f-f2df-4a66-acbe-e7b75e4e2b74\",\"subtype\":\"Figure\",\"type\":\"Plot\"},\"ticker\":{\"id\":\"3f16a4ed-1788-4c2a-bb6e-81123de4131b\",\"type\":\"DatetimeTicker\"}},\"id\":\"e2ed1fda-b1f6-4da5-9a5e-11d3bef0640f\",\"type\":\"DatetimeAxis\"}],\"root_ids\":[\"4e94759f-f2df-4a66-acbe-e7b75e4e2b74\",\"5bf58123-ce4d-4461-bd27-735acf25484b\"]},\"title\":\"Bokeh Application\",\"version\":\"0.11.1\"}};\n",
       "            var render_items = [{\"docid\":\"56557488-e98e-426a-89a0-d0f52a1d2d82\",\"elementid\":\"1a6ccf28-7317-4348-bb67-da7dbaa23a28\",\"modelid\":\"5bf58123-ce4d-4461-bd27-735acf25484b\",\"notebook_comms_target\":\"151a84c5-e697-4550-86c8-fd1fabfacba3\"}];\n",
       "            \n",
       "            Bokeh.embed.embed_items(docs_json, render_items);\n",
       "        });\n",
       "      },\n",
       "      function(Bokeh) {\n",
       "      }\n",
       "    ];\n",
       "  \n",
       "    function run_inline_js() {\n",
       "      for (var i = 0; i < inline_js.length; i++) {\n",
       "        inline_js[i](window.Bokeh);\n",
       "      }\n",
       "    }\n",
       "  \n",
       "    if (window._bokeh_is_loading === 0) {\n",
       "      console.log(\"Bokeh: BokehJS loaded, going straight to plotting\");\n",
       "      run_inline_js();\n",
       "    } else {\n",
       "      load_libs(js_urls, function() {\n",
       "        console.log(\"Bokeh: BokehJS plotting callback run at\", now());\n",
       "        run_inline_js();\n",
       "      });\n",
       "    }\n",
       "  }(this));\n",
       "</script>"
      ]
     },
     "metadata": {},
     "output_type": "display_data"
    },
    {
     "data": {
      "text/html": [
       "<p><code>&lt;Bokeh Notebook handle for <strong>In[4]</strong>&gt;</code></p>"
      ],
      "text/plain": [
       "<bokeh.io._CommsHandle at 0x108c5d160>"
      ]
     },
     "execution_count": 4,
     "metadata": {},
     "output_type": "execute_result"
    }
   ],
   "source": [
    "p2 = figure(webgl=False,x_axis_type=\"datetime\")\n",
    "p2.scatter(x=date_list,y=datapoints)\n",
    "show(p2)"
   ]
  },
  {
   "cell_type": "code",
   "execution_count": null,
   "metadata": {
    "collapsed": true
   },
   "outputs": [],
   "source": []
  }
 ],
 "metadata": {
  "kernelspec": {
   "display_name": "Python 3",
   "language": "python",
   "name": "python3"
  },
  "language_info": {
   "codemirror_mode": {
    "name": "ipython",
    "version": 3
   },
   "file_extension": ".py",
   "mimetype": "text/x-python",
   "name": "python",
   "nbconvert_exporter": "python",
   "pygments_lexer": "ipython3",
   "version": "3.4.4"
  }
 },
 "nbformat": 4,
 "nbformat_minor": 0
}

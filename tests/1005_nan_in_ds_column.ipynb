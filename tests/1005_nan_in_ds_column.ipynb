{
 "cells": [
  {
   "cell_type": "code",
   "execution_count": 8,
   "metadata": {
    "collapsed": false
   },
   "outputs": [
    {
     "name": "stderr",
     "output_type": "stream",
     "text": [
      "ERROR:/opt/miniconda/envs/ipython_bokeh_34/lib/python3.4/site-packages/bokeh/validation/check.py:E-1001 (BAD_COLUMN_NAME): Glyph refers to nonexistent column name: cats, group [renderer: GlyphRenderer, ViewModel:GlyphRenderer, ref _id: 6a8f717a-9f93-4692-b3e4-f64f567536bd]\n",
      "ERROR:/opt/miniconda/envs/ipython_bokeh_34/lib/python3.4/site-packages/bokeh/validation/check.py:E-1004 (REQUIRED_RANGE): A required Range objects missing: x_range, y_range [Plot, ViewModel:Plot, ref _id: d979d8b4-94de-4af9-a546-1c8b2b40ed8d]\n"
     ]
    },
    {
     "name": "stdout",
     "output_type": "stream",
     "text": [
      "Using saved session configuration for http://localhost:5006/\n",
      "To override, pass 'load_from_config=False' to Session\n"
     ]
    },
    {
     "data": {
      "text/plain": [
       "True"
      ]
     },
     "execution_count": 8,
     "metadata": {},
     "output_type": "execute_result"
    }
   ],
   "source": [
    "import webbrowser\n",
    "import pandas as pd\n",
    "\n",
    "from bokeh.document import Document\n",
    "from bokeh.models import Rect, Plot, DataRange1d, ColumnDataSource\n",
    "from bokeh.session import Session\n",
    "\n",
    "document = Document()\n",
    "session = Session()\n",
    "session.use_doc('graph_summary')\n",
    "session.load_document(document)\n",
    "\n",
    "df = pd.DataFrame(columns=[\"x\", \"y\", \"foo\"])\n",
    "df = df.append(pd.DataFrame(dict(x=[1], y=[1])))\n",
    "df = df.append(pd.DataFrame(dict(x=[2], y=[2])))\n",
    "\n",
    "ds = ColumnDataSource(df)\n",
    "\n",
    "xdr = DataRange1d()\n",
    "ydr = DataRange1d()\n",
    "\n",
    "plot = Plot( title=\"Test\", tools=[])\n",
    "\n",
    "rect = Rect(x=\"group\", y=\"cats\", width=0.2, height=0.2)\n",
    "plot.add_glyph(ds, rect)\n",
    "\n",
    "document.add(plot)\n",
    "session.store_document(document)\n",
    "\n",
    "link = session.object_link(plot)\n",
    "webbrowser.open(link)"
   ]
  },
  {
   "cell_type": "code",
   "execution_count": null,
   "metadata": {
    "collapsed": true
   },
   "outputs": [],
   "source": []
  }
 ],
 "metadata": {
  "kernelspec": {
   "display_name": "Python 3",
   "language": "python",
   "name": "python3"
  },
  "language_info": {
   "codemirror_mode": {
    "name": "ipython",
    "version": 3
   },
   "file_extension": ".py",
   "mimetype": "text/x-python",
   "name": "python",
   "nbconvert_exporter": "python",
   "pygments_lexer": "ipython3",
   "version": "3.4.3"
  }
 },
 "nbformat": 4,
 "nbformat_minor": 0
}

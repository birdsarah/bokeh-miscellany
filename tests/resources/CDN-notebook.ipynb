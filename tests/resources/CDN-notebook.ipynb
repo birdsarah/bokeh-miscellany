{
 "cells": [
  {
   "cell_type": "code",
   "execution_count": 1,
   "metadata": {
    "collapsed": false
   },
   "outputs": [
    {
     "data": {
      "text/html": [
       "    \n",
       "        <link rel=\"stylesheet\" href=\"http://cdn.pydata.org/bokeh/release/bokeh-0.9.1.min.css\" type=\"text/css\" />\n",
       "        <script type=\"text/javascript\" src=\"http://cdn.pydata.org/bokeh/release/bokeh-0.9.1.min.js\"></script>\n",
       "        <script type=\"text/javascript\">\n",
       "            Bokeh.set_log_level(\"info\");\n",
       "        </script>\n",
       "    <div>\n",
       "        <a href=\"http://bokeh.pydata.org\" target=\"_blank\" class=\"bk-logo bk-logo-small bk-logo-notebook\"></a>\n",
       "        <span>BokehJS successfully loaded.</span>\n",
       "    </div>"
      ]
     },
     "metadata": {},
     "output_type": "display_data"
    }
   ],
   "source": [
    "from bokeh.resources import CDN\n",
    "from bokeh.io import output_notebook, show\n",
    "output_notebook(resources=CDN)"
   ]
  },
  {
   "cell_type": "code",
   "execution_count": 2,
   "metadata": {
    "collapsed": false
   },
   "outputs": [
    {
     "name": "stderr",
     "output_type": "stream",
     "text": [
      "ERROR:/opt/miniconda/envs/ipython_bokeh_34/lib/python3.4/site-packages/bokeh/validation/check.py:E-1001 (BAD_COLUMN_NAME): Glyph refers to nonexistent column name: LemonChiffon [renderer: GlyphRenderer, ViewModel:GlyphRenderer, ref _id: 76825487-452c-4bc2-9910-bb5fdc9e5f64]\n"
     ]
    },
    {
     "data": {
      "text/html": [
       "<script type=\"text/javascript\">\n",
       "        Bokeh.$(function() {\n",
       "            var all_models = [{\"attributes\": {\"start\": 0, \"id\": \"09b9f467-5fb3-4d45-92ef-d801ba67382c\", \"end\": 3, \"callback\": null, \"tags\": [], \"doc\": null}, \"id\": \"09b9f467-5fb3-4d45-92ef-d801ba67382c\", \"type\": \"Range1d\"}, {\"attributes\": {\"id\": \"c224242a-ef25-4b30-8b48-8eedb75e9e2b\", \"tags\": [], \"plot\": {\"id\": \"8c498138-6131-40f1-a268-a65888cdb000\", \"type\": \"Plot\", \"subtype\": \"Figure\"}, \"doc\": null}, \"id\": \"c224242a-ef25-4b30-8b48-8eedb75e9e2b\", \"type\": \"PreviewSaveTool\"}, {\"attributes\": {\"id\": \"18883ff2-5857-4b4f-b66b-235f02180702\", \"tags\": [], \"plot\": {\"id\": \"8c498138-6131-40f1-a268-a65888cdb000\", \"type\": \"Plot\", \"subtype\": \"Figure\"}, \"doc\": null}, \"id\": \"18883ff2-5857-4b4f-b66b-235f02180702\", \"type\": \"ResetTool\"}, {\"attributes\": {\"id\": \"e756fcb0-75eb-44cd-bd08-3e5a6040db65\", \"dimensions\": [\"width\", \"height\"], \"tags\": [], \"plot\": {\"id\": \"8c498138-6131-40f1-a268-a65888cdb000\", \"type\": \"Plot\", \"subtype\": \"Figure\"}, \"doc\": null}, \"id\": \"e756fcb0-75eb-44cd-bd08-3e5a6040db65\", \"type\": \"BoxZoomTool\"}, {\"attributes\": {\"tags\": [], \"id\": \"812309f3-bb4a-4225-b4c6-2f114009b7b0\", \"num_minor_ticks\": 5, \"mantissas\": [2, 5, 10], \"doc\": null}, \"id\": \"812309f3-bb4a-4225-b4c6-2f114009b7b0\", \"type\": \"BasicTicker\"}, {\"attributes\": {\"geometries\": [], \"tags\": [], \"id\": \"a5251c19-295a-44fd-98de-d7327f867b22\", \"doc\": null}, \"id\": \"a5251c19-295a-44fd-98de-d7327f867b22\", \"type\": \"ToolEvents\"}, {\"attributes\": {\"selected\": {\"0d\": {\"indices\": [], \"flag\": false}, \"1d\": {\"indices\": []}, \"2d\": {\"indices\": []}}, \"id\": \"14656444-f291-4f61-aa6d-8059c356f2a0\", \"callback\": null, \"data\": {\"fill_color\": [\"LemonChiffon\"], \"x\": [1], \"y\": [1]}, \"tags\": [], \"column_names\": [\"x\", \"y\", \"fill_color\"], \"doc\": null}, \"id\": \"14656444-f291-4f61-aa6d-8059c356f2a0\", \"type\": \"ColumnDataSource\"}, {\"attributes\": {\"tool_events\": {\"id\": \"a5251c19-295a-44fd-98de-d7327f867b22\", \"type\": \"ToolEvents\"}, \"tools\": [{\"id\": \"cd79b44d-2647-48f4-a820-cbfdf4af8835\", \"type\": \"PanTool\"}, {\"id\": \"901e72ed-0525-4799-869f-e7931cd451af\", \"type\": \"WheelZoomTool\"}, {\"id\": \"e756fcb0-75eb-44cd-bd08-3e5a6040db65\", \"type\": \"BoxZoomTool\"}, {\"id\": \"c224242a-ef25-4b30-8b48-8eedb75e9e2b\", \"type\": \"PreviewSaveTool\"}, {\"id\": \"858a1242-a4d5-4fcf-b048-0d38135bfb2d\", \"type\": \"ResizeTool\"}, {\"id\": \"18883ff2-5857-4b4f-b66b-235f02180702\", \"type\": \"ResetTool\"}, {\"id\": \"3fa24548-0fc5-4df5-b640-c0527b3865e1\", \"type\": \"HelpTool\"}], \"above\": [], \"right\": [], \"tags\": [], \"below\": [{\"id\": \"a79aea00-e3cf-4986-ad2d-b05297df755c\", \"type\": \"LinearAxis\"}], \"left\": [{\"id\": \"6ab60f37-6f4a-4d36-b233-bbe6e0259557\", \"type\": \"LinearAxis\"}], \"extra_y_ranges\": {}, \"doc\": null, \"y_range\": {\"id\": \"d6611dc6-1aa9-4ad1-b010-1c823b29f7be\", \"type\": \"Range1d\"}, \"id\": \"8c498138-6131-40f1-a268-a65888cdb000\", \"extra_x_ranges\": {}, \"renderers\": [{\"id\": \"a79aea00-e3cf-4986-ad2d-b05297df755c\", \"type\": \"LinearAxis\"}, {\"id\": \"a6c6cf70-6172-48a9-89d9-0fd7b6c515ef\", \"type\": \"Grid\"}, {\"id\": \"6ab60f37-6f4a-4d36-b233-bbe6e0259557\", \"type\": \"LinearAxis\"}, {\"id\": \"ecfbb238-2e62-4343-aeb2-6d873cdb59a7\", \"type\": \"Grid\"}, {\"id\": \"41863963-ba51-4b8d-bd47-a4d2c3a68899\", \"type\": \"GlyphRenderer\"}, {\"id\": \"45068656-0f16-47e4-bb6d-31bf2dcc0250\", \"type\": \"GlyphRenderer\"}, {\"id\": \"76825487-452c-4bc2-9910-bb5fdc9e5f64\", \"type\": \"GlyphRenderer\"}, {\"id\": \"dcb8a260-ffe1-42b7-b356-c2d6eabb2c93\", \"type\": \"GlyphRenderer\"}, {\"id\": \"7d17a338-6efa-4946-9247-72de08f76dc7\", \"type\": \"GlyphRenderer\"}, {\"id\": \"0d991f28-afd7-4c68-8012-48ef6280bc8c\", \"type\": \"GlyphRenderer\"}], \"x_range\": {\"id\": \"09b9f467-5fb3-4d45-92ef-d801ba67382c\", \"type\": \"Range1d\"}}, \"id\": \"8c498138-6131-40f1-a268-a65888cdb000\", \"type\": \"Plot\", \"subtype\": \"Figure\"}, {\"attributes\": {\"fill_color\": {\"field\": \"fill_color\"}, \"y\": {\"field\": \"y\"}, \"tags\": [], \"id\": \"5c832549-e7ac-4f60-9c92-16ea6387946c\", \"doc\": null, \"line_color\": {\"value\": \"#1f77b4\"}, \"line_alpha\": {\"value\": 1.0}, \"radius\": {\"units\": \"data\", \"value\": 0.2}, \"fill_alpha\": {\"value\": 1.0}, \"x\": {\"field\": \"x\"}}, \"id\": \"5c832549-e7ac-4f60-9c92-16ea6387946c\", \"type\": \"Circle\"}, {\"attributes\": {\"ticker\": {\"id\": \"61f88832-c069-4e0a-ad87-f582e5d2ef45\", \"type\": \"BasicTicker\"}, \"id\": \"a79aea00-e3cf-4986-ad2d-b05297df755c\", \"tags\": [], \"formatter\": {\"id\": \"76ca3216-59bf-4b64-8083-d9461cb12e2a\", \"type\": \"BasicTickFormatter\"}, \"plot\": {\"id\": \"8c498138-6131-40f1-a268-a65888cdb000\", \"type\": \"Plot\", \"subtype\": \"Figure\"}, \"doc\": null}, \"id\": \"a79aea00-e3cf-4986-ad2d-b05297df755c\", \"type\": \"LinearAxis\"}, {\"attributes\": {\"selected\": {\"0d\": {\"indices\": [], \"flag\": false}, \"1d\": {\"indices\": []}, \"2d\": {\"indices\": []}}, \"id\": \"f3e9a747-cbdf-4ee2-8c49-5cf8eca93c6d\", \"callback\": null, \"data\": {\"fill_color\": [\"lemonchiffon\"], \"x\": [2], \"y\": [1]}, \"tags\": [], \"column_names\": [\"x\", \"y\", \"fill_color\"], \"doc\": null}, \"id\": \"f3e9a747-cbdf-4ee2-8c49-5cf8eca93c6d\", \"type\": \"ColumnDataSource\"}, {\"attributes\": {\"fill_color\": {\"value\": \"#1f77b4\"}, \"y\": {\"field\": \"y\"}, \"tags\": [], \"id\": \"12bf9063-b0a9-4130-aaa7-ffeac011a999\", \"doc\": null, \"line_color\": {\"value\": \"#1f77b4\"}, \"line_alpha\": {\"value\": 0.1}, \"radius\": {\"units\": \"data\", \"value\": 0.2}, \"fill_alpha\": {\"value\": 0.1}, \"x\": {\"field\": \"x\"}}, \"id\": \"12bf9063-b0a9-4130-aaa7-ffeac011a999\", \"type\": \"Circle\"}, {\"attributes\": {\"start\": 0, \"id\": \"d6611dc6-1aa9-4ad1-b010-1c823b29f7be\", \"end\": 4, \"callback\": null, \"tags\": [], \"doc\": null}, \"id\": \"d6611dc6-1aa9-4ad1-b010-1c823b29f7be\", \"type\": \"Range1d\"}, {\"attributes\": {\"ticker\": {\"id\": \"61f88832-c069-4e0a-ad87-f582e5d2ef45\", \"type\": \"BasicTicker\"}, \"tags\": [], \"id\": \"a6c6cf70-6172-48a9-89d9-0fd7b6c515ef\", \"dimension\": 0, \"plot\": {\"id\": \"8c498138-6131-40f1-a268-a65888cdb000\", \"type\": \"Plot\", \"subtype\": \"Figure\"}, \"doc\": null}, \"id\": \"a6c6cf70-6172-48a9-89d9-0fd7b6c515ef\", \"type\": \"Grid\"}, {\"attributes\": {\"selected\": {\"0d\": {\"indices\": [], \"flag\": false}, \"1d\": {\"indices\": []}, \"2d\": {\"indices\": []}}, \"id\": \"8604cc59-f3e7-4c99-9888-88c7ba05e4aa\", \"callback\": null, \"data\": {\"fill_color\": [\"value\"], \"x\": [2], \"y\": [3]}, \"tags\": [], \"column_names\": [\"x\", \"y\", \"fill_color\"], \"doc\": null}, \"id\": \"8604cc59-f3e7-4c99-9888-88c7ba05e4aa\", \"type\": \"ColumnDataSource\"}, {\"attributes\": {\"id\": \"0d991f28-afd7-4c68-8012-48ef6280bc8c\", \"nonselection_glyph\": {\"id\": \"158115e4-1a28-416d-a42e-07faa21f8ca3\", \"type\": \"Circle\"}, \"tags\": [], \"glyph\": {\"id\": \"5661f420-04be-4d3b-bd82-f3b3f2f61f05\", \"type\": \"Circle\"}, \"data_source\": {\"id\": \"8604cc59-f3e7-4c99-9888-88c7ba05e4aa\", \"type\": \"ColumnDataSource\"}, \"selection_glyph\": null, \"doc\": null}, \"id\": \"0d991f28-afd7-4c68-8012-48ef6280bc8c\", \"type\": \"GlyphRenderer\"}, {\"attributes\": {\"id\": \"cd79b44d-2647-48f4-a820-cbfdf4af8835\", \"dimensions\": [\"width\", \"height\"], \"tags\": [], \"plot\": {\"id\": \"8c498138-6131-40f1-a268-a65888cdb000\", \"type\": \"Plot\", \"subtype\": \"Figure\"}, \"doc\": null}, \"id\": \"cd79b44d-2647-48f4-a820-cbfdf4af8835\", \"type\": \"PanTool\"}, {\"attributes\": {\"id\": \"76825487-452c-4bc2-9910-bb5fdc9e5f64\", \"nonselection_glyph\": {\"id\": \"df3afe53-2cb9-45c2-9adf-73328ea4aa40\", \"type\": \"Circle\"}, \"tags\": [], \"glyph\": {\"id\": \"f9846716-1856-438c-8a44-e39dc78bfe52\", \"type\": \"Circle\"}, \"data_source\": {\"id\": \"6d5e937c-2da9-420d-9bc5-ba1d4303547f\", \"type\": \"ColumnDataSource\"}, \"selection_glyph\": null, \"doc\": null}, \"id\": \"76825487-452c-4bc2-9910-bb5fdc9e5f64\", \"type\": \"GlyphRenderer\"}, {\"attributes\": {\"id\": \"3fa24548-0fc5-4df5-b640-c0527b3865e1\", \"tags\": [], \"plot\": {\"id\": \"8c498138-6131-40f1-a268-a65888cdb000\", \"type\": \"Plot\", \"subtype\": \"Figure\"}, \"doc\": null}, \"id\": \"3fa24548-0fc5-4df5-b640-c0527b3865e1\", \"type\": \"HelpTool\"}, {\"attributes\": {\"id\": \"41863963-ba51-4b8d-bd47-a4d2c3a68899\", \"nonselection_glyph\": {\"id\": \"df196637-f240-4d99-9538-f1af11edd4f1\", \"type\": \"Circle\"}, \"tags\": [], \"glyph\": {\"id\": \"5c832549-e7ac-4f60-9c92-16ea6387946c\", \"type\": \"Circle\"}, \"data_source\": {\"id\": \"14656444-f291-4f61-aa6d-8059c356f2a0\", \"type\": \"ColumnDataSource\"}, \"selection_glyph\": null, \"doc\": null}, \"id\": \"41863963-ba51-4b8d-bd47-a4d2c3a68899\", \"type\": \"GlyphRenderer\"}, {\"attributes\": {\"fill_color\": {\"field\": \"fill_color\"}, \"y\": {\"field\": \"y\"}, \"tags\": [], \"id\": \"b8dbafcd-fa99-489d-8ad7-2b8500a97198\", \"doc\": null, \"line_color\": {\"value\": \"#1f77b4\"}, \"line_alpha\": {\"value\": 1.0}, \"radius\": {\"units\": \"data\", \"value\": 0.2}, \"fill_alpha\": {\"value\": 1.0}, \"x\": {\"field\": \"x\"}}, \"id\": \"b8dbafcd-fa99-489d-8ad7-2b8500a97198\", \"type\": \"Circle\"}, {\"attributes\": {\"fill_color\": {\"value\": \"#1f77b4\"}, \"y\": {\"field\": \"y\"}, \"tags\": [], \"id\": \"a1035770-3d9e-4034-abaa-34895249f3de\", \"doc\": null, \"line_color\": {\"value\": \"#1f77b4\"}, \"line_alpha\": {\"value\": 0.1}, \"radius\": {\"units\": \"data\", \"value\": 0.2}, \"fill_alpha\": {\"value\": 0.1}, \"x\": {\"field\": \"x\"}}, \"id\": \"a1035770-3d9e-4034-abaa-34895249f3de\", \"type\": \"Circle\"}, {\"attributes\": {\"ticker\": {\"id\": \"812309f3-bb4a-4225-b4c6-2f114009b7b0\", \"type\": \"BasicTicker\"}, \"id\": \"6ab60f37-6f4a-4d36-b233-bbe6e0259557\", \"tags\": [], \"formatter\": {\"id\": \"e9919f7f-10f8-46bd-9f3d-b46a2d48ddf4\", \"type\": \"BasicTickFormatter\"}, \"plot\": {\"id\": \"8c498138-6131-40f1-a268-a65888cdb000\", \"type\": \"Plot\", \"subtype\": \"Figure\"}, \"doc\": null}, \"id\": \"6ab60f37-6f4a-4d36-b233-bbe6e0259557\", \"type\": \"LinearAxis\"}, {\"attributes\": {\"fill_color\": {\"value\": \"#1f77b4\"}, \"y\": {\"field\": \"y\"}, \"tags\": [], \"id\": \"df196637-f240-4d99-9538-f1af11edd4f1\", \"doc\": null, \"line_color\": {\"value\": \"#1f77b4\"}, \"line_alpha\": {\"value\": 0.1}, \"radius\": {\"units\": \"data\", \"value\": 0.2}, \"fill_alpha\": {\"value\": 0.1}, \"x\": {\"field\": \"x\"}}, \"id\": \"df196637-f240-4d99-9538-f1af11edd4f1\", \"type\": \"Circle\"}, {\"attributes\": {\"selected\": {\"0d\": {\"indices\": [], \"flag\": false}, \"1d\": {\"indices\": []}, \"2d\": {\"indices\": []}}, \"id\": \"6c4c25b5-a83f-427f-b17c-72e8df790a99\", \"callback\": null, \"data\": {\"fill_color\": [\"value\"], \"x\": [1], \"y\": [3]}, \"tags\": [], \"column_names\": [\"x\", \"y\", \"fill_color\"], \"doc\": null}, \"id\": \"6c4c25b5-a83f-427f-b17c-72e8df790a99\", \"type\": \"ColumnDataSource\"}, {\"attributes\": {\"fill_color\": {\"value\": \"#1f77b4\"}, \"y\": {\"field\": \"y\"}, \"tags\": [], \"id\": \"df3afe53-2cb9-45c2-9adf-73328ea4aa40\", \"doc\": null, \"line_color\": {\"value\": \"#1f77b4\"}, \"line_alpha\": {\"value\": 0.1}, \"radius\": {\"units\": \"data\", \"value\": 0.2}, \"fill_alpha\": {\"value\": 0.1}, \"x\": {\"field\": \"x\"}}, \"id\": \"df3afe53-2cb9-45c2-9adf-73328ea4aa40\", \"type\": \"Circle\"}, {\"attributes\": {\"fill_color\": {\"field\": \"fill_color\"}, \"y\": {\"field\": \"y\"}, \"tags\": [], \"id\": \"5661f420-04be-4d3b-bd82-f3b3f2f61f05\", \"doc\": null, \"line_color\": {\"value\": \"#1f77b4\"}, \"line_alpha\": {\"value\": 1.0}, \"radius\": {\"units\": \"data\", \"value\": 0.2}, \"fill_alpha\": {\"value\": 1.0}, \"x\": {\"field\": \"x\"}}, \"id\": \"5661f420-04be-4d3b-bd82-f3b3f2f61f05\", \"type\": \"Circle\"}, {\"attributes\": {\"id\": \"45068656-0f16-47e4-bb6d-31bf2dcc0250\", \"nonselection_glyph\": {\"id\": \"12bf9063-b0a9-4130-aaa7-ffeac011a999\", \"type\": \"Circle\"}, \"tags\": [], \"glyph\": {\"id\": \"b8dbafcd-fa99-489d-8ad7-2b8500a97198\", \"type\": \"Circle\"}, \"data_source\": {\"id\": \"f3e9a747-cbdf-4ee2-8c49-5cf8eca93c6d\", \"type\": \"ColumnDataSource\"}, \"selection_glyph\": null, \"doc\": null}, \"id\": \"45068656-0f16-47e4-bb6d-31bf2dcc0250\", \"type\": \"GlyphRenderer\"}, {\"attributes\": {\"fill_color\": {\"value\": \"#1f77b4\"}, \"y\": {\"field\": \"y\"}, \"tags\": [], \"id\": \"eaf66556-380d-4d79-b086-5ce3d7bb70cf\", \"doc\": null, \"line_color\": {\"value\": \"#1f77b4\"}, \"line_alpha\": {\"value\": 0.1}, \"radius\": {\"units\": \"data\", \"value\": 0.2}, \"fill_alpha\": {\"value\": 0.1}, \"x\": {\"field\": \"x\"}}, \"id\": \"eaf66556-380d-4d79-b086-5ce3d7bb70cf\", \"type\": \"Circle\"}, {\"attributes\": {\"fill_color\": {\"value\": \"lemonchiffon\"}, \"y\": {\"field\": \"y\"}, \"tags\": [], \"id\": \"1479a7ca-0a53-4229-9baf-283d7f203f7a\", \"doc\": null, \"line_color\": {\"value\": \"#1f77b4\"}, \"line_alpha\": {\"value\": 1.0}, \"radius\": {\"units\": \"data\", \"value\": 0.2}, \"fill_alpha\": {\"value\": 1.0}, \"x\": {\"field\": \"x\"}}, \"id\": \"1479a7ca-0a53-4229-9baf-283d7f203f7a\", \"type\": \"Circle\"}, {\"attributes\": {\"fill_color\": {\"field\": \"fill_color\"}, \"y\": {\"field\": \"y\"}, \"tags\": [], \"id\": \"eadabbe5-4f35-424a-b617-fa6a7f085a59\", \"doc\": null, \"line_color\": {\"value\": \"#1f77b4\"}, \"line_alpha\": {\"value\": 1.0}, \"radius\": {\"units\": \"data\", \"value\": 0.2}, \"fill_alpha\": {\"value\": 1.0}, \"x\": {\"field\": \"x\"}}, \"id\": \"eadabbe5-4f35-424a-b617-fa6a7f085a59\", \"type\": \"Circle\"}, {\"attributes\": {\"tags\": [], \"id\": \"61f88832-c069-4e0a-ad87-f582e5d2ef45\", \"num_minor_ticks\": 5, \"mantissas\": [2, 5, 10], \"doc\": null}, \"id\": \"61f88832-c069-4e0a-ad87-f582e5d2ef45\", \"type\": \"BasicTicker\"}, {\"attributes\": {\"fill_color\": {\"field\": \"LemonChiffon\"}, \"y\": {\"field\": \"y\"}, \"tags\": [], \"id\": \"f9846716-1856-438c-8a44-e39dc78bfe52\", \"doc\": null, \"line_color\": {\"value\": \"#1f77b4\"}, \"line_alpha\": {\"value\": 1.0}, \"radius\": {\"units\": \"data\", \"value\": 0.2}, \"fill_alpha\": {\"value\": 1.0}, \"x\": {\"field\": \"x\"}}, \"id\": \"f9846716-1856-438c-8a44-e39dc78bfe52\", \"type\": \"Circle\"}, {\"attributes\": {\"id\": \"858a1242-a4d5-4fcf-b048-0d38135bfb2d\", \"tags\": [], \"plot\": {\"id\": \"8c498138-6131-40f1-a268-a65888cdb000\", \"type\": \"Plot\", \"subtype\": \"Figure\"}, \"doc\": null}, \"id\": \"858a1242-a4d5-4fcf-b048-0d38135bfb2d\", \"type\": \"ResizeTool\"}, {\"attributes\": {\"ticker\": {\"id\": \"812309f3-bb4a-4225-b4c6-2f114009b7b0\", \"type\": \"BasicTicker\"}, \"tags\": [], \"id\": \"ecfbb238-2e62-4343-aeb2-6d873cdb59a7\", \"dimension\": 1, \"plot\": {\"id\": \"8c498138-6131-40f1-a268-a65888cdb000\", \"type\": \"Plot\", \"subtype\": \"Figure\"}, \"doc\": null}, \"id\": \"ecfbb238-2e62-4343-aeb2-6d873cdb59a7\", \"type\": \"Grid\"}, {\"attributes\": {\"tags\": [], \"id\": \"76ca3216-59bf-4b64-8083-d9461cb12e2a\", \"doc\": null}, \"id\": \"76ca3216-59bf-4b64-8083-d9461cb12e2a\", \"type\": \"BasicTickFormatter\"}, {\"attributes\": {\"selected\": {\"0d\": {\"indices\": [], \"flag\": false}, \"1d\": {\"indices\": []}, \"2d\": {\"indices\": []}}, \"id\": \"b092d039-5e6f-4dc9-aa80-5c131a10caf6\", \"callback\": null, \"data\": {\"x\": [2], \"y\": [2]}, \"tags\": [], \"column_names\": [\"x\", \"y\"], \"doc\": null}, \"id\": \"b092d039-5e6f-4dc9-aa80-5c131a10caf6\", \"type\": \"ColumnDataSource\"}, {\"attributes\": {\"fill_color\": {\"value\": \"#1f77b4\"}, \"y\": {\"field\": \"y\"}, \"tags\": [], \"id\": \"158115e4-1a28-416d-a42e-07faa21f8ca3\", \"doc\": null, \"line_color\": {\"value\": \"#1f77b4\"}, \"line_alpha\": {\"value\": 0.1}, \"radius\": {\"units\": \"data\", \"value\": 0.2}, \"fill_alpha\": {\"value\": 0.1}, \"x\": {\"field\": \"x\"}}, \"id\": \"158115e4-1a28-416d-a42e-07faa21f8ca3\", \"type\": \"Circle\"}, {\"attributes\": {\"id\": \"7d17a338-6efa-4946-9247-72de08f76dc7\", \"nonselection_glyph\": {\"id\": \"eaf66556-380d-4d79-b086-5ce3d7bb70cf\", \"type\": \"Circle\"}, \"tags\": [], \"glyph\": {\"id\": \"eadabbe5-4f35-424a-b617-fa6a7f085a59\", \"type\": \"Circle\"}, \"data_source\": {\"id\": \"6c4c25b5-a83f-427f-b17c-72e8df790a99\", \"type\": \"ColumnDataSource\"}, \"selection_glyph\": null, \"doc\": null}, \"id\": \"7d17a338-6efa-4946-9247-72de08f76dc7\", \"type\": \"GlyphRenderer\"}, {\"attributes\": {\"id\": \"dcb8a260-ffe1-42b7-b356-c2d6eabb2c93\", \"nonselection_glyph\": {\"id\": \"a1035770-3d9e-4034-abaa-34895249f3de\", \"type\": \"Circle\"}, \"tags\": [], \"glyph\": {\"id\": \"1479a7ca-0a53-4229-9baf-283d7f203f7a\", \"type\": \"Circle\"}, \"data_source\": {\"id\": \"b092d039-5e6f-4dc9-aa80-5c131a10caf6\", \"type\": \"ColumnDataSource\"}, \"selection_glyph\": null, \"doc\": null}, \"id\": \"dcb8a260-ffe1-42b7-b356-c2d6eabb2c93\", \"type\": \"GlyphRenderer\"}, {\"attributes\": {\"id\": \"901e72ed-0525-4799-869f-e7931cd451af\", \"dimensions\": [\"width\", \"height\"], \"tags\": [], \"plot\": {\"id\": \"8c498138-6131-40f1-a268-a65888cdb000\", \"type\": \"Plot\", \"subtype\": \"Figure\"}, \"doc\": null}, \"id\": \"901e72ed-0525-4799-869f-e7931cd451af\", \"type\": \"WheelZoomTool\"}, {\"attributes\": {\"selected\": {\"0d\": {\"indices\": [], \"flag\": false}, \"1d\": {\"indices\": []}, \"2d\": {\"indices\": []}}, \"id\": \"6d5e937c-2da9-420d-9bc5-ba1d4303547f\", \"callback\": null, \"data\": {\"x\": [1], \"y\": [2]}, \"tags\": [], \"column_names\": [\"x\", \"y\"], \"doc\": null}, \"id\": \"6d5e937c-2da9-420d-9bc5-ba1d4303547f\", \"type\": \"ColumnDataSource\"}, {\"attributes\": {\"tags\": [], \"id\": \"e9919f7f-10f8-46bd-9f3d-b46a2d48ddf4\", \"doc\": null}, \"id\": \"e9919f7f-10f8-46bd-9f3d-b46a2d48ddf4\", \"type\": \"BasicTickFormatter\"}];\n",
       "            Bokeh.load_models(all_models);\n",
       "            var plots = [{'elementid': '#55665532-4c6a-4664-860a-78e32b228b8f', 'modeltype': 'Plot', 'modelid': '8c498138-6131-40f1-a268-a65888cdb000'}];\n",
       "            for (idx in plots) {\n",
       "            \tvar plot = plots[idx];\n",
       "            \tvar model = Bokeh.Collections(plot.modeltype).get(plot.modelid);\n",
       "            \tBokeh.logger.info('Realizing plot:')\n",
       "            \tBokeh.logger.info(' - modeltype: ' + plot.modeltype);\n",
       "            \tBokeh.logger.info(' - modelid: ' + plot.modelid);\n",
       "            \tBokeh.logger.info(' - elementid: ' + plot.elementid);\n",
       "            \tvar view = new model.default_view({\n",
       "            \t\tmodel: model,\n",
       "            \t\tel: plot.elementid\n",
       "            \t});\n",
       "            \tBokeh.index[plot.modelid] = view;\n",
       "            }\n",
       "        });\n",
       "    </script>\n",
       "<div class=\"plotdiv\" id=\"55665532-4c6a-4664-860a-78e32b228b8f\"></div>\n",
       "\n"
      ]
     },
     "metadata": {},
     "output_type": "display_data"
    }
   ],
   "source": [
    "from bokeh.plotting import figure\n",
    "from bokeh.properties import value\n",
    "\n",
    "f = figure(x_range=(0,3), y_range=(0,4))\n",
    "f.circle([1], [1], radius=0.2, fill_color=[\"LemonChiffon\"])  # Works\n",
    "f.circle([2], [1], radius=0.2, fill_color=[\"lemonchiffon\"])  # Works\n",
    "\n",
    "f.circle([1], [2], radius=0.2, fill_color=\"LemonChiffon\")  # Does not work\n",
    "f.circle([2], [2], radius=0.2, fill_color=\"lemonchiffon\")  # Works\n",
    "\n",
    "f.circle([1], [3], radius=0.2, fill_color=value(\"LemonChiffon\"))  # Does not work\n",
    "f.circle([2], [3], radius=0.2, fill_color=value(\"lemonchiffon\"))  # Does not work\n",
    "\n",
    "show(f)"
   ]
  },
  {
   "cell_type": "code",
   "execution_count": null,
   "metadata": {
    "collapsed": true
   },
   "outputs": [],
   "source": []
  }
 ],
 "metadata": {
  "kernelspec": {
   "display_name": "Python 3",
   "language": "python",
   "name": "python3"
  },
  "language_info": {
   "codemirror_mode": {
    "name": "ipython",
    "version": 3
   },
   "file_extension": ".py",
   "mimetype": "text/x-python",
   "name": "python",
   "nbconvert_exporter": "python",
   "pygments_lexer": "ipython3",
   "version": "3.4.3"
  }
 },
 "nbformat": 4,
 "nbformat_minor": 0
}

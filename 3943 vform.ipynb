{
 "cells": [
  {
   "cell_type": "code",
   "execution_count": 1,
   "metadata": {
    "collapsed": false
   },
   "outputs": [
    {
     "data": {
      "text/html": [
       "\n",
       "    <div class=\"bk-banner\">\n",
       "        <a href=\"http://bokeh.pydata.org\" target=\"_blank\" class=\"bk-logo bk-logo-small bk-logo-notebook\"></a>\n",
       "        <span id=\"03aa35b4-84fd-496e-bab2-e3908fc1a35e\">Loading BokehJS ...</span>\n",
       "    </div>\n",
       "    <p style=\"background-color: #f2d7dc;\">Warning: Requesting CDN BokehJS version '0.12.0dev1' from Bokeh development version '0.12.0dev1-235-g6837e90'. This configuration is unsupported and may not work!</p>"
      ]
     },
     "metadata": {},
     "output_type": "display_data"
    },
    {
     "data": {
      "application/javascript": [
       "\n",
       "(function(global) {\n",
       "  function now() {\n",
       "    return new Date();\n",
       "  }\n",
       "\n",
       "  if (typeof (window._bokeh_onload_callbacks) === \"undefined\") {\n",
       "    window._bokeh_onload_callbacks = [];\n",
       "  }\n",
       "\n",
       "  function run_callbacks() {\n",
       "    window._bokeh_onload_callbacks.forEach(function(callback) { callback() });\n",
       "    delete window._bokeh_onload_callbacks\n",
       "    console.info(\"Bokeh: all callbacks have finished\");\n",
       "  }\n",
       "\n",
       "  function load_libs(js_urls, callback) {\n",
       "    window._bokeh_onload_callbacks.push(callback);\n",
       "    if (window._bokeh_is_loading > 0) {\n",
       "      console.log(\"Bokeh: BokehJS is being loaded, scheduling callback at\", now());\n",
       "      return null;\n",
       "    }\n",
       "    if (js_urls == null || js_urls.length === 0) {\n",
       "      run_callbacks();\n",
       "      return null;\n",
       "    }\n",
       "    console.log(\"Bokeh: BokehJS not loaded, scheduling load and callback at\", now());\n",
       "    window._bokeh_is_loading = js_urls.length;\n",
       "    for (var i = 0; i < js_urls.length; i++) {\n",
       "      var url = js_urls[i];\n",
       "      var s = document.createElement('script');\n",
       "      s.src = url;\n",
       "      s.async = false;\n",
       "      s.onreadystatechange = s.onload = function() {\n",
       "        window._bokeh_is_loading--;\n",
       "        if (window._bokeh_is_loading === 0) {\n",
       "          console.log(\"Bokeh: all BokehJS libraries loaded\");\n",
       "          run_callbacks()\n",
       "        }\n",
       "      };\n",
       "      s.onerror = function() {\n",
       "        console.warn(\"failed to load library \" + url);\n",
       "      };\n",
       "      console.log(\"Bokeh: injecting script tag for BokehJS library: \", url);\n",
       "      document.getElementsByTagName(\"head\")[0].appendChild(s);\n",
       "    }\n",
       "  };\n",
       "\n",
       "  var js_urls = ['https://cdn.pydata.org/bokeh/dev/bokeh-0.12.0dev1.min.js', 'https://cdn.pydata.org/bokeh/dev/bokeh-widgets-0.12.0dev1.min.js', 'https://cdn.pydata.org/bokeh/dev/bokeh-compiler-0.12.0dev1.min.js'];\n",
       "\n",
       "  var inline_js = [\n",
       "    function(Bokeh) {\n",
       "      Bokeh.set_log_level(\"info\");\n",
       "    },\n",
       "    \n",
       "    function(Bokeh) {\n",
       "      Bokeh.$(\"#03aa35b4-84fd-496e-bab2-e3908fc1a35e\").text(\"BokehJS successfully loaded\");\n",
       "    },\n",
       "    function(Bokeh) {\n",
       "      console.log(\"Bokeh: injecting CSS: https://cdn.pydata.org/bokeh/dev/bokeh-0.12.0dev1.min.css\");\n",
       "      Bokeh.embed.inject_css(\"https://cdn.pydata.org/bokeh/dev/bokeh-0.12.0dev1.min.css\");\n",
       "      console.log(\"Bokeh: injecting CSS: https://cdn.pydata.org/bokeh/dev/bokeh-widgets-0.12.0dev1.min.css\");\n",
       "      Bokeh.embed.inject_css(\"https://cdn.pydata.org/bokeh/dev/bokeh-widgets-0.12.0dev1.min.css\");\n",
       "    }\n",
       "  ];\n",
       "\n",
       "  function run_inline_js() {\n",
       "    for (var i = 0; i < inline_js.length; i++) {\n",
       "      inline_js[i](window.Bokeh);\n",
       "    }\n",
       "  }\n",
       "\n",
       "  if (window._bokeh_is_loading === 0) {\n",
       "    console.log(\"Bokeh: BokehJS loaded, going straight to plotting\");\n",
       "    run_inline_js();\n",
       "  } else {\n",
       "    load_libs(js_urls, function() {\n",
       "      console.log(\"Bokeh: BokehJS plotting callback run at\", now());\n",
       "      run_inline_js();\n",
       "    });\n",
       "  }\n",
       "}(this));"
      ]
     },
     "metadata": {},
     "output_type": "display_data"
    }
   ],
   "source": [
    "from bokeh.models import Button\n",
    "from bokeh.plotting import figure, gridplot\n",
    "from bokeh.io import vform, output_notebook, show\n",
    "\n",
    "output_notebook()"
   ]
  },
  {
   "cell_type": "code",
   "execution_count": 2,
   "metadata": {
    "collapsed": false
   },
   "outputs": [
    {
     "data": {
      "text/html": [
       "\n",
       "\n",
       "    <div class=\"plotdiv bk-plot\" id=\"e57b8da6-2439-4cf3-b7a0-6e21a94943c9\"></div>\n",
       "<script type=\"text/javascript\">\n",
       "  \n",
       "  (function(global) {\n",
       "    function now() {\n",
       "      return new Date();\n",
       "    }\n",
       "  \n",
       "    if (typeof (window._bokeh_onload_callbacks) === \"undefined\") {\n",
       "      window._bokeh_onload_callbacks = [];\n",
       "    }\n",
       "  \n",
       "    function run_callbacks() {\n",
       "      window._bokeh_onload_callbacks.forEach(function(callback) { callback() });\n",
       "      delete window._bokeh_onload_callbacks\n",
       "      console.info(\"Bokeh: all callbacks have finished\");\n",
       "    }\n",
       "  \n",
       "    function load_libs(js_urls, callback) {\n",
       "      window._bokeh_onload_callbacks.push(callback);\n",
       "      if (window._bokeh_is_loading > 0) {\n",
       "        console.log(\"Bokeh: BokehJS is being loaded, scheduling callback at\", now());\n",
       "        return null;\n",
       "      }\n",
       "      if (js_urls == null || js_urls.length === 0) {\n",
       "        run_callbacks();\n",
       "        return null;\n",
       "      }\n",
       "      console.log(\"Bokeh: BokehJS not loaded, scheduling load and callback at\", now());\n",
       "      window._bokeh_is_loading = js_urls.length;\n",
       "      for (var i = 0; i < js_urls.length; i++) {\n",
       "        var url = js_urls[i];\n",
       "        var s = document.createElement('script');\n",
       "        s.src = url;\n",
       "        s.async = false;\n",
       "        s.onreadystatechange = s.onload = function() {\n",
       "          window._bokeh_is_loading--;\n",
       "          if (window._bokeh_is_loading === 0) {\n",
       "            console.log(\"Bokeh: all BokehJS libraries loaded\");\n",
       "            run_callbacks()\n",
       "          }\n",
       "        };\n",
       "        s.onerror = function() {\n",
       "          console.warn(\"failed to load library \" + url);\n",
       "        };\n",
       "        console.log(\"Bokeh: injecting script tag for BokehJS library: \", url);\n",
       "        document.getElementsByTagName(\"head\")[0].appendChild(s);\n",
       "      }\n",
       "    };var element = document.getElementById(\"e57b8da6-2439-4cf3-b7a0-6e21a94943c9\");\n",
       "    if (element == null) {\n",
       "      console.log(\"Bokeh: ERROR: autoload.js configured with elementid 'e57b8da6-2439-4cf3-b7a0-6e21a94943c9' but no matching script tag was found. \")\n",
       "      return false;\n",
       "    }\n",
       "  \n",
       "    var js_urls = [];\n",
       "  \n",
       "    var inline_js = [\n",
       "      function(Bokeh) {\n",
       "        Bokeh.$(function() {\n",
       "            var docs_json = {\"4dd3793f-9ac8-4a73-980c-3f3974d069b4\":{\"roots\":{\"references\":[{\"attributes\":{\"fill_color\":{\"value\":\"#1f77b4\"},\"line_color\":{\"value\":\"#1f77b4\"},\"x\":{\"field\":\"x\"},\"y\":{\"field\":\"y\"}},\"id\":\"46170002-b548-43b2-ba01-4d4a90263a14\",\"type\":\"Circle\"},{\"attributes\":{\"fill_alpha\":{\"value\":0.1},\"fill_color\":{\"value\":\"#1f77b4\"},\"line_alpha\":{\"value\":0.1},\"line_color\":{\"value\":\"#1f77b4\"},\"x\":{\"field\":\"x\"},\"y\":{\"field\":\"y\"}},\"id\":\"4e0ca3d6-4cc5-461b-b755-c149d97ca490\",\"type\":\"Circle\"},{\"attributes\":{\"callback\":null,\"column_names\":[\"x\",\"y\"],\"data\":{\"x\":[0,1,3,4],\"y\":[10,4,1,5]}},\"id\":\"d0933ec3-117a-4f4c-91e7-89919a45665d\",\"type\":\"ColumnDataSource\"},{\"attributes\":{},\"id\":\"5aa1ccbc-b111-4349-951a-93eda247fc2c\",\"type\":\"BasicTickFormatter\"},{\"attributes\":{\"plot\":{\"id\":\"e6947bba-30ed-469b-87f3-5d20914cb350\",\"subtype\":\"Figure\",\"type\":\"Plot\"},\"ticker\":{\"id\":\"5b7495e4-2a28-458c-acaf-0b2ca4c84753\",\"type\":\"BasicTicker\"}},\"id\":\"8b67989e-41c6-4642-9e29-3e62f1b621b1\",\"type\":\"Grid\"},{\"attributes\":{},\"id\":\"32f10a67-db14-456e-b3d3-742286a3f46c\",\"type\":\"BasicTicker\"},{\"attributes\":{},\"id\":\"f18a45cc-d5ed-40f5-9bee-75dc0f444905\",\"type\":\"ToolEvents\"},{\"attributes\":{\"callback\":null},\"id\":\"6602d0bc-4913-4799-929b-227ae88171c3\",\"type\":\"DataRange1d\"},{\"attributes\":{\"children\":[{\"id\":\"a963c461-b920-4797-80b8-76f379cdf57d\",\"type\":\"Button\"},{\"id\":\"6652a3a8-6da8-40b1-a04b-de3cbd3b7a7f\",\"type\":\"GridPlot\"}]},\"id\":\"cc3066c6-555c-4e0c-abe4-cd83aa14b4dc\",\"type\":\"VBoxForm\"},{\"attributes\":{\"callback\":null},\"id\":\"92549288-44a6-473e-bfa5-410659171da2\",\"type\":\"DataRange1d\"},{\"attributes\":{\"formatter\":{\"id\":\"5aa1ccbc-b111-4349-951a-93eda247fc2c\",\"type\":\"BasicTickFormatter\"},\"plot\":{\"id\":\"b33eb3a6-abdb-41f0-abe6-3b3700d9dca8\",\"subtype\":\"Figure\",\"type\":\"Plot\"},\"ticker\":{\"id\":\"56254a6c-b723-4fe1-bc9a-54035ea9d02a\",\"type\":\"BasicTicker\"}},\"id\":\"d23bfd89-14a8-4a1f-9432-4492a1550d12\",\"type\":\"LinearAxis\"},{\"attributes\":{},\"id\":\"5b7495e4-2a28-458c-acaf-0b2ca4c84753\",\"type\":\"BasicTicker\"},{\"attributes\":{\"dimension\":1,\"plot\":{\"id\":\"e6947bba-30ed-469b-87f3-5d20914cb350\",\"subtype\":\"Figure\",\"type\":\"Plot\"},\"ticker\":{\"id\":\"e1829fb3-aeab-41b2-9a7f-34cc9a233b9c\",\"type\":\"BasicTicker\"}},\"id\":\"c7b8d1a4-ccae-48b7-91bc-2d518b1fafef\",\"type\":\"Grid\"},{\"attributes\":{\"fill_color\":{\"value\":\"#1f77b4\"},\"line_color\":{\"value\":\"#1f77b4\"},\"x\":{\"field\":\"x\"},\"y\":{\"field\":\"y\"}},\"id\":\"bee1f7b5-eb31-4a9b-9787-555bbad47052\",\"type\":\"Circle\"},{\"attributes\":{\"dimension\":1,\"plot\":{\"id\":\"b33eb3a6-abdb-41f0-abe6-3b3700d9dca8\",\"subtype\":\"Figure\",\"type\":\"Plot\"},\"ticker\":{\"id\":\"933c2d00-b155-4d8b-8a20-847122836339\",\"type\":\"BasicTicker\"}},\"id\":\"b5148d63-f3ff-4895-bcc4-e99481d4e8d7\",\"type\":\"Grid\"},{\"attributes\":{\"children\":[[{\"id\":\"e6947bba-30ed-469b-87f3-5d20914cb350\",\"subtype\":\"Figure\",\"type\":\"Plot\"},{\"id\":\"c5e9d4fb-7769-41b3-952f-db36475958bd\",\"subtype\":\"Figure\",\"type\":\"Plot\"}],[{\"id\":\"b33eb3a6-abdb-41f0-abe6-3b3700d9dca8\",\"subtype\":\"Figure\",\"type\":\"Plot\"},{\"id\":\"adf0bea8-9712-4de6-b4a1-d8674a13a436\",\"subtype\":\"Figure\",\"type\":\"Plot\"}]]},\"id\":\"6652a3a8-6da8-40b1-a04b-de3cbd3b7a7f\",\"type\":\"GridPlot\"},{\"attributes\":{\"formatter\":{\"id\":\"d07fe65b-488a-44ee-ad58-9cf82cb3e329\",\"type\":\"BasicTickFormatter\"},\"plot\":{\"id\":\"e6947bba-30ed-469b-87f3-5d20914cb350\",\"subtype\":\"Figure\",\"type\":\"Plot\"},\"ticker\":{\"id\":\"e1829fb3-aeab-41b2-9a7f-34cc9a233b9c\",\"type\":\"BasicTicker\"}},\"id\":\"3f857020-c62d-40dc-b882-5f464e33b324\",\"type\":\"LinearAxis\"},{\"attributes\":{},\"id\":\"933c2d00-b155-4d8b-8a20-847122836339\",\"type\":\"BasicTicker\"},{\"attributes\":{\"callback\":null,\"column_names\":[\"x\",\"y\"],\"data\":{\"x\":[0,1,3,4],\"y\":[10,4,1,5]}},\"id\":\"fa55667e-6f16-48e4-96c4-ae4590531dbb\",\"type\":\"ColumnDataSource\"},{\"attributes\":{\"fill_alpha\":{\"value\":0.1},\"fill_color\":{\"value\":\"#1f77b4\"},\"line_alpha\":{\"value\":0.1},\"line_color\":{\"value\":\"#1f77b4\"},\"x\":{\"field\":\"x\"},\"y\":{\"field\":\"y\"}},\"id\":\"cb9de75f-b45a-480a-a4ba-e0d271504412\",\"type\":\"Circle\"},{\"attributes\":{},\"id\":\"daae4f21-a8b1-42b1-a94d-72aaf493ed62\",\"type\":\"BasicTickFormatter\"},{\"attributes\":{\"formatter\":{\"id\":\"27a8af01-4e7f-4b02-b2e8-b7e269e864d5\",\"type\":\"BasicTickFormatter\"},\"plot\":{\"id\":\"b33eb3a6-abdb-41f0-abe6-3b3700d9dca8\",\"subtype\":\"Figure\",\"type\":\"Plot\"},\"ticker\":{\"id\":\"933c2d00-b155-4d8b-8a20-847122836339\",\"type\":\"BasicTicker\"}},\"id\":\"1c7f5925-2213-4dc6-b0e1-4cf86cf41be9\",\"type\":\"LinearAxis\"},{\"attributes\":{\"callback\":null},\"id\":\"1eda42f5-4f84-4a56-b2a4-e5dbad03fd46\",\"type\":\"DataRange1d\"},{\"attributes\":{},\"id\":\"7959bd5c-de94-42aa-b75e-a11b05eee16b\",\"type\":\"ToolEvents\"},{\"attributes\":{\"data_source\":{\"id\":\"e2e54674-a891-433e-ad17-a923e074e296\",\"type\":\"ColumnDataSource\"},\"glyph\":{\"id\":\"d310e3f3-6e58-4809-9918-604ff78f50e7\",\"type\":\"Circle\"},\"hover_glyph\":null,\"nonselection_glyph\":{\"id\":\"85f2e848-daf7-4445-aab9-e6a3288cfd87\",\"type\":\"Circle\"},\"selection_glyph\":null},\"id\":\"e2050115-bae7-4f9c-b7dc-faa40c3668a9\",\"type\":\"GlyphRenderer\"},{\"attributes\":{},\"id\":\"cda9a4c1-4093-4dd2-9cc6-1e9e3f363b1e\",\"type\":\"ToolEvents\"},{\"attributes\":{\"callback\":null},\"id\":\"3c7d05e9-1106-4cee-82f3-5ec05fad3383\",\"type\":\"DataRange1d\"},{\"attributes\":{\"data_source\":{\"id\":\"05a328fa-e17b-4112-b2a1-32363330f8f6\",\"type\":\"ColumnDataSource\"},\"glyph\":{\"id\":\"bee1f7b5-eb31-4a9b-9787-555bbad47052\",\"type\":\"Circle\"},\"hover_glyph\":null,\"nonselection_glyph\":{\"id\":\"20cea706-46cc-4fba-b4ea-e315510f0d29\",\"type\":\"Circle\"},\"selection_glyph\":null},\"id\":\"926d5a8c-4b73-458a-ad85-6044af0f74a7\",\"type\":\"GlyphRenderer\"},{\"attributes\":{\"callback\":null,\"column_names\":[\"x\",\"y\"],\"data\":{\"x\":[0,1,3,4],\"y\":[10,4,1,5]}},\"id\":\"e2e54674-a891-433e-ad17-a923e074e296\",\"type\":\"ColumnDataSource\"},{\"attributes\":{\"formatter\":{\"id\":\"65a0c1e2-a868-46e4-9963-d23d762eefa6\",\"type\":\"BasicTickFormatter\"},\"plot\":{\"id\":\"adf0bea8-9712-4de6-b4a1-d8674a13a436\",\"subtype\":\"Figure\",\"type\":\"Plot\"},\"ticker\":{\"id\":\"32f10a67-db14-456e-b3d3-742286a3f46c\",\"type\":\"BasicTicker\"}},\"id\":\"f6445bc0-440b-44b0-9d5f-098cd8047010\",\"type\":\"LinearAxis\"},{\"attributes\":{\"formatter\":{\"id\":\"5c58707f-af5e-4a64-aed1-24a0ede6508e\",\"type\":\"BasicTickFormatter\"},\"plot\":{\"id\":\"c5e9d4fb-7769-41b3-952f-db36475958bd\",\"subtype\":\"Figure\",\"type\":\"Plot\"},\"ticker\":{\"id\":\"4d5ffb0c-f486-43e4-9f2c-0f8da7fb632a\",\"type\":\"BasicTicker\"}},\"id\":\"020989c5-b95e-440e-be82-33d3394a60c5\",\"type\":\"LinearAxis\"},{\"attributes\":{\"below\":[{\"id\":\"c642ce6c-2f3f-4281-8d34-1f06fa6d2129\",\"type\":\"LinearAxis\"}],\"left\":[{\"id\":\"3f857020-c62d-40dc-b882-5f464e33b324\",\"type\":\"LinearAxis\"}],\"plot_height\":150,\"plot_width\":300,\"renderers\":[{\"id\":\"c642ce6c-2f3f-4281-8d34-1f06fa6d2129\",\"type\":\"LinearAxis\"},{\"id\":\"8b67989e-41c6-4642-9e29-3e62f1b621b1\",\"type\":\"Grid\"},{\"id\":\"3f857020-c62d-40dc-b882-5f464e33b324\",\"type\":\"LinearAxis\"},{\"id\":\"c7b8d1a4-ccae-48b7-91bc-2d518b1fafef\",\"type\":\"Grid\"},{\"id\":\"926d5a8c-4b73-458a-ad85-6044af0f74a7\",\"type\":\"GlyphRenderer\"}],\"tool_events\":{\"id\":\"7959bd5c-de94-42aa-b75e-a11b05eee16b\",\"type\":\"ToolEvents\"},\"x_range\":{\"id\":\"3c0f6805-e9a6-4b3c-97e9-41991a2d0596\",\"type\":\"DataRange1d\"},\"y_range\":{\"id\":\"3c7d05e9-1106-4cee-82f3-5ec05fad3383\",\"type\":\"DataRange1d\"}},\"id\":\"e6947bba-30ed-469b-87f3-5d20914cb350\",\"subtype\":\"Figure\",\"type\":\"Plot\"},{\"attributes\":{\"data_source\":{\"id\":\"fa55667e-6f16-48e4-96c4-ae4590531dbb\",\"type\":\"ColumnDataSource\"},\"glyph\":{\"id\":\"46170002-b548-43b2-ba01-4d4a90263a14\",\"type\":\"Circle\"},\"hover_glyph\":null,\"nonselection_glyph\":{\"id\":\"cb9de75f-b45a-480a-a4ba-e0d271504412\",\"type\":\"Circle\"},\"selection_glyph\":null},\"id\":\"62bd8be3-bae8-4842-baa2-de218e30ba57\",\"type\":\"GlyphRenderer\"},{\"attributes\":{\"fill_color\":{\"value\":\"#1f77b4\"},\"line_color\":{\"value\":\"#1f77b4\"},\"x\":{\"field\":\"x\"},\"y\":{\"field\":\"y\"}},\"id\":\"624f9777-e249-4d6d-852a-765cfe5c6498\",\"type\":\"Circle\"},{\"attributes\":{\"fill_alpha\":{\"value\":0.1},\"fill_color\":{\"value\":\"#1f77b4\"},\"line_alpha\":{\"value\":0.1},\"line_color\":{\"value\":\"#1f77b4\"},\"x\":{\"field\":\"x\"},\"y\":{\"field\":\"y\"}},\"id\":\"20cea706-46cc-4fba-b4ea-e315510f0d29\",\"type\":\"Circle\"},{\"attributes\":{},\"id\":\"a3493c4e-7bdd-4d9c-bf86-7520ed22828b\",\"type\":\"BasicTicker\"},{\"attributes\":{},\"id\":\"e33ab982-1f8d-4f71-97bc-9244ccb27e5c\",\"type\":\"BasicTickFormatter\"},{\"attributes\":{},\"id\":\"e9297ead-2201-48fc-bbb8-77951f17f86a\",\"type\":\"BasicTickFormatter\"},{\"attributes\":{\"dimension\":1,\"plot\":{\"id\":\"c5e9d4fb-7769-41b3-952f-db36475958bd\",\"subtype\":\"Figure\",\"type\":\"Plot\"},\"ticker\":{\"id\":\"4d5ffb0c-f486-43e4-9f2c-0f8da7fb632a\",\"type\":\"BasicTicker\"}},\"id\":\"c1a1b704-d11f-43c5-9546-b2e4f04492b0\",\"type\":\"Grid\"},{\"attributes\":{\"callback\":null},\"id\":\"92ea363a-2bd6-4003-aaeb-d00eaf8b6223\",\"type\":\"DataRange1d\"},{\"attributes\":{\"plot\":{\"id\":\"adf0bea8-9712-4de6-b4a1-d8674a13a436\",\"subtype\":\"Figure\",\"type\":\"Plot\"},\"ticker\":{\"id\":\"a3493c4e-7bdd-4d9c-bf86-7520ed22828b\",\"type\":\"BasicTicker\"}},\"id\":\"e2145e4b-8285-4598-a09e-3a516456f0ad\",\"type\":\"Grid\"},{\"attributes\":{\"callback\":null,\"icon\":null,\"label\":\"Click\"},\"id\":\"a963c461-b920-4797-80b8-76f379cdf57d\",\"type\":\"Button\"},{\"attributes\":{\"below\":[{\"id\":\"b103dce6-6f37-4d4a-853f-0b42bf6dbec7\",\"type\":\"LinearAxis\"}],\"left\":[{\"id\":\"020989c5-b95e-440e-be82-33d3394a60c5\",\"type\":\"LinearAxis\"}],\"plot_height\":150,\"plot_width\":300,\"renderers\":[{\"id\":\"b103dce6-6f37-4d4a-853f-0b42bf6dbec7\",\"type\":\"LinearAxis\"},{\"id\":\"7dc1f132-4935-4b3d-ab59-1e63e44ded11\",\"type\":\"Grid\"},{\"id\":\"020989c5-b95e-440e-be82-33d3394a60c5\",\"type\":\"LinearAxis\"},{\"id\":\"c1a1b704-d11f-43c5-9546-b2e4f04492b0\",\"type\":\"Grid\"},{\"id\":\"ae6d15a2-7039-4e7b-a8fd-8b3db520d2f0\",\"type\":\"GlyphRenderer\"}],\"tool_events\":{\"id\":\"cda9a4c1-4093-4dd2-9cc6-1e9e3f363b1e\",\"type\":\"ToolEvents\"},\"x_range\":{\"id\":\"6602d0bc-4913-4799-929b-227ae88171c3\",\"type\":\"DataRange1d\"},\"y_range\":{\"id\":\"6087d8d7-2600-477a-adb9-fe22f62d807e\",\"type\":\"DataRange1d\"}},\"id\":\"c5e9d4fb-7769-41b3-952f-db36475958bd\",\"subtype\":\"Figure\",\"type\":\"Plot\"},{\"attributes\":{\"callback\":null,\"column_names\":[\"x\",\"y\"],\"data\":{\"x\":[0,1,3,4],\"y\":[10,4,1,5]}},\"id\":\"05a328fa-e17b-4112-b2a1-32363330f8f6\",\"type\":\"ColumnDataSource\"},{\"attributes\":{\"data_source\":{\"id\":\"d0933ec3-117a-4f4c-91e7-89919a45665d\",\"type\":\"ColumnDataSource\"},\"glyph\":{\"id\":\"624f9777-e249-4d6d-852a-765cfe5c6498\",\"type\":\"Circle\"},\"hover_glyph\":null,\"nonselection_glyph\":{\"id\":\"4e0ca3d6-4cc5-461b-b755-c149d97ca490\",\"type\":\"Circle\"},\"selection_glyph\":null},\"id\":\"ae6d15a2-7039-4e7b-a8fd-8b3db520d2f0\",\"type\":\"GlyphRenderer\"},{\"attributes\":{\"plot\":{\"id\":\"b33eb3a6-abdb-41f0-abe6-3b3700d9dca8\",\"subtype\":\"Figure\",\"type\":\"Plot\"},\"ticker\":{\"id\":\"56254a6c-b723-4fe1-bc9a-54035ea9d02a\",\"type\":\"BasicTicker\"}},\"id\":\"6126ad66-12f3-4ef9-a7a0-d1f7299255a7\",\"type\":\"Grid\"},{\"attributes\":{},\"id\":\"e1829fb3-aeab-41b2-9a7f-34cc9a233b9c\",\"type\":\"BasicTicker\"},{\"attributes\":{\"below\":[{\"id\":\"d9b9f2f0-42a9-41de-b4be-0731382e4cd1\",\"type\":\"LinearAxis\"}],\"left\":[{\"id\":\"f6445bc0-440b-44b0-9d5f-098cd8047010\",\"type\":\"LinearAxis\"}],\"plot_height\":150,\"plot_width\":300,\"renderers\":[{\"id\":\"d9b9f2f0-42a9-41de-b4be-0731382e4cd1\",\"type\":\"LinearAxis\"},{\"id\":\"e2145e4b-8285-4598-a09e-3a516456f0ad\",\"type\":\"Grid\"},{\"id\":\"f6445bc0-440b-44b0-9d5f-098cd8047010\",\"type\":\"LinearAxis\"},{\"id\":\"1698b5de-ffd5-403c-9bfb-b4689061dfa9\",\"type\":\"Grid\"},{\"id\":\"62bd8be3-bae8-4842-baa2-de218e30ba57\",\"type\":\"GlyphRenderer\"}],\"tool_events\":{\"id\":\"f5bf23f5-c28f-4e5d-bf25-668f961c7c8e\",\"type\":\"ToolEvents\"},\"x_range\":{\"id\":\"92ea363a-2bd6-4003-aaeb-d00eaf8b6223\",\"type\":\"DataRange1d\"},\"y_range\":{\"id\":\"f4ce14e4-53f5-41bf-a487-4fe27523709d\",\"type\":\"DataRange1d\"}},\"id\":\"adf0bea8-9712-4de6-b4a1-d8674a13a436\",\"subtype\":\"Figure\",\"type\":\"Plot\"},{\"attributes\":{\"plot\":{\"id\":\"c5e9d4fb-7769-41b3-952f-db36475958bd\",\"subtype\":\"Figure\",\"type\":\"Plot\"},\"ticker\":{\"id\":\"66d9e09b-4077-47b5-acab-4f3cd8929cb7\",\"type\":\"BasicTicker\"}},\"id\":\"7dc1f132-4935-4b3d-ab59-1e63e44ded11\",\"type\":\"Grid\"},{\"attributes\":{\"fill_alpha\":{\"value\":0.1},\"fill_color\":{\"value\":\"#1f77b4\"},\"line_alpha\":{\"value\":0.1},\"line_color\":{\"value\":\"#1f77b4\"},\"x\":{\"field\":\"x\"},\"y\":{\"field\":\"y\"}},\"id\":\"85f2e848-daf7-4445-aab9-e6a3288cfd87\",\"type\":\"Circle\"},{\"attributes\":{},\"id\":\"5c58707f-af5e-4a64-aed1-24a0ede6508e\",\"type\":\"BasicTickFormatter\"},{\"attributes\":{},\"id\":\"f5bf23f5-c28f-4e5d-bf25-668f961c7c8e\",\"type\":\"ToolEvents\"},{\"attributes\":{\"formatter\":{\"id\":\"daae4f21-a8b1-42b1-a94d-72aaf493ed62\",\"type\":\"BasicTickFormatter\"},\"plot\":{\"id\":\"c5e9d4fb-7769-41b3-952f-db36475958bd\",\"subtype\":\"Figure\",\"type\":\"Plot\"},\"ticker\":{\"id\":\"66d9e09b-4077-47b5-acab-4f3cd8929cb7\",\"type\":\"BasicTicker\"}},\"id\":\"b103dce6-6f37-4d4a-853f-0b42bf6dbec7\",\"type\":\"LinearAxis\"},{\"attributes\":{},\"id\":\"66d9e09b-4077-47b5-acab-4f3cd8929cb7\",\"type\":\"BasicTicker\"},{\"attributes\":{},\"id\":\"65a0c1e2-a868-46e4-9963-d23d762eefa6\",\"type\":\"BasicTickFormatter\"},{\"attributes\":{\"callback\":null},\"id\":\"3c0f6805-e9a6-4b3c-97e9-41991a2d0596\",\"type\":\"DataRange1d\"},{\"attributes\":{},\"id\":\"d07fe65b-488a-44ee-ad58-9cf82cb3e329\",\"type\":\"BasicTickFormatter\"},{\"attributes\":{\"dimension\":1,\"plot\":{\"id\":\"adf0bea8-9712-4de6-b4a1-d8674a13a436\",\"subtype\":\"Figure\",\"type\":\"Plot\"},\"ticker\":{\"id\":\"32f10a67-db14-456e-b3d3-742286a3f46c\",\"type\":\"BasicTicker\"}},\"id\":\"1698b5de-ffd5-403c-9bfb-b4689061dfa9\",\"type\":\"Grid\"},{\"attributes\":{\"below\":[{\"id\":\"d23bfd89-14a8-4a1f-9432-4492a1550d12\",\"type\":\"LinearAxis\"}],\"left\":[{\"id\":\"1c7f5925-2213-4dc6-b0e1-4cf86cf41be9\",\"type\":\"LinearAxis\"}],\"plot_height\":150,\"plot_width\":300,\"renderers\":[{\"id\":\"d23bfd89-14a8-4a1f-9432-4492a1550d12\",\"type\":\"LinearAxis\"},{\"id\":\"6126ad66-12f3-4ef9-a7a0-d1f7299255a7\",\"type\":\"Grid\"},{\"id\":\"1c7f5925-2213-4dc6-b0e1-4cf86cf41be9\",\"type\":\"LinearAxis\"},{\"id\":\"b5148d63-f3ff-4895-bcc4-e99481d4e8d7\",\"type\":\"Grid\"},{\"id\":\"e2050115-bae7-4f9c-b7dc-faa40c3668a9\",\"type\":\"GlyphRenderer\"}],\"tool_events\":{\"id\":\"f18a45cc-d5ed-40f5-9bee-75dc0f444905\",\"type\":\"ToolEvents\"},\"x_range\":{\"id\":\"1eda42f5-4f84-4a56-b2a4-e5dbad03fd46\",\"type\":\"DataRange1d\"},\"y_range\":{\"id\":\"92549288-44a6-473e-bfa5-410659171da2\",\"type\":\"DataRange1d\"}},\"id\":\"b33eb3a6-abdb-41f0-abe6-3b3700d9dca8\",\"subtype\":\"Figure\",\"type\":\"Plot\"},{\"attributes\":{\"callback\":null},\"id\":\"f4ce14e4-53f5-41bf-a487-4fe27523709d\",\"type\":\"DataRange1d\"},{\"attributes\":{\"formatter\":{\"id\":\"e9297ead-2201-48fc-bbb8-77951f17f86a\",\"type\":\"BasicTickFormatter\"},\"plot\":{\"id\":\"adf0bea8-9712-4de6-b4a1-d8674a13a436\",\"subtype\":\"Figure\",\"type\":\"Plot\"},\"ticker\":{\"id\":\"a3493c4e-7bdd-4d9c-bf86-7520ed22828b\",\"type\":\"BasicTicker\"}},\"id\":\"d9b9f2f0-42a9-41de-b4be-0731382e4cd1\",\"type\":\"LinearAxis\"},{\"attributes\":{\"callback\":null},\"id\":\"6087d8d7-2600-477a-adb9-fe22f62d807e\",\"type\":\"DataRange1d\"},{\"attributes\":{},\"id\":\"4d5ffb0c-f486-43e4-9f2c-0f8da7fb632a\",\"type\":\"BasicTicker\"},{\"attributes\":{},\"id\":\"27a8af01-4e7f-4b02-b2e8-b7e269e864d5\",\"type\":\"BasicTickFormatter\"},{\"attributes\":{},\"id\":\"56254a6c-b723-4fe1-bc9a-54035ea9d02a\",\"type\":\"BasicTicker\"},{\"attributes\":{\"formatter\":{\"id\":\"e33ab982-1f8d-4f71-97bc-9244ccb27e5c\",\"type\":\"BasicTickFormatter\"},\"plot\":{\"id\":\"e6947bba-30ed-469b-87f3-5d20914cb350\",\"subtype\":\"Figure\",\"type\":\"Plot\"},\"ticker\":{\"id\":\"5b7495e4-2a28-458c-acaf-0b2ca4c84753\",\"type\":\"BasicTicker\"}},\"id\":\"c642ce6c-2f3f-4281-8d34-1f06fa6d2129\",\"type\":\"LinearAxis\"},{\"attributes\":{\"fill_color\":{\"value\":\"#1f77b4\"},\"line_color\":{\"value\":\"#1f77b4\"},\"x\":{\"field\":\"x\"},\"y\":{\"field\":\"y\"}},\"id\":\"d310e3f3-6e58-4809-9918-604ff78f50e7\",\"type\":\"Circle\"}],\"root_ids\":[\"6652a3a8-6da8-40b1-a04b-de3cbd3b7a7f\",\"cc3066c6-555c-4e0c-abe4-cd83aa14b4dc\"]},\"title\":\"Bokeh Application\",\"version\":\"0.12.0dev1-235-g6837e90\"}};\n",
       "            var render_items = [{\"docid\":\"4dd3793f-9ac8-4a73-980c-3f3974d069b4\",\"elementid\":\"e57b8da6-2439-4cf3-b7a0-6e21a94943c9\",\"modelid\":\"cc3066c6-555c-4e0c-abe4-cd83aa14b4dc\",\"notebook_comms_target\":\"2d033637-3248-4f26-9c92-cfc1a6f81b90\"}];\n",
       "            \n",
       "            Bokeh.embed.embed_items(docs_json, render_items);\n",
       "        });\n",
       "      },\n",
       "      function(Bokeh) {\n",
       "      }\n",
       "    ];\n",
       "  \n",
       "    function run_inline_js() {\n",
       "      for (var i = 0; i < inline_js.length; i++) {\n",
       "        inline_js[i](window.Bokeh);\n",
       "      }\n",
       "    }\n",
       "  \n",
       "    if (window._bokeh_is_loading === 0) {\n",
       "      console.log(\"Bokeh: BokehJS loaded, going straight to plotting\");\n",
       "      run_inline_js();\n",
       "    } else {\n",
       "      load_libs(js_urls, function() {\n",
       "        console.log(\"Bokeh: BokehJS plotting callback run at\", now());\n",
       "        run_inline_js();\n",
       "      });\n",
       "    }\n",
       "  }(this));\n",
       "</script>"
      ]
     },
     "metadata": {},
     "output_type": "display_data"
    },
    {
     "data": {
      "text/html": [
       "<p><code>&lt;Bokeh Notebook handle for <strong>In[2]</strong>&gt;</code></p>"
      ],
      "text/plain": [
       "<bokeh.io._CommsHandle at 0x10d0215c0>"
      ]
     },
     "execution_count": 2,
     "metadata": {},
     "output_type": "execute_result"
    }
   ],
   "source": [
    "w = 300\n",
    "h = 150\n",
    "\n",
    "fig1 = figure(width=w, height=h, tools=[])\n",
    "fig1.circle(x=[0,1,3,4], y=[10,4,1,5])\n",
    "\n",
    "fig2 = figure(width=w, height=h, tools=[])\n",
    "fig2.circle(x=[0,1,3,4], y=[10,4,1,5])\n",
    "\n",
    "fig3 = figure(width=w, height=h, tools=[])\n",
    "fig3.circle(x=[0,1,3,4], y=[10,4,1,5])\n",
    "\n",
    "fig4 = figure(width=w, height=h, tools=[])\n",
    "fig4.circle(x=[0,1,3,4], y=[10,4,1,5])\n",
    "\n",
    "grid = gridplot([[fig1, fig2], [fig3, fig4]])\n",
    "button = Button(label=\"Click\")\n",
    "\n",
    "v = vform(button, grid)\n",
    "show(v)"
   ]
  },
  {
   "cell_type": "code",
   "execution_count": 5,
   "metadata": {
    "collapsed": false
   },
   "outputs": [
    {
     "data": {
      "text/plain": [
       "'0.12.0dev1-235-g6837e90'"
      ]
     },
     "execution_count": 5,
     "metadata": {},
     "output_type": "execute_result"
    }
   ],
   "source": [
    "import bokeh\n",
    "bokeh.__version__"
   ]
  },
  {
   "cell_type": "code",
   "execution_count": null,
   "metadata": {
    "collapsed": true
   },
   "outputs": [],
   "source": []
  }
 ],
 "metadata": {
  "kernelspec": {
   "display_name": "Python 3",
   "language": "python",
   "name": "python3"
  },
  "language_info": {
   "codemirror_mode": {
    "name": "ipython",
    "version": 3
   },
   "file_extension": ".py",
   "mimetype": "text/x-python",
   "name": "python",
   "nbconvert_exporter": "python",
   "pygments_lexer": "ipython3",
   "version": "3.4.4"
  }
 },
 "nbformat": 4,
 "nbformat_minor": 0
}

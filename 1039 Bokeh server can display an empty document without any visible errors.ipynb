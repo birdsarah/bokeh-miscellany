{
 "cells": [
  {
   "cell_type": "code",
   "execution_count": 1,
   "metadata": {
    "collapsed": false
   },
   "outputs": [
    {
     "name": "stdout",
     "output_type": "stream",
     "text": [
      "Using saved session configuration for http://localhost:5006/\n",
      "To override, pass 'load_from_config=False' to Session\n"
     ]
    }
   ],
   "source": [
    "import time\n",
    "import webbrowser\n",
    " \n",
    "import requests\n",
    "from requests.exceptions import ConnectionError\n",
    " \n",
    "from bokeh.io import hplot, vplot\n",
    "from bokeh.models import Select, Line, Rect\n",
    "from bokeh.document import Document\n",
    "from bokeh.session import Session\n",
    "from bokeh.plotting import figure\n",
    " \n",
    "document = Document()\n",
    "session = Session()\n",
    "session.use_doc('test')\n",
    "session.load_document(document)"
   ]
  },
  {
   "cell_type": "code",
   "execution_count": 4,
   "metadata": {
    "collapsed": false
   },
   "outputs": [
    {
     "data": {
      "text/plain": [
       "True"
      ]
     },
     "execution_count": 4,
     "metadata": {},
     "output_type": "execute_result"
    }
   ],
   "source": [
    "factors = ['a','b','c']\n",
    " \n",
    "p = figure(x_range=factors)\n",
    "p.rect(x=factors, y=[1,2,3], width=0.9, height=1, fill_color=\"#3B8686\")\n",
    " \n",
    " \n",
    "def update_data():\n",
    "    p.x_range.factors = ['a','b','c','d'] \n",
    "    session.store_document(document)\n",
    "    print('updated')\n",
    " \n",
    "def on_widget_change(obj, attr, old, new):\n",
    "    update_data()\n",
    " \n",
    "def layout():\n",
    "    select = Select(title=\"Date:\", value=\"World\", options=['option1','option2'])\n",
    "    select.on_change('value', on_widget_change)\n",
    " \n",
    "    controls = hplot(select)\n",
    "    layout = vplot(controls, p)\n",
    " \n",
    "    return layout\n",
    "\n",
    "layout = layout()\n",
    "document.add(layout)\n",
    "session.store_document(document)\n",
    "session.store_objects(p)\n",
    "\n",
    "link = session.object_link(layout)\n",
    "webbrowser.open(link)"
   ]
  },
  {
   "cell_type": "markdown",
   "metadata": {},
   "source": [
    "This displays, but can't get factors to change - haven't tried v. hard - this doesn't seem how i would structure a server doc? I took it from the gist link on the ticket."
   ]
  },
  {
   "cell_type": "code",
   "execution_count": null,
   "metadata": {
    "collapsed": true
   },
   "outputs": [],
   "source": []
  }
 ],
 "metadata": {
  "kernelspec": {
   "display_name": "Python 3",
   "language": "python",
   "name": "python3"
  },
  "language_info": {
   "codemirror_mode": {
    "name": "ipython",
    "version": 3
   },
   "file_extension": ".py",
   "mimetype": "text/x-python",
   "name": "python",
   "nbconvert_exporter": "python",
   "pygments_lexer": "ipython3",
   "version": "3.4.3"
  }
 },
 "nbformat": 4,
 "nbformat_minor": 0
}

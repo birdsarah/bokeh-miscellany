{
 "cells": [
  {
   "cell_type": "code",
   "execution_count": 1,
   "metadata": {
    "collapsed": false
   },
   "outputs": [],
   "source": [
    "import pandas as pd"
   ]
  },
  {
   "cell_type": "code",
   "execution_count": 2,
   "metadata": {
    "collapsed": false
   },
   "outputs": [],
   "source": [
    "# Links via http://www.gapminder.org/data/ \n",
    "\n",
    "population_url = \"http://spreadsheets.google.com/pub?key=phAwcNAVuyj0XOoBL_n5tAQ&output=xls\"\n",
    "fertility_url = \"http://spreadsheets.google.com/pub?key=phAwcNAVuyj0TAlJeCEzcGQ&output=xls\"\n",
    "life_expectancy_url = \"http://spreadsheets.google.com/pub?key=tiAiXcrneZrUnnJ9dBU-PAw&output=xls\"\n",
    "regions_url = \"https://docs.google.com/spreadsheets/d/1OxmGUNWeADbPJkQxVPupSOK5MbAECdqThnvyPrwG5Os/pub?gid=1&output=xls\"\n",
    "\n",
    "\n",
    "def get_data(url):\n",
    "    # Get the data from the url and return only 1962 - 2013\n",
    "    df = pd.read_excel(url, index_col=0)\n",
    "    df = df.unstack().unstack()\n",
    "    df = df[(df.index >= 1964) & (df.index <= 2013)]\n",
    "    df = df.unstack().unstack()    \n",
    "    return df\n",
    "\n",
    "fertility_df = get_data(fertility_url)\n",
    "life_expectancy_df = get_data(life_expectancy_url)\n",
    "population_df = get_data(population_url)\n",
    "regions_df = pd.read_excel(regions_url, index_col=0)\n"
   ]
  },
  {
   "cell_type": "code",
   "execution_count": 3,
   "metadata": {
    "collapsed": false
   },
   "outputs": [],
   "source": [
    "# have common countries across all data\n",
    "fertility_df = fertility_df.drop(fertility_df.index.difference(life_expectancy_df.index))\n",
    "population_df = population_df.drop(population_df.index.difference(life_expectancy_df.index))\n",
    "regions_df = regions_df.drop(regions_df.index.difference(life_expectancy_df.index))"
   ]
  },
  {
   "cell_type": "code",
   "execution_count": 4,
   "metadata": {
    "collapsed": false
   },
   "outputs": [],
   "source": [
    "fertility_df.to_csv('data/fertility.csv')\n",
    "population_df.to_csv('data/population.csv')\n",
    "life_expectancy_df.to_csv('data/life_expectancy.csv')\n",
    "regions_df.to_csv('data/regions.csv')"
   ]
  }
 ],
 "metadata": {
  "kernelspec": {
   "display_name": "Python 3",
   "language": "python",
   "name": "python3"
  },
  "language_info": {
   "codemirror_mode": {
    "name": "ipython",
    "version": 3
   },
   "file_extension": ".py",
   "mimetype": "text/x-python",
   "name": "python",
   "nbconvert_exporter": "python",
   "pygments_lexer": "ipython3",
   "version": "3.4.3"
  }
 },
 "nbformat": 4,
 "nbformat_minor": 0
}

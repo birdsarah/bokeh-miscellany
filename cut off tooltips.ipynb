{
 "cells": [
  {
   "cell_type": "code",
   "execution_count": 1,
   "metadata": {
    "collapsed": false
   },
   "outputs": [
    {
     "data": {
      "text/html": [
       "\n",
       "    <div class=\"bk-banner\">\n",
       "        <a href=\"http://bokeh.pydata.org\" target=\"_blank\" class=\"bk-logo bk-logo-small bk-logo-notebook\"></a>\n",
       "        <span id=\"5eb7147d-ea7c-4012-92d0-5e10793146e3\">Loading BokehJS ...</span>\n",
       "    </div>\n",
       "    <p style=\"background-color: #f2d7dc;\">Warning: Requesting CDN BokehJS version '0.11.1' from Bokeh development version '0.11.1-159-g9220f7f'. This configuration is unsupported and may not work!</p>"
      ]
     },
     "metadata": {},
     "output_type": "display_data"
    },
    {
     "data": {
      "application/javascript": [
       "\n",
       "(function(global) {\n",
       "  function now() {\n",
       "    return new Date();\n",
       "  }\n",
       "\n",
       "  if (typeof (window._bokeh_onload_callbacks) === \"undefined\") {\n",
       "    window._bokeh_onload_callbacks = [];\n",
       "  }\n",
       "\n",
       "  function run_callbacks() {\n",
       "    window._bokeh_onload_callbacks.forEach(function(callback) { callback() });\n",
       "    delete window._bokeh_onload_callbacks\n",
       "    console.info(\"Bokeh: all callbacks have finished\");\n",
       "  }\n",
       "\n",
       "  function load_libs(js_urls, callback) {\n",
       "    window._bokeh_onload_callbacks.push(callback);\n",
       "    if (window._bokeh_is_loading > 0) {\n",
       "      console.log(\"Bokeh: BokehJS is being loaded, scheduling callback at\", now());\n",
       "      return null;\n",
       "    }\n",
       "    if (js_urls == null || js_urls.length === 0) {\n",
       "      run_callbacks();\n",
       "      return null;\n",
       "    }\n",
       "    console.log(\"Bokeh: BokehJS not loaded, scheduling load and callback at\", now());\n",
       "    window._bokeh_is_loading = js_urls.length;\n",
       "    for (var i = 0; i < js_urls.length; i++) {\n",
       "      var url = js_urls[i];\n",
       "      var s = document.createElement('script');\n",
       "      s.src = url;\n",
       "      s.async = false;\n",
       "      s.onreadystatechange = s.onload = function() {\n",
       "        window._bokeh_is_loading--;\n",
       "        if (window._bokeh_is_loading === 0) {\n",
       "          console.log(\"Bokeh: all BokehJS libraries loaded\");\n",
       "          run_callbacks()\n",
       "        }\n",
       "      };\n",
       "      s.onerror = function() {\n",
       "        console.warn(\"failed to load library \" + url);\n",
       "      };\n",
       "      console.log(\"Bokeh: injecting script tag for BokehJS library: \", url);\n",
       "      document.getElementsByTagName(\"head\")[0].appendChild(s);\n",
       "    }\n",
       "  };\n",
       "\n",
       "  var js_urls = ['https://cdn.pydata.org/bokeh/release/bokeh-0.11.1.min.js', 'https://cdn.pydata.org/bokeh/release/bokeh-widgets-0.11.1.min.js', 'https://cdn.pydata.org/bokeh/release/bokeh-compiler-0.11.1.min.js'];\n",
       "\n",
       "  var inline_js = [\n",
       "    function(Bokeh) {\n",
       "      Bokeh.set_log_level(\"info\");\n",
       "    },\n",
       "    \n",
       "    function(Bokeh) {\n",
       "      Bokeh.$(\"#5eb7147d-ea7c-4012-92d0-5e10793146e3\").text(\"BokehJS successfully loaded\");\n",
       "    },\n",
       "    function(Bokeh) {\n",
       "      console.log(\"Bokeh: injecting CSS: https://cdn.pydata.org/bokeh/release/bokeh-0.11.1.min.css\");\n",
       "      Bokeh.embed.inject_css(\"https://cdn.pydata.org/bokeh/release/bokeh-0.11.1.min.css\");\n",
       "      console.log(\"Bokeh: injecting CSS: https://cdn.pydata.org/bokeh/release/bokeh-widgets-0.11.1.min.css\");\n",
       "      Bokeh.embed.inject_css(\"https://cdn.pydata.org/bokeh/release/bokeh-widgets-0.11.1.min.css\");\n",
       "    }\n",
       "  ];\n",
       "\n",
       "  function run_inline_js() {\n",
       "    for (var i = 0; i < inline_js.length; i++) {\n",
       "      inline_js[i](window.Bokeh);\n",
       "    }\n",
       "  }\n",
       "\n",
       "  if (window._bokeh_is_loading === 0) {\n",
       "    console.log(\"Bokeh: BokehJS loaded, going straight to plotting\");\n",
       "    run_inline_js();\n",
       "  } else {\n",
       "    load_libs(js_urls, function() {\n",
       "      console.log(\"Bokeh: BokehJS plotting callback run at\", now());\n",
       "      run_inline_js();\n",
       "    });\n",
       "  }\n",
       "}(this));"
      ]
     },
     "metadata": {},
     "output_type": "display_data"
    }
   ],
   "source": [
    "from bokeh.io import output_notebook, show\n",
    "from IPython.core.display import Image, HTML\n",
    "output_notebook()"
   ]
  },
  {
   "cell_type": "markdown",
   "metadata": {},
   "source": [
    "In an jupyter notebook if your bokeh tooltips extend beyond the extent of your plot, the css from the jupyter notebook can interfere with the display leaving something like this (note this is a screenshot not the fixed plot (which is at bottom of this notebook):"
   ]
  },
  {
   "cell_type": "code",
   "execution_count": 4,
   "metadata": {
    "collapsed": false
   },
   "outputs": [
    {
     "data": {
      "text/html": [
       "<img src=\"https://raw.githubusercontent.com/birdsarah/bokeh-miscellany/master/cut-off-tooltip.png\" width=\"400\" height=\"400\"/>"
      ],
      "text/plain": [
       "<IPython.core.display.Image object>"
      ]
     },
     "execution_count": 4,
     "metadata": {},
     "output_type": "execute_result"
    }
   ],
   "source": [
    "Image(url=\"https://raw.githubusercontent.com/birdsarah/bokeh-miscellany/master/cut-off-tooltip.png\", width=400, height=400)"
   ]
  },
  {
   "cell_type": "markdown",
   "metadata": {},
   "source": [
    "Unfortunately Bokeh can't solve this as Bokeh can't control the CSS of the parent element, which belongs to Jupyter. This can be solved in two ways:\n",
    "\n",
    "1. You can apply a style to a single notebook\n",
    "2. You can add custom css to your global notebook settings"
   ]
  },
  {
   "cell_type": "markdown",
   "metadata": {},
   "source": [
    "### 1. Applying CSS to single Jupyter Notebook"
   ]
  },
  {
   "cell_type": "code",
   "execution_count": 5,
   "metadata": {
    "collapsed": false
   },
   "outputs": [
    {
     "data": {
      "text/html": [
       "\n",
       "<style>\n",
       "  div.output_subarea {\n",
       "    overflow-x: visible;\n",
       "  }\n",
       "</style>\n"
      ],
      "text/plain": [
       "<IPython.core.display.HTML object>"
      ]
     },
     "execution_count": 5,
     "metadata": {},
     "output_type": "execute_result"
    }
   ],
   "source": [
    "from IPython.core.display import HTML\n",
    "HTML(\"\"\"\n",
    "<style>\n",
    "  div.output_subarea {\n",
    "    overflow-x: visible;\n",
    "  }\n",
    "</style>\n",
    "\"\"\")"
   ]
  },
  {
   "cell_type": "code",
   "execution_count": 12,
   "metadata": {
    "collapsed": false
   },
   "outputs": [
    {
     "data": {
      "text/html": [
       "\n",
       "\n",
       "    <div class=\"plotdiv\" id=\"b979e80a-f47f-475e-a37e-99206c199326\"></div>\n",
       "<script type=\"text/javascript\">\n",
       "  \n",
       "  (function(global) {\n",
       "    function now() {\n",
       "      return new Date();\n",
       "    }\n",
       "  \n",
       "    if (typeof (window._bokeh_onload_callbacks) === \"undefined\") {\n",
       "      window._bokeh_onload_callbacks = [];\n",
       "    }\n",
       "  \n",
       "    function run_callbacks() {\n",
       "      window._bokeh_onload_callbacks.forEach(function(callback) { callback() });\n",
       "      delete window._bokeh_onload_callbacks\n",
       "      console.info(\"Bokeh: all callbacks have finished\");\n",
       "    }\n",
       "  \n",
       "    function load_libs(js_urls, callback) {\n",
       "      window._bokeh_onload_callbacks.push(callback);\n",
       "      if (window._bokeh_is_loading > 0) {\n",
       "        console.log(\"Bokeh: BokehJS is being loaded, scheduling callback at\", now());\n",
       "        return null;\n",
       "      }\n",
       "      if (js_urls == null || js_urls.length === 0) {\n",
       "        run_callbacks();\n",
       "        return null;\n",
       "      }\n",
       "      console.log(\"Bokeh: BokehJS not loaded, scheduling load and callback at\", now());\n",
       "      window._bokeh_is_loading = js_urls.length;\n",
       "      for (var i = 0; i < js_urls.length; i++) {\n",
       "        var url = js_urls[i];\n",
       "        var s = document.createElement('script');\n",
       "        s.src = url;\n",
       "        s.async = false;\n",
       "        s.onreadystatechange = s.onload = function() {\n",
       "          window._bokeh_is_loading--;\n",
       "          if (window._bokeh_is_loading === 0) {\n",
       "            console.log(\"Bokeh: all BokehJS libraries loaded\");\n",
       "            run_callbacks()\n",
       "          }\n",
       "        };\n",
       "        s.onerror = function() {\n",
       "          console.warn(\"failed to load library \" + url);\n",
       "        };\n",
       "        console.log(\"Bokeh: injecting script tag for BokehJS library: \", url);\n",
       "        document.getElementsByTagName(\"head\")[0].appendChild(s);\n",
       "      }\n",
       "    };var element = document.getElementById(\"b979e80a-f47f-475e-a37e-99206c199326\");\n",
       "    if (element == null) {\n",
       "      console.log(\"Bokeh: ERROR: autoload.js configured with elementid 'b979e80a-f47f-475e-a37e-99206c199326' but no matching script tag was found. \")\n",
       "      return false;\n",
       "    }\n",
       "  \n",
       "    var js_urls = [];\n",
       "  \n",
       "    var inline_js = [\n",
       "      function(Bokeh) {\n",
       "        Bokeh.$(function() {\n",
       "            var docs_json = {\"460a7f37-5406-4a9d-860c-db8e22817d95\":{\"roots\":{\"references\":[{\"attributes\":{\"callback\":null,\"plot\":{\"id\":\"a30a2661-a206-44b6-9064-8c0ab7d2e252\",\"subtype\":\"Figure\",\"type\":\"Plot\"},\"tooltips\":\"\\n        <div>\\n            <div>\\n                <img\\n                    src=\\\"@imgs\\\" height=\\\"42\\\" alt=\\\"@imgs\\\" width=\\\"42\\\"\\n                    style=\\\"float: left; margin: 0px 15px 15px 0px;\\\"\\n                    border=\\\"2\\\"\\n                ></img>\\n            </div>\\n            <div>\\n                <span style=\\\"font-size: 17px; font-weight: bold;\\\">@desc</span>\\n                <span style=\\\"font-size: 15px; color: #966;\\\">[$index]</span>\\n            </div>\\n            <div>\\n                <span style=\\\"font-size: 15px;\\\">Location</span>\\n                <span style=\\\"font-size: 10px; color: #696;\\\">($x, $y)</span>\\n            </div>\\n        </div>\\n        \"},\"id\":\"f74915da-44c7-4989-95be-ec7a13e85f56\",\"type\":\"HoverTool\"},{\"attributes\":{},\"id\":\"82a78a3e-36cb-4afc-ab56-2abab5378192\",\"type\":\"BasicTicker\"},{\"attributes\":{\"callback\":null,\"column_names\":[\"desc\",\"y\",\"imgs\",\"x\"],\"data\":{\"desc\":[\"A\",\"b\",\"C\",\"d\",\"E\"],\"imgs\":[\"http://bokeh.pydata.org/static/snake.jpg\",\"http://bokeh.pydata.org/static/snake2.png\",\"http://bokeh.pydata.org/static/snake3D.png\",\"http://bokeh.pydata.org/static/snake4_TheRevenge.png\",\"http://bokeh.pydata.org/static/snakebite.jpg\"],\"x\":[1,2,3,4,5],\"y\":[2,5,8,2,7]}},\"id\":\"3afe01db-1c5e-4a17-8109-ff9fca0d75c5\",\"type\":\"ColumnDataSource\"},{\"attributes\":{\"callback\":null},\"id\":\"86008214-5934-4b07-837e-e023e250704c\",\"type\":\"DataRange1d\"},{\"attributes\":{\"fill_color\":{\"value\":\"#1f77b4\"},\"line_color\":{\"value\":\"#1f77b4\"},\"size\":{\"units\":\"screen\",\"value\":20},\"x\":{\"field\":\"x\"},\"y\":{\"field\":\"y\"}},\"id\":\"3b4bb0c3-8a39-42bf-9f07-f88fa4eac12f\",\"type\":\"Circle\"},{\"attributes\":{\"below\":[{\"id\":\"bd115c43-2de8-4b66-8702-f5b705ce6020\",\"type\":\"LinearAxis\"}],\"left\":[{\"id\":\"f807bdf0-8e52-4b95-be83-e33f828706d6\",\"type\":\"LinearAxis\"}],\"plot_height\":200,\"plot_width\":200,\"renderers\":[{\"id\":\"bd115c43-2de8-4b66-8702-f5b705ce6020\",\"type\":\"LinearAxis\"},{\"id\":\"ae0a649a-ab5e-47e4-886d-3cd196dfcbd8\",\"type\":\"Grid\"},{\"id\":\"f807bdf0-8e52-4b95-be83-e33f828706d6\",\"type\":\"LinearAxis\"},{\"id\":\"08a2817b-82dd-4895-9cd3-d46deacac2b5\",\"type\":\"Grid\"},{\"id\":\"13464cfd-7535-4cbf-a246-b831a98ac67e\",\"type\":\"GlyphRenderer\"}],\"title\":\"Hover\",\"tool_events\":{\"id\":\"5f568cd5-fbf1-4f14-a27e-fb3dbbb6cd55\",\"type\":\"ToolEvents\"},\"tools\":[{\"id\":\"f74915da-44c7-4989-95be-ec7a13e85f56\",\"type\":\"HoverTool\"}],\"x_range\":{\"id\":\"c6b38417-8a46-4c4d-9df5-9084efe02fb2\",\"type\":\"DataRange1d\"},\"y_range\":{\"id\":\"1130116d-eb51-4563-b934-f722eb972f44\",\"type\":\"DataRange1d\"}},\"id\":\"a30a2661-a206-44b6-9064-8c0ab7d2e252\",\"subtype\":\"Figure\",\"type\":\"Plot\"},{\"attributes\":{\"fill_alpha\":{\"value\":0.1},\"fill_color\":{\"value\":\"#1f77b4\"},\"line_alpha\":{\"value\":0.1},\"line_color\":{\"value\":\"#1f77b4\"},\"size\":{\"units\":\"screen\",\"value\":20},\"x\":{\"field\":\"x\"},\"y\":{\"field\":\"y\"}},\"id\":\"d8fc50d4-610c-4352-bd04-277c4e2528cb\",\"type\":\"Circle\"},{\"attributes\":{\"fill_alpha\":{\"value\":0.1},\"fill_color\":{\"value\":\"#1f77b4\"},\"line_alpha\":{\"value\":0.1},\"line_color\":{\"value\":\"#1f77b4\"},\"size\":{\"units\":\"screen\",\"value\":20},\"x\":{\"field\":\"x\"},\"y\":{\"field\":\"y\"}},\"id\":\"1ff75498-0c5b-454d-b210-f9250ded7d70\",\"type\":\"Circle\"},{\"attributes\":{},\"id\":\"3421ee92-beaf-4863-b8a9-1b38cd360ea8\",\"type\":\"BasicTicker\"},{\"attributes\":{\"dimension\":1,\"plot\":{\"id\":\"688240aa-1bb9-43c8-b787-95841ab2796c\",\"subtype\":\"Figure\",\"type\":\"Plot\"},\"ticker\":{\"id\":\"1f296d6f-8e17-49f6-bf9a-9443f6501f61\",\"type\":\"BasicTicker\"}},\"id\":\"1d53de48-7cb8-4f13-895f-ec740e783e71\",\"type\":\"Grid\"},{\"attributes\":{},\"id\":\"5f568cd5-fbf1-4f14-a27e-fb3dbbb6cd55\",\"type\":\"ToolEvents\"},{\"attributes\":{},\"id\":\"b6733ccf-19ef-4128-8cdb-dd6fd399b4ff\",\"type\":\"BasicTickFormatter\"},{\"attributes\":{\"callback\":null},\"id\":\"c6b38417-8a46-4c4d-9df5-9084efe02fb2\",\"type\":\"DataRange1d\"},{\"attributes\":{},\"id\":\"5b87a218-4313-4933-b4f5-d341577b7978\",\"type\":\"ToolEvents\"},{\"attributes\":{\"callback\":null},\"id\":\"451ce752-ff0c-4499-a5c4-9840eaa508ae\",\"type\":\"DataRange1d\"},{\"attributes\":{\"dimension\":1,\"plot\":{\"id\":\"a30a2661-a206-44b6-9064-8c0ab7d2e252\",\"subtype\":\"Figure\",\"type\":\"Plot\"},\"ticker\":{\"id\":\"ce3d10aa-5ed3-445d-aae6-6896aca5b559\",\"type\":\"BasicTicker\"}},\"id\":\"08a2817b-82dd-4895-9cd3-d46deacac2b5\",\"type\":\"Grid\"},{\"attributes\":{},\"id\":\"1f296d6f-8e17-49f6-bf9a-9443f6501f61\",\"type\":\"BasicTicker\"},{\"attributes\":{\"fill_color\":{\"value\":\"#1f77b4\"},\"line_color\":{\"value\":\"#1f77b4\"},\"size\":{\"units\":\"screen\",\"value\":20},\"x\":{\"field\":\"x\"},\"y\":{\"field\":\"y\"}},\"id\":\"e21e6ba3-767e-4ab4-b8c5-98810be0b2e6\",\"type\":\"Circle\"},{\"attributes\":{\"callback\":null},\"id\":\"1130116d-eb51-4563-b934-f722eb972f44\",\"type\":\"DataRange1d\"},{\"attributes\":{\"callback\":null,\"plot\":{\"id\":\"688240aa-1bb9-43c8-b787-95841ab2796c\",\"subtype\":\"Figure\",\"type\":\"Plot\"},\"tooltips\":\"\\n        <div>\\n            <div>\\n                <img\\n                    src=\\\"@imgs\\\" height=\\\"42\\\" alt=\\\"@imgs\\\" width=\\\"42\\\"\\n                    style=\\\"float: left; margin: 0px 15px 15px 0px;\\\"\\n                    border=\\\"2\\\"\\n                ></img>\\n            </div>\\n            <div>\\n                <span style=\\\"font-size: 17px; font-weight: bold;\\\">@desc</span>\\n                <span style=\\\"font-size: 15px; color: #966;\\\">[$index]</span>\\n            </div>\\n            <div>\\n                <span style=\\\"font-size: 15px;\\\">Location</span>\\n                <span style=\\\"font-size: 10px; color: #696;\\\">($x, $y)</span>\\n            </div>\\n        </div>\\n        \"},\"id\":\"92c284a0-6471-4b91-8818-1a9e1d68377c\",\"type\":\"HoverTool\"},{\"attributes\":{\"plot\":{\"id\":\"a30a2661-a206-44b6-9064-8c0ab7d2e252\",\"subtype\":\"Figure\",\"type\":\"Plot\"},\"ticker\":{\"id\":\"82a78a3e-36cb-4afc-ab56-2abab5378192\",\"type\":\"BasicTicker\"}},\"id\":\"ae0a649a-ab5e-47e4-886d-3cd196dfcbd8\",\"type\":\"Grid\"},{\"attributes\":{},\"id\":\"eaf2b561-1c98-454f-90eb-ee6d944741ef\",\"type\":\"BasicTickFormatter\"},{\"attributes\":{\"callback\":null,\"column_names\":[\"desc\",\"y\",\"imgs\",\"x\"],\"data\":{\"desc\":[\"A\",\"b\",\"C\",\"d\",\"E\"],\"imgs\":[\"http://bokeh.pydata.org/static/snake.jpg\",\"http://bokeh.pydata.org/static/snake2.png\",\"http://bokeh.pydata.org/static/snake3D.png\",\"http://bokeh.pydata.org/static/snake4_TheRevenge.png\",\"http://bokeh.pydata.org/static/snakebite.jpg\"],\"x\":[1,2,3,4,5],\"y\":[2,5,8,2,7]}},\"id\":\"12c71876-672c-48c1-916d-9f070beec7b4\",\"type\":\"ColumnDataSource\"},{\"attributes\":{},\"id\":\"b5a3c095-5d4b-4991-ad49-8d41a46b0bb1\",\"type\":\"BasicTickFormatter\"},{\"attributes\":{\"below\":[{\"id\":\"ec2ec9cf-090e-4392-8016-3e96365b14de\",\"type\":\"LinearAxis\"}],\"left\":[{\"id\":\"eee859d5-8bba-466d-a041-835baed0aa1a\",\"type\":\"LinearAxis\"}],\"plot_height\":200,\"plot_width\":200,\"renderers\":[{\"id\":\"ec2ec9cf-090e-4392-8016-3e96365b14de\",\"type\":\"LinearAxis\"},{\"id\":\"b1ff0463-7748-4eeb-a576-745f18ffab4d\",\"type\":\"Grid\"},{\"id\":\"eee859d5-8bba-466d-a041-835baed0aa1a\",\"type\":\"LinearAxis\"},{\"id\":\"1d53de48-7cb8-4f13-895f-ec740e783e71\",\"type\":\"Grid\"},{\"id\":\"2ccd6f32-c50f-4694-8a7c-0ff3ce457a93\",\"type\":\"GlyphRenderer\"}],\"title\":\"Hover\",\"tool_events\":{\"id\":\"5b87a218-4313-4933-b4f5-d341577b7978\",\"type\":\"ToolEvents\"},\"tools\":[{\"id\":\"92c284a0-6471-4b91-8818-1a9e1d68377c\",\"type\":\"HoverTool\"}],\"x_range\":{\"id\":\"86008214-5934-4b07-837e-e023e250704c\",\"type\":\"DataRange1d\"},\"y_range\":{\"id\":\"451ce752-ff0c-4499-a5c4-9840eaa508ae\",\"type\":\"DataRange1d\"}},\"id\":\"688240aa-1bb9-43c8-b787-95841ab2796c\",\"subtype\":\"Figure\",\"type\":\"Plot\"},{\"attributes\":{\"formatter\":{\"id\":\"b5a3c095-5d4b-4991-ad49-8d41a46b0bb1\",\"type\":\"BasicTickFormatter\"},\"plot\":{\"id\":\"688240aa-1bb9-43c8-b787-95841ab2796c\",\"subtype\":\"Figure\",\"type\":\"Plot\"},\"ticker\":{\"id\":\"1f296d6f-8e17-49f6-bf9a-9443f6501f61\",\"type\":\"BasicTicker\"}},\"id\":\"eee859d5-8bba-466d-a041-835baed0aa1a\",\"type\":\"LinearAxis\"},{\"attributes\":{\"plot\":{\"id\":\"688240aa-1bb9-43c8-b787-95841ab2796c\",\"subtype\":\"Figure\",\"type\":\"Plot\"},\"ticker\":{\"id\":\"3421ee92-beaf-4863-b8a9-1b38cd360ea8\",\"type\":\"BasicTicker\"}},\"id\":\"b1ff0463-7748-4eeb-a576-745f18ffab4d\",\"type\":\"Grid\"},{\"attributes\":{\"data_source\":{\"id\":\"12c71876-672c-48c1-916d-9f070beec7b4\",\"type\":\"ColumnDataSource\"},\"glyph\":{\"id\":\"e21e6ba3-767e-4ab4-b8c5-98810be0b2e6\",\"type\":\"Circle\"},\"hover_glyph\":null,\"nonselection_glyph\":{\"id\":\"d8fc50d4-610c-4352-bd04-277c4e2528cb\",\"type\":\"Circle\"},\"selection_glyph\":null},\"id\":\"13464cfd-7535-4cbf-a246-b831a98ac67e\",\"type\":\"GlyphRenderer\"},{\"attributes\":{\"formatter\":{\"id\":\"ffe522dc-2cf1-40b8-b782-05fc0a4fe2db\",\"type\":\"BasicTickFormatter\"},\"plot\":{\"id\":\"a30a2661-a206-44b6-9064-8c0ab7d2e252\",\"subtype\":\"Figure\",\"type\":\"Plot\"},\"ticker\":{\"id\":\"82a78a3e-36cb-4afc-ab56-2abab5378192\",\"type\":\"BasicTicker\"}},\"id\":\"bd115c43-2de8-4b66-8702-f5b705ce6020\",\"type\":\"LinearAxis\"},{\"attributes\":{\"formatter\":{\"id\":\"eaf2b561-1c98-454f-90eb-ee6d944741ef\",\"type\":\"BasicTickFormatter\"},\"plot\":{\"id\":\"688240aa-1bb9-43c8-b787-95841ab2796c\",\"subtype\":\"Figure\",\"type\":\"Plot\"},\"ticker\":{\"id\":\"3421ee92-beaf-4863-b8a9-1b38cd360ea8\",\"type\":\"BasicTicker\"}},\"id\":\"ec2ec9cf-090e-4392-8016-3e96365b14de\",\"type\":\"LinearAxis\"},{\"attributes\":{\"data_source\":{\"id\":\"3afe01db-1c5e-4a17-8109-ff9fca0d75c5\",\"type\":\"ColumnDataSource\"},\"glyph\":{\"id\":\"3b4bb0c3-8a39-42bf-9f07-f88fa4eac12f\",\"type\":\"Circle\"},\"hover_glyph\":null,\"nonselection_glyph\":{\"id\":\"1ff75498-0c5b-454d-b210-f9250ded7d70\",\"type\":\"Circle\"},\"selection_glyph\":null},\"id\":\"2ccd6f32-c50f-4694-8a7c-0ff3ce457a93\",\"type\":\"GlyphRenderer\"},{\"attributes\":{},\"id\":\"ffe522dc-2cf1-40b8-b782-05fc0a4fe2db\",\"type\":\"BasicTickFormatter\"},{\"attributes\":{},\"id\":\"ce3d10aa-5ed3-445d-aae6-6896aca5b559\",\"type\":\"BasicTicker\"},{\"attributes\":{\"formatter\":{\"id\":\"b6733ccf-19ef-4128-8cdb-dd6fd399b4ff\",\"type\":\"BasicTickFormatter\"},\"plot\":{\"id\":\"a30a2661-a206-44b6-9064-8c0ab7d2e252\",\"subtype\":\"Figure\",\"type\":\"Plot\"},\"ticker\":{\"id\":\"ce3d10aa-5ed3-445d-aae6-6896aca5b559\",\"type\":\"BasicTicker\"}},\"id\":\"f807bdf0-8e52-4b95-be83-e33f828706d6\",\"type\":\"LinearAxis\"}],\"root_ids\":[\"688240aa-1bb9-43c8-b787-95841ab2796c\",\"a30a2661-a206-44b6-9064-8c0ab7d2e252\"]},\"title\":\"Bokeh Application\",\"version\":\"0.11.1-159-g9220f7f\"}};\n",
       "            var render_items = [{\"docid\":\"460a7f37-5406-4a9d-860c-db8e22817d95\",\"elementid\":\"b979e80a-f47f-475e-a37e-99206c199326\",\"modelid\":\"a30a2661-a206-44b6-9064-8c0ab7d2e252\",\"notebook_comms_target\":\"1793dd77-56a7-4901-ae4f-385c13845455\"}];\n",
       "            \n",
       "            Bokeh.embed.embed_items(docs_json, render_items);\n",
       "        });\n",
       "      },\n",
       "      function(Bokeh) {\n",
       "      }\n",
       "    ];\n",
       "  \n",
       "    function run_inline_js() {\n",
       "      for (var i = 0; i < inline_js.length; i++) {\n",
       "        inline_js[i](window.Bokeh);\n",
       "      }\n",
       "    }\n",
       "  \n",
       "    if (window._bokeh_is_loading === 0) {\n",
       "      console.log(\"Bokeh: BokehJS loaded, going straight to plotting\");\n",
       "      run_inline_js();\n",
       "    } else {\n",
       "      load_libs(js_urls, function() {\n",
       "        console.log(\"Bokeh: BokehJS plotting callback run at\", now());\n",
       "        run_inline_js();\n",
       "      });\n",
       "    }\n",
       "  }(this));\n",
       "</script>"
      ]
     },
     "metadata": {},
     "output_type": "display_data"
    },
    {
     "data": {
      "text/html": [
       "<p><code>&lt;Bokeh Notebook handle for <strong>In[12]</strong>&gt;</code></p>"
      ],
      "text/plain": [
       "<bokeh.io._CommsHandle at 0x108ae21d0>"
      ]
     },
     "execution_count": 12,
     "metadata": {},
     "output_type": "execute_result"
    }
   ],
   "source": [
    "from bokeh.plotting import figure, ColumnDataSource\n",
    "from bokeh.models import HoverTool\n",
    "\n",
    "source = ColumnDataSource(\n",
    "        data=dict(\n",
    "            x=[1, 2, 3, 4, 5],\n",
    "            y=[2, 5, 8, 2, 7],\n",
    "            desc=['A', 'b', 'C', 'd', 'E'],\n",
    "            imgs = [\n",
    "                'http://bokeh.pydata.org/static/snake.jpg',\n",
    "                'http://bokeh.pydata.org/static/snake2.png',\n",
    "                'http://bokeh.pydata.org/static/snake3D.png',\n",
    "                'http://bokeh.pydata.org/static/snake4_TheRevenge.png',\n",
    "                'http://bokeh.pydata.org/static/snakebite.jpg'\n",
    "            ]\n",
    "        )\n",
    "    )\n",
    "\n",
    "hover = HoverTool(\n",
    "        tooltips=\"\"\"\n",
    "        <div>\n",
    "            <div>\n",
    "                <img\n",
    "                    src=\"@imgs\" height=\"42\" alt=\"@imgs\" width=\"42\"\n",
    "                    style=\"float: left; margin: 0px 15px 15px 0px;\"\n",
    "                    border=\"2\"\n",
    "                ></img>\n",
    "            </div>\n",
    "            <div>\n",
    "                <span style=\"font-size: 17px; font-weight: bold;\">@desc</span>\n",
    "                <span style=\"font-size: 15px; color: #966;\">[$index]</span>\n",
    "            </div>\n",
    "            <div>\n",
    "                <span style=\"font-size: 15px;\">Location</span>\n",
    "                <span style=\"font-size: 10px; color: #696;\">($x, $y)</span>\n",
    "            </div>\n",
    "        </div>\n",
    "        \"\"\"\n",
    "    )\n",
    "\n",
    "p = figure(plot_width=200, plot_height=200, tools=[hover], title='Hover')\n",
    "p.circle('x', 'y', size=20, source=source)\n",
    "\n",
    "show(p)"
   ]
  },
  {
   "cell_type": "markdown",
   "metadata": {
    "collapsed": true
   },
   "source": [
    "### 2. Adding to global settings\n",
    "\n",
    "Add the following to your `custom.css` file in your settings (`~/.jupyter/custom/custom.css`)\n",
    "\n",
    "```css\n",
    "  div.output_subarea {\n",
    "    overflow-x: visible;\n",
    "  }\n",
    "```\n",
    "See for more information on both: http://stackoverflow.com/a/34742362/1415130"
   ]
  },
  {
   "cell_type": "code",
   "execution_count": null,
   "metadata": {
    "collapsed": true
   },
   "outputs": [],
   "source": []
  }
 ],
 "metadata": {
  "kernelspec": {
   "display_name": "Python 3",
   "language": "python",
   "name": "python3"
  },
  "language_info": {
   "codemirror_mode": {
    "name": "ipython",
    "version": 3
   },
   "file_extension": ".py",
   "mimetype": "text/x-python",
   "name": "python",
   "nbconvert_exporter": "python",
   "pygments_lexer": "ipython3",
   "version": "3.4.4"
  }
 },
 "nbformat": 4,
 "nbformat_minor": 0
}
